{
 "cells": [
  {
   "cell_type": "code",
   "execution_count": 1,
   "id": "initial_id",
   "metadata": {
    "ExecuteTime": {
     "end_time": "2023-10-15T01:33:19.436319800Z",
     "start_time": "2023-10-15T01:33:16.792404500Z"
    },
    "scrolled": true
   },
   "outputs": [],
   "source": [
    "#importando librerias\n",
    "import pandas as pd\n",
    "import numpy as np\n",
    "import seaborn as sns\n",
    "from pymongo import MongoClient\n",
    "\n",
    "import mysql.connector as mysql\n",
    "from mysql.connector import Error\n",
    "\n",
    "#from Database import Airbnbs, Hosts, Airbnb_Details, Neighbourhoods, creating_engine, creating_session, closing_session"
   ]
  },
  {
   "cell_type": "code",
   "execution_count": 2,
   "id": "3fa4a421",
   "metadata": {},
   "outputs": [
    {
     "name": "stdout",
     "output_type": "stream",
     "text": [
      "Defaulting to user installation because normal site-packages is not writeable\n",
      "Requirement already satisfied: mysql-connector-python in c:\\users\\juanchope\\appdata\\roaming\\python\\python311\\site-packages (8.1.0)\n",
      "Requirement already satisfied: protobuf<=4.21.12,>=4.21.1 in c:\\users\\juanchope\\appdata\\roaming\\python\\python311\\site-packages (from mysql-connector-python) (4.21.12)\n"
     ]
    }
   ],
   "source": [
    "!pip install mysql-connector-python"
   ]
  },
  {
   "cell_type": "code",
   "execution_count": 3,
   "id": "bdea5a92",
   "metadata": {},
   "outputs": [],
   "source": [
    "#Constantes\n",
    "table='airbnb_detail'\n",
    "filePath = \"uk-500.csv\"\n",
    "filePath2 = \"Airbnb_Open_Data3.csv\"\n",
    "createDatabase=\"CREATE DATABASE employee\"\n",
    "createDatabase2=\"CREATE DATABASE neighbourhoods\"\n",
    "dropTable='DROP TABLE IF EXISTS employee_data;'\n",
    "dropTable2='DROP TABLE IF EXISTS airbnb_detail;'\n",
    "sentence='''CREATE TABLE employee_data(first_name varchar(255),last_name varchar(255),company_name varchar(255),\n",
    "address varchar(255),city varchar(255),county varchar(255),postal varchar(255),phone1 varchar(255),\n",
    "phone2 varchar(255),email varchar(255),web varchar(255))'''\n",
    "sentence2=(\"CREATE TABLE airbnb_detail( id  BIGINT, NAME  VARCHAR(500), host_id  VARCHAR(500), host_identity_verified \"\n",
    "           \"VARCHAR(500), host_name VARCHAR(500), neighbourhood_group VARCHAR(500), neighbourhood VARCHAR(500), \"\n",
    "           \"lat VARCHAR(500), `long` VARCHAR(500), country VARCHAR(500), country_code VARCHAR(500), \"\n",
    "           \"instant_bookable VARCHAR(500), cancellation_policy VARCHAR(500), room_type VARCHAR(500), Construction_year VARCHAR(\"\n",
    "           \"500), price VARCHAR(500), service_fee VARCHAR(500), minimum_nights VARCHAR(500), number_of_reviews \"\n",
    "           \"VARCHAR(500), last_review VARCHAR(500), reviews_per_month VARCHAR(500), \"\n",
    "           \"review_rate_number VARCHAR(500), calculated_host_listings_count VARCHAR(500), availability_365 VARCHAR(500), \"\n",
    "           \"house_rules VARCHAR(1400), license VARCHAR(500))\")\n",
    "insert=\"INSERT INTO employee.employee_data VALUES(%s, %s, %s, %s, %s, %s, %s, %s, %s, %s, %s)\"\n",
    "insert2=\"INSERT INTO neighbourhoods.airbnb_detail VALUES ({id}, {NAME}, {host_id}, {host_name},{neighbourhood_group},{neighbourhood},{lat},{long},{country},{country_code},{instant_bookable},{cancellation_policy},{room_type},{Construction_year},{price},{service_fee},{minimum_nights},{number_of_reviews},{last_review},{reviews_per_month},{review_rate_number},{calculated_host_listings_count},{availability_365},{house_rules},{license})\"\n",
    "insert3=\"INSERT INTO neighbourhoods.airbnb_detail VALUES {}\"\n",
    "userDataBase = \"root\"\n",
    "passDataBase = \"Taison2023.\"\n",
    "tableDataBase = \"employee\"\n",
    "tableDataBase2 = \"neighbourhoods\"\n",
    "#Constantes"
   ]
  },
  {
   "cell_type": "code",
   "execution_count": 4,
   "id": "db87eb5c",
   "metadata": {
    "ExecuteTime": {
     "end_time": "2023-09-02T17:17:33.848983600Z",
     "start_time": "2023-09-02T17:17:32.253438100Z"
    }
   },
   "outputs": [],
   "source": [
    "#Creating engine\n",
    "#engine1 = creating_engine()\n",
    "\n",
    "#Creating session\n",
    "#session1 = creating_session(engine1)"
   ]
  },
  {
   "cell_type": "markdown",
   "id": "897969b6",
   "metadata": {},
   "source": [
    "## Proceso de Exploración"
   ]
  },
  {
   "cell_type": "markdown",
   "id": "31ae3036de14af47",
   "metadata": {},
   "source": [
    "### Leemos el archivo como un dataframe usando pandas"
   ]
  },
  {
   "cell_type": "code",
   "execution_count": 5,
   "id": "1464c2c6",
   "metadata": {
    "ExecuteTime": {
     "end_time": "2023-10-15T01:37:49.429437100Z",
     "start_time": "2023-10-15T01:37:48.890739800Z"
    }
   },
   "outputs": [
    {
     "data": {
      "text/html": [
       "<div>\n",
       "<style scoped>\n",
       "    .dataframe tbody tr th:only-of-type {\n",
       "        vertical-align: middle;\n",
       "    }\n",
       "\n",
       "    .dataframe tbody tr th {\n",
       "        vertical-align: top;\n",
       "    }\n",
       "\n",
       "    .dataframe thead th {\n",
       "        text-align: right;\n",
       "    }\n",
       "</style>\n",
       "<table border=\"1\" class=\"dataframe\">\n",
       "  <thead>\n",
       "    <tr style=\"text-align: right;\">\n",
       "      <th></th>\n",
       "      <th>id</th>\n",
       "      <th>NAME</th>\n",
       "      <th>host id</th>\n",
       "      <th>host_identity_verified</th>\n",
       "      <th>host name</th>\n",
       "      <th>neighbourhood group</th>\n",
       "      <th>neighbourhood</th>\n",
       "      <th>lat</th>\n",
       "      <th>long2</th>\n",
       "      <th>country</th>\n",
       "      <th>...</th>\n",
       "      <th>service fee</th>\n",
       "      <th>minimum nights</th>\n",
       "      <th>number of reviews</th>\n",
       "      <th>last review</th>\n",
       "      <th>reviews per month</th>\n",
       "      <th>review rate number</th>\n",
       "      <th>calculated host listings count</th>\n",
       "      <th>availability 365</th>\n",
       "      <th>house_rules</th>\n",
       "      <th>license</th>\n",
       "    </tr>\n",
       "  </thead>\n",
       "  <tbody>\n",
       "    <tr>\n",
       "      <th>0</th>\n",
       "      <td>1001254</td>\n",
       "      <td>Clean &amp; quiet apt home by the park</td>\n",
       "      <td>80014485718</td>\n",
       "      <td>unconfirmed</td>\n",
       "      <td>Madaline</td>\n",
       "      <td>Brooklyn</td>\n",
       "      <td>Kensington</td>\n",
       "      <td>40.64749</td>\n",
       "      <td>-73.97237</td>\n",
       "      <td>United States</td>\n",
       "      <td>...</td>\n",
       "      <td>$193</td>\n",
       "      <td>10.0</td>\n",
       "      <td>9.0</td>\n",
       "      <td>10/19/2021</td>\n",
       "      <td>0.21</td>\n",
       "      <td>4.0</td>\n",
       "      <td>6.0</td>\n",
       "      <td>286.0</td>\n",
       "      <td>Clean up and treat the home the way you'd like...</td>\n",
       "      <td>NaN</td>\n",
       "    </tr>\n",
       "    <tr>\n",
       "      <th>1</th>\n",
       "      <td>1002102</td>\n",
       "      <td>Skylit Midtown Castle</td>\n",
       "      <td>52335172823</td>\n",
       "      <td>verified</td>\n",
       "      <td>Jenna</td>\n",
       "      <td>Manhattan</td>\n",
       "      <td>Midtown</td>\n",
       "      <td>40.75362</td>\n",
       "      <td>-73.98377</td>\n",
       "      <td>United States</td>\n",
       "      <td>...</td>\n",
       "      <td>$28</td>\n",
       "      <td>30.0</td>\n",
       "      <td>45.0</td>\n",
       "      <td>5/21/2022</td>\n",
       "      <td>0.38</td>\n",
       "      <td>4.0</td>\n",
       "      <td>2.0</td>\n",
       "      <td>228.0</td>\n",
       "      <td>Pet friendly but please confirm with me if the...</td>\n",
       "      <td>NaN</td>\n",
       "    </tr>\n",
       "  </tbody>\n",
       "</table>\n",
       "<p>2 rows × 26 columns</p>\n",
       "</div>"
      ],
      "text/plain": [
       "        id                                NAME      host id  \\\n",
       "0  1001254  Clean & quiet apt home by the park  80014485718   \n",
       "1  1002102               Skylit Midtown Castle  52335172823   \n",
       "\n",
       "  host_identity_verified host name neighbourhood group neighbourhood  \\\n",
       "0            unconfirmed  Madaline            Brooklyn    Kensington   \n",
       "1               verified     Jenna           Manhattan       Midtown   \n",
       "\n",
       "        lat     long2        country  ... service fee minimum nights  \\\n",
       "0  40.64749 -73.97237  United States  ...       $193            10.0   \n",
       "1  40.75362 -73.98377  United States  ...        $28            30.0   \n",
       "\n",
       "  number of reviews last review  reviews per month review rate number  \\\n",
       "0               9.0  10/19/2021               0.21                4.0   \n",
       "1              45.0   5/21/2022               0.38                4.0   \n",
       "\n",
       "  calculated host listings count  availability 365  \\\n",
       "0                            6.0             286.0   \n",
       "1                            2.0             228.0   \n",
       "\n",
       "                                         house_rules license  \n",
       "0  Clean up and treat the home the way you'd like...     NaN  \n",
       "1  Pet friendly but please confirm with me if the...     NaN  \n",
       "\n",
       "[2 rows x 26 columns]"
      ]
     },
     "execution_count": 5,
     "metadata": {},
     "output_type": "execute_result"
    }
   ],
   "source": [
    "df_airbnb=pd.read_csv(\"Airbnb_Open_Data3.csv\", low_memory=False, na_values=[''])\n",
    "df_airbnb.head(2)\n"
   ]
  },
  {
   "cell_type": "markdown",
   "id": "a9e73a38",
   "metadata": {},
   "source": [
    "### Se hacen ajustes a ciertas columnas con el fin de poder subir el csv a la base de datos "
   ]
  },
  {
   "cell_type": "code",
   "execution_count": 6,
   "id": "82630eb1",
   "metadata": {
    "ExecuteTime": {
     "end_time": "2023-09-02T17:31:32.277816500Z",
     "start_time": "2023-09-02T17:31:28.865976700Z"
    }
   },
   "outputs": [
    {
     "name": "stdout",
     "output_type": "stream",
     "text": [
      "Error while connecting to MySQL 1007 (HY000): Can't create database 'neighbourhoods'; database exists\n"
     ]
    }
   ],
   "source": [
    "try:\n",
    "    conn = mysql.connect(host='localhost', user=userDataBase, password=passDataBase)\n",
    "    # give ur username, password\n",
    "    if conn.is_connected():\n",
    "        cursor = conn.cursor()\n",
    "        cursor.execute(createDatabase2)\n",
    "        print(\"Database is created\")\n",
    "except Error as e:\n",
    "    print(\"Error while connecting to MySQL\", e)\n"
   ]
  },
  {
   "cell_type": "code",
   "execution_count": 7,
   "id": "ecd08191",
   "metadata": {},
   "outputs": [
    {
     "name": "stdout",
     "output_type": "stream",
     "text": [
      "You're connected to database:  ('neighbourhoods',)\n",
      "Creating table....\n",
      "Table is created....\n"
     ]
    }
   ],
   "source": [
    "try:\n",
    "    conn = mysql.connect(host='localhost', database=tableDataBase2, user=userDataBase, password=passDataBase)\n",
    "    if conn.is_connected():\n",
    "        cursor = conn.cursor()\n",
    "        cursor.execute(\"select database();\")\n",
    "        record = cursor.fetchone()\n",
    "        print(\"You're connected to database: \", record)\n",
    "        cursor.execute(dropTable2)\n",
    "        print('Creating table....')\n",
    "        # in the below line please pass the creation table statement which you want #to create\n",
    "        cursor.execute(sentence2)\n",
    "        print(\"Table is created....\")\n",
    "        \n",
    "except Error as e:\n",
    "    print(\"Error while connecting to MySQL\", e)\n"
   ]
  },
  {
   "cell_type": "code",
   "execution_count": 8,
   "id": "b5ef1c1e",
   "metadata": {},
   "outputs": [
    {
     "name": "stdout",
     "output_type": "stream",
     "text": [
      "Record inserted 0.9746683690874179%\n",
      "Record inserted 1.9493367381748359%\n",
      "Record inserted 2.924005107262254%\n",
      "Record inserted 3.8986734763496718%\n",
      "Record inserted 4.87334184543709%\n",
      "Record inserted 5.848010214524508%\n",
      "Record inserted 6.822678583611926%\n",
      "Record inserted 7.7973469526993435%\n",
      "Record inserted 8.772015321786762%\n",
      "Record inserted 9.74668369087418%\n",
      "Record inserted 10.721352059961598%\n",
      "Record inserted 11.696020429049016%\n",
      "Record inserted 12.670688798136434%\n",
      "Record inserted 13.645357167223851%\n",
      "Record inserted 14.620025536311271%\n",
      "Record inserted 15.594693905398687%\n",
      "Record inserted 16.569362274486107%\n",
      "Record inserted 17.544030643573524%\n",
      "Record inserted 18.518699012660942%\n",
      "Record inserted 19.49336738174836%\n",
      "Record inserted 20.468035750835778%\n",
      "Record inserted 21.442704119923196%\n",
      "Record inserted 22.417372489010614%\n",
      "Record inserted 23.39204085809803%\n",
      "Record inserted 24.366709227185453%\n",
      "Record inserted 25.341377596272867%\n",
      "Record inserted 26.316045965360285%\n",
      "Record inserted 27.290714334447703%\n",
      "Record inserted 28.265382703535124%\n",
      "Record inserted 29.240051072622542%\n",
      "Record inserted 30.21471944170996%\n",
      "Record inserted 31.189387810797374%\n",
      "Record inserted 32.164056179884795%\n",
      "Record inserted 33.13872454897221%\n",
      "Record inserted 34.11339291805963%\n",
      "Record inserted 35.08806128714705%\n",
      "Record inserted 36.06272965623447%\n",
      "Record inserted 37.037398025321885%\n",
      "Record inserted 38.0120663944093%\n",
      "Record inserted 38.98673476349672%\n",
      "Record inserted 39.96140313258414%\n",
      "Record inserted 40.936071501671556%\n",
      "Record inserted 41.910739870758974%\n",
      "Record inserted 42.88540823984639%\n",
      "Record inserted 43.86007660893381%\n",
      "Record inserted 44.83474497802123%\n",
      "Record inserted 45.809413347108645%\n",
      "Record inserted 46.78408171619606%\n",
      "Record inserted 47.75875008528348%\n",
      "Record inserted 48.733418454370906%\n",
      "Record inserted 49.708086823458316%\n",
      "Record inserted 50.682755192545734%\n",
      "Record inserted 51.65742356163315%\n",
      "Record inserted 52.63209193072057%\n",
      "Record inserted 53.60676029980799%\n",
      "Record inserted 54.581428668895406%\n",
      "Record inserted 55.55609703798282%\n",
      "Record inserted 56.53076540707025%\n",
      "Record inserted 57.505433776157666%\n",
      "Record inserted 58.480102145245084%\n",
      "Record inserted 59.4547705143325%\n",
      "Record inserted 60.42943888341992%\n",
      "Record inserted 61.40410725250733%\n",
      "Record inserted 62.37877562159475%\n",
      "Record inserted 63.353443990682166%\n",
      "Record inserted 64.32811235976959%\n",
      "Record inserted 65.302780728857%\n",
      "Record inserted 66.27744909794443%\n",
      "Record inserted 67.25211746703185%\n",
      "Record inserted 68.22678583611926%\n",
      "Record inserted 69.20145420520669%\n",
      "Record inserted 70.1761225742941%\n",
      "Record inserted 71.15079094338151%\n",
      "Record inserted 72.12545931246893%\n",
      "Record inserted 73.10012768155634%\n",
      "Record inserted 74.07479605064377%\n",
      "Record inserted 75.04946441973118%\n",
      "Record inserted 76.0241327888186%\n",
      "Record inserted 76.99880115790603%\n",
      "Record inserted 77.97346952699344%\n",
      "Record inserted 78.94813789608087%\n",
      "Record inserted 79.92280626516828%\n",
      "Record inserted 80.8974746342557%\n",
      "Record inserted 81.87214300334311%\n",
      "Record inserted 82.84681137243052%\n",
      "Record inserted 83.82147974151795%\n",
      "Record inserted 84.79614811060536%\n",
      "Record inserted 85.77081647969278%\n",
      "Record inserted 86.74548484878021%\n",
      "Record inserted 87.72015321786762%\n",
      "Record inserted 88.69482158695504%\n",
      "Record inserted 89.66948995604245%\n",
      "Record inserted 90.64415832512988%\n",
      "Record inserted 91.61882669421729%\n",
      "Record inserted 92.59349506330472%\n",
      "Record inserted 93.56816343239213%\n",
      "Record inserted 94.54283180147954%\n",
      "Record inserted 95.51750017056696%\n",
      "Record inserted 96.49216853965437%\n",
      "Record inserted 97.46683690874181%\n",
      "Record inserted 98.44150527782922%\n",
      "Record inserted 99.41617364691663%\n",
      "Record inserted 99.9990253316309%\n"
     ]
    }
   ],
   "source": [
    "try:\n",
    "    if conn.is_connected():\n",
    "        iter=0\n",
    "        # loop through the data frame\n",
    "        for i, row in df_airbnb.iterrows():\n",
    "            # here %S means string values\n",
    "            #print(len(tuple(row)))\n",
    "            #print(insert3.format(tuple(row)).replace(\", nan\",', \"nan\"'))\n",
    "            cursor.execute(insert3.format(tuple(row)).replace(\", nan\",', Null'))\n",
    "            if iter == 1000:\n",
    "                print(f\"Record inserted {(i/df_airbnb.shape[0])*100}%\")\n",
    "                iter=0\n",
    "            # the connection is not auto committed by default, so we must commit to save our changes\n",
    "            iter+=1\n",
    "            conn.commit()\n",
    "        print(f\"Record inserted {(i/df_airbnb.shape[0])*100}%\")\n",
    "except Error as e:\n",
    "    print(\"Error while connecting to MySQL\", e)\n"
   ]
  },
  {
   "cell_type": "code",
   "execution_count": 9,
   "id": "07c3b2db",
   "metadata": {},
   "outputs": [
    {
     "name": "stderr",
     "output_type": "stream",
     "text": [
      "C:\\Users\\Juanchope\\AppData\\Local\\Temp\\ipykernel_9804\\618515368.py:2: UserWarning: pandas only supports SQLAlchemy connectable (engine/connection) or database string URI or sqlite3 DBAPI2 connection. Other DBAPI2 objects are not tested. Please consider using SQLAlchemy.\n",
      "  df_airbnb=pd.read_sql(query,conn)\n"
     ]
    },
    {
     "data": {
      "text/html": [
       "<div>\n",
       "<style scoped>\n",
       "    .dataframe tbody tr th:only-of-type {\n",
       "        vertical-align: middle;\n",
       "    }\n",
       "\n",
       "    .dataframe tbody tr th {\n",
       "        vertical-align: top;\n",
       "    }\n",
       "\n",
       "    .dataframe thead th {\n",
       "        text-align: right;\n",
       "    }\n",
       "</style>\n",
       "<table border=\"1\" class=\"dataframe\">\n",
       "  <thead>\n",
       "    <tr style=\"text-align: right;\">\n",
       "      <th></th>\n",
       "      <th>id</th>\n",
       "      <th>NAME</th>\n",
       "      <th>host_id</th>\n",
       "      <th>host_identity_verified</th>\n",
       "      <th>host_name</th>\n",
       "      <th>neighbourhood_group</th>\n",
       "      <th>neighbourhood</th>\n",
       "      <th>lat</th>\n",
       "      <th>long</th>\n",
       "      <th>country</th>\n",
       "      <th>...</th>\n",
       "      <th>service_fee</th>\n",
       "      <th>minimum_nights</th>\n",
       "      <th>number_of_reviews</th>\n",
       "      <th>last_review</th>\n",
       "      <th>reviews_per_month</th>\n",
       "      <th>review_rate_number</th>\n",
       "      <th>calculated_host_listings_count</th>\n",
       "      <th>availability_365</th>\n",
       "      <th>house_rules</th>\n",
       "      <th>license</th>\n",
       "    </tr>\n",
       "  </thead>\n",
       "  <tbody>\n",
       "    <tr>\n",
       "      <th>0</th>\n",
       "      <td>1001254</td>\n",
       "      <td>Clean &amp; quiet apt home by the park</td>\n",
       "      <td>80014485718</td>\n",
       "      <td>unconfirmed</td>\n",
       "      <td>Madaline</td>\n",
       "      <td>Brooklyn</td>\n",
       "      <td>Kensington</td>\n",
       "      <td>40.64749</td>\n",
       "      <td>-73.97237</td>\n",
       "      <td>United States</td>\n",
       "      <td>...</td>\n",
       "      <td>$193</td>\n",
       "      <td>10.0</td>\n",
       "      <td>9.0</td>\n",
       "      <td>10/19/2021</td>\n",
       "      <td>0.21</td>\n",
       "      <td>4.0</td>\n",
       "      <td>6.0</td>\n",
       "      <td>286.0</td>\n",
       "      <td>Clean up and treat the home the way you'd like...</td>\n",
       "      <td>None</td>\n",
       "    </tr>\n",
       "    <tr>\n",
       "      <th>1</th>\n",
       "      <td>1002102</td>\n",
       "      <td>Skylit Midtown Castle</td>\n",
       "      <td>52335172823</td>\n",
       "      <td>verified</td>\n",
       "      <td>Jenna</td>\n",
       "      <td>Manhattan</td>\n",
       "      <td>Midtown</td>\n",
       "      <td>40.75362</td>\n",
       "      <td>-73.98377</td>\n",
       "      <td>United States</td>\n",
       "      <td>...</td>\n",
       "      <td>$28</td>\n",
       "      <td>30.0</td>\n",
       "      <td>45.0</td>\n",
       "      <td>5/21/2022</td>\n",
       "      <td>0.38</td>\n",
       "      <td>4.0</td>\n",
       "      <td>2.0</td>\n",
       "      <td>228.0</td>\n",
       "      <td>Pet friendly but please confirm with me if the...</td>\n",
       "      <td>None</td>\n",
       "    </tr>\n",
       "    <tr>\n",
       "      <th>2</th>\n",
       "      <td>1002403</td>\n",
       "      <td>THE VILLAGE OF HARLEM....NEW YORK !</td>\n",
       "      <td>78829239556</td>\n",
       "      <td>None</td>\n",
       "      <td>Elise</td>\n",
       "      <td>Manhattan</td>\n",
       "      <td>Harlem</td>\n",
       "      <td>40.80902</td>\n",
       "      <td>-73.9419</td>\n",
       "      <td>United States</td>\n",
       "      <td>...</td>\n",
       "      <td>$124</td>\n",
       "      <td>3.0</td>\n",
       "      <td>0.0</td>\n",
       "      <td>None</td>\n",
       "      <td>None</td>\n",
       "      <td>5.0</td>\n",
       "      <td>1.0</td>\n",
       "      <td>352.0</td>\n",
       "      <td>I encourage you to use my kitchen, cooking and...</td>\n",
       "      <td>None</td>\n",
       "    </tr>\n",
       "    <tr>\n",
       "      <th>3</th>\n",
       "      <td>1002755</td>\n",
       "      <td>None</td>\n",
       "      <td>85098326012</td>\n",
       "      <td>unconfirmed</td>\n",
       "      <td>Garry</td>\n",
       "      <td>Brooklyn</td>\n",
       "      <td>Clinton Hill</td>\n",
       "      <td>40.68514</td>\n",
       "      <td>-73.95976</td>\n",
       "      <td>United States</td>\n",
       "      <td>...</td>\n",
       "      <td>$74</td>\n",
       "      <td>30.0</td>\n",
       "      <td>270.0</td>\n",
       "      <td>7/5/2019</td>\n",
       "      <td>4.64</td>\n",
       "      <td>4.0</td>\n",
       "      <td>1.0</td>\n",
       "      <td>322.0</td>\n",
       "      <td>None</td>\n",
       "      <td>None</td>\n",
       "    </tr>\n",
       "    <tr>\n",
       "      <th>4</th>\n",
       "      <td>1003689</td>\n",
       "      <td>Entire Apt: Spacious Studio/Loft by central park</td>\n",
       "      <td>92037596077</td>\n",
       "      <td>verified</td>\n",
       "      <td>Lyndon</td>\n",
       "      <td>Manhattan</td>\n",
       "      <td>East Harlem</td>\n",
       "      <td>40.79851</td>\n",
       "      <td>-73.94399</td>\n",
       "      <td>United States</td>\n",
       "      <td>...</td>\n",
       "      <td>$41</td>\n",
       "      <td>10.0</td>\n",
       "      <td>9.0</td>\n",
       "      <td>11/19/2018</td>\n",
       "      <td>0.1</td>\n",
       "      <td>3.0</td>\n",
       "      <td>1.0</td>\n",
       "      <td>289.0</td>\n",
       "      <td>Please no smoking in the house, porch or on th...</td>\n",
       "      <td>None</td>\n",
       "    </tr>\n",
       "    <tr>\n",
       "      <th>...</th>\n",
       "      <td>...</td>\n",
       "      <td>...</td>\n",
       "      <td>...</td>\n",
       "      <td>...</td>\n",
       "      <td>...</td>\n",
       "      <td>...</td>\n",
       "      <td>...</td>\n",
       "      <td>...</td>\n",
       "      <td>...</td>\n",
       "      <td>...</td>\n",
       "      <td>...</td>\n",
       "      <td>...</td>\n",
       "      <td>...</td>\n",
       "      <td>...</td>\n",
       "      <td>...</td>\n",
       "      <td>...</td>\n",
       "      <td>...</td>\n",
       "      <td>...</td>\n",
       "      <td>...</td>\n",
       "      <td>...</td>\n",
       "      <td>...</td>\n",
       "    </tr>\n",
       "    <tr>\n",
       "      <th>102594</th>\n",
       "      <td>6092437</td>\n",
       "      <td>Spare room in Williamsburg</td>\n",
       "      <td>12312296767</td>\n",
       "      <td>verified</td>\n",
       "      <td>Krik</td>\n",
       "      <td>Brooklyn</td>\n",
       "      <td>Williamsburg</td>\n",
       "      <td>40.70862</td>\n",
       "      <td>-73.94651</td>\n",
       "      <td>United States</td>\n",
       "      <td>...</td>\n",
       "      <td>$169</td>\n",
       "      <td>1.0</td>\n",
       "      <td>0.0</td>\n",
       "      <td>None</td>\n",
       "      <td>None</td>\n",
       "      <td>3.0</td>\n",
       "      <td>1.0</td>\n",
       "      <td>227.0</td>\n",
       "      <td>No Smoking No Parties or Events of any kind Pl...</td>\n",
       "      <td>None</td>\n",
       "    </tr>\n",
       "    <tr>\n",
       "      <th>102595</th>\n",
       "      <td>6092990</td>\n",
       "      <td>Best Location near Columbia U</td>\n",
       "      <td>77864383453</td>\n",
       "      <td>unconfirmed</td>\n",
       "      <td>Mifan</td>\n",
       "      <td>Manhattan</td>\n",
       "      <td>Morningside Heights</td>\n",
       "      <td>40.8046</td>\n",
       "      <td>-73.96545</td>\n",
       "      <td>United States</td>\n",
       "      <td>...</td>\n",
       "      <td>$167</td>\n",
       "      <td>1.0</td>\n",
       "      <td>1.0</td>\n",
       "      <td>7/6/2015</td>\n",
       "      <td>0.02</td>\n",
       "      <td>2.0</td>\n",
       "      <td>2.0</td>\n",
       "      <td>395.0</td>\n",
       "      <td>House rules: Guests agree to the following ter...</td>\n",
       "      <td>None</td>\n",
       "    </tr>\n",
       "    <tr>\n",
       "      <th>102596</th>\n",
       "      <td>6093542</td>\n",
       "      <td>Comfy, bright room in Brooklyn</td>\n",
       "      <td>69050334417</td>\n",
       "      <td>unconfirmed</td>\n",
       "      <td>Megan</td>\n",
       "      <td>Brooklyn</td>\n",
       "      <td>Park Slope</td>\n",
       "      <td>40.67505</td>\n",
       "      <td>-73.98045</td>\n",
       "      <td>United States</td>\n",
       "      <td>...</td>\n",
       "      <td>$198</td>\n",
       "      <td>3.0</td>\n",
       "      <td>0.0</td>\n",
       "      <td>None</td>\n",
       "      <td>None</td>\n",
       "      <td>5.0</td>\n",
       "      <td>1.0</td>\n",
       "      <td>342.0</td>\n",
       "      <td>None</td>\n",
       "      <td>None</td>\n",
       "    </tr>\n",
       "    <tr>\n",
       "      <th>102597</th>\n",
       "      <td>6094094</td>\n",
       "      <td>Big Studio-One Stop from Midtown</td>\n",
       "      <td>11160591270</td>\n",
       "      <td>unconfirmed</td>\n",
       "      <td>Christopher</td>\n",
       "      <td>Queens</td>\n",
       "      <td>Long Island City</td>\n",
       "      <td>40.74989</td>\n",
       "      <td>-73.93777</td>\n",
       "      <td>United States</td>\n",
       "      <td>...</td>\n",
       "      <td>$109</td>\n",
       "      <td>2.0</td>\n",
       "      <td>5.0</td>\n",
       "      <td>10/11/2015</td>\n",
       "      <td>0.1</td>\n",
       "      <td>3.0</td>\n",
       "      <td>1.0</td>\n",
       "      <td>386.0</td>\n",
       "      <td>None</td>\n",
       "      <td>None</td>\n",
       "    </tr>\n",
       "    <tr>\n",
       "      <th>102598</th>\n",
       "      <td>6094647</td>\n",
       "      <td>585 sf Luxury Studio</td>\n",
       "      <td>68170633372</td>\n",
       "      <td>unconfirmed</td>\n",
       "      <td>Rebecca</td>\n",
       "      <td>Manhattan</td>\n",
       "      <td>Upper West Side</td>\n",
       "      <td>40.76807</td>\n",
       "      <td>-73.98342</td>\n",
       "      <td>United States</td>\n",
       "      <td>...</td>\n",
       "      <td>$206</td>\n",
       "      <td>1.0</td>\n",
       "      <td>0.0</td>\n",
       "      <td>None</td>\n",
       "      <td>None</td>\n",
       "      <td>3.0</td>\n",
       "      <td>1.0</td>\n",
       "      <td>69.0</td>\n",
       "      <td>None</td>\n",
       "      <td>None</td>\n",
       "    </tr>\n",
       "  </tbody>\n",
       "</table>\n",
       "<p>102599 rows × 26 columns</p>\n",
       "</div>"
      ],
      "text/plain": [
       "             id                                              NAME  \\\n",
       "0       1001254                Clean & quiet apt home by the park   \n",
       "1       1002102                             Skylit Midtown Castle   \n",
       "2       1002403               THE VILLAGE OF HARLEM....NEW YORK !   \n",
       "3       1002755                                              None   \n",
       "4       1003689  Entire Apt: Spacious Studio/Loft by central park   \n",
       "...         ...                                               ...   \n",
       "102594  6092437                        Spare room in Williamsburg   \n",
       "102595  6092990                     Best Location near Columbia U   \n",
       "102596  6093542                    Comfy, bright room in Brooklyn   \n",
       "102597  6094094                  Big Studio-One Stop from Midtown   \n",
       "102598  6094647                              585 sf Luxury Studio   \n",
       "\n",
       "            host_id host_identity_verified    host_name neighbourhood_group  \\\n",
       "0       80014485718            unconfirmed     Madaline            Brooklyn   \n",
       "1       52335172823               verified        Jenna           Manhattan   \n",
       "2       78829239556                   None        Elise           Manhattan   \n",
       "3       85098326012            unconfirmed        Garry            Brooklyn   \n",
       "4       92037596077               verified       Lyndon           Manhattan   \n",
       "...             ...                    ...          ...                 ...   \n",
       "102594  12312296767               verified         Krik            Brooklyn   \n",
       "102595  77864383453            unconfirmed        Mifan           Manhattan   \n",
       "102596  69050334417            unconfirmed        Megan            Brooklyn   \n",
       "102597  11160591270            unconfirmed  Christopher              Queens   \n",
       "102598  68170633372            unconfirmed      Rebecca           Manhattan   \n",
       "\n",
       "              neighbourhood       lat       long        country  ...  \\\n",
       "0                Kensington  40.64749  -73.97237  United States  ...   \n",
       "1                   Midtown  40.75362  -73.98377  United States  ...   \n",
       "2                    Harlem  40.80902   -73.9419  United States  ...   \n",
       "3              Clinton Hill  40.68514  -73.95976  United States  ...   \n",
       "4               East Harlem  40.79851  -73.94399  United States  ...   \n",
       "...                     ...       ...        ...            ...  ...   \n",
       "102594         Williamsburg  40.70862  -73.94651  United States  ...   \n",
       "102595  Morningside Heights   40.8046  -73.96545  United States  ...   \n",
       "102596           Park Slope  40.67505  -73.98045  United States  ...   \n",
       "102597     Long Island City  40.74989  -73.93777  United States  ...   \n",
       "102598      Upper West Side  40.76807  -73.98342  United States  ...   \n",
       "\n",
       "       service_fee minimum_nights number_of_reviews last_review  \\\n",
       "0            $193            10.0               9.0  10/19/2021   \n",
       "1             $28            30.0              45.0   5/21/2022   \n",
       "2            $124             3.0               0.0        None   \n",
       "3             $74            30.0             270.0    7/5/2019   \n",
       "4             $41            10.0               9.0  11/19/2018   \n",
       "...            ...            ...               ...         ...   \n",
       "102594       $169             1.0               0.0        None   \n",
       "102595       $167             1.0               1.0    7/6/2015   \n",
       "102596       $198             3.0               0.0        None   \n",
       "102597       $109             2.0               5.0  10/11/2015   \n",
       "102598       $206             1.0               0.0        None   \n",
       "\n",
       "       reviews_per_month review_rate_number calculated_host_listings_count  \\\n",
       "0                   0.21                4.0                            6.0   \n",
       "1                   0.38                4.0                            2.0   \n",
       "2                   None                5.0                            1.0   \n",
       "3                   4.64                4.0                            1.0   \n",
       "4                    0.1                3.0                            1.0   \n",
       "...                  ...                ...                            ...   \n",
       "102594              None                3.0                            1.0   \n",
       "102595              0.02                2.0                            2.0   \n",
       "102596              None                5.0                            1.0   \n",
       "102597               0.1                3.0                            1.0   \n",
       "102598              None                3.0                            1.0   \n",
       "\n",
       "       availability_365                                        house_rules  \\\n",
       "0                 286.0  Clean up and treat the home the way you'd like...   \n",
       "1                 228.0  Pet friendly but please confirm with me if the...   \n",
       "2                 352.0  I encourage you to use my kitchen, cooking and...   \n",
       "3                 322.0                                               None   \n",
       "4                 289.0  Please no smoking in the house, porch or on th...   \n",
       "...                 ...                                                ...   \n",
       "102594            227.0  No Smoking No Parties or Events of any kind Pl...   \n",
       "102595            395.0  House rules: Guests agree to the following ter...   \n",
       "102596            342.0                                               None   \n",
       "102597            386.0                                               None   \n",
       "102598             69.0                                               None   \n",
       "\n",
       "       license  \n",
       "0         None  \n",
       "1         None  \n",
       "2         None  \n",
       "3         None  \n",
       "4         None  \n",
       "...        ...  \n",
       "102594    None  \n",
       "102595    None  \n",
       "102596    None  \n",
       "102597    None  \n",
       "102598    None  \n",
       "\n",
       "[102599 rows x 26 columns]"
      ]
     },
     "execution_count": 9,
     "metadata": {},
     "output_type": "execute_result"
    }
   ],
   "source": [
    "query=f'select * from {table}'\n",
    "df_airbnb=pd.read_sql(query,conn)\n",
    "df_airbnb"
   ]
  },
  {
   "cell_type": "code",
   "execution_count": 23,
   "id": "cfe8654f",
   "metadata": {},
   "outputs": [
    {
     "data": {
      "text/plain": [
       "id                                  int64\n",
       "name                               object\n",
       "host_id                            object\n",
       "host_identity_verified             object\n",
       "host_name                          object\n",
       "neighbourhood_group                object\n",
       "neighbourhood                      object\n",
       "lat                                object\n",
       "long                               object\n",
       "country                            object\n",
       "country_code                       object\n",
       "instant_bookable                   object\n",
       "cancellation_policy                object\n",
       "room_type                          object\n",
       "construction_year                  object\n",
       "price                             float64\n",
       "service_fee                       float64\n",
       "minimum_nights                     object\n",
       "number_of_reviews                  object\n",
       "last_review                        object\n",
       "reviews_per_month                  object\n",
       "review_rate_number                 object\n",
       "calculated_host_listings_count     object\n",
       "availability_365                   object\n",
       "house_rules                        object\n",
       "license                            object\n",
       "dtype: object"
      ]
     },
     "execution_count": 23,
     "metadata": {},
     "output_type": "execute_result"
    }
   ],
   "source": [
    "df_airbnb.dtypes"
   ]
  },
  {
   "cell_type": "code",
   "execution_count": 28,
   "id": "cb23804d",
   "metadata": {},
   "outputs": [
    {
     "ename": "OverflowError",
     "evalue": "Python int too large to convert to C long",
     "output_type": "error",
     "traceback": [
      "\u001b[1;31m---------------------------------------------------------------------------\u001b[0m",
      "\u001b[1;31mOverflowError\u001b[0m                             Traceback (most recent call last)",
      "Cell \u001b[1;32mIn[28], line 2\u001b[0m\n\u001b[0;32m      1\u001b[0m columna_int\u001b[38;5;241m=\u001b[39m[\u001b[38;5;124m\"\u001b[39m\u001b[38;5;124mhost_id\u001b[39m\u001b[38;5;124m\"\u001b[39m]\n\u001b[1;32m----> 2\u001b[0m df_airbnb\u001b[38;5;241m=\u001b[39mdf_airbnb[columna_int]\u001b[38;5;241m.\u001b[39mastype(\u001b[38;5;28mint\u001b[39m)\n\u001b[0;32m      3\u001b[0m columna_float\u001b[38;5;241m=\u001b[39m[\u001b[38;5;124m\"\u001b[39m\u001b[38;5;124mlat\u001b[39m\u001b[38;5;124m\"\u001b[39m, \u001b[38;5;124m\"\u001b[39m\u001b[38;5;124mlong\u001b[39m\u001b[38;5;124m\"\u001b[39m,\u001b[38;5;124m\"\u001b[39m\u001b[38;5;124mconstruction_year\u001b[39m\u001b[38;5;124m\"\u001b[39m, \u001b[38;5;124m\"\u001b[39m\u001b[38;5;124mminimum_nights\u001b[39m\u001b[38;5;124m\"\u001b[39m, \u001b[38;5;124m\"\u001b[39m\u001b[38;5;124mnumber_of_reviews\u001b[39m\u001b[38;5;124m\"\u001b[39m, \u001b[38;5;124m\"\u001b[39m\u001b[38;5;124mreviews_per_month\u001b[39m\u001b[38;5;124m\"\u001b[39m, \u001b[38;5;124m\"\u001b[39m\u001b[38;5;124mreview_rate_number\u001b[39m\u001b[38;5;124m\"\u001b[39m, \u001b[38;5;124m\"\u001b[39m\u001b[38;5;124mcalculated_host_listings_count\u001b[39m\u001b[38;5;124m\"\u001b[39m, \u001b[38;5;124m\"\u001b[39m\u001b[38;5;124mavailability_365\u001b[39m\u001b[38;5;124m\"\u001b[39m]\n\u001b[0;32m      4\u001b[0m df_airbnb\u001b[38;5;241m=\u001b[39mdf_airbnb[columna_float]\u001b[38;5;241m.\u001b[39mastype(\u001b[38;5;28mfloat\u001b[39m)\n",
      "File \u001b[1;32mC:\\ProgramData\\anaconda3\\Lib\\site-packages\\pandas\\core\\generic.py:6324\u001b[0m, in \u001b[0;36mNDFrame.astype\u001b[1;34m(self, dtype, copy, errors)\u001b[0m\n\u001b[0;32m   6317\u001b[0m     results \u001b[38;5;241m=\u001b[39m [\n\u001b[0;32m   6318\u001b[0m         \u001b[38;5;28mself\u001b[39m\u001b[38;5;241m.\u001b[39miloc[:, i]\u001b[38;5;241m.\u001b[39mastype(dtype, copy\u001b[38;5;241m=\u001b[39mcopy)\n\u001b[0;32m   6319\u001b[0m         \u001b[38;5;28;01mfor\u001b[39;00m i \u001b[38;5;129;01min\u001b[39;00m \u001b[38;5;28mrange\u001b[39m(\u001b[38;5;28mlen\u001b[39m(\u001b[38;5;28mself\u001b[39m\u001b[38;5;241m.\u001b[39mcolumns))\n\u001b[0;32m   6320\u001b[0m     ]\n\u001b[0;32m   6322\u001b[0m \u001b[38;5;28;01melse\u001b[39;00m:\n\u001b[0;32m   6323\u001b[0m     \u001b[38;5;66;03m# else, only a single dtype is given\u001b[39;00m\n\u001b[1;32m-> 6324\u001b[0m     new_data \u001b[38;5;241m=\u001b[39m \u001b[38;5;28mself\u001b[39m\u001b[38;5;241m.\u001b[39m_mgr\u001b[38;5;241m.\u001b[39mastype(dtype\u001b[38;5;241m=\u001b[39mdtype, copy\u001b[38;5;241m=\u001b[39mcopy, errors\u001b[38;5;241m=\u001b[39merrors)\n\u001b[0;32m   6325\u001b[0m     \u001b[38;5;28;01mreturn\u001b[39;00m \u001b[38;5;28mself\u001b[39m\u001b[38;5;241m.\u001b[39m_constructor(new_data)\u001b[38;5;241m.\u001b[39m__finalize__(\u001b[38;5;28mself\u001b[39m, method\u001b[38;5;241m=\u001b[39m\u001b[38;5;124m\"\u001b[39m\u001b[38;5;124mastype\u001b[39m\u001b[38;5;124m\"\u001b[39m)\n\u001b[0;32m   6327\u001b[0m \u001b[38;5;66;03m# GH 33113: handle empty frame or series\u001b[39;00m\n",
      "File \u001b[1;32mC:\\ProgramData\\anaconda3\\Lib\\site-packages\\pandas\\core\\internals\\managers.py:451\u001b[0m, in \u001b[0;36mBaseBlockManager.astype\u001b[1;34m(self, dtype, copy, errors)\u001b[0m\n\u001b[0;32m    448\u001b[0m \u001b[38;5;28;01melif\u001b[39;00m using_copy_on_write():\n\u001b[0;32m    449\u001b[0m     copy \u001b[38;5;241m=\u001b[39m \u001b[38;5;28;01mFalse\u001b[39;00m\n\u001b[1;32m--> 451\u001b[0m \u001b[38;5;28;01mreturn\u001b[39;00m \u001b[38;5;28mself\u001b[39m\u001b[38;5;241m.\u001b[39mapply(\n\u001b[0;32m    452\u001b[0m     \u001b[38;5;124m\"\u001b[39m\u001b[38;5;124mastype\u001b[39m\u001b[38;5;124m\"\u001b[39m,\n\u001b[0;32m    453\u001b[0m     dtype\u001b[38;5;241m=\u001b[39mdtype,\n\u001b[0;32m    454\u001b[0m     copy\u001b[38;5;241m=\u001b[39mcopy,\n\u001b[0;32m    455\u001b[0m     errors\u001b[38;5;241m=\u001b[39merrors,\n\u001b[0;32m    456\u001b[0m     using_cow\u001b[38;5;241m=\u001b[39musing_copy_on_write(),\n\u001b[0;32m    457\u001b[0m )\n",
      "File \u001b[1;32mC:\\ProgramData\\anaconda3\\Lib\\site-packages\\pandas\\core\\internals\\managers.py:352\u001b[0m, in \u001b[0;36mBaseBlockManager.apply\u001b[1;34m(self, f, align_keys, **kwargs)\u001b[0m\n\u001b[0;32m    350\u001b[0m         applied \u001b[38;5;241m=\u001b[39m b\u001b[38;5;241m.\u001b[39mapply(f, \u001b[38;5;241m*\u001b[39m\u001b[38;5;241m*\u001b[39mkwargs)\n\u001b[0;32m    351\u001b[0m     \u001b[38;5;28;01melse\u001b[39;00m:\n\u001b[1;32m--> 352\u001b[0m         applied \u001b[38;5;241m=\u001b[39m \u001b[38;5;28mgetattr\u001b[39m(b, f)(\u001b[38;5;241m*\u001b[39m\u001b[38;5;241m*\u001b[39mkwargs)\n\u001b[0;32m    353\u001b[0m     result_blocks \u001b[38;5;241m=\u001b[39m extend_blocks(applied, result_blocks)\n\u001b[0;32m    355\u001b[0m out \u001b[38;5;241m=\u001b[39m \u001b[38;5;28mtype\u001b[39m(\u001b[38;5;28mself\u001b[39m)\u001b[38;5;241m.\u001b[39mfrom_blocks(result_blocks, \u001b[38;5;28mself\u001b[39m\u001b[38;5;241m.\u001b[39maxes)\n",
      "File \u001b[1;32mC:\\ProgramData\\anaconda3\\Lib\\site-packages\\pandas\\core\\internals\\blocks.py:511\u001b[0m, in \u001b[0;36mBlock.astype\u001b[1;34m(self, dtype, copy, errors, using_cow)\u001b[0m\n\u001b[0;32m    491\u001b[0m \u001b[38;5;250m\u001b[39m\u001b[38;5;124;03m\"\"\"\u001b[39;00m\n\u001b[0;32m    492\u001b[0m \u001b[38;5;124;03mCoerce to the new dtype.\u001b[39;00m\n\u001b[0;32m    493\u001b[0m \n\u001b[1;32m   (...)\u001b[0m\n\u001b[0;32m    507\u001b[0m \u001b[38;5;124;03mBlock\u001b[39;00m\n\u001b[0;32m    508\u001b[0m \u001b[38;5;124;03m\"\"\"\u001b[39;00m\n\u001b[0;32m    509\u001b[0m values \u001b[38;5;241m=\u001b[39m \u001b[38;5;28mself\u001b[39m\u001b[38;5;241m.\u001b[39mvalues\n\u001b[1;32m--> 511\u001b[0m new_values \u001b[38;5;241m=\u001b[39m astype_array_safe(values, dtype, copy\u001b[38;5;241m=\u001b[39mcopy, errors\u001b[38;5;241m=\u001b[39merrors)\n\u001b[0;32m    513\u001b[0m new_values \u001b[38;5;241m=\u001b[39m maybe_coerce_values(new_values)\n\u001b[0;32m    515\u001b[0m refs \u001b[38;5;241m=\u001b[39m \u001b[38;5;28;01mNone\u001b[39;00m\n",
      "File \u001b[1;32mC:\\ProgramData\\anaconda3\\Lib\\site-packages\\pandas\\core\\dtypes\\astype.py:242\u001b[0m, in \u001b[0;36mastype_array_safe\u001b[1;34m(values, dtype, copy, errors)\u001b[0m\n\u001b[0;32m    239\u001b[0m     dtype \u001b[38;5;241m=\u001b[39m dtype\u001b[38;5;241m.\u001b[39mnumpy_dtype\n\u001b[0;32m    241\u001b[0m \u001b[38;5;28;01mtry\u001b[39;00m:\n\u001b[1;32m--> 242\u001b[0m     new_values \u001b[38;5;241m=\u001b[39m astype_array(values, dtype, copy\u001b[38;5;241m=\u001b[39mcopy)\n\u001b[0;32m    243\u001b[0m \u001b[38;5;28;01mexcept\u001b[39;00m (\u001b[38;5;167;01mValueError\u001b[39;00m, \u001b[38;5;167;01mTypeError\u001b[39;00m):\n\u001b[0;32m    244\u001b[0m     \u001b[38;5;66;03m# e.g. _astype_nansafe can fail on object-dtype of strings\u001b[39;00m\n\u001b[0;32m    245\u001b[0m     \u001b[38;5;66;03m#  trying to convert to float\u001b[39;00m\n\u001b[0;32m    246\u001b[0m     \u001b[38;5;28;01mif\u001b[39;00m errors \u001b[38;5;241m==\u001b[39m \u001b[38;5;124m\"\u001b[39m\u001b[38;5;124mignore\u001b[39m\u001b[38;5;124m\"\u001b[39m:\n",
      "File \u001b[1;32mC:\\ProgramData\\anaconda3\\Lib\\site-packages\\pandas\\core\\dtypes\\astype.py:187\u001b[0m, in \u001b[0;36mastype_array\u001b[1;34m(values, dtype, copy)\u001b[0m\n\u001b[0;32m    184\u001b[0m     values \u001b[38;5;241m=\u001b[39m values\u001b[38;5;241m.\u001b[39mastype(dtype, copy\u001b[38;5;241m=\u001b[39mcopy)\n\u001b[0;32m    186\u001b[0m \u001b[38;5;28;01melse\u001b[39;00m:\n\u001b[1;32m--> 187\u001b[0m     values \u001b[38;5;241m=\u001b[39m _astype_nansafe(values, dtype, copy\u001b[38;5;241m=\u001b[39mcopy)\n\u001b[0;32m    189\u001b[0m \u001b[38;5;66;03m# in pandas we don't store numpy str dtypes, so convert to object\u001b[39;00m\n\u001b[0;32m    190\u001b[0m \u001b[38;5;28;01mif\u001b[39;00m \u001b[38;5;28misinstance\u001b[39m(dtype, np\u001b[38;5;241m.\u001b[39mdtype) \u001b[38;5;129;01mand\u001b[39;00m \u001b[38;5;28missubclass\u001b[39m(values\u001b[38;5;241m.\u001b[39mdtype\u001b[38;5;241m.\u001b[39mtype, \u001b[38;5;28mstr\u001b[39m):\n",
      "File \u001b[1;32mC:\\ProgramData\\anaconda3\\Lib\\site-packages\\pandas\\core\\dtypes\\astype.py:138\u001b[0m, in \u001b[0;36m_astype_nansafe\u001b[1;34m(arr, dtype, copy, skipna)\u001b[0m\n\u001b[0;32m    134\u001b[0m     \u001b[38;5;28;01mraise\u001b[39;00m \u001b[38;5;167;01mValueError\u001b[39;00m(msg)\n\u001b[0;32m    136\u001b[0m \u001b[38;5;28;01mif\u001b[39;00m copy \u001b[38;5;129;01mor\u001b[39;00m is_object_dtype(arr\u001b[38;5;241m.\u001b[39mdtype) \u001b[38;5;129;01mor\u001b[39;00m is_object_dtype(dtype):\n\u001b[0;32m    137\u001b[0m     \u001b[38;5;66;03m# Explicit copy, or required since NumPy can't view from / to object.\u001b[39;00m\n\u001b[1;32m--> 138\u001b[0m     \u001b[38;5;28;01mreturn\u001b[39;00m arr\u001b[38;5;241m.\u001b[39mastype(dtype, copy\u001b[38;5;241m=\u001b[39m\u001b[38;5;28;01mTrue\u001b[39;00m)\n\u001b[0;32m    140\u001b[0m \u001b[38;5;28;01mreturn\u001b[39;00m arr\u001b[38;5;241m.\u001b[39mastype(dtype, copy\u001b[38;5;241m=\u001b[39mcopy)\n",
      "\u001b[1;31mOverflowError\u001b[0m: Python int too large to convert to C long"
     ]
    }
   ],
   "source": [
    "columna_int=[\"host_id\"]\n",
    "df_airbnb=df_airbnb[columna_int].astype(int)\n",
    "columna_float=[\"lat\", \"long\",\"construction_year\", \"minimum_nights\", \"number_of_reviews\", \"reviews_per_month\", \"review_rate_number\", \"calculated_host_listings_count\", \"availability_365\"]\n",
    "df_airbnb=df_airbnb[columna_float].astype(float)"
   ]
  },
  {
   "cell_type": "markdown",
   "id": "4812473468082a87",
   "metadata": {
    "ExecuteTime": {
     "end_time": "2023-09-02T17:18:18.621259400Z",
     "start_time": "2023-09-02T17:18:18.396274500Z"
    }
   },
   "source": [
    "###  ¿Cuales son las dimensiones del Dataset?"
   ]
  },
  {
   "cell_type": "code",
   "execution_count": 10,
   "id": "645a18f27a04d2df",
   "metadata": {
    "ExecuteTime": {
     "end_time": "2023-09-02T17:36:46.571451600Z",
     "start_time": "2023-09-02T17:36:46.550777100Z"
    }
   },
   "outputs": [
    {
     "data": {
      "text/plain": [
       "(102599, 26)"
      ]
     },
     "execution_count": 10,
     "metadata": {},
     "output_type": "execute_result"
    }
   ],
   "source": [
    "df_airbnb.shape"
   ]
  },
  {
   "cell_type": "markdown",
   "id": "afbd91a7995988e0",
   "metadata": {
    "ExecuteTime": {
     "end_time": "2023-09-02T17:18:10.181998600Z",
     "start_time": "2023-09-02T17:18:10.036999400Z"
    }
   },
   "source": [
    "### ¿Existen valores nulos explicitos en el conjunto de datos?"
   ]
  },
  {
   "cell_type": "code",
   "execution_count": 11,
   "id": "12a2779a01e198b8",
   "metadata": {
    "ExecuteTime": {
     "end_time": "2023-09-02T17:36:48.987517100Z",
     "start_time": "2023-09-02T17:36:48.654260200Z"
    }
   },
   "outputs": [
    {
     "data": {
      "text/plain": [
       "id                                False\n",
       "NAME                               True\n",
       "host_id                           False\n",
       "host_identity_verified             True\n",
       "host_name                          True\n",
       "neighbourhood_group                True\n",
       "neighbourhood                      True\n",
       "lat                                True\n",
       "long                               True\n",
       "country                            True\n",
       "country_code                       True\n",
       "instant_bookable                   True\n",
       "cancellation_policy                True\n",
       "room_type                         False\n",
       "Construction_year                  True\n",
       "price                              True\n",
       "service_fee                        True\n",
       "minimum_nights                     True\n",
       "number_of_reviews                  True\n",
       "last_review                        True\n",
       "reviews_per_month                  True\n",
       "review_rate_number                 True\n",
       "calculated_host_listings_count     True\n",
       "availability_365                   True\n",
       "house_rules                        True\n",
       "license                            True\n",
       "dtype: bool"
      ]
     },
     "execution_count": 11,
     "metadata": {},
     "output_type": "execute_result"
    }
   ],
   "source": [
    "df_airbnb.isnull().any()"
   ]
  },
  {
   "cell_type": "markdown",
   "id": "72f9209433e86d67",
   "metadata": {
    "ExecuteTime": {
     "end_time": "2023-09-02T17:18:10.223036300Z",
     "start_time": "2023-09-02T17:18:10.042997100Z"
    }
   },
   "source": [
    "### De tener observaciones con valores nulos, ¿cuántas tenemos por cada variable?"
   ]
  },
  {
   "cell_type": "code",
   "execution_count": 12,
   "id": "fe7401140017609c",
   "metadata": {
    "ExecuteTime": {
     "end_time": "2023-09-02T17:36:52.615870800Z",
     "start_time": "2023-09-02T17:36:52.281292400Z"
    }
   },
   "outputs": [
    {
     "data": {
      "text/plain": [
       "license                           102597\n",
       "house_rules                        52131\n",
       "last_review                        15893\n",
       "reviews_per_month                  15879\n",
       "country                              532\n",
       "availability_365                     448\n",
       "minimum_nights                       409\n",
       "host_name                            406\n",
       "review_rate_number                   326\n",
       "calculated_host_listings_count       319\n",
       "host_identity_verified               289\n",
       "service_fee                          273\n",
       "NAME                                 250\n",
       "price                                247\n",
       "Construction_year                    214\n",
       "number_of_reviews                    183\n",
       "country_code                         131\n",
       "instant_bookable                     105\n",
       "cancellation_policy                   76\n",
       "neighbourhood_group                   29\n",
       "neighbourhood                         16\n",
       "long                                   8\n",
       "lat                                    8\n",
       "id                                     0\n",
       "host_id                                0\n",
       "room_type                              0\n",
       "dtype: int64"
      ]
     },
     "execution_count": 12,
     "metadata": {},
     "output_type": "execute_result"
    }
   ],
   "source": [
    "(\n",
    "    df_airbnb\n",
    "    .isnull()\n",
    "    .sum()\n",
    "    .sort_values(ascending=False)\n",
    ")\n"
   ]
  },
  {
   "cell_type": "markdown",
   "id": "ab302256e8f80661",
   "metadata": {
    "ExecuteTime": {
     "end_time": "2023-09-02T17:18:10.259033500Z",
     "start_time": "2023-09-02T17:18:10.075994300Z"
    }
   },
   "source": [
    "### ¿Cuál es la proporción de valores nulos por cada variable? "
   ]
  },
  {
   "cell_type": "code",
   "execution_count": 13,
   "id": "aefe9355",
   "metadata": {
    "ExecuteTime": {
     "end_time": "2023-09-02T17:37:00.984210700Z",
     "start_time": "2023-09-02T17:36:54.992663300Z"
    }
   },
   "outputs": [
    {
     "name": "stderr",
     "output_type": "stream",
     "text": [
      "C:\\ProgramData\\anaconda3\\Lib\\site-packages\\seaborn\\axisgrid.py:118: UserWarning: The figure layout has changed to tight\n",
      "  self._figure.tight_layout(*args, **kwargs)\n"
     ]
    },
    {
     "data": {
      "text/plain": [
       "<seaborn.axisgrid.FacetGrid at 0x289ec41b950>"
      ]
     },
     "execution_count": 13,
     "metadata": {},
     "output_type": "execute_result"
    },
    {
     "data": {
      "image/png": "[encoded data removed]",
      "text/plain": [
       "<Figure size 1084.88x500 with 1 Axes>"
      ]
     },
     "metadata": {},
     "output_type": "display_data"
    }
   ],
   "source": [
    "(\n",
    "    df_airbnb\n",
    "    .isnull()\n",
    "    .melt(value_name='missing')\n",
    "    .pipe(\n",
    "        lambda df: (\n",
    "            sns.displot(\n",
    "                data=df,\n",
    "                y='variable',\n",
    "                hue='missing',\n",
    "                multiple='fill',\n",
    "                aspect=2\n",
    "            )\n",
    "        )\n",
    "    )\n",
    ")"
   ]
  },
  {
   "cell_type": "markdown",
   "id": "cc82e0ba225d9e94",
   "metadata": {
    "ExecuteTime": {
     "start_time": "2023-09-02T17:18:10.139996100Z"
    }
   },
   "source": [
    "### ¿Cuántos valores nulos tenemos en total en el conjunto de datos?"
   ]
  },
  {
   "cell_type": "code",
   "execution_count": 14,
   "id": "b8b1681424f7b07",
   "metadata": {
    "ExecuteTime": {
     "end_time": "2023-09-02T17:37:02.564970800Z",
     "start_time": "2023-09-02T17:37:02.231850300Z"
    }
   },
   "outputs": [
    {
     "data": {
      "text/plain": [
       "190769"
      ]
     },
     "execution_count": 14,
     "metadata": {},
     "output_type": "execute_result"
    }
   ],
   "source": [
    "(\n",
    "    df_airbnb\n",
    "    .isnull()\n",
    "    .sum()\n",
    "    .sum()\n",
    ")"
   ]
  },
  {
   "cell_type": "markdown",
   "id": "b5e06b25",
   "metadata": {
    "ExecuteTime": {
     "start_time": "2023-09-02T17:18:10.141997100Z"
    }
   },
   "source": [
    "## Proceso de Limpieza "
   ]
  },
  {
   "cell_type": "markdown",
   "id": "35250c6a",
   "metadata": {},
   "source": [
    "#### Estandarizamos los nombres"
   ]
  },
  {
   "cell_type": "code",
   "execution_count": 20,
   "id": "b58a2724",
   "metadata": {
    "ExecuteTime": {
     "end_time": "2023-09-02T17:37:07.293745500Z",
     "start_time": "2023-09-02T17:37:07.255746Z"
    }
   },
   "outputs": [],
   "source": [
    "new_column_names = [x.lower().replace(\" \", \"_\") for x in df_airbnb.columns]\n",
    "df_airbnb.columns = new_column_names"
   ]
  },
  {
   "cell_type": "markdown",
   "id": "cea1b64c",
   "metadata": {},
   "source": [
    "#### Dado que el atributo de \"host_identity_verified\" cuenta con valores nulos, vamos a llenar dichos valores con unverified"
   ]
  },
  {
   "cell_type": "code",
   "execution_count": 21,
   "id": "98da47ec",
   "metadata": {
    "ExecuteTime": {
     "end_time": "2023-09-02T17:37:17.354242200Z",
     "start_time": "2023-09-02T17:37:17.024245100Z"
    }
   },
   "outputs": [
    {
     "data": {
      "text/html": [
       "<div>\n",
       "<style scoped>\n",
       "    .dataframe tbody tr th:only-of-type {\n",
       "        vertical-align: middle;\n",
       "    }\n",
       "\n",
       "    .dataframe tbody tr th {\n",
       "        vertical-align: top;\n",
       "    }\n",
       "\n",
       "    .dataframe thead th {\n",
       "        text-align: right;\n",
       "    }\n",
       "</style>\n",
       "<table border=\"1\" class=\"dataframe\">\n",
       "  <thead>\n",
       "    <tr style=\"text-align: right;\">\n",
       "      <th></th>\n",
       "      <th>id</th>\n",
       "      <th>name</th>\n",
       "      <th>host_id</th>\n",
       "      <th>host_identity_verified</th>\n",
       "      <th>host_name</th>\n",
       "      <th>neighbourhood_group</th>\n",
       "      <th>neighbourhood</th>\n",
       "      <th>lat</th>\n",
       "      <th>long</th>\n",
       "      <th>country</th>\n",
       "      <th>...</th>\n",
       "      <th>service_fee</th>\n",
       "      <th>minimum_nights</th>\n",
       "      <th>number_of_reviews</th>\n",
       "      <th>last_review</th>\n",
       "      <th>reviews_per_month</th>\n",
       "      <th>review_rate_number</th>\n",
       "      <th>calculated_host_listings_count</th>\n",
       "      <th>availability_365</th>\n",
       "      <th>house_rules</th>\n",
       "      <th>license</th>\n",
       "    </tr>\n",
       "  </thead>\n",
       "  <tbody>\n",
       "    <tr>\n",
       "      <th>0</th>\n",
       "      <td>1001254</td>\n",
       "      <td>Clean &amp; quiet apt home by the park</td>\n",
       "      <td>80014485718</td>\n",
       "      <td>unconfirmed</td>\n",
       "      <td>Madaline</td>\n",
       "      <td>Brooklyn</td>\n",
       "      <td>Kensington</td>\n",
       "      <td>40.64749</td>\n",
       "      <td>-73.97237</td>\n",
       "      <td>United States</td>\n",
       "      <td>...</td>\n",
       "      <td>193.0</td>\n",
       "      <td>10.0</td>\n",
       "      <td>9.0</td>\n",
       "      <td>10/19/2021</td>\n",
       "      <td>0.21</td>\n",
       "      <td>4.0</td>\n",
       "      <td>6.0</td>\n",
       "      <td>286.0</td>\n",
       "      <td>Clean up and treat the home the way you'd like...</td>\n",
       "      <td>None</td>\n",
       "    </tr>\n",
       "    <tr>\n",
       "      <th>1</th>\n",
       "      <td>1002102</td>\n",
       "      <td>Skylit Midtown Castle</td>\n",
       "      <td>52335172823</td>\n",
       "      <td>verified</td>\n",
       "      <td>Jenna</td>\n",
       "      <td>Manhattan</td>\n",
       "      <td>Midtown</td>\n",
       "      <td>40.75362</td>\n",
       "      <td>-73.98377</td>\n",
       "      <td>United States</td>\n",
       "      <td>...</td>\n",
       "      <td>28.0</td>\n",
       "      <td>30.0</td>\n",
       "      <td>45.0</td>\n",
       "      <td>5/21/2022</td>\n",
       "      <td>0.38</td>\n",
       "      <td>4.0</td>\n",
       "      <td>2.0</td>\n",
       "      <td>228.0</td>\n",
       "      <td>Pet friendly but please confirm with me if the...</td>\n",
       "      <td>None</td>\n",
       "    </tr>\n",
       "    <tr>\n",
       "      <th>2</th>\n",
       "      <td>1002403</td>\n",
       "      <td>THE VILLAGE OF HARLEM....NEW YORK !</td>\n",
       "      <td>78829239556</td>\n",
       "      <td>unverified</td>\n",
       "      <td>Elise</td>\n",
       "      <td>Manhattan</td>\n",
       "      <td>Harlem</td>\n",
       "      <td>40.80902</td>\n",
       "      <td>-73.9419</td>\n",
       "      <td>United States</td>\n",
       "      <td>...</td>\n",
       "      <td>124.0</td>\n",
       "      <td>3.0</td>\n",
       "      <td>0.0</td>\n",
       "      <td>None</td>\n",
       "      <td>None</td>\n",
       "      <td>5.0</td>\n",
       "      <td>1.0</td>\n",
       "      <td>352.0</td>\n",
       "      <td>I encourage you to use my kitchen, cooking and...</td>\n",
       "      <td>None</td>\n",
       "    </tr>\n",
       "    <tr>\n",
       "      <th>3</th>\n",
       "      <td>1002755</td>\n",
       "      <td>None</td>\n",
       "      <td>85098326012</td>\n",
       "      <td>unconfirmed</td>\n",
       "      <td>Garry</td>\n",
       "      <td>Brooklyn</td>\n",
       "      <td>Clinton Hill</td>\n",
       "      <td>40.68514</td>\n",
       "      <td>-73.95976</td>\n",
       "      <td>United States</td>\n",
       "      <td>...</td>\n",
       "      <td>74.0</td>\n",
       "      <td>30.0</td>\n",
       "      <td>270.0</td>\n",
       "      <td>7/5/2019</td>\n",
       "      <td>4.64</td>\n",
       "      <td>4.0</td>\n",
       "      <td>1.0</td>\n",
       "      <td>322.0</td>\n",
       "      <td>None</td>\n",
       "      <td>None</td>\n",
       "    </tr>\n",
       "    <tr>\n",
       "      <th>4</th>\n",
       "      <td>1003689</td>\n",
       "      <td>Entire Apt: Spacious Studio/Loft by central park</td>\n",
       "      <td>92037596077</td>\n",
       "      <td>verified</td>\n",
       "      <td>Lyndon</td>\n",
       "      <td>Manhattan</td>\n",
       "      <td>East Harlem</td>\n",
       "      <td>40.79851</td>\n",
       "      <td>-73.94399</td>\n",
       "      <td>United States</td>\n",
       "      <td>...</td>\n",
       "      <td>41.0</td>\n",
       "      <td>10.0</td>\n",
       "      <td>9.0</td>\n",
       "      <td>11/19/2018</td>\n",
       "      <td>0.1</td>\n",
       "      <td>3.0</td>\n",
       "      <td>1.0</td>\n",
       "      <td>289.0</td>\n",
       "      <td>Please no smoking in the house, porch or on th...</td>\n",
       "      <td>None</td>\n",
       "    </tr>\n",
       "    <tr>\n",
       "      <th>...</th>\n",
       "      <td>...</td>\n",
       "      <td>...</td>\n",
       "      <td>...</td>\n",
       "      <td>...</td>\n",
       "      <td>...</td>\n",
       "      <td>...</td>\n",
       "      <td>...</td>\n",
       "      <td>...</td>\n",
       "      <td>...</td>\n",
       "      <td>...</td>\n",
       "      <td>...</td>\n",
       "      <td>...</td>\n",
       "      <td>...</td>\n",
       "      <td>...</td>\n",
       "      <td>...</td>\n",
       "      <td>...</td>\n",
       "      <td>...</td>\n",
       "      <td>...</td>\n",
       "      <td>...</td>\n",
       "      <td>...</td>\n",
       "      <td>...</td>\n",
       "    </tr>\n",
       "    <tr>\n",
       "      <th>102594</th>\n",
       "      <td>6092437</td>\n",
       "      <td>Spare room in Williamsburg</td>\n",
       "      <td>12312296767</td>\n",
       "      <td>verified</td>\n",
       "      <td>Krik</td>\n",
       "      <td>Brooklyn</td>\n",
       "      <td>Williamsburg</td>\n",
       "      <td>40.70862</td>\n",
       "      <td>-73.94651</td>\n",
       "      <td>United States</td>\n",
       "      <td>...</td>\n",
       "      <td>169.0</td>\n",
       "      <td>1.0</td>\n",
       "      <td>0.0</td>\n",
       "      <td>None</td>\n",
       "      <td>None</td>\n",
       "      <td>3.0</td>\n",
       "      <td>1.0</td>\n",
       "      <td>227.0</td>\n",
       "      <td>No Smoking No Parties or Events of any kind Pl...</td>\n",
       "      <td>None</td>\n",
       "    </tr>\n",
       "    <tr>\n",
       "      <th>102595</th>\n",
       "      <td>6092990</td>\n",
       "      <td>Best Location near Columbia U</td>\n",
       "      <td>77864383453</td>\n",
       "      <td>unconfirmed</td>\n",
       "      <td>Mifan</td>\n",
       "      <td>Manhattan</td>\n",
       "      <td>Morningside Heights</td>\n",
       "      <td>40.8046</td>\n",
       "      <td>-73.96545</td>\n",
       "      <td>United States</td>\n",
       "      <td>...</td>\n",
       "      <td>167.0</td>\n",
       "      <td>1.0</td>\n",
       "      <td>1.0</td>\n",
       "      <td>7/6/2015</td>\n",
       "      <td>0.02</td>\n",
       "      <td>2.0</td>\n",
       "      <td>2.0</td>\n",
       "      <td>395.0</td>\n",
       "      <td>House rules: Guests agree to the following ter...</td>\n",
       "      <td>None</td>\n",
       "    </tr>\n",
       "    <tr>\n",
       "      <th>102596</th>\n",
       "      <td>6093542</td>\n",
       "      <td>Comfy, bright room in Brooklyn</td>\n",
       "      <td>69050334417</td>\n",
       "      <td>unconfirmed</td>\n",
       "      <td>Megan</td>\n",
       "      <td>Brooklyn</td>\n",
       "      <td>Park Slope</td>\n",
       "      <td>40.67505</td>\n",
       "      <td>-73.98045</td>\n",
       "      <td>United States</td>\n",
       "      <td>...</td>\n",
       "      <td>198.0</td>\n",
       "      <td>3.0</td>\n",
       "      <td>0.0</td>\n",
       "      <td>None</td>\n",
       "      <td>None</td>\n",
       "      <td>5.0</td>\n",
       "      <td>1.0</td>\n",
       "      <td>342.0</td>\n",
       "      <td>None</td>\n",
       "      <td>None</td>\n",
       "    </tr>\n",
       "    <tr>\n",
       "      <th>102597</th>\n",
       "      <td>6094094</td>\n",
       "      <td>Big Studio-One Stop from Midtown</td>\n",
       "      <td>11160591270</td>\n",
       "      <td>unconfirmed</td>\n",
       "      <td>Christopher</td>\n",
       "      <td>Queens</td>\n",
       "      <td>Long Island City</td>\n",
       "      <td>40.74989</td>\n",
       "      <td>-73.93777</td>\n",
       "      <td>United States</td>\n",
       "      <td>...</td>\n",
       "      <td>109.0</td>\n",
       "      <td>2.0</td>\n",
       "      <td>5.0</td>\n",
       "      <td>10/11/2015</td>\n",
       "      <td>0.1</td>\n",
       "      <td>3.0</td>\n",
       "      <td>1.0</td>\n",
       "      <td>386.0</td>\n",
       "      <td>None</td>\n",
       "      <td>None</td>\n",
       "    </tr>\n",
       "    <tr>\n",
       "      <th>102598</th>\n",
       "      <td>6094647</td>\n",
       "      <td>585 sf Luxury Studio</td>\n",
       "      <td>68170633372</td>\n",
       "      <td>unconfirmed</td>\n",
       "      <td>Rebecca</td>\n",
       "      <td>Manhattan</td>\n",
       "      <td>Upper West Side</td>\n",
       "      <td>40.76807</td>\n",
       "      <td>-73.98342</td>\n",
       "      <td>United States</td>\n",
       "      <td>...</td>\n",
       "      <td>206.0</td>\n",
       "      <td>1.0</td>\n",
       "      <td>0.0</td>\n",
       "      <td>None</td>\n",
       "      <td>None</td>\n",
       "      <td>3.0</td>\n",
       "      <td>1.0</td>\n",
       "      <td>69.0</td>\n",
       "      <td>None</td>\n",
       "      <td>None</td>\n",
       "    </tr>\n",
       "  </tbody>\n",
       "</table>\n",
       "<p>102599 rows × 26 columns</p>\n",
       "</div>"
      ],
      "text/plain": [
       "             id                                              name  \\\n",
       "0       1001254                Clean & quiet apt home by the park   \n",
       "1       1002102                             Skylit Midtown Castle   \n",
       "2       1002403               THE VILLAGE OF HARLEM....NEW YORK !   \n",
       "3       1002755                                              None   \n",
       "4       1003689  Entire Apt: Spacious Studio/Loft by central park   \n",
       "...         ...                                               ...   \n",
       "102594  6092437                        Spare room in Williamsburg   \n",
       "102595  6092990                     Best Location near Columbia U   \n",
       "102596  6093542                    Comfy, bright room in Brooklyn   \n",
       "102597  6094094                  Big Studio-One Stop from Midtown   \n",
       "102598  6094647                              585 sf Luxury Studio   \n",
       "\n",
       "            host_id host_identity_verified    host_name neighbourhood_group  \\\n",
       "0       80014485718            unconfirmed     Madaline            Brooklyn   \n",
       "1       52335172823               verified        Jenna           Manhattan   \n",
       "2       78829239556             unverified        Elise           Manhattan   \n",
       "3       85098326012            unconfirmed        Garry            Brooklyn   \n",
       "4       92037596077               verified       Lyndon           Manhattan   \n",
       "...             ...                    ...          ...                 ...   \n",
       "102594  12312296767               verified         Krik            Brooklyn   \n",
       "102595  77864383453            unconfirmed        Mifan           Manhattan   \n",
       "102596  69050334417            unconfirmed        Megan            Brooklyn   \n",
       "102597  11160591270            unconfirmed  Christopher              Queens   \n",
       "102598  68170633372            unconfirmed      Rebecca           Manhattan   \n",
       "\n",
       "              neighbourhood       lat       long        country  ...  \\\n",
       "0                Kensington  40.64749  -73.97237  United States  ...   \n",
       "1                   Midtown  40.75362  -73.98377  United States  ...   \n",
       "2                    Harlem  40.80902   -73.9419  United States  ...   \n",
       "3              Clinton Hill  40.68514  -73.95976  United States  ...   \n",
       "4               East Harlem  40.79851  -73.94399  United States  ...   \n",
       "...                     ...       ...        ...            ...  ...   \n",
       "102594         Williamsburg  40.70862  -73.94651  United States  ...   \n",
       "102595  Morningside Heights   40.8046  -73.96545  United States  ...   \n",
       "102596           Park Slope  40.67505  -73.98045  United States  ...   \n",
       "102597     Long Island City  40.74989  -73.93777  United States  ...   \n",
       "102598      Upper West Side  40.76807  -73.98342  United States  ...   \n",
       "\n",
       "       service_fee minimum_nights number_of_reviews last_review  \\\n",
       "0            193.0           10.0               9.0  10/19/2021   \n",
       "1             28.0           30.0              45.0   5/21/2022   \n",
       "2            124.0            3.0               0.0        None   \n",
       "3             74.0           30.0             270.0    7/5/2019   \n",
       "4             41.0           10.0               9.0  11/19/2018   \n",
       "...            ...            ...               ...         ...   \n",
       "102594       169.0            1.0               0.0        None   \n",
       "102595       167.0            1.0               1.0    7/6/2015   \n",
       "102596       198.0            3.0               0.0        None   \n",
       "102597       109.0            2.0               5.0  10/11/2015   \n",
       "102598       206.0            1.0               0.0        None   \n",
       "\n",
       "       reviews_per_month  review_rate_number  calculated_host_listings_count  \\\n",
       "0                   0.21                 4.0                             6.0   \n",
       "1                   0.38                 4.0                             2.0   \n",
       "2                   None                 5.0                             1.0   \n",
       "3                   4.64                 4.0                             1.0   \n",
       "4                    0.1                 3.0                             1.0   \n",
       "...                  ...                 ...                             ...   \n",
       "102594              None                 3.0                             1.0   \n",
       "102595              0.02                 2.0                             2.0   \n",
       "102596              None                 5.0                             1.0   \n",
       "102597               0.1                 3.0                             1.0   \n",
       "102598              None                 3.0                             1.0   \n",
       "\n",
       "       availability_365                                        house_rules  \\\n",
       "0                 286.0  Clean up and treat the home the way you'd like...   \n",
       "1                 228.0  Pet friendly but please confirm with me if the...   \n",
       "2                 352.0  I encourage you to use my kitchen, cooking and...   \n",
       "3                 322.0                                               None   \n",
       "4                 289.0  Please no smoking in the house, porch or on th...   \n",
       "...                 ...                                                ...   \n",
       "102594            227.0  No Smoking No Parties or Events of any kind Pl...   \n",
       "102595            395.0  House rules: Guests agree to the following ter...   \n",
       "102596            342.0                                               None   \n",
       "102597            386.0                                               None   \n",
       "102598             69.0                                               None   \n",
       "\n",
       "       license  \n",
       "0         None  \n",
       "1         None  \n",
       "2         None  \n",
       "3         None  \n",
       "4         None  \n",
       "...        ...  \n",
       "102594    None  \n",
       "102595    None  \n",
       "102596    None  \n",
       "102597    None  \n",
       "102598    None  \n",
       "\n",
       "[102599 rows x 26 columns]"
      ]
     },
     "execution_count": 21,
     "metadata": {},
     "output_type": "execute_result"
    }
   ],
   "source": [
    "df_airbnb[\"host_identity_verified\"].fillna(\"unverified\", inplace=True)\n",
    "df_airbnb"
   ]
  },
  {
   "cell_type": "markdown",
   "id": "3d474c91",
   "metadata": {},
   "source": [
    "#### Es necesario eliminar los símbolos de dólar de las columnas \"price\" y \"service_fee\""
   ]
  },
  {
   "cell_type": "code",
   "execution_count": 22,
   "id": "038167f9",
   "metadata": {
    "ExecuteTime": {
     "end_time": "2023-09-02T17:37:22.760148500Z",
     "start_time": "2023-09-02T17:37:22.315535800Z"
    }
   },
   "outputs": [
    {
     "ename": "AttributeError",
     "evalue": "Can only use .str accessor with string values!",
     "output_type": "error",
     "traceback": [
      "\u001b[1;31m---------------------------------------------------------------------------\u001b[0m",
      "\u001b[1;31mAttributeError\u001b[0m                            Traceback (most recent call last)",
      "Cell \u001b[1;32mIn[22], line 1\u001b[0m\n\u001b[1;32m----> 1\u001b[0m df_airbnb[\u001b[38;5;124m\"\u001b[39m\u001b[38;5;124mprice\u001b[39m\u001b[38;5;124m\"\u001b[39m] \u001b[38;5;241m=\u001b[39m df_airbnb[\u001b[38;5;124m\"\u001b[39m\u001b[38;5;124mprice\u001b[39m\u001b[38;5;124m\"\u001b[39m]\u001b[38;5;241m.\u001b[39mstr\u001b[38;5;241m.\u001b[39mreplace(\u001b[38;5;124m'\u001b[39m\u001b[38;5;124m$\u001b[39m\u001b[38;5;124m'\u001b[39m, \u001b[38;5;124m'\u001b[39m\u001b[38;5;124m'\u001b[39m)\u001b[38;5;241m.\u001b[39mstr\u001b[38;5;241m.\u001b[39mreplace(\u001b[38;5;124m'\u001b[39m\u001b[38;5;124m,\u001b[39m\u001b[38;5;124m'\u001b[39m, \u001b[38;5;124m'\u001b[39m\u001b[38;5;124m'\u001b[39m)\u001b[38;5;241m.\u001b[39mstr\u001b[38;5;241m.\u001b[39mstrip()\n\u001b[0;32m      2\u001b[0m df_airbnb[\u001b[38;5;124m\"\u001b[39m\u001b[38;5;124mservice_fee\u001b[39m\u001b[38;5;124m\"\u001b[39m] \u001b[38;5;241m=\u001b[39m df_airbnb[\u001b[38;5;124m\"\u001b[39m\u001b[38;5;124mservice_fee\u001b[39m\u001b[38;5;124m\"\u001b[39m]\u001b[38;5;241m.\u001b[39mstr\u001b[38;5;241m.\u001b[39mreplace(\u001b[38;5;124m'\u001b[39m\u001b[38;5;124m$\u001b[39m\u001b[38;5;124m'\u001b[39m, \u001b[38;5;124m'\u001b[39m\u001b[38;5;124m'\u001b[39m)\u001b[38;5;241m.\u001b[39mstr\u001b[38;5;241m.\u001b[39mreplace(\u001b[38;5;124m'\u001b[39m\u001b[38;5;124m,\u001b[39m\u001b[38;5;124m'\u001b[39m, \u001b[38;5;124m'\u001b[39m\u001b[38;5;124m'\u001b[39m)\u001b[38;5;241m.\u001b[39mstr\u001b[38;5;241m.\u001b[39mstrip()\n\u001b[0;32m      4\u001b[0m \u001b[38;5;66;03m# Convertir las columnas \"price\" y \"service_fee\" a valores flotantes\u001b[39;00m\n",
      "File \u001b[1;32mC:\\ProgramData\\anaconda3\\Lib\\site-packages\\pandas\\core\\generic.py:5989\u001b[0m, in \u001b[0;36mNDFrame.__getattr__\u001b[1;34m(self, name)\u001b[0m\n\u001b[0;32m   5982\u001b[0m \u001b[38;5;28;01mif\u001b[39;00m (\n\u001b[0;32m   5983\u001b[0m     name \u001b[38;5;129;01mnot\u001b[39;00m \u001b[38;5;129;01min\u001b[39;00m \u001b[38;5;28mself\u001b[39m\u001b[38;5;241m.\u001b[39m_internal_names_set\n\u001b[0;32m   5984\u001b[0m     \u001b[38;5;129;01mand\u001b[39;00m name \u001b[38;5;129;01mnot\u001b[39;00m \u001b[38;5;129;01min\u001b[39;00m \u001b[38;5;28mself\u001b[39m\u001b[38;5;241m.\u001b[39m_metadata\n\u001b[0;32m   5985\u001b[0m     \u001b[38;5;129;01mand\u001b[39;00m name \u001b[38;5;129;01mnot\u001b[39;00m \u001b[38;5;129;01min\u001b[39;00m \u001b[38;5;28mself\u001b[39m\u001b[38;5;241m.\u001b[39m_accessors\n\u001b[0;32m   5986\u001b[0m     \u001b[38;5;129;01mand\u001b[39;00m \u001b[38;5;28mself\u001b[39m\u001b[38;5;241m.\u001b[39m_info_axis\u001b[38;5;241m.\u001b[39m_can_hold_identifiers_and_holds_name(name)\n\u001b[0;32m   5987\u001b[0m ):\n\u001b[0;32m   5988\u001b[0m     \u001b[38;5;28;01mreturn\u001b[39;00m \u001b[38;5;28mself\u001b[39m[name]\n\u001b[1;32m-> 5989\u001b[0m \u001b[38;5;28;01mreturn\u001b[39;00m \u001b[38;5;28mobject\u001b[39m\u001b[38;5;241m.\u001b[39m\u001b[38;5;21m__getattribute__\u001b[39m(\u001b[38;5;28mself\u001b[39m, name)\n",
      "File \u001b[1;32mC:\\ProgramData\\anaconda3\\Lib\\site-packages\\pandas\\core\\accessor.py:224\u001b[0m, in \u001b[0;36mCachedAccessor.__get__\u001b[1;34m(self, obj, cls)\u001b[0m\n\u001b[0;32m    221\u001b[0m \u001b[38;5;28;01mif\u001b[39;00m obj \u001b[38;5;129;01mis\u001b[39;00m \u001b[38;5;28;01mNone\u001b[39;00m:\n\u001b[0;32m    222\u001b[0m     \u001b[38;5;66;03m# we're accessing the attribute of the class, i.e., Dataset.geo\u001b[39;00m\n\u001b[0;32m    223\u001b[0m     \u001b[38;5;28;01mreturn\u001b[39;00m \u001b[38;5;28mself\u001b[39m\u001b[38;5;241m.\u001b[39m_accessor\n\u001b[1;32m--> 224\u001b[0m accessor_obj \u001b[38;5;241m=\u001b[39m \u001b[38;5;28mself\u001b[39m\u001b[38;5;241m.\u001b[39m_accessor(obj)\n\u001b[0;32m    225\u001b[0m \u001b[38;5;66;03m# Replace the property with the accessor object. Inspired by:\u001b[39;00m\n\u001b[0;32m    226\u001b[0m \u001b[38;5;66;03m# https://www.pydanny.com/cached-property.html\u001b[39;00m\n\u001b[0;32m    227\u001b[0m \u001b[38;5;66;03m# We need to use object.__setattr__ because we overwrite __setattr__ on\u001b[39;00m\n\u001b[0;32m    228\u001b[0m \u001b[38;5;66;03m# NDFrame\u001b[39;00m\n\u001b[0;32m    229\u001b[0m \u001b[38;5;28mobject\u001b[39m\u001b[38;5;241m.\u001b[39m\u001b[38;5;21m__setattr__\u001b[39m(obj, \u001b[38;5;28mself\u001b[39m\u001b[38;5;241m.\u001b[39m_name, accessor_obj)\n",
      "File \u001b[1;32mC:\\ProgramData\\anaconda3\\Lib\\site-packages\\pandas\\core\\strings\\accessor.py:181\u001b[0m, in \u001b[0;36mStringMethods.__init__\u001b[1;34m(self, data)\u001b[0m\n\u001b[0;32m    178\u001b[0m \u001b[38;5;28;01mdef\u001b[39;00m \u001b[38;5;21m__init__\u001b[39m(\u001b[38;5;28mself\u001b[39m, data) \u001b[38;5;241m-\u001b[39m\u001b[38;5;241m>\u001b[39m \u001b[38;5;28;01mNone\u001b[39;00m:\n\u001b[0;32m    179\u001b[0m     \u001b[38;5;28;01mfrom\u001b[39;00m \u001b[38;5;21;01mpandas\u001b[39;00m\u001b[38;5;21;01m.\u001b[39;00m\u001b[38;5;21;01mcore\u001b[39;00m\u001b[38;5;21;01m.\u001b[39;00m\u001b[38;5;21;01marrays\u001b[39;00m\u001b[38;5;21;01m.\u001b[39;00m\u001b[38;5;21;01mstring_\u001b[39;00m \u001b[38;5;28;01mimport\u001b[39;00m StringDtype\n\u001b[1;32m--> 181\u001b[0m     \u001b[38;5;28mself\u001b[39m\u001b[38;5;241m.\u001b[39m_inferred_dtype \u001b[38;5;241m=\u001b[39m \u001b[38;5;28mself\u001b[39m\u001b[38;5;241m.\u001b[39m_validate(data)\n\u001b[0;32m    182\u001b[0m     \u001b[38;5;28mself\u001b[39m\u001b[38;5;241m.\u001b[39m_is_categorical \u001b[38;5;241m=\u001b[39m is_categorical_dtype(data\u001b[38;5;241m.\u001b[39mdtype)\n\u001b[0;32m    183\u001b[0m     \u001b[38;5;28mself\u001b[39m\u001b[38;5;241m.\u001b[39m_is_string \u001b[38;5;241m=\u001b[39m \u001b[38;5;28misinstance\u001b[39m(data\u001b[38;5;241m.\u001b[39mdtype, StringDtype)\n",
      "File \u001b[1;32mC:\\ProgramData\\anaconda3\\Lib\\site-packages\\pandas\\core\\strings\\accessor.py:235\u001b[0m, in \u001b[0;36mStringMethods._validate\u001b[1;34m(data)\u001b[0m\n\u001b[0;32m    232\u001b[0m inferred_dtype \u001b[38;5;241m=\u001b[39m lib\u001b[38;5;241m.\u001b[39minfer_dtype(values, skipna\u001b[38;5;241m=\u001b[39m\u001b[38;5;28;01mTrue\u001b[39;00m)\n\u001b[0;32m    234\u001b[0m \u001b[38;5;28;01mif\u001b[39;00m inferred_dtype \u001b[38;5;129;01mnot\u001b[39;00m \u001b[38;5;129;01min\u001b[39;00m allowed_types:\n\u001b[1;32m--> 235\u001b[0m     \u001b[38;5;28;01mraise\u001b[39;00m \u001b[38;5;167;01mAttributeError\u001b[39;00m(\u001b[38;5;124m\"\u001b[39m\u001b[38;5;124mCan only use .str accessor with string values!\u001b[39m\u001b[38;5;124m\"\u001b[39m)\n\u001b[0;32m    236\u001b[0m \u001b[38;5;28;01mreturn\u001b[39;00m inferred_dtype\n",
      "\u001b[1;31mAttributeError\u001b[0m: Can only use .str accessor with string values!"
     ]
    }
   ],
   "source": [
    "df_airbnb[\"price\"] = df_airbnb[\"price\"].str.replace('$', '').str.replace(',', '').str.strip()\n",
    "df_airbnb[\"service_fee\"] = df_airbnb[\"service_fee\"].str.replace('$', '').str.replace(',', '').str.strip()\n",
    "\n",
    "# Convertir las columnas \"price\" y \"service_fee\" a valores flotantes\n",
    "df_airbnb[\"price\"] = df_airbnb[\"price\"].astype(float)\n",
    "df_airbnb[\"service_fee\"] = df_airbnb[\"service_fee\"].astype(float)\n",
    "\n",
    "#Verificamos que no haya ningún registro en el que el service fee sea mayor al precio\n",
    "counter = df_airbnb[\"price\"] < df_airbnb[\"service_fee\"]\n",
    "count_greater_service_fee = counter.sum()\n",
    "count_greater_service_fee"
   ]
  },
  {
   "cell_type": "markdown",
   "id": "7e57351d",
   "metadata": {},
   "source": [
    "#### Limpia los valores no finitos en la columna \"Construction year\""
   ]
  },
  {
   "cell_type": "code",
   "execution_count": 18,
   "id": "1d216cc0",
   "metadata": {
    "ExecuteTime": {
     "end_time": "2023-09-02T17:37:24.961614300Z",
     "start_time": "2023-09-02T17:37:24.933616300Z"
    }
   },
   "outputs": [],
   "source": [
    "df_airbnb[\"construction_year\"] = df_airbnb[\"construction_year\"].replace([np.inf, -np.inf], np.nan)\n",
    "df_airbnb[\"construction_year\"] = df_airbnb[\"construction_year\"].fillna(0)  # Rellenar valores nulos con 0 o el valor "
   ]
  },
  {
   "cell_type": "markdown",
   "id": "768fde4b",
   "metadata": {},
   "source": [
    "#### Cambiamos la columna \"Construction year\" de tipo float64 a int32, ya que los años son enteros."
   ]
  },
  {
   "cell_type": "code",
   "execution_count": 19,
   "id": "0dd9aca2",
   "metadata": {
    "ExecuteTime": {
     "end_time": "2023-09-02T17:37:27.485606300Z",
     "start_time": "2023-09-02T17:37:27.451610Z"
    }
   },
   "outputs": [
    {
     "ename": "ValueError",
     "evalue": "invalid literal for int() with base 10: '2020.0'",
     "output_type": "error",
     "traceback": [
      "\u001b[1;31m---------------------------------------------------------------------------\u001b[0m",
      "\u001b[1;31mValueError\u001b[0m                                Traceback (most recent call last)",
      "Cell \u001b[1;32mIn[19], line 1\u001b[0m\n\u001b[1;32m----> 1\u001b[0m df_airbnb[\u001b[38;5;124m\"\u001b[39m\u001b[38;5;124mconstruction_year\u001b[39m\u001b[38;5;124m\"\u001b[39m] \u001b[38;5;241m=\u001b[39m df_airbnb[\u001b[38;5;124m\"\u001b[39m\u001b[38;5;124mconstruction_year\u001b[39m\u001b[38;5;124m\"\u001b[39m]\u001b[38;5;241m.\u001b[39mastype(\u001b[38;5;28mint\u001b[39m)\n",
      "File \u001b[1;32mC:\\ProgramData\\anaconda3\\Lib\\site-packages\\pandas\\core\\generic.py:6324\u001b[0m, in \u001b[0;36mNDFrame.astype\u001b[1;34m(self, dtype, copy, errors)\u001b[0m\n\u001b[0;32m   6317\u001b[0m     results \u001b[38;5;241m=\u001b[39m [\n\u001b[0;32m   6318\u001b[0m         \u001b[38;5;28mself\u001b[39m\u001b[38;5;241m.\u001b[39miloc[:, i]\u001b[38;5;241m.\u001b[39mastype(dtype, copy\u001b[38;5;241m=\u001b[39mcopy)\n\u001b[0;32m   6319\u001b[0m         \u001b[38;5;28;01mfor\u001b[39;00m i \u001b[38;5;129;01min\u001b[39;00m \u001b[38;5;28mrange\u001b[39m(\u001b[38;5;28mlen\u001b[39m(\u001b[38;5;28mself\u001b[39m\u001b[38;5;241m.\u001b[39mcolumns))\n\u001b[0;32m   6320\u001b[0m     ]\n\u001b[0;32m   6322\u001b[0m \u001b[38;5;28;01melse\u001b[39;00m:\n\u001b[0;32m   6323\u001b[0m     \u001b[38;5;66;03m# else, only a single dtype is given\u001b[39;00m\n\u001b[1;32m-> 6324\u001b[0m     new_data \u001b[38;5;241m=\u001b[39m \u001b[38;5;28mself\u001b[39m\u001b[38;5;241m.\u001b[39m_mgr\u001b[38;5;241m.\u001b[39mastype(dtype\u001b[38;5;241m=\u001b[39mdtype, copy\u001b[38;5;241m=\u001b[39mcopy, errors\u001b[38;5;241m=\u001b[39merrors)\n\u001b[0;32m   6325\u001b[0m     \u001b[38;5;28;01mreturn\u001b[39;00m \u001b[38;5;28mself\u001b[39m\u001b[38;5;241m.\u001b[39m_constructor(new_data)\u001b[38;5;241m.\u001b[39m__finalize__(\u001b[38;5;28mself\u001b[39m, method\u001b[38;5;241m=\u001b[39m\u001b[38;5;124m\"\u001b[39m\u001b[38;5;124mastype\u001b[39m\u001b[38;5;124m\"\u001b[39m)\n\u001b[0;32m   6327\u001b[0m \u001b[38;5;66;03m# GH 33113: handle empty frame or series\u001b[39;00m\n",
      "File \u001b[1;32mC:\\ProgramData\\anaconda3\\Lib\\site-packages\\pandas\\core\\internals\\managers.py:451\u001b[0m, in \u001b[0;36mBaseBlockManager.astype\u001b[1;34m(self, dtype, copy, errors)\u001b[0m\n\u001b[0;32m    448\u001b[0m \u001b[38;5;28;01melif\u001b[39;00m using_copy_on_write():\n\u001b[0;32m    449\u001b[0m     copy \u001b[38;5;241m=\u001b[39m \u001b[38;5;28;01mFalse\u001b[39;00m\n\u001b[1;32m--> 451\u001b[0m \u001b[38;5;28;01mreturn\u001b[39;00m \u001b[38;5;28mself\u001b[39m\u001b[38;5;241m.\u001b[39mapply(\n\u001b[0;32m    452\u001b[0m     \u001b[38;5;124m\"\u001b[39m\u001b[38;5;124mastype\u001b[39m\u001b[38;5;124m\"\u001b[39m,\n\u001b[0;32m    453\u001b[0m     dtype\u001b[38;5;241m=\u001b[39mdtype,\n\u001b[0;32m    454\u001b[0m     copy\u001b[38;5;241m=\u001b[39mcopy,\n\u001b[0;32m    455\u001b[0m     errors\u001b[38;5;241m=\u001b[39merrors,\n\u001b[0;32m    456\u001b[0m     using_cow\u001b[38;5;241m=\u001b[39musing_copy_on_write(),\n\u001b[0;32m    457\u001b[0m )\n",
      "File \u001b[1;32mC:\\ProgramData\\anaconda3\\Lib\\site-packages\\pandas\\core\\internals\\managers.py:352\u001b[0m, in \u001b[0;36mBaseBlockManager.apply\u001b[1;34m(self, f, align_keys, **kwargs)\u001b[0m\n\u001b[0;32m    350\u001b[0m         applied \u001b[38;5;241m=\u001b[39m b\u001b[38;5;241m.\u001b[39mapply(f, \u001b[38;5;241m*\u001b[39m\u001b[38;5;241m*\u001b[39mkwargs)\n\u001b[0;32m    351\u001b[0m     \u001b[38;5;28;01melse\u001b[39;00m:\n\u001b[1;32m--> 352\u001b[0m         applied \u001b[38;5;241m=\u001b[39m \u001b[38;5;28mgetattr\u001b[39m(b, f)(\u001b[38;5;241m*\u001b[39m\u001b[38;5;241m*\u001b[39mkwargs)\n\u001b[0;32m    353\u001b[0m     result_blocks \u001b[38;5;241m=\u001b[39m extend_blocks(applied, result_blocks)\n\u001b[0;32m    355\u001b[0m out \u001b[38;5;241m=\u001b[39m \u001b[38;5;28mtype\u001b[39m(\u001b[38;5;28mself\u001b[39m)\u001b[38;5;241m.\u001b[39mfrom_blocks(result_blocks, \u001b[38;5;28mself\u001b[39m\u001b[38;5;241m.\u001b[39maxes)\n",
      "File \u001b[1;32mC:\\ProgramData\\anaconda3\\Lib\\site-packages\\pandas\\core\\internals\\blocks.py:511\u001b[0m, in \u001b[0;36mBlock.astype\u001b[1;34m(self, dtype, copy, errors, using_cow)\u001b[0m\n\u001b[0;32m    491\u001b[0m \u001b[38;5;250m\u001b[39m\u001b[38;5;124;03m\"\"\"\u001b[39;00m\n\u001b[0;32m    492\u001b[0m \u001b[38;5;124;03mCoerce to the new dtype.\u001b[39;00m\n\u001b[0;32m    493\u001b[0m \n\u001b[1;32m   (...)\u001b[0m\n\u001b[0;32m    507\u001b[0m \u001b[38;5;124;03mBlock\u001b[39;00m\n\u001b[0;32m    508\u001b[0m \u001b[38;5;124;03m\"\"\"\u001b[39;00m\n\u001b[0;32m    509\u001b[0m values \u001b[38;5;241m=\u001b[39m \u001b[38;5;28mself\u001b[39m\u001b[38;5;241m.\u001b[39mvalues\n\u001b[1;32m--> 511\u001b[0m new_values \u001b[38;5;241m=\u001b[39m astype_array_safe(values, dtype, copy\u001b[38;5;241m=\u001b[39mcopy, errors\u001b[38;5;241m=\u001b[39merrors)\n\u001b[0;32m    513\u001b[0m new_values \u001b[38;5;241m=\u001b[39m maybe_coerce_values(new_values)\n\u001b[0;32m    515\u001b[0m refs \u001b[38;5;241m=\u001b[39m \u001b[38;5;28;01mNone\u001b[39;00m\n",
      "File \u001b[1;32mC:\\ProgramData\\anaconda3\\Lib\\site-packages\\pandas\\core\\dtypes\\astype.py:242\u001b[0m, in \u001b[0;36mastype_array_safe\u001b[1;34m(values, dtype, copy, errors)\u001b[0m\n\u001b[0;32m    239\u001b[0m     dtype \u001b[38;5;241m=\u001b[39m dtype\u001b[38;5;241m.\u001b[39mnumpy_dtype\n\u001b[0;32m    241\u001b[0m \u001b[38;5;28;01mtry\u001b[39;00m:\n\u001b[1;32m--> 242\u001b[0m     new_values \u001b[38;5;241m=\u001b[39m astype_array(values, dtype, copy\u001b[38;5;241m=\u001b[39mcopy)\n\u001b[0;32m    243\u001b[0m \u001b[38;5;28;01mexcept\u001b[39;00m (\u001b[38;5;167;01mValueError\u001b[39;00m, \u001b[38;5;167;01mTypeError\u001b[39;00m):\n\u001b[0;32m    244\u001b[0m     \u001b[38;5;66;03m# e.g. _astype_nansafe can fail on object-dtype of strings\u001b[39;00m\n\u001b[0;32m    245\u001b[0m     \u001b[38;5;66;03m#  trying to convert to float\u001b[39;00m\n\u001b[0;32m    246\u001b[0m     \u001b[38;5;28;01mif\u001b[39;00m errors \u001b[38;5;241m==\u001b[39m \u001b[38;5;124m\"\u001b[39m\u001b[38;5;124mignore\u001b[39m\u001b[38;5;124m\"\u001b[39m:\n",
      "File \u001b[1;32mC:\\ProgramData\\anaconda3\\Lib\\site-packages\\pandas\\core\\dtypes\\astype.py:187\u001b[0m, in \u001b[0;36mastype_array\u001b[1;34m(values, dtype, copy)\u001b[0m\n\u001b[0;32m    184\u001b[0m     values \u001b[38;5;241m=\u001b[39m values\u001b[38;5;241m.\u001b[39mastype(dtype, copy\u001b[38;5;241m=\u001b[39mcopy)\n\u001b[0;32m    186\u001b[0m \u001b[38;5;28;01melse\u001b[39;00m:\n\u001b[1;32m--> 187\u001b[0m     values \u001b[38;5;241m=\u001b[39m _astype_nansafe(values, dtype, copy\u001b[38;5;241m=\u001b[39mcopy)\n\u001b[0;32m    189\u001b[0m \u001b[38;5;66;03m# in pandas we don't store numpy str dtypes, so convert to object\u001b[39;00m\n\u001b[0;32m    190\u001b[0m \u001b[38;5;28;01mif\u001b[39;00m \u001b[38;5;28misinstance\u001b[39m(dtype, np\u001b[38;5;241m.\u001b[39mdtype) \u001b[38;5;129;01mand\u001b[39;00m \u001b[38;5;28missubclass\u001b[39m(values\u001b[38;5;241m.\u001b[39mdtype\u001b[38;5;241m.\u001b[39mtype, \u001b[38;5;28mstr\u001b[39m):\n",
      "File \u001b[1;32mC:\\ProgramData\\anaconda3\\Lib\\site-packages\\pandas\\core\\dtypes\\astype.py:138\u001b[0m, in \u001b[0;36m_astype_nansafe\u001b[1;34m(arr, dtype, copy, skipna)\u001b[0m\n\u001b[0;32m    134\u001b[0m     \u001b[38;5;28;01mraise\u001b[39;00m \u001b[38;5;167;01mValueError\u001b[39;00m(msg)\n\u001b[0;32m    136\u001b[0m \u001b[38;5;28;01mif\u001b[39;00m copy \u001b[38;5;129;01mor\u001b[39;00m is_object_dtype(arr\u001b[38;5;241m.\u001b[39mdtype) \u001b[38;5;129;01mor\u001b[39;00m is_object_dtype(dtype):\n\u001b[0;32m    137\u001b[0m     \u001b[38;5;66;03m# Explicit copy, or required since NumPy can't view from / to object.\u001b[39;00m\n\u001b[1;32m--> 138\u001b[0m     \u001b[38;5;28;01mreturn\u001b[39;00m arr\u001b[38;5;241m.\u001b[39mastype(dtype, copy\u001b[38;5;241m=\u001b[39m\u001b[38;5;28;01mTrue\u001b[39;00m)\n\u001b[0;32m    140\u001b[0m \u001b[38;5;28;01mreturn\u001b[39;00m arr\u001b[38;5;241m.\u001b[39mastype(dtype, copy\u001b[38;5;241m=\u001b[39mcopy)\n",
      "\u001b[1;31mValueError\u001b[0m: invalid literal for int() with base 10: '2020.0'"
     ]
    }
   ],
   "source": [
    "df_airbnb[\"construction_year\"] = df_airbnb[\"construction_year\"].astype(int)"
   ]
  },
  {
   "cell_type": "markdown",
   "id": "5cce1ce5",
   "metadata": {
    "ExecuteTime": {
     "start_time": "2023-09-02T17:18:10.166001300Z"
    }
   },
   "source": [
    "#### Reemplaza los valores nulos por 0 en las columnas \"last review\" y \"reviews per month\". Cuando la columna number of reviews es 0."
   ]
  },
  {
   "cell_type": "code",
   "execution_count": null,
   "id": "c7257afd",
   "metadata": {
    "ExecuteTime": {
     "end_time": "2023-09-02T17:37:29.510453Z",
     "start_time": "2023-09-02T17:37:29.427457400Z"
    }
   },
   "outputs": [],
   "source": [
    "filtered_df = df_airbnb[df_airbnb[\"number_of_reviews\"] == 0]\n",
    "# Muestra los registros filtrados\n",
    "print(filtered_df)\n",
    "\n",
    "# Cuenta los valores nulos en la columna \"last_review\"\n",
    "null_last_review = filtered_df[\"last_review\"].isnull().sum()\n",
    "# Cuenta los valores nulos en la columna \"reviews_per_month\"\n",
    "null_reviews_per_month = filtered_df[\"reviews_per_month\"].isnull().sum()\n",
    "\n",
    "# Muestra los resultados\n",
    "print(\"Registros nulos en last review:\", null_last_review)\n",
    "print(\"Registros nulos en reviews per month:\", null_reviews_per_month)"
   ]
  },
  {
   "cell_type": "code",
   "execution_count": null,
   "id": "d98503a5",
   "metadata": {
    "ExecuteTime": {
     "end_time": "2023-09-02T17:37:33.606744300Z",
     "start_time": "2023-09-02T17:37:33.576666200Z"
    }
   },
   "outputs": [],
   "source": [
    "df_airbnb.loc[df_airbnb[\"number_of_reviews\"] == 0, \"last_review\"] = 0\n",
    "df_airbnb.loc[df_airbnb[\"number_of_reviews\"] == 0, \"reviews_per_month\"] = 0"
   ]
  },
  {
   "cell_type": "markdown",
   "id": "d445b96e",
   "metadata": {},
   "source": [
    "#### Remplazar los nulos de la columna house_rules "
   ]
  },
  {
   "cell_type": "code",
   "execution_count": null,
   "id": "d0670bbc",
   "metadata": {
    "ExecuteTime": {
     "end_time": "2023-09-02T17:37:39.542777Z",
     "start_time": "2023-09-02T17:37:39.441782400Z"
    }
   },
   "outputs": [],
   "source": [
    "df_airbnb[\"house_rules\"] = df_airbnb[\"house_rules\"].fillna(\"No se Especificaron Las Reglas\")"
   ]
  },
  {
   "cell_type": "code",
   "execution_count": null,
   "id": "d13e4833e596153",
   "metadata": {
    "ExecuteTime": {
     "end_time": "2023-09-02T17:37:44.461135700Z",
     "start_time": "2023-09-02T17:37:44.203135500Z"
    }
   },
   "outputs": [],
   "source": [
    "df_airbnb"
   ]
  },
  {
   "cell_type": "markdown",
   "id": "94002f258c692243",
   "metadata": {},
   "source": [
    "## these nulls will already be treated in the pure transformation phase and not in this EDA phase."
   ]
  },
  {
   "cell_type": "code",
   "execution_count": null,
   "id": "dc47b182420f7127",
   "metadata": {
    "ExecuteTime": {
     "end_time": "2023-09-02T17:38:42.776614200Z",
     "start_time": "2023-09-02T17:38:42.519616100Z"
    }
   },
   "outputs": [],
   "source": [
    "(\n",
    "    df_airbnb\n",
    "    .isnull()\n",
    "    .sum()\n",
    "    .sort_values(ascending=False)\n",
    ")\n"
   ]
  },
  {
   "cell_type": "markdown",
   "id": "51b08110",
   "metadata": {},
   "source": [
    "### Creación de las dimensiones "
   ]
  },
  {
   "cell_type": "code",
   "execution_count": null,
   "id": "6894f72f",
   "metadata": {
    "ExecuteTime": {
     "start_time": "2023-09-02T17:18:10.178994200Z"
    }
   },
   "outputs": [],
   "source": [
    "neighbourhood_table = df_airbnb[[\"neighbourhood_group\", \"neighbourhood\", \"lat\", \"long\"]]\n",
    "neighbourhood_table.head(2)"
   ]
  },
  {
   "cell_type": "code",
   "execution_count": null,
   "id": "02d01933",
   "metadata": {},
   "outputs": [],
   "source": [
    "host_table = df_airbnb[[\"host_id\", \"host_name\", \"host_identity_verified\"]]\n",
    "host_table.head(2)"
   ]
  },
  {
   "cell_type": "code",
   "execution_count": null,
   "id": "ecd0bcae",
   "metadata": {
    "ExecuteTime": {
     "start_time": "2023-09-02T17:18:10.180031100Z"
    }
   },
   "outputs": [],
   "source": [
    "airbnb_detail = df_airbnb[\n",
    "    [\"id\", \"name\", \"instant_bookable\", \n",
    "     \"cancellation_policy\", \"room_type\", \"construction_year\", \n",
    "     \"price\", \"service_fee\", \"minimum_nights\", \"number_of_reviews\", \n",
    "     \"last_review\", \"reviews_per_month\", \"review_rate_number\", \"calculated_host_listings_count\", \n",
    "     \"availability_365\", \"house_rules\"]]\n",
    "\n",
    "airbnb_detail.head(2)"
   ]
  },
  {
   "cell_type": "markdown",
   "id": "51da5812",
   "metadata": {},
   "source": [
    "### Transformaciones a la dimensión de Neighbourhoods"
   ]
  },
  {
   "cell_type": "markdown",
   "id": "bb4e0c20",
   "metadata": {
    "ExecuteTime": {
     "start_time": "2023-09-02T17:18:10.187999300Z"
    }
   },
   "source": [
    "#### Agrupamos con el fin de no tener datos redundantes, calculando además promedio de latitud y longitud"
   ]
  },
  {
   "cell_type": "code",
   "execution_count": null,
   "id": "b3505d7f",
   "metadata": {},
   "outputs": [],
   "source": [
    "neighbourhood_table = neighbourhood_table.groupby([\"neighbourhood_group\", \"neighbourhood\"]).agg({\n",
    "    \"lat\": \"mean\",\n",
    "    \"long\": \"mean\"\n",
    "}).reset_index()\n",
    "\n",
    "#Creamos ID y reorganizamos columnas\n",
    "neighbourhood_table[\"neighbourhood_id\"] = range(1, len(neighbourhood_table) + 1)\n",
    "column_order = [\"neighbourhood_id\", \"neighbourhood_group\", \"neighbourhood\", \"lat\", \"long\"]\n",
    "neighbourhood_table = neighbourhood_table[column_order]\n",
    "\n",
    "neighbourhood_table.head(2)"
   ]
  },
  {
   "cell_type": "markdown",
   "id": "d66cfe2b",
   "metadata": {
    "ExecuteTime": {
     "start_time": "2023-09-02T17:18:10.189004100Z"
    }
   },
   "source": [
    "### Proceso de limpieza a nuestra tabla de hecho (df_airbnb)"
   ]
  },
  {
   "cell_type": "code",
   "execution_count": null,
   "id": "b3156de1",
   "metadata": {
    "ExecuteTime": {
     "start_time": "2023-09-02T17:18:10.193030300Z"
    }
   },
   "outputs": [],
   "source": [
    "#Delete the following columns since we already set up diferent tables to save all the information related with neighbourhoods and hosts\n",
    "df_airbnb.drop(\n",
    "         [\"id\", \"name\", \"instant_bookable\", \n",
    "     \"cancellation_policy\", \"room_type\", \"construction_year\", \n",
    "     \"price\", \"service_fee\", \"minimum_nights\", \"number_of_reviews\", \n",
    "     \"last_review\", \"reviews_per_month\", \"review_rate_number\", \n",
    "     \"calculated_host_listings_count\", \n",
    "     \"availability_365\", \"house_rules\", \"host_name\", \n",
    "     \"host_identity_verified\", \"lat\", \"long\"], axis=1, inplace=True)"
   ]
  },
  {
   "cell_type": "markdown",
   "id": "4bd839ed",
   "metadata": {},
   "source": [
    "#### Se cambian las columnas neighbourhood_group y neighbourhood por un identificador númerico"
   ]
  },
  {
   "cell_type": "code",
   "execution_count": null,
   "id": "32e980ca",
   "metadata": {
    "ExecuteTime": {
     "start_time": "2023-09-02T17:18:10.193995600Z"
    }
   },
   "outputs": [],
   "source": [
    "def get_neighbourhood_id(row):\n",
    "    mask = (neighbourhood_table[\"neighbourhood_group\"] == row[\"neighbourhood_group\"]) & (neighbourhood_table[\"neighbourhood\"] == row[\"neighbourhood\"])\n",
    "    matched_row = neighbourhood_table[mask]\n",
    "    if not matched_row.empty:\n",
    "        return matched_row[\"neighbourhood_id\"].iloc[0]\n",
    "    else:\n",
    "        return None\n",
    "\n",
    "# Aplicar la función para obtener \"neighbourhood_id\"\n",
    "df_airbnb[\"neighbourhood_id\"] = df_airbnb.apply(get_neighbourhood_id, axis=1)"
   ]
  },
  {
   "cell_type": "markdown",
   "id": "b48499d2",
   "metadata": {},
   "source": [
    "#### Una vez asignados los IDs de forma númerica podemos prescindir de las columnas iniciales"
   ]
  },
  {
   "cell_type": "code",
   "execution_count": null,
   "id": "c11d6730",
   "metadata": {
    "ExecuteTime": {
     "start_time": "2023-09-02T17:18:10.197993500Z"
    }
   },
   "outputs": [],
   "source": [
    "df_airbnb.drop([\"neighbourhood_group\", \"neighbourhood\"], axis=1, inplace=True)\n",
    "df_airbnb"
   ]
  },
  {
   "cell_type": "markdown",
   "id": "c8bf7cbb",
   "metadata": {
    "ExecuteTime": {
     "start_time": "2023-09-02T17:18:10.199994Z"
    }
   },
   "source": [
    "## Proceso de Carga"
   ]
  },
  {
   "cell_type": "code",
   "execution_count": null,
   "id": "dfc4f0b3",
   "metadata": {
    "ExecuteTime": {
     "start_time": "2023-09-02T17:18:10.200993700Z"
    }
   },
   "outputs": [],
   "source": [
    "#Creating engine\n",
    "engine1 = creating_engine()\n",
    "\n",
    "#Creating session\n",
    "session1 = creating_session(engine1)"
   ]
  }
 ],
 "metadata": {
  "kernelspec": {
   "display_name": "Python 3 (ipykernel)",
   "language": "python",
   "name": "python3"
  },
  "language_info": {
   "codemirror_mode": {
    "name": "ipython",
    "version": 3
   },
   "file_extension": ".py",
   "mimetype": "text/x-python",
   "name": "python",
   "nbconvert_exporter": "python",
   "pygments_lexer": "ipython3",
   "version": "3.11.5"
  }
 },
 "nbformat": 4,
 "nbformat_minor": 5
}
