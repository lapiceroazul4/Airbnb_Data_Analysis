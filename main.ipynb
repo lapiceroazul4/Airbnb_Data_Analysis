{
 "cells": [
  {
   "cell_type": "code",
   "execution_count": null,
   "id": "initial_id",
   "metadata": {
    "ExecuteTime": {
     "end_time": "2023-08-18T01:24:09.021592400Z",
     "start_time": "2023-08-18T01:24:03.883470500Z"
    },
    "collapsed": true
   },
   "outputs": [],
   "source": [
    "#importando librerias\n",
    "import pandas as pd\n",
    "import numpy as np\n",
    "import seaborn as sns\n",
    "from Database import Airbnbs, Hosts, Airbnb_Details, Neighbourhoods, creating_engine, creating_session, closing_session"
   ]
  },
  {
   "cell_type": "code",
   "execution_count": null,
   "id": "db87eb5c",
   "metadata": {},
   "outputs": [],
   "source": [
    "#Creating engine\n",
    "engine1 = creating_engine()\n",
    "\n",
    "#Creating session\n",
    "session1 = creating_session(engine1)"
   ]
  },
  {
   "cell_type": "markdown",
   "id": "897969b6",
   "metadata": {},
   "source": [
    "## Proceso de Exploración"
   ]
  },
  {
   "cell_type": "markdown",
   "id": "31ae3036de14af47",
   "metadata": {
    "collapsed": false
   },
   "source": [
    "### Leemos el archivo como un dataframe usando pandas"
   ]
  },
  {
   "cell_type": "code",
   "execution_count": null,
   "id": "ca1c3c2ea572b0c2",
   "metadata": {
    "ExecuteTime": {
     "end_time": "2023-08-18T01:37:02.641482300Z",
     "start_time": "2023-08-18T01:37:01.861111300Z"
    },
    "collapsed": false
   },
   "outputs": [],
   "source": [
    "df_airbnb=pd.read_csv(\"Airbnb_Open_Data.csv\",  na_values=[''])\n",
    "df_airbnb.head(2)"
   ]
  },
  {
   "cell_type": "markdown",
   "id": "a9e73a38",
   "metadata": {},
   "source": [
    "### Se hacen ajustes a ciertas columnas con el fin de poder subir el csv a la base de datos "
   ]
  },
  {
   "cell_type": "code",
   "execution_count": null,
   "id": "82630eb1",
   "metadata": {},
   "outputs": [],
   "source": [
    "#Usamos regrex para evitar los caracteres especiales y númericos\n",
    "df_airbnb[\"NAME\"] = df_airbnb[\"NAME\"].str.replace(r'[^a-zA-Z\\s]', '', regex=True)\n",
    "df_airbnb[\"house_rules\"] = df_airbnb[\"house_rules\"].str.replace(r'[^a-zA-Z0-9\\s]', '', regex=True)\n",
    "df_airbnb[\"host name\"] = df_airbnb[\"host name\"].str.replace(r'[^a-zA-Z\\s]', '', regex=True)\n",
    "\n",
    "#Dropeamos aquellas columnas que no aportan un valor signficante al código \n",
    "df_airbnb.drop([\"license\", \"country\", \"country code\"], axis=1, inplace=True)\n",
    "\n",
    "#Quitamos los valores nulos del host name\n",
    "df_airbnb[\"host name\"].fillna(\"no provided\") \n",
    "\n",
    "#Admitimos solo valores positivos para la columna minimum nights\n",
    "df_airbnb[\"minimum nights\"] = df_airbnb[\"minimum nights\"].abs()\n",
    "\n",
    "\n",
    "\n",
    "df_airbnb.to_csv(\"import.csv\", encoding=\"utf-8\", index=False)"
   ]
  },
  {
   "cell_type": "code",
   "execution_count": null,
   "id": "4fb98ddf",
   "metadata": {},
   "outputs": [],
   "source": [
    "df_airbnb.to_sql(\"airbnbs\", con=engine1, if_exists=\"replace\", index=False)\n",
    "print(\"Succesfully Created\")"
   ]
  },
  {
   "cell_type": "markdown",
   "id": "a1024eb23322122e",
   "metadata": {
    "collapsed": false
   },
   "source": [
    "### ¿Qué tipo de dato son las variables del conjunto de datos?"
   ]
  },
  {
   "cell_type": "code",
   "execution_count": null,
   "id": "a62739d29da757e8",
   "metadata": {
    "ExecuteTime": {
     "end_time": "2023-08-18T01:17:26.632429700Z",
     "start_time": "2023-08-18T01:17:26.584091700Z"
    },
    "collapsed": false
   },
   "outputs": [],
   "source": [
    "df_airbnb.dtypes"
   ]
  },
  {
   "cell_type": "markdown",
   "id": "b6a7834d2eae2aeb",
   "metadata": {
    "collapsed": false
   },
   "source": [
    "### ¿Cuántas variables de cada tipo de dato tenemos en el conjunto de datos?"
   ]
  },
  {
   "cell_type": "code",
   "execution_count": null,
   "id": "e1cb852aef5ffedf",
   "metadata": {
    "ExecuteTime": {
     "end_time": "2023-08-18T01:18:42.040874Z",
     "start_time": "2023-08-18T01:18:42.025873Z"
    },
    "collapsed": false
   },
   "outputs": [],
   "source": [
    "(\n",
    "    df_airbnb\n",
    "    .dtypes\n",
    "    .value_counts()\n",
    ")"
   ]
  },
  {
   "cell_type": "markdown",
   "id": "4812473468082a87",
   "metadata": {
    "collapsed": false
   },
   "source": [
    "###  ¿Cuales son las dimensiones del Dataset?"
   ]
  },
  {
   "cell_type": "code",
   "execution_count": null,
   "id": "645a18f27a04d2df",
   "metadata": {
    "ExecuteTime": {
     "end_time": "2023-08-18T01:19:25.955028Z",
     "start_time": "2023-08-18T01:19:25.902538800Z"
    },
    "collapsed": false
   },
   "outputs": [],
   "source": [
    "df_airbnb.shape"
   ]
  },
  {
   "cell_type": "markdown",
   "id": "afbd91a7995988e0",
   "metadata": {
    "collapsed": false
   },
   "source": [
    "### ¿Existen valores nulos explicitos en el conjunto de datos?"
   ]
  },
  {
   "cell_type": "code",
   "execution_count": null,
   "id": "12a2779a01e198b8",
   "metadata": {
    "ExecuteTime": {
     "end_time": "2023-08-18T01:19:57.334178100Z",
     "start_time": "2023-08-18T01:19:57.130099900Z"
    },
    "collapsed": false
   },
   "outputs": [],
   "source": [
    "df_airbnb.isnull().any()"
   ]
  },
  {
   "cell_type": "markdown",
   "id": "72f9209433e86d67",
   "metadata": {
    "collapsed": false
   },
   "source": [
    "### De tener observaciones con valores nulos, ¿cuántas tenemos por cada variable?"
   ]
  },
  {
   "cell_type": "code",
   "execution_count": null,
   "id": "fe7401140017609c",
   "metadata": {
    "ExecuteTime": {
     "end_time": "2023-08-18T01:20:49.534864600Z",
     "start_time": "2023-08-18T01:20:49.329762600Z"
    },
    "collapsed": false
   },
   "outputs": [],
   "source": [
    "(\n",
    "    df_airbnb\n",
    "    .isnull()\n",
    "    .sum()\n",
    "    .sort_values(ascending=False)\n",
    ")\n"
   ]
  },
  {
   "cell_type": "markdown",
   "id": "ab302256e8f80661",
   "metadata": {
    "collapsed": false
   },
   "source": [
    "### ¿Cuál es la proporción de valores nulos por cada variable? "
   ]
  },
  {
   "cell_type": "code",
   "execution_count": null,
   "id": "aefe9355",
   "metadata": {},
   "outputs": [],
   "source": [
    "(\n",
    "    df_airbnb\n",
    "    .isnull()\n",
    "    .melt(value_name='missing')\n",
    "    .pipe(\n",
    "        lambda df: (\n",
    "            sns.displot(\n",
    "                data=df,\n",
    "                y='variable',\n",
    "                hue='missing',\n",
    "                multiple='fill',\n",
    "                aspect=2\n",
    "            )\n",
    "        )\n",
    "    )\n",
    ")"
   ]
  },
  {
   "cell_type": "markdown",
   "id": "cc82e0ba225d9e94",
   "metadata": {
    "collapsed": false
   },
   "source": [
    "### ¿Cuántos valores nulos tenemos en total en el conjunto de datos?"
   ]
  },
  {
   "cell_type": "code",
   "execution_count": null,
   "id": "b8b1681424f7b07",
   "metadata": {
    "ExecuteTime": {
     "end_time": "2023-08-18T01:21:38.338588200Z",
     "start_time": "2023-08-18T01:21:38.115116700Z"
    },
    "collapsed": false
   },
   "outputs": [],
   "source": [
    "(\n",
    "    df_airbnb\n",
    "    .isnull()\n",
    "    .sum()\n",
    "    .sum()\n",
    ")"
   ]
  },
  {
   "cell_type": "markdown",
   "id": "b5e06b25",
   "metadata": {},
   "source": [
    "## Proceso de Limpieza "
   ]
  },
  {
   "cell_type": "markdown",
   "id": "35250c6a",
   "metadata": {},
   "source": [
    "#### Estandarizamos los nombres"
   ]
  },
  {
   "cell_type": "code",
   "execution_count": null,
   "id": "b58a2724",
   "metadata": {},
   "outputs": [],
   "source": [
    "new_column_names = [x.lower().replace(\" \", \"_\") for x in df_airbnb.columns]\n",
    "df_airbnb.columns = new_column_names"
   ]
  },
  {
   "cell_type": "markdown",
   "id": "cea1b64c",
   "metadata": {},
   "source": [
    "#### Dado que el atributo de \"host_identity_verified\" cuenta con valores nulos, vamos a llenar dichos valores con unverified"
   ]
  },
  {
   "cell_type": "code",
   "execution_count": null,
   "id": "98da47ec",
   "metadata": {},
   "outputs": [],
   "source": [
    "df_airbnb[\"host_identity_verified\"].fillna(\"unverified\", inplace=True)\n",
    "df_airbnb"
   ]
  },
  {
   "cell_type": "markdown",
   "id": "3d474c91",
   "metadata": {},
   "source": [
    "#### Es necesario eliminar los símbolos de dólar de las columnas \"price\" y \"service_fee\""
   ]
  },
  {
   "cell_type": "code",
   "execution_count": null,
   "id": "038167f9",
   "metadata": {},
   "outputs": [],
   "source": [
    "df_airbnb[\"price\"] = df_airbnb[\"price\"].str.replace('$', '').str.replace(',', '').str.strip()\n",
    "df_airbnb[\"service_fee\"] = df_airbnb[\"service_fee\"].str.replace('$', '').str.replace(',', '').str.strip()\n",
    "\n",
    "# Convertir las columnas \"price\" y \"service_fee\" a valores flotantes\n",
    "df_airbnb[\"price\"] = df_airbnb[\"price\"].astype(float)\n",
    "df_airbnb[\"service_fee\"] = df_airbnb[\"service_fee\"].astype(float)\n",
    "\n",
    "#Verificamos que no haya ningún registro en el que el service fee sea mayor al precio\n",
    "counter = df_airbnb[\"price\"] < df_airbnb[\"service_fee\"]\n",
    "count_greater_service_fee = counter.sum()\n",
    "count_greater_service_fee"
   ]
  },
  {
   "cell_type": "markdown",
   "id": "7e57351d",
   "metadata": {},
   "source": [
    "#### Limpia los valores no finitos en la columna \"Construction year\""
   ]
  },
  {
   "cell_type": "code",
   "execution_count": null,
   "id": "1d216cc0",
   "metadata": {},
   "outputs": [],
   "source": [
    "df_airbnb[\"construction_year\"] = df_airbnb[\"construction_year\"].replace([np.inf, -np.inf], np.nan)\n",
    "df_airbnb[\"construction_year\"] = df_airbnb[\"construction_year\"].fillna(0)  # Rellenar valores nulos con 0 o el valor "
   ]
  },
  {
   "cell_type": "markdown",
   "id": "768fde4b",
   "metadata": {},
   "source": [
    "#### Cambiamos la columna \"Construction year\" de tipo float64 a int32, ya que los años son enteros."
   ]
  },
  {
   "cell_type": "code",
   "execution_count": null,
   "id": "0dd9aca2",
   "metadata": {},
   "outputs": [],
   "source": [
    "\n",
    "df_airbnb[\"construction_year\"] = df_airbnb[\"construction_year\"].astype(int)"
   ]
  },
  {
   "cell_type": "markdown",
   "id": "5cce1ce5",
   "metadata": {},
   "source": [
    "#### Reemplaza los valores nulos por 0 en las columnas \"last review\" y \"reviews per month\". Cuando la columna number of reviews es 0."
   ]
  },
  {
   "cell_type": "code",
   "execution_count": null,
   "id": "c7257afd",
   "metadata": {},
   "outputs": [],
   "source": [
    "filtered_df = df_airbnb[df_airbnb[\"number_of_reviews\"] == 0]\n",
    "# Muestra los registros filtrados\n",
    "print(filtered_df)\n",
    "\n",
    "# Cuenta los valores nulos en la columna \"last_review\"\n",
    "null_last_review = filtered_df[\"last_review\"].isnull().sum()\n",
    "# Cuenta los valores nulos en la columna \"reviews_per_month\"\n",
    "null_reviews_per_month = filtered_df[\"reviews_per_month\"].isnull().sum()\n",
    "\n",
    "# Muestra los resultados\n",
    "print(\"Registros nulos en last review:\", null_last_review)\n",
    "print(\"Registros nulos en reviews per month:\", null_reviews_per_month)"
   ]
  },
  {
   "cell_type": "code",
   "execution_count": null,
   "id": "d98503a5",
   "metadata": {},
   "outputs": [],
   "source": [
    "df_airbnb.loc[df_airbnb[\"number_of_reviews\"] == 0, \"last_review\"] = 0\n",
    "df_airbnb.loc[df_airbnb[\"number_of_reviews\"] == 0, \"reviews_per_month\"] = 0"
   ]
  },
  {
   "cell_type": "markdown",
   "id": "d445b96e",
   "metadata": {},
   "source": [
    "#### Remplazar los nulos de la columna house_rules "
   ]
  },
  {
   "cell_type": "code",
   "execution_count": null,
   "id": "d0670bbc",
   "metadata": {},
   "outputs": [],
   "source": [
    "df_airbnb[\"house_rules\"] = df_airbnb[\"house_rules\"].fillna(\"No se Especificaron Las Reglas\")"
   ]
  },
  {
   "cell_type": "markdown",
   "id": "51b08110",
   "metadata": {},
   "source": [
    "### Creación de las dimensiones "
   ]
  },
  {
   "cell_type": "code",
   "execution_count": null,
   "id": "6894f72f",
   "metadata": {},
   "outputs": [],
   "source": [
    "neighbourhood_table = df_airbnb[[\"neighbourhood_group\", \"neighbourhood\", \"lat\", \"long\"]]\n",
    "neighbourhood_table.head(2)"
   ]
  },
  {
   "cell_type": "code",
   "execution_count": null,
   "id": "02d01933",
   "metadata": {},
   "outputs": [],
   "source": [
    "host_table = df_airbnb[[\"host_id\", \"host_name\", \"host_identity_verified\"]]\n",
    "host_table.head(2)"
   ]
  },
  {
   "cell_type": "code",
   "execution_count": null,
   "id": "ecd0bcae",
   "metadata": {},
   "outputs": [],
   "source": [
    "airbnb_detail = df_airbnb[\n",
    "    [\"id\", \"name\", \"instant_bookable\", \n",
    "     \"cancellation_policy\", \"room_type\", \"construction_year\", \n",
    "     \"price\", \"service_fee\", \"minimum_nights\", \"number_of_reviews\", \n",
    "     \"last_review\", \"reviews_per_month\", \"review_rate_number\", \"calculated_host_listings_count\", \n",
    "     \"availability_365\", \"house_rules\"]]\n",
    "\n",
    "airbnb_detail.head(2)"
   ]
  },
  {
   "cell_type": "markdown",
   "id": "51da5812",
   "metadata": {},
   "source": [
    "### Transformaciones a la dimensión de Neighbourhoods"
   ]
  },
  {
   "cell_type": "markdown",
   "id": "bb4e0c20",
   "metadata": {},
   "source": [
    "#### Agrupamos con el fin de no tener datos redundantes, calculando además promedio de latitud y longitud"
   ]
  },
  {
   "cell_type": "code",
   "execution_count": null,
   "id": "b3505d7f",
   "metadata": {},
   "outputs": [],
   "source": [
    "neighbourhood_table = neighbourhood_table.groupby([\"neighbourhood_group\", \"neighbourhood\"]).agg({\n",
    "    \"lat\": \"mean\",\n",
    "    \"long\": \"mean\"\n",
    "}).reset_index()\n",
    "\n",
    "#Creamos ID y reorganizamos columnas\n",
    "neighbourhood_table[\"neighbourhood_id\"] = range(1, len(neighbourhood_table) + 1)\n",
    "column_order = [\"neighbourhood_id\", \"neighbourhood_group\", \"neighbourhood\", \"lat\", \"long\"]\n",
    "neighbourhood_table = neighbourhood_table[column_order]\n",
    "\n",
    "neighbourhood_table.head(2)"
   ]
  },
  {
   "cell_type": "markdown",
   "id": "d66cfe2b",
   "metadata": {},
   "source": [
    "### Proceso de limpieza a nuestra tabla de hecho (df_airbnb)"
   ]
  },
  {
   "cell_type": "code",
   "execution_count": null,
   "id": "b3156de1",
   "metadata": {},
   "outputs": [],
   "source": [
    "#Delete the following columns since we already set up diferent tables to save all the information related with neighbourhoods and hosts\n",
    "df_airbnb.drop(\n",
    "         [\"id\", \"name\", \"instant_bookable\", \n",
    "     \"cancellation_policy\", \"room_type\", \"construction_year\", \n",
    "     \"price\", \"service_fee\", \"minimum_nights\", \"number_of_reviews\", \n",
    "     \"last_review\", \"reviews_per_month\", \"review_rate_number\", \n",
    "     \"calculated_host_listings_count\", \n",
    "     \"availability_365\", \"house_rules\", \"host_name\", \n",
    "     \"host_identity_verified\", \"lat\", \"long\"], axis=1, inplace=True)"
   ]
  },
  {
   "cell_type": "markdown",
   "id": "4bd839ed",
   "metadata": {},
   "source": [
    "#### Se cambian las columnas neighbourhood_group y neighbourhood por un identificador númerico"
   ]
  },
  {
   "cell_type": "code",
   "execution_count": null,
   "id": "32e980ca",
   "metadata": {},
   "outputs": [],
   "source": [
    "def get_neighbourhood_id(row):\n",
    "    mask = (neighbourhood_table[\"neighbourhood_group\"] == row[\"neighbourhood_group\"]) & (neighbourhood_table[\"neighbourhood\"] == row[\"neighbourhood\"])\n",
    "    matched_row = neighbourhood_table[mask]\n",
    "    if not matched_row.empty:\n",
    "        return matched_row[\"neighbourhood_id\"].iloc[0]\n",
    "    else:\n",
    "        return None\n",
    "\n",
    "# Aplicar la función para obtener \"neighbourhood_id\"\n",
    "df_airbnb[\"neighbourhood_id\"] = df_airbnb.apply(get_neighbourhood_id, axis=1)"
   ]
  },
  {
   "cell_type": "markdown",
   "id": "b48499d2",
   "metadata": {},
   "source": [
    "#### Una vez asignados los IDs de forma númerica podemos prescindir de las columnas iniciales"
   ]
  },
  {
   "cell_type": "code",
   "execution_count": null,
   "id": "c11d6730",
   "metadata": {},
   "outputs": [],
   "source": [
    "df_airbnb.drop([\"neighbourhood_group\", \"neighbourhood\"], axis=1, inplace=True)\n",
    "df_airbnb"
   ]
  },
  {
   "cell_type": "markdown",
   "id": "c8bf7cbb",
   "metadata": {},
   "source": [
    "## Proceso de Carga"
   ]
  },
  {
   "cell_type": "code",
   "execution_count": null,
   "id": "dfc4f0b3",
   "metadata": {},
   "outputs": [],
   "source": [
    "#Creating engine\n",
    "engine1 = creating_engine()\n",
    "\n",
    "#Creating session\n",
    "session1 = creating_session(engine1)"
   ]
  }
 ],
 "metadata": {
  "kernelspec": {
   "display_name": "Python 3",
   "language": "python",
   "name": "python3"
  },
  "language_info": {
   "codemirror_mode": {
    "name": "ipython",
    "version": 3
   },
   "file_extension": ".py",
   "mimetype": "text/x-python",
   "name": "python",
   "nbconvert_exporter": "python",
   "pygments_lexer": "ipython3",
   "version": "3.11.4"
  }
 },
 "nbformat": 4,
 "nbformat_minor": 5
}
