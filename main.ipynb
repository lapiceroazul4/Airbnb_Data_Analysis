{
 "cells": [
  {
   "cell_type": "code",
   "execution_count": null,
   "id": "initial_id",
   "metadata": {
    "ExecuteTime": {
     "end_time": "2023-08-18T01:24:09.021592400Z",
     "start_time": "2023-08-18T01:24:03.883470500Z"
    },
    "collapsed": true
   },
   "outputs": [],
   "source": [
    "#importando librerias\n",
    "import pandas as pd\n",
    "import numpy as np\n",
    "import seaborn as sns\n",
    "from Database import Airbnbs, Hosts, Airbnb_Details, Neighbourhoods, creating_engine, creating_session, closing_session"
   ]
  },
  {
   "cell_type": "markdown",
   "id": "897969b6",
   "metadata": {},
   "source": [
    "## Proceso de Exploración"
   ]
  },
  {
   "cell_type": "markdown",
   "id": "31ae3036de14af47",
   "metadata": {
    "collapsed": false
   },
   "source": [
    "### Leemos el archivo como un dataframe usando pandas"
   ]
  },
  {
   "cell_type": "code",
   "execution_count": null,
   "id": "ca1c3c2ea572b0c2",
   "metadata": {
    "ExecuteTime": {
     "end_time": "2023-08-18T01:37:02.641482300Z",
     "start_time": "2023-08-18T01:37:01.861111300Z"
    },
    "collapsed": false
   },
   "outputs": [],
   "source": [
    "df_airbnb=pd.read_csv(\"Airbnb_Open_Data.csv\",  na_values=[''])\n",
    "df_airbnb.head(2)"
   ]
  },
  {
   "cell_type": "markdown",
   "id": "a1024eb23322122e",
   "metadata": {
    "collapsed": false
   },
   "source": [
    "### ¿Qué tipo de dato son las variables del conjunto de datos?"
   ]
  },
  {
   "cell_type": "code",
   "execution_count": null,
   "id": "a62739d29da757e8",
   "metadata": {
    "ExecuteTime": {
     "end_time": "2023-08-18T01:17:26.632429700Z",
     "start_time": "2023-08-18T01:17:26.584091700Z"
    },
    "collapsed": false
   },
   "outputs": [],
   "source": [
    "df_airbnb.dtypes"
   ]
  },
  {
   "cell_type": "markdown",
   "id": "b6a7834d2eae2aeb",
   "metadata": {
    "collapsed": false
   },
   "source": [
    "### ¿Cuántas variables de cada tipo de dato tenemos en el conjunto de datos?"
   ]
  },
  {
   "cell_type": "code",
   "execution_count": null,
   "id": "e1cb852aef5ffedf",
   "metadata": {
    "ExecuteTime": {
     "end_time": "2023-08-18T01:18:42.040874Z",
     "start_time": "2023-08-18T01:18:42.025873Z"
    },
    "collapsed": false
   },
   "outputs": [],
   "source": [
    "(\n",
    "    df_airbnb\n",
    "    .dtypes\n",
    "    .value_counts()\n",
    ")"
   ]
  },
  {
   "cell_type": "markdown",
   "id": "4812473468082a87",
   "metadata": {
    "collapsed": false
   },
   "source": [
    "###  ¿Cuales son las dimensiones del Dataset?"
   ]
  },
  {
   "cell_type": "code",
   "execution_count": null,
   "id": "645a18f27a04d2df",
   "metadata": {
    "ExecuteTime": {
     "end_time": "2023-08-18T01:19:25.955028Z",
     "start_time": "2023-08-18T01:19:25.902538800Z"
    },
    "collapsed": false
   },
   "outputs": [],
   "source": [
    "df_airbnb.shape"
   ]
  },
  {
   "cell_type": "markdown",
   "id": "afbd91a7995988e0",
   "metadata": {
    "collapsed": false
   },
   "source": [
    "### ¿Existen valores nulos explicitos en el conjunto de datos?"
   ]
  },
  {
   "cell_type": "code",
   "execution_count": null,
   "id": "12a2779a01e198b8",
   "metadata": {
    "ExecuteTime": {
     "end_time": "2023-08-18T01:19:57.334178100Z",
     "start_time": "2023-08-18T01:19:57.130099900Z"
    },
    "collapsed": false
   },
   "outputs": [],
   "source": [
    "df_airbnb.isnull().any()"
   ]
  },
  {
   "cell_type": "markdown",
   "id": "72f9209433e86d67",
   "metadata": {
    "collapsed": false
   },
   "source": [
    "### De tener observaciones con valores nulos, ¿cuántas tenemos por cada variable?"
   ]
  },
  {
   "cell_type": "code",
   "execution_count": null,
   "id": "fe7401140017609c",
   "metadata": {
    "ExecuteTime": {
     "end_time": "2023-08-18T01:20:49.534864600Z",
     "start_time": "2023-08-18T01:20:49.329762600Z"
    },
    "collapsed": false
   },
   "outputs": [],
   "source": [
    "(\n",
    "    df_airbnb\n",
    "    .isnull()\n",
    "    .sum()\n",
    "    .sort_values(ascending=False)\n",
    ")\n"
   ]
  },
  {
   "cell_type": "markdown",
   "id": "ab302256e8f80661",
   "metadata": {
    "collapsed": false
   },
   "source": [
    "### ¿Cuál es la proporción de valores nulos por cada variable? "
   ]
  },
  {
   "cell_type": "code",
   "execution_count": null,
   "id": "aefe9355",
   "metadata": {},
   "outputs": [],
   "source": [
    "(\n",
    "    df_airbnb\n",
    "    .isnull()\n",
    "    .melt(value_name='missing')\n",
    "    .pipe(\n",
    "        lambda df: (\n",
    "            sns.displot(\n",
    "                data=df,\n",
    "                y='variable',\n",
    "                hue='missing',\n",
    "                multiple='fill',\n",
    "                aspect=2\n",
    "            )\n",
    "        )\n",
    "    )\n",
    ")"
   ]
  },
  {
   "cell_type": "markdown",
   "id": "6124553d",
   "metadata": {},
   "source": [
    "We can certainly see that the column \"license\" has no sense to keep it, so we proceed to delete it, it's also known that all the information comes from the USA, so the columns \"country\" and \"country code\" don't provide any value. "
   ]
  },
  {
   "cell_type": "code",
   "execution_count": null,
   "id": "44b92cac",
   "metadata": {},
   "outputs": [],
   "source": [
    "df_airbnb.drop([\"license\", \"country\", \"country code\"], axis=1, inplace=True)\n",
    "print(df_airbnb.columns)"
   ]
  },
  {
   "cell_type": "markdown",
   "id": "cc82e0ba225d9e94",
   "metadata": {
    "collapsed": false
   },
   "source": [
    "### ¿Cuántos valores nulos tenemos en total en el conjunto de datos?"
   ]
  },
  {
   "cell_type": "code",
   "execution_count": null,
   "id": "b8b1681424f7b07",
   "metadata": {
    "ExecuteTime": {
     "end_time": "2023-08-18T01:21:38.338588200Z",
     "start_time": "2023-08-18T01:21:38.115116700Z"
    },
    "collapsed": false
   },
   "outputs": [],
   "source": [
    "(\n",
    "    df_airbnb\n",
    "    .isnull()\n",
    "    .sum()\n",
    "    .sum()\n",
    ")"
   ]
  },
  {
   "cell_type": "markdown",
   "id": "b5e06b25",
   "metadata": {},
   "source": [
    "## Proceso de Limpieza "
   ]
  },
  {
   "cell_type": "markdown",
   "id": "51b08110",
   "metadata": {},
   "source": [
    "### Creación de las dimensiones \"Hosts\" y \"Neighbourhoods\""
   ]
  },
  {
   "cell_type": "code",
   "execution_count": null,
   "id": "02d01933",
   "metadata": {},
   "outputs": [],
   "source": [
    "#Creamos el dataframe \"host_table\", esta será una de las dimensiones del Data Warehouse\n",
    "host_table = df_airbnb[[\"host id\", \"host name\", \"host_identity_verified\"]]\n",
    "host_table.head(2)"
   ]
  },
  {
   "cell_type": "code",
   "execution_count": null,
   "id": "98da47ec",
   "metadata": {},
   "outputs": [],
   "source": [
    "#Dado que el atributo de \"host_identity_verified\" cuenta con valores nulos, vamos a llenar dichos valores con unverified\n",
    "host_table[\"host_identity_verified\"].fillna(\"unverified\", inplace=True)\n",
    "host_table"
   ]
  },
  {
   "cell_type": "code",
   "execution_count": null,
   "id": "6894f72f",
   "metadata": {},
   "outputs": [],
   "source": [
    "#Creamos el dataframe \"neighbourhood_table\", esta será otra dimension del Data Warehouse\n",
    "\n",
    "neighbourhood_table = df_airbnb[[\"neighbourhood group\", \"neighbourhood\", \"lat\", \"long\"]]\n",
    "neighbourhood_table.rename(columns={'neighbourhood group': 'neighbourhood_group'}, inplace=True)\n",
    "neighbourhood_table.head(2)"
   ]
  },
  {
   "cell_type": "markdown",
   "id": "51da5812",
   "metadata": {},
   "source": [
    "### Proceso de limpieza a la dimensión de Neighbourhoods"
   ]
  },
  {
   "cell_type": "markdown",
   "id": "bb4e0c20",
   "metadata": {},
   "source": [
    "#### Agrupamos con el fin de no tener datos redundantes, calculando además promedio de latitud y longitud"
   ]
  },
  {
   "cell_type": "code",
   "execution_count": 231,
   "metadata": {},
   "outputs": [
    {
     "data": {
      "text/html": [
       "<div>\n",
       "<style scoped>\n",
       "    .dataframe tbody tr th:only-of-type {\n",
       "        vertical-align: middle;\n",
       "    }\n",
       "\n",
       "    .dataframe tbody tr th {\n",
       "        vertical-align: top;\n",
       "    }\n",
       "\n",
       "    .dataframe thead th {\n",
       "        text-align: right;\n",
       "    }\n",
       "</style>\n",
       "<table border=\"1\" class=\"dataframe\">\n",
       "  <thead>\n",
       "    <tr style=\"text-align: right;\">\n",
       "      <th></th>\n",
       "      <th>neighbourhood_id</th>\n",
       "      <th>neighbourhood_group</th>\n",
       "      <th>neighbourhood</th>\n",
       "      <th>lat</th>\n",
       "      <th>long</th>\n",
       "    </tr>\n",
       "  </thead>\n",
       "  <tbody>\n",
       "    <tr>\n",
       "      <th>0</th>\n",
       "      <td>1</td>\n",
       "      <td>Bronx</td>\n",
       "      <td>Allerton</td>\n",
       "      <td>40.864730</td>\n",
       "      <td>-73.859631</td>\n",
       "    </tr>\n",
       "    <tr>\n",
       "      <th>1</th>\n",
       "      <td>2</td>\n",
       "      <td>Bronx</td>\n",
       "      <td>Baychester</td>\n",
       "      <td>40.873964</td>\n",
       "      <td>-73.843080</td>\n",
       "    </tr>\n",
       "  </tbody>\n",
       "</table>\n",
       "</div>"
      ],
      "text/plain": [
       "   neighbourhood_id neighbourhood_group neighbourhood        lat       long\n",
       "0                 1               Bronx      Allerton  40.864730 -73.859631\n",
       "1                 2               Bronx    Baychester  40.873964 -73.843080"
      ]
     },
     "execution_count": 231,
     "metadata": {},
     "output_type": "execute_result"
    }
   ],
   "source": [
    "neighbourhood_table = neighbourhood_table.groupby([\"neighbourhood_group\", \"neighbourhood\"]).agg({\n",
    "    \"lat\": \"mean\",\n",
    "    \"long\": \"mean\"\n",
    "}).reset_index()\n",
    "\n",
    "#Creamos ID y reorganizamos columnas\n",
    "neighbourhood_table[\"neighbourhood_id\"] = range(1, len(neighbourhood_table) + 1)\n",
    "column_order = [\"neighbourhood_id\", \"neighbourhood_group\", \"neighbourhood\", \"lat\", \"long\"]\n",
    "neighbourhood_table = neighbourhood_table[column_order]\n",
    "\n",
    "neighbourhood_table.head(2)"
   ]
  },
  {
   "cell_type": "markdown",
   "id": "1c06df5e",
   "metadata": {},
   "source": [
    "### Proceso de limpieza a la dimensión de Airbnb Details"
   ]
  },
  {
   "cell_type": "markdown",
   "id": "974c98ef",
   "metadata": {},
   "source": [
    "#### Creamos el dataframe \"airbnb_detail\", esta será otra dimension del Data Warehouse"
   ]
  },
  {
   "cell_type": "code",
   "execution_count": null,
   "id": "ecd0bcae",
   "metadata": {},
   "outputs": [],
   "source": [
    "airbnb_detail = df_airbnb[\n",
    "    [\"id\", \"NAME\", \"instant_bookable\", \n",
    "     \"cancellation_policy\", \"room type\", \"Construction year\", \n",
    "     \"price\", \"service fee\", \"minimum nights\", \"number of reviews\", \n",
    "     \"last review\", \"reviews per month\", \"review rate number\", \"calculated host listings count\", \n",
    "     \"availability 365\", \"house_rules\"]]\n",
    "\n",
    "#Estandarizamos los nombres\n",
    "new_column_names = [x.lower().replace(\" \", \"_\") for x in airbnb_detail.columns]\n",
    "airbnb_detail.columns = new_column_names\n",
    "\n",
    "airbnb_detail.head(2)"
   ]
  },
  {
   "cell_type": "markdown",
   "id": "3d474c91",
   "metadata": {},
   "source": [
    "#### Es necesario eliminar los símbolos de dólar de las columnas \"price\" y \"service_fee\""
   ]
  },
  {
   "cell_type": "code",
   "execution_count": null,
   "id": "038167f9",
   "metadata": {},
   "outputs": [],
   "source": [
    "airbnb_detail[\"price\"] = airbnb_detail[\"price\"].str.replace('$', '').str.replace(',', '').str.strip()\n",
    "airbnb_detail[\"service_fee\"] = airbnb_detail[\"service_fee\"].str.replace('$', '').str.replace(',', '').str.strip()\n",
    "\n",
    "# Convertir las columnas \"price\" y \"service_fee\" a valores flotantes\n",
    "airbnb_detail[\"price\"] = airbnb_detail[\"price\"].astype(float)\n",
    "airbnb_detail[\"service_fee\"] = airbnb_detail[\"service_fee\"].astype(float)\n",
    "\n",
    "#Verificamos que no haya ningún registro en el que el service fee sea mayor al precio\n",
    "counter = airbnb_detail[\"price\"] < airbnb_detail[\"service_fee\"]\n",
    "count_greater_service_fee = counter.sum()\n",
    "count_greater_service_fee"
   ]
  },
  {
   "cell_type": "markdown",
   "id": "7e57351d",
   "metadata": {},
   "source": [
    "#### Limpia los valores no finitos en la columna \"Construction year\""
   ]
  },
  {
   "cell_type": "code",
   "execution_count": null,
   "id": "1d216cc0",
   "metadata": {},
   "outputs": [],
   "source": [
    "airbnb_detail[\"construction_year\"] = airbnb_detail[\"construction_year\"].replace([np.inf, -np.inf], np.nan)\n",
    "airbnb_detail[\"construction_year\"] = airbnb_detail[\"construction_year\"].fillna(0)  # Rellenar valores nulos con 0 o el valor "
   ]
  },
  {
   "cell_type": "markdown",
   "id": "768fde4b",
   "metadata": {},
   "source": [
    "#### Cambiamos la columna \"Construction year\" de tipo float64 a int32, ya que los años son enteros."
   ]
  },
  {
   "cell_type": "code",
   "execution_count": null,
   "id": "0dd9aca2",
   "metadata": {},
   "outputs": [],
   "source": [
    "\n",
    "airbnb_detail[\"construction_year\"] = airbnb_detail[\"construction_year\"].astype(int)"
   ]
  },
  {
   "cell_type": "code",
   "execution_count": null,
   "id": "c7257afd",
   "metadata": {},
   "outputs": [],
   "source": [
    "filtered_df = airbnb_detail[airbnb_detail[\"number_of_reviews\"] == 0]\n",
    "# Muestra los registros filtrados\n",
    "print(filtered_df)\n",
    "\n",
    "# Cuenta los valores nulos en la columna \"last_review\"\n",
    "null_last_review = filtered_df[\"last_review\"].isnull().sum()\n",
    "# Cuenta los valores nulos en la columna \"reviews_per_month\"\n",
    "null_reviews_per_month = filtered_df[\"reviews_per_month\"].isnull().sum()\n",
    "\n",
    "# Muestra los resultados\n",
    "print(\"Registros nulos en last review:\", null_last_review)\n",
    "print(\"Registros nulos en reviews per month:\", null_reviews_per_month)"
   ]
  },
  {
   "cell_type": "markdown",
   "id": "5cce1ce5",
   "metadata": {},
   "source": [
    "#### Reemplaza los valores nulos por 0 en las columnas \"last review\" y \"reviews per month\". Cuando la columna number of reviews es 0."
   ]
  },
  {
   "cell_type": "code",
   "execution_count": null,
   "id": "d98503a5",
   "metadata": {},
   "outputs": [],
   "source": [
    "airbnb_detail.loc[airbnb_detail[\"number_of_reviews\"] == 0, \"last_review\"] = 0\n",
    "airbnb_detail.loc[airbnb_detail[\"number_of_reviews\"] == 0, \"reviews_per_month\"] = 0"
   ]
  },
  {
   "cell_type": "markdown",
   "id": "d445b96e",
   "metadata": {},
   "source": [
    "#### Remplazar los nulos de la columna house_rules "
   ]
  },
  {
   "cell_type": "code",
   "execution_count": null,
   "id": "d0670bbc",
   "metadata": {},
   "outputs": [],
   "source": [
    "airbnb_detail[\"house_rules\"] = airbnb_detail[\"house_rules\"].fillna(\"No se Especificaron Las Reglas\")"
   ]
  },
  {
   "cell_type": "code",
   "execution_count": 230,
   "id": "991d519b",
   "metadata": {},
   "outputs": [
    {
     "data": {
      "text/html": [
       "<div>\n",
       "<style scoped>\n",
       "    .dataframe tbody tr th:only-of-type {\n",
       "        vertical-align: middle;\n",
       "    }\n",
       "\n",
       "    .dataframe tbody tr th {\n",
       "        vertical-align: top;\n",
       "    }\n",
       "\n",
       "    .dataframe thead th {\n",
       "        text-align: right;\n",
       "    }\n",
       "</style>\n",
       "<table border=\"1\" class=\"dataframe\">\n",
       "  <thead>\n",
       "    <tr style=\"text-align: right;\">\n",
       "      <th></th>\n",
       "      <th>id</th>\n",
       "      <th>name</th>\n",
       "      <th>instant_bookable</th>\n",
       "      <th>cancellation_policy</th>\n",
       "      <th>room_type</th>\n",
       "      <th>construction_year</th>\n",
       "      <th>price</th>\n",
       "      <th>service_fee</th>\n",
       "      <th>minimum_nights</th>\n",
       "      <th>number_of_reviews</th>\n",
       "      <th>last_review</th>\n",
       "      <th>reviews_per_month</th>\n",
       "      <th>review_rate_number</th>\n",
       "      <th>calculated_host_listings_count</th>\n",
       "      <th>availability_365</th>\n",
       "      <th>house_rules</th>\n",
       "    </tr>\n",
       "  </thead>\n",
       "  <tbody>\n",
       "    <tr>\n",
       "      <th>0</th>\n",
       "      <td>1001254</td>\n",
       "      <td>Clean &amp; quiet apt home by the park</td>\n",
       "      <td>False</td>\n",
       "      <td>strict</td>\n",
       "      <td>Private room</td>\n",
       "      <td>2020</td>\n",
       "      <td>966.0</td>\n",
       "      <td>193.0</td>\n",
       "      <td>10.0</td>\n",
       "      <td>9.0</td>\n",
       "      <td>10/19/2021</td>\n",
       "      <td>0.21</td>\n",
       "      <td>4.0</td>\n",
       "      <td>6.0</td>\n",
       "      <td>286.0</td>\n",
       "      <td>Clean up and treat the home the way you'd like...</td>\n",
       "    </tr>\n",
       "    <tr>\n",
       "      <th>1</th>\n",
       "      <td>1002102</td>\n",
       "      <td>Skylit Midtown Castle</td>\n",
       "      <td>False</td>\n",
       "      <td>moderate</td>\n",
       "      <td>Entire home/apt</td>\n",
       "      <td>2007</td>\n",
       "      <td>142.0</td>\n",
       "      <td>28.0</td>\n",
       "      <td>30.0</td>\n",
       "      <td>45.0</td>\n",
       "      <td>5/21/2022</td>\n",
       "      <td>0.38</td>\n",
       "      <td>4.0</td>\n",
       "      <td>2.0</td>\n",
       "      <td>228.0</td>\n",
       "      <td>Pet friendly but please confirm with me if the...</td>\n",
       "    </tr>\n",
       "    <tr>\n",
       "      <th>2</th>\n",
       "      <td>1002403</td>\n",
       "      <td>THE VILLAGE OF HARLEM....NEW YORK !</td>\n",
       "      <td>True</td>\n",
       "      <td>flexible</td>\n",
       "      <td>Private room</td>\n",
       "      <td>2005</td>\n",
       "      <td>620.0</td>\n",
       "      <td>124.0</td>\n",
       "      <td>3.0</td>\n",
       "      <td>0.0</td>\n",
       "      <td>0</td>\n",
       "      <td>0.00</td>\n",
       "      <td>5.0</td>\n",
       "      <td>1.0</td>\n",
       "      <td>352.0</td>\n",
       "      <td>I encourage you to use my kitchen, cooking and...</td>\n",
       "    </tr>\n",
       "    <tr>\n",
       "      <th>3</th>\n",
       "      <td>1002755</td>\n",
       "      <td>NaN</td>\n",
       "      <td>True</td>\n",
       "      <td>moderate</td>\n",
       "      <td>Entire home/apt</td>\n",
       "      <td>2005</td>\n",
       "      <td>368.0</td>\n",
       "      <td>74.0</td>\n",
       "      <td>30.0</td>\n",
       "      <td>270.0</td>\n",
       "      <td>7/5/2019</td>\n",
       "      <td>4.64</td>\n",
       "      <td>4.0</td>\n",
       "      <td>1.0</td>\n",
       "      <td>322.0</td>\n",
       "      <td>No se Especificaron Las Reglas</td>\n",
       "    </tr>\n",
       "    <tr>\n",
       "      <th>4</th>\n",
       "      <td>1003689</td>\n",
       "      <td>Entire Apt: Spacious Studio/Loft by central park</td>\n",
       "      <td>False</td>\n",
       "      <td>moderate</td>\n",
       "      <td>Entire home/apt</td>\n",
       "      <td>2009</td>\n",
       "      <td>204.0</td>\n",
       "      <td>41.0</td>\n",
       "      <td>10.0</td>\n",
       "      <td>9.0</td>\n",
       "      <td>11/19/2018</td>\n",
       "      <td>0.10</td>\n",
       "      <td>3.0</td>\n",
       "      <td>1.0</td>\n",
       "      <td>289.0</td>\n",
       "      <td>Please no smoking in the house, porch or on th...</td>\n",
       "    </tr>\n",
       "    <tr>\n",
       "      <th>...</th>\n",
       "      <td>...</td>\n",
       "      <td>...</td>\n",
       "      <td>...</td>\n",
       "      <td>...</td>\n",
       "      <td>...</td>\n",
       "      <td>...</td>\n",
       "      <td>...</td>\n",
       "      <td>...</td>\n",
       "      <td>...</td>\n",
       "      <td>...</td>\n",
       "      <td>...</td>\n",
       "      <td>...</td>\n",
       "      <td>...</td>\n",
       "      <td>...</td>\n",
       "      <td>...</td>\n",
       "      <td>...</td>\n",
       "    </tr>\n",
       "    <tr>\n",
       "      <th>102594</th>\n",
       "      <td>6092437</td>\n",
       "      <td>Spare room in Williamsburg</td>\n",
       "      <td>False</td>\n",
       "      <td>flexible</td>\n",
       "      <td>Private room</td>\n",
       "      <td>2003</td>\n",
       "      <td>844.0</td>\n",
       "      <td>169.0</td>\n",
       "      <td>1.0</td>\n",
       "      <td>0.0</td>\n",
       "      <td>0</td>\n",
       "      <td>0.00</td>\n",
       "      <td>3.0</td>\n",
       "      <td>1.0</td>\n",
       "      <td>227.0</td>\n",
       "      <td>No Smoking No Parties or Events of any kind Pl...</td>\n",
       "    </tr>\n",
       "    <tr>\n",
       "      <th>102595</th>\n",
       "      <td>6092990</td>\n",
       "      <td>Best Location near Columbia U</td>\n",
       "      <td>True</td>\n",
       "      <td>moderate</td>\n",
       "      <td>Private room</td>\n",
       "      <td>2016</td>\n",
       "      <td>837.0</td>\n",
       "      <td>167.0</td>\n",
       "      <td>1.0</td>\n",
       "      <td>1.0</td>\n",
       "      <td>7/6/2015</td>\n",
       "      <td>0.02</td>\n",
       "      <td>2.0</td>\n",
       "      <td>2.0</td>\n",
       "      <td>395.0</td>\n",
       "      <td>House rules: Guests agree to the following ter...</td>\n",
       "    </tr>\n",
       "    <tr>\n",
       "      <th>102596</th>\n",
       "      <td>6093542</td>\n",
       "      <td>Comfy, bright room in Brooklyn</td>\n",
       "      <td>True</td>\n",
       "      <td>moderate</td>\n",
       "      <td>Private room</td>\n",
       "      <td>2009</td>\n",
       "      <td>988.0</td>\n",
       "      <td>198.0</td>\n",
       "      <td>3.0</td>\n",
       "      <td>0.0</td>\n",
       "      <td>0</td>\n",
       "      <td>0.00</td>\n",
       "      <td>5.0</td>\n",
       "      <td>1.0</td>\n",
       "      <td>342.0</td>\n",
       "      <td>No se Especificaron Las Reglas</td>\n",
       "    </tr>\n",
       "    <tr>\n",
       "      <th>102597</th>\n",
       "      <td>6094094</td>\n",
       "      <td>Big Studio-One Stop from Midtown</td>\n",
       "      <td>True</td>\n",
       "      <td>strict</td>\n",
       "      <td>Entire home/apt</td>\n",
       "      <td>2015</td>\n",
       "      <td>546.0</td>\n",
       "      <td>109.0</td>\n",
       "      <td>2.0</td>\n",
       "      <td>5.0</td>\n",
       "      <td>10/11/2015</td>\n",
       "      <td>0.10</td>\n",
       "      <td>3.0</td>\n",
       "      <td>1.0</td>\n",
       "      <td>386.0</td>\n",
       "      <td>No se Especificaron Las Reglas</td>\n",
       "    </tr>\n",
       "    <tr>\n",
       "      <th>102598</th>\n",
       "      <td>6094647</td>\n",
       "      <td>585 sf Luxury Studio</td>\n",
       "      <td>False</td>\n",
       "      <td>flexible</td>\n",
       "      <td>Entire home/apt</td>\n",
       "      <td>2010</td>\n",
       "      <td>1032.0</td>\n",
       "      <td>206.0</td>\n",
       "      <td>1.0</td>\n",
       "      <td>0.0</td>\n",
       "      <td>0</td>\n",
       "      <td>0.00</td>\n",
       "      <td>3.0</td>\n",
       "      <td>1.0</td>\n",
       "      <td>69.0</td>\n",
       "      <td>No se Especificaron Las Reglas</td>\n",
       "    </tr>\n",
       "  </tbody>\n",
       "</table>\n",
       "<p>102599 rows × 16 columns</p>\n",
       "</div>"
      ],
      "text/plain": [
       "             id                                              name  \\\n",
       "0       1001254                Clean & quiet apt home by the park   \n",
       "1       1002102                             Skylit Midtown Castle   \n",
       "2       1002403               THE VILLAGE OF HARLEM....NEW YORK !   \n",
       "3       1002755                                               NaN   \n",
       "4       1003689  Entire Apt: Spacious Studio/Loft by central park   \n",
       "...         ...                                               ...   \n",
       "102594  6092437                        Spare room in Williamsburg   \n",
       "102595  6092990                     Best Location near Columbia U   \n",
       "102596  6093542                    Comfy, bright room in Brooklyn   \n",
       "102597  6094094                  Big Studio-One Stop from Midtown   \n",
       "102598  6094647                              585 sf Luxury Studio   \n",
       "\n",
       "       instant_bookable cancellation_policy        room_type  \\\n",
       "0                 False              strict     Private room   \n",
       "1                 False            moderate  Entire home/apt   \n",
       "2                  True            flexible     Private room   \n",
       "3                  True            moderate  Entire home/apt   \n",
       "4                 False            moderate  Entire home/apt   \n",
       "...                 ...                 ...              ...   \n",
       "102594            False            flexible     Private room   \n",
       "102595             True            moderate     Private room   \n",
       "102596             True            moderate     Private room   \n",
       "102597             True              strict  Entire home/apt   \n",
       "102598            False            flexible  Entire home/apt   \n",
       "\n",
       "        construction_year   price  service_fee  minimum_nights  \\\n",
       "0                    2020   966.0        193.0            10.0   \n",
       "1                    2007   142.0         28.0            30.0   \n",
       "2                    2005   620.0        124.0             3.0   \n",
       "3                    2005   368.0         74.0            30.0   \n",
       "4                    2009   204.0         41.0            10.0   \n",
       "...                   ...     ...          ...             ...   \n",
       "102594               2003   844.0        169.0             1.0   \n",
       "102595               2016   837.0        167.0             1.0   \n",
       "102596               2009   988.0        198.0             3.0   \n",
       "102597               2015   546.0        109.0             2.0   \n",
       "102598               2010  1032.0        206.0             1.0   \n",
       "\n",
       "        number_of_reviews last_review  reviews_per_month  review_rate_number  \\\n",
       "0                     9.0  10/19/2021               0.21                 4.0   \n",
       "1                    45.0   5/21/2022               0.38                 4.0   \n",
       "2                     0.0           0               0.00                 5.0   \n",
       "3                   270.0    7/5/2019               4.64                 4.0   \n",
       "4                     9.0  11/19/2018               0.10                 3.0   \n",
       "...                   ...         ...                ...                 ...   \n",
       "102594                0.0           0               0.00                 3.0   \n",
       "102595                1.0    7/6/2015               0.02                 2.0   \n",
       "102596                0.0           0               0.00                 5.0   \n",
       "102597                5.0  10/11/2015               0.10                 3.0   \n",
       "102598                0.0           0               0.00                 3.0   \n",
       "\n",
       "        calculated_host_listings_count  availability_365  \\\n",
       "0                                  6.0             286.0   \n",
       "1                                  2.0             228.0   \n",
       "2                                  1.0             352.0   \n",
       "3                                  1.0             322.0   \n",
       "4                                  1.0             289.0   \n",
       "...                                ...               ...   \n",
       "102594                             1.0             227.0   \n",
       "102595                             2.0             395.0   \n",
       "102596                             1.0             342.0   \n",
       "102597                             1.0             386.0   \n",
       "102598                             1.0              69.0   \n",
       "\n",
       "                                              house_rules  \n",
       "0       Clean up and treat the home the way you'd like...  \n",
       "1       Pet friendly but please confirm with me if the...  \n",
       "2       I encourage you to use my kitchen, cooking and...  \n",
       "3                          No se Especificaron Las Reglas  \n",
       "4       Please no smoking in the house, porch or on th...  \n",
       "...                                                   ...  \n",
       "102594  No Smoking No Parties or Events of any kind Pl...  \n",
       "102595  House rules: Guests agree to the following ter...  \n",
       "102596                     No se Especificaron Las Reglas  \n",
       "102597                     No se Especificaron Las Reglas  \n",
       "102598                     No se Especificaron Las Reglas  \n",
       "\n",
       "[102599 rows x 16 columns]"
      ]
     },
     "execution_count": 230,
     "metadata": {},
     "output_type": "execute_result"
    }
   ],
   "source": [
    "airbnb_detail"
   ]
  },
  {
   "cell_type": "markdown",
   "id": "06e1498b",
   "metadata": {},
   "source": [
    "### Proceso de limpieza a la dimesión de Hots"
   ]
  },
  {
   "cell_type": "code",
   "execution_count": 229,
   "id": "675ed27a",
   "metadata": {},
   "outputs": [
    {
     "data": {
      "text/html": [
       "<div>\n",
       "<style scoped>\n",
       "    .dataframe tbody tr th:only-of-type {\n",
       "        vertical-align: middle;\n",
       "    }\n",
       "\n",
       "    .dataframe tbody tr th {\n",
       "        vertical-align: top;\n",
       "    }\n",
       "\n",
       "    .dataframe thead th {\n",
       "        text-align: right;\n",
       "    }\n",
       "</style>\n",
       "<table border=\"1\" class=\"dataframe\">\n",
       "  <thead>\n",
       "    <tr style=\"text-align: right;\">\n",
       "      <th></th>\n",
       "      <th>host_id</th>\n",
       "      <th>host_name</th>\n",
       "      <th>host_identity_verified</th>\n",
       "    </tr>\n",
       "  </thead>\n",
       "  <tbody>\n",
       "    <tr>\n",
       "      <th>0</th>\n",
       "      <td>80014485718</td>\n",
       "      <td>Madaline</td>\n",
       "      <td>unconfirmed</td>\n",
       "    </tr>\n",
       "    <tr>\n",
       "      <th>1</th>\n",
       "      <td>52335172823</td>\n",
       "      <td>Jenna</td>\n",
       "      <td>verified</td>\n",
       "    </tr>\n",
       "  </tbody>\n",
       "</table>\n",
       "</div>"
      ],
      "text/plain": [
       "       host_id host_name host_identity_verified\n",
       "0  80014485718  Madaline            unconfirmed\n",
       "1  52335172823     Jenna               verified"
      ]
     },
     "execution_count": 229,
     "metadata": {},
     "output_type": "execute_result"
    }
   ],
   "source": [
    "#Estandarizamos los nombres\n",
    "new_column_names = [x.lower().replace(\" \", \"_\") for x in host_table.columns]\n",
    "host_table.columns = new_column_names\n",
    "host_table.head(2)"
   ]
  },
  {
   "cell_type": "markdown",
   "id": "d66cfe2b",
   "metadata": {},
   "source": [
    "### Proceso de limpieza a nuestra tabla de hecho "
   ]
  },
  {
   "cell_type": "code",
   "execution_count": null,
   "id": "b3156de1",
   "metadata": {},
   "outputs": [],
   "source": [
    "#Delete the following columns since we already set up diferent tables to save all the information related with neighbourhoods and hosts\n",
    "df_airbnb.drop([\"lat\", \"long\"], axis=1, inplace=True)\n",
    "df_airbnb.drop([\"host name\", \"host_identity_verified\"], axis=1, inplace=True)\n",
    "df_airbnb.drop([\"NAME\", \"instant_bookable\", \n",
    "     \"cancellation_policy\", \"room type\", \"Construction year\", \n",
    "     \"price\", \"service fee\", \"minimum nights\", \"number of reviews\", \n",
    "     \"last review\", \"reviews per month\", \"review rate number\", \"calculated host listings count\", \n",
    "     \"availability 365\", \"house_rules\"], axis=1, inplace=True)"
   ]
  },
  {
   "cell_type": "code",
   "execution_count": null,
   "id": "89af3ef7",
   "metadata": {},
   "outputs": [],
   "source": [
    "renaming_columns = {\n",
    "    \"id\" : \"airbnb_id\",\n",
    "    \"neighbourhood group\" : \"neighbourhood_group\"\n",
    "}\n",
    "df_airbnb.rename(columns=renaming_columns, inplace=True)\n",
    "df_airbnb.head(2)"
   ]
  },
  {
   "cell_type": "markdown",
   "id": "4bd839ed",
   "metadata": {},
   "source": [
    "#### Se cambian las columnas neighbourhood_group y neighbourhood por un identificador númerico"
   ]
  },
  {
   "cell_type": "code",
   "execution_count": null,
   "metadata": {},
   "outputs": [],
   "source": [
    "def get_neighbourhood_id(row):\n",
    "    mask = (neighbourhood_table[\"neighbourhood_group\"] == row[\"neighbourhood_group\"]) & (neighbourhood_table[\"neighbourhood\"] == row[\"neighbourhood\"])\n",
    "    matched_row = neighbourhood_table[mask]\n",
    "    if not matched_row.empty:\n",
    "        return matched_row[\"neighbourhood_id\"].iloc[0]\n",
    "    else:\n",
    "        return None\n",
    "\n",
    "# Aplicar la función para obtener \"neighbourhood_id\"\n",
    "df_airbnb[\"neighbourhood_id\"] = df_airbnb.apply(get_neighbourhood_id, axis=1)"
   ]
  },
  {
   "cell_type": "markdown",
   "id": "b48499d2",
   "metadata": {},
   "source": [
    "#### Una vez asignados los IDs de forma númerica podemos prescindir de las columnas iniciales"
   ]
  },
  {
   "cell_type": "code",
   "execution_count": null,
   "id": "c11d6730",
   "metadata": {},
   "outputs": [],
   "source": [
    "df_airbnb.drop([\"neighbourhood_group\", \"neighbourhood\"], axis=1, inplace=True)\n",
    "df_airbnb"
   ]
  },
  {
   "cell_type": "markdown",
   "id": "c8bf7cbb",
   "metadata": {},
   "source": [
    "## Proceso de Carga"
   ]
  },
  {
   "cell_type": "code",
   "execution_count": null,
   "id": "dfc4f0b3",
   "metadata": {},
   "outputs": [],
   "source": [
    "#Creating engine\n",
    "engine1 = creating_engine()\n",
    "\n",
    "#Creating session\n",
    "session1 = creating_session(engine1)\n",
    "\n"
   ]
  }
 ],
 "metadata": {
  "kernelspec": {
   "display_name": "Python 3",
   "language": "python",
   "name": "python3"
  },
  "language_info": {
   "codemirror_mode": {
    "name": "ipython",
    "version": 3
   },
   "file_extension": ".py",
   "mimetype": "text/x-python",
   "name": "python",
   "nbconvert_exporter": "python",
   "pygments_lexer": "ipython3",
   "version": "3.11.4"
  }
 },
 "nbformat": 4,
 "nbformat_minor": 5
}
