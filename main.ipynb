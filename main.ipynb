{
 "cells": [
  {
   "cell_type": "code",
   "execution_count": 222,
   "id": "initial_id",
   "metadata": {
    "ExecuteTime": {
     "end_time": "2023-08-18T01:24:09.021592400Z",
     "start_time": "2023-08-18T01:24:03.883470500Z"
    },
    "collapsed": true
   },
   "outputs": [
    {
     "ename": "ImportError",
     "evalue": "cannot import name 'Airbnbs' from 'Database' (c:\\Users\\SANTIAGO\\Documents\\universidad\\Airbnb_Data_Analysis\\Airbnb_Data_Analysis\\Database.py)",
     "output_type": "error",
     "traceback": [
      "\u001b[1;31m---------------------------------------------------------------------------\u001b[0m",
      "\u001b[1;31mImportError\u001b[0m                               Traceback (most recent call last)",
      "Cell \u001b[1;32mIn[222], line 5\u001b[0m\n\u001b[0;32m      3\u001b[0m \u001b[39mimport\u001b[39;00m \u001b[39mnumpy\u001b[39;00m \u001b[39mas\u001b[39;00m \u001b[39mnp\u001b[39;00m\n\u001b[0;32m      4\u001b[0m \u001b[39mimport\u001b[39;00m \u001b[39mseaborn\u001b[39;00m \u001b[39mas\u001b[39;00m \u001b[39msns\u001b[39;00m\n\u001b[1;32m----> 5\u001b[0m \u001b[39mfrom\u001b[39;00m \u001b[39mDatabase\u001b[39;00m \u001b[39mimport\u001b[39;00m Airbnbs, Hosts, Airbnb_Details, Neighbourhoods, creating_engine, creating_session, closing_session\n",
      "\u001b[1;31mImportError\u001b[0m: cannot import name 'Airbnbs' from 'Database' (c:\\Users\\SANTIAGO\\Documents\\universidad\\Airbnb_Data_Analysis\\Airbnb_Data_Analysis\\Database.py)"
     ]
    }
   ],
   "source": [
    "#importando librerias\n",
    "import pandas as pd\n",
    "import numpy as np\n",
    "import seaborn as sns\n",
    "from Database.py import Airbnbs, Hosts, Airbnb_Details, Neighbourhoods, creating_engine, creating_session, closing_session"
   ]
  },
  {
   "cell_type": "code",
   "execution_count": 194,
   "id": "dfc4f0b3",
   "metadata": {},
   "outputs": [
    {
     "data": {
      "text/plain": [
       "'#Creating engine\\nengine1 = creating_engine()\\n\\n#Creating session\\nsession1 = creating_session(engine1)'"
      ]
     },
     "execution_count": 194,
     "metadata": {},
     "output_type": "execute_result"
    }
   ],
   "source": [
    "\"\"\"#Creating engine\n",
    "engine1 = creating_engine()\n",
    "\n",
    "#Creating session\n",
    "session1 = creating_session(engine1)\"\"\""
   ]
  },
  {
   "cell_type": "markdown",
   "id": "31ae3036de14af47",
   "metadata": {
    "collapsed": false
   },
   "source": [
    "## Leemos el dataset"
   ]
  },
  {
   "cell_type": "code",
   "execution_count": 195,
   "id": "ca1c3c2ea572b0c2",
   "metadata": {
    "ExecuteTime": {
     "end_time": "2023-08-18T01:37:02.641482300Z",
     "start_time": "2023-08-18T01:37:01.861111300Z"
    },
    "collapsed": false
   },
   "outputs": [
    {
     "name": "stderr",
     "output_type": "stream",
     "text": [
      "C:\\Users\\SANTIAGO\\AppData\\Local\\Temp\\ipykernel_31936\\3544423338.py:1: DtypeWarning: Columns (25) have mixed types. Specify dtype option on import or set low_memory=False.\n",
      "  df_airbnb=pd.read_csv(\"Airbnb_Open_Data.csv\")\n"
     ]
    },
    {
     "data": {
      "text/html": [
       "<div>\n",
       "<style scoped>\n",
       "    .dataframe tbody tr th:only-of-type {\n",
       "        vertical-align: middle;\n",
       "    }\n",
       "\n",
       "    .dataframe tbody tr th {\n",
       "        vertical-align: top;\n",
       "    }\n",
       "\n",
       "    .dataframe thead th {\n",
       "        text-align: right;\n",
       "    }\n",
       "</style>\n",
       "<table border=\"1\" class=\"dataframe\">\n",
       "  <thead>\n",
       "    <tr style=\"text-align: right;\">\n",
       "      <th></th>\n",
       "      <th>id</th>\n",
       "      <th>NAME</th>\n",
       "      <th>host id</th>\n",
       "      <th>host_identity_verified</th>\n",
       "      <th>host name</th>\n",
       "      <th>neighbourhood group</th>\n",
       "      <th>neighbourhood</th>\n",
       "      <th>lat</th>\n",
       "      <th>long</th>\n",
       "      <th>country</th>\n",
       "      <th>...</th>\n",
       "      <th>service fee</th>\n",
       "      <th>minimum nights</th>\n",
       "      <th>number of reviews</th>\n",
       "      <th>last review</th>\n",
       "      <th>reviews per month</th>\n",
       "      <th>review rate number</th>\n",
       "      <th>calculated host listings count</th>\n",
       "      <th>availability 365</th>\n",
       "      <th>house_rules</th>\n",
       "      <th>license</th>\n",
       "    </tr>\n",
       "  </thead>\n",
       "  <tbody>\n",
       "    <tr>\n",
       "      <th>0</th>\n",
       "      <td>1001254</td>\n",
       "      <td>Clean &amp; quiet apt home by the park</td>\n",
       "      <td>80014485718</td>\n",
       "      <td>unconfirmed</td>\n",
       "      <td>Madaline</td>\n",
       "      <td>Brooklyn</td>\n",
       "      <td>Kensington</td>\n",
       "      <td>40.64749</td>\n",
       "      <td>-73.97237</td>\n",
       "      <td>United States</td>\n",
       "      <td>...</td>\n",
       "      <td>$193</td>\n",
       "      <td>10.0</td>\n",
       "      <td>9.0</td>\n",
       "      <td>10/19/2021</td>\n",
       "      <td>0.21</td>\n",
       "      <td>4.0</td>\n",
       "      <td>6.0</td>\n",
       "      <td>286.0</td>\n",
       "      <td>Clean up and treat the home the way you'd like...</td>\n",
       "      <td>NaN</td>\n",
       "    </tr>\n",
       "    <tr>\n",
       "      <th>1</th>\n",
       "      <td>1002102</td>\n",
       "      <td>Skylit Midtown Castle</td>\n",
       "      <td>52335172823</td>\n",
       "      <td>verified</td>\n",
       "      <td>Jenna</td>\n",
       "      <td>Manhattan</td>\n",
       "      <td>Midtown</td>\n",
       "      <td>40.75362</td>\n",
       "      <td>-73.98377</td>\n",
       "      <td>United States</td>\n",
       "      <td>...</td>\n",
       "      <td>$28</td>\n",
       "      <td>30.0</td>\n",
       "      <td>45.0</td>\n",
       "      <td>5/21/2022</td>\n",
       "      <td>0.38</td>\n",
       "      <td>4.0</td>\n",
       "      <td>2.0</td>\n",
       "      <td>228.0</td>\n",
       "      <td>Pet friendly but please confirm with me if the...</td>\n",
       "      <td>NaN</td>\n",
       "    </tr>\n",
       "  </tbody>\n",
       "</table>\n",
       "<p>2 rows × 26 columns</p>\n",
       "</div>"
      ],
      "text/plain": [
       "        id                                NAME      host id  \\\n",
       "0  1001254  Clean & quiet apt home by the park  80014485718   \n",
       "1  1002102               Skylit Midtown Castle  52335172823   \n",
       "\n",
       "  host_identity_verified host name neighbourhood group neighbourhood  \\\n",
       "0            unconfirmed  Madaline            Brooklyn    Kensington   \n",
       "1               verified     Jenna           Manhattan       Midtown   \n",
       "\n",
       "        lat      long        country  ... service fee minimum nights  \\\n",
       "0  40.64749 -73.97237  United States  ...       $193            10.0   \n",
       "1  40.75362 -73.98377  United States  ...        $28            30.0   \n",
       "\n",
       "  number of reviews last review  reviews per month review rate number  \\\n",
       "0               9.0  10/19/2021               0.21                4.0   \n",
       "1              45.0   5/21/2022               0.38                4.0   \n",
       "\n",
       "  calculated host listings count  availability 365  \\\n",
       "0                            6.0             286.0   \n",
       "1                            2.0             228.0   \n",
       "\n",
       "                                         house_rules license  \n",
       "0  Clean up and treat the home the way you'd like...     NaN  \n",
       "1  Pet friendly but please confirm with me if the...     NaN  \n",
       "\n",
       "[2 rows x 26 columns]"
      ]
     },
     "execution_count": 195,
     "metadata": {},
     "output_type": "execute_result"
    }
   ],
   "source": [
    "df_airbnb=pd.read_csv(\"Airbnb_Open_Data.csv\")\n",
    "df_airbnb.head(2)"
   ]
  },
  {
   "cell_type": "markdown",
   "id": "a1024eb23322122e",
   "metadata": {
    "collapsed": false
   },
   "source": [
    "## ¿Qué tipo de dato son las variables del conjunto de datos?"
   ]
  },
  {
   "cell_type": "code",
   "execution_count": 196,
   "id": "a62739d29da757e8",
   "metadata": {
    "ExecuteTime": {
     "end_time": "2023-08-18T01:17:26.632429700Z",
     "start_time": "2023-08-18T01:17:26.584091700Z"
    },
    "collapsed": false
   },
   "outputs": [
    {
     "data": {
      "text/plain": [
       "id                                  int64\n",
       "NAME                               object\n",
       "host id                             int64\n",
       "host_identity_verified             object\n",
       "host name                          object\n",
       "neighbourhood group                object\n",
       "neighbourhood                      object\n",
       "lat                               float64\n",
       "long                              float64\n",
       "country                            object\n",
       "country code                       object\n",
       "instant_bookable                   object\n",
       "cancellation_policy                object\n",
       "room type                          object\n",
       "Construction year                 float64\n",
       "price                              object\n",
       "service fee                        object\n",
       "minimum nights                    float64\n",
       "number of reviews                 float64\n",
       "last review                        object\n",
       "reviews per month                 float64\n",
       "review rate number                float64\n",
       "calculated host listings count    float64\n",
       "availability 365                  float64\n",
       "house_rules                        object\n",
       "license                            object\n",
       "dtype: object"
      ]
     },
     "execution_count": 196,
     "metadata": {},
     "output_type": "execute_result"
    }
   ],
   "source": [
    "df_airbnb.dtypes"
   ]
  },
  {
   "cell_type": "markdown",
   "id": "b6a7834d2eae2aeb",
   "metadata": {
    "collapsed": false
   },
   "source": [
    "## ¿Cuántas variables de cada tipo de dato tenemos en el conjunto de datos?"
   ]
  },
  {
   "cell_type": "code",
   "execution_count": 197,
   "id": "e1cb852aef5ffedf",
   "metadata": {
    "ExecuteTime": {
     "end_time": "2023-08-18T01:18:42.040874Z",
     "start_time": "2023-08-18T01:18:42.025873Z"
    },
    "collapsed": false
   },
   "outputs": [
    {
     "data": {
      "text/plain": [
       "object     15\n",
       "float64     9\n",
       "int64       2\n",
       "Name: count, dtype: int64"
      ]
     },
     "execution_count": 197,
     "metadata": {},
     "output_type": "execute_result"
    }
   ],
   "source": [
    "(\n",
    "    df_airbnb\n",
    "    .dtypes\n",
    "    .value_counts()\n",
    ")"
   ]
  },
  {
   "cell_type": "markdown",
   "id": "4812473468082a87",
   "metadata": {
    "collapsed": false
   },
   "source": [
    "##  ¿Cuántas variables y observaciones tenemos en el conjunto de datos?"
   ]
  },
  {
   "cell_type": "code",
   "execution_count": 198,
   "id": "645a18f27a04d2df",
   "metadata": {
    "ExecuteTime": {
     "end_time": "2023-08-18T01:19:25.955028Z",
     "start_time": "2023-08-18T01:19:25.902538800Z"
    },
    "collapsed": false
   },
   "outputs": [
    {
     "data": {
      "text/plain": [
       "(102599, 26)"
      ]
     },
     "execution_count": 198,
     "metadata": {},
     "output_type": "execute_result"
    }
   ],
   "source": [
    "df_airbnb.shape"
   ]
  },
  {
   "cell_type": "markdown",
   "id": "afbd91a7995988e0",
   "metadata": {
    "collapsed": false
   },
   "source": [
    "## ¿Existen valores nulos explicitos en el conjunto de datos?"
   ]
  },
  {
   "cell_type": "code",
   "execution_count": 199,
   "id": "12a2779a01e198b8",
   "metadata": {
    "ExecuteTime": {
     "end_time": "2023-08-18T01:19:57.334178100Z",
     "start_time": "2023-08-18T01:19:57.130099900Z"
    },
    "collapsed": false
   },
   "outputs": [
    {
     "data": {
      "text/plain": [
       "id                                False\n",
       "NAME                               True\n",
       "host id                           False\n",
       "host_identity_verified             True\n",
       "host name                          True\n",
       "neighbourhood group                True\n",
       "neighbourhood                      True\n",
       "lat                                True\n",
       "long                               True\n",
       "country                            True\n",
       "country code                       True\n",
       "instant_bookable                   True\n",
       "cancellation_policy                True\n",
       "room type                         False\n",
       "Construction year                  True\n",
       "price                              True\n",
       "service fee                        True\n",
       "minimum nights                     True\n",
       "number of reviews                  True\n",
       "last review                        True\n",
       "reviews per month                  True\n",
       "review rate number                 True\n",
       "calculated host listings count     True\n",
       "availability 365                   True\n",
       "house_rules                        True\n",
       "license                            True\n",
       "dtype: bool"
      ]
     },
     "execution_count": 199,
     "metadata": {},
     "output_type": "execute_result"
    }
   ],
   "source": [
    "(\n",
    "    df_airbnb\n",
    "    .isnull()\n",
    "    .any()\n",
    ")"
   ]
  },
  {
   "cell_type": "markdown",
   "id": "72f9209433e86d67",
   "metadata": {
    "collapsed": false
   },
   "source": [
    "## De tener observaciones con valores nulos, ¿cuántas tenemos por cada variable?"
   ]
  },
  {
   "cell_type": "code",
   "execution_count": 200,
   "id": "fe7401140017609c",
   "metadata": {
    "ExecuteTime": {
     "end_time": "2023-08-18T01:20:49.534864600Z",
     "start_time": "2023-08-18T01:20:49.329762600Z"
    },
    "collapsed": false
   },
   "outputs": [
    {
     "data": {
      "text/plain": [
       "license                           102597\n",
       "house_rules                        52131\n",
       "last review                        15893\n",
       "reviews per month                  15879\n",
       "country                              532\n",
       "availability 365                     448\n",
       "minimum nights                       409\n",
       "host name                            406\n",
       "review rate number                   326\n",
       "calculated host listings count       319\n",
       "host_identity_verified               289\n",
       "service fee                          273\n",
       "NAME                                 250\n",
       "price                                247\n",
       "Construction year                    214\n",
       "number of reviews                    183\n",
       "country code                         131\n",
       "instant_bookable                     105\n",
       "cancellation_policy                   76\n",
       "neighbourhood group                   29\n",
       "neighbourhood                         16\n",
       "long                                   8\n",
       "lat                                    8\n",
       "id                                     0\n",
       "host id                                0\n",
       "room type                              0\n",
       "dtype: int64"
      ]
     },
     "execution_count": 200,
     "metadata": {},
     "output_type": "execute_result"
    }
   ],
   "source": [
    "(\n",
    "    df_airbnb\n",
    "    .isnull()\n",
    "    .sum()\n",
    "    .sort_values(ascending=False)\n",
    ")\n"
   ]
  },
  {
   "cell_type": "markdown",
   "id": "ab302256e8f80661",
   "metadata": {
    "collapsed": false
   },
   "source": [
    "## ¿Cuál es la proporción de valores nulos por cada variable? "
   ]
  },
  {
   "cell_type": "code",
   "execution_count": 201,
   "id": "aefe9355",
   "metadata": {},
   "outputs": [
    {
     "name": "stderr",
     "output_type": "stream",
     "text": [
      "c:\\Users\\SANTIAGO\\Python\\Lib\\site-packages\\seaborn\\axisgrid.py:118: UserWarning: The figure layout has changed to tight\n",
      "  self._figure.tight_layout(*args, **kwargs)\n"
     ]
    },
    {
     "data": {
      "text/plain": [
       "<seaborn.axisgrid.FacetGrid at 0x25fe4ef2a90>"
      ]
     },
     "execution_count": 201,
     "metadata": {},
     "output_type": "execute_result"
    },
    {
     "data": {
      "image/png": "[encoded data removed]",
      "text/plain": [
       "<Figure size 1084.88x500 with 1 Axes>"
      ]
     },
     "metadata": {},
     "output_type": "display_data"
    }
   ],
   "source": [
    "(\n",
    "    df_airbnb\n",
    "    .isnull()\n",
    "    .melt(value_name='missing')\n",
    "    .pipe(\n",
    "        lambda df: (\n",
    "            sns.displot(\n",
    "                data=df,\n",
    "                y='variable',\n",
    "                hue='missing',\n",
    "                multiple='fill',\n",
    "                aspect=2\n",
    "            )\n",
    "        )\n",
    "    )\n",
    ")"
   ]
  },
  {
   "cell_type": "markdown",
   "id": "6124553d",
   "metadata": {},
   "source": [
    "We can certainly see that the column \"license\" has no sense to keep it, so we proceed to delete it, and it's also known that all the information comes from the USA, so the columns \"country\" and \"country code\" don't provide any value. "
   ]
  },
  {
   "cell_type": "code",
   "execution_count": 202,
   "id": "44b92cac",
   "metadata": {},
   "outputs": [
    {
     "name": "stdout",
     "output_type": "stream",
     "text": [
      "Index(['id', 'NAME', 'host id', 'host_identity_verified', 'host name',\n",
      "       'neighbourhood group', 'neighbourhood', 'lat', 'long',\n",
      "       'instant_bookable', 'cancellation_policy', 'room type',\n",
      "       'Construction year', 'price', 'service fee', 'minimum nights',\n",
      "       'number of reviews', 'last review', 'reviews per month',\n",
      "       'review rate number', 'calculated host listings count',\n",
      "       'availability 365', 'house_rules'],\n",
      "      dtype='object')\n"
     ]
    }
   ],
   "source": [
    "df_airbnb.drop([\"license\", \"country\", \"country code\"], axis=1, inplace=True)\n",
    "print(df_airbnb.columns)"
   ]
  },
  {
   "cell_type": "markdown",
   "id": "cc82e0ba225d9e94",
   "metadata": {
    "collapsed": false
   },
   "source": [
    "## ¿Cuántos valores nulos tenemos en total en el conjunto de datos?"
   ]
  },
  {
   "cell_type": "code",
   "execution_count": 203,
   "id": "b8b1681424f7b07",
   "metadata": {
    "ExecuteTime": {
     "end_time": "2023-08-18T01:21:38.338588200Z",
     "start_time": "2023-08-18T01:21:38.115116700Z"
    },
    "collapsed": false
   },
   "outputs": [
    {
     "data": {
      "text/plain": [
       "id                                    0\n",
       "NAME                                250\n",
       "host id                               0\n",
       "host_identity_verified              289\n",
       "host name                           406\n",
       "neighbourhood group                  29\n",
       "neighbourhood                        16\n",
       "lat                                   8\n",
       "long                                  8\n",
       "instant_bookable                    105\n",
       "cancellation_policy                  76\n",
       "room type                             0\n",
       "Construction year                   214\n",
       "price                               247\n",
       "service fee                         273\n",
       "minimum nights                      409\n",
       "number of reviews                   183\n",
       "last review                       15893\n",
       "reviews per month                 15879\n",
       "review rate number                  326\n",
       "calculated host listings count      319\n",
       "availability 365                    448\n",
       "house_rules                       52131\n",
       "dtype: int64"
      ]
     },
     "execution_count": 203,
     "metadata": {},
     "output_type": "execute_result"
    }
   ],
   "source": [
    "(\n",
    "    df_airbnb\n",
    "    .isnull()\n",
    "    .sum()\n",
    ")"
   ]
  },
  {
   "cell_type": "markdown",
   "id": "748f75072b51fd9",
   "metadata": {
    "collapsed": false
   },
   "source": [
    "## ¿Cuántas observaciones perdemos si eliminamos los datos faltantes?"
   ]
  },
  {
   "cell_type": "code",
   "execution_count": 205,
   "id": "478b23b4286cd6ef",
   "metadata": {
    "ExecuteTime": {
     "end_time": "2023-08-18T01:27:07.532358Z",
     "start_time": "2023-08-18T01:27:07.500369Z"
    },
    "collapsed": false
   },
   "outputs": [
    {
     "data": {
      "text/plain": [
       "id                                39763\n",
       "NAME                              39763\n",
       "host id                           39763\n",
       "host_identity_verified            39763\n",
       "host name                         39763\n",
       "neighbourhood group               39763\n",
       "neighbourhood                     39763\n",
       "lat                               39763\n",
       "long                              39763\n",
       "instant_bookable                  39763\n",
       "cancellation_policy               39763\n",
       "room type                         39763\n",
       "Construction year                 39763\n",
       "price                             39763\n",
       "service fee                       39763\n",
       "minimum nights                    39763\n",
       "number of reviews                 39763\n",
       "last review                       39763\n",
       "reviews per month                 39763\n",
       "review rate number                39763\n",
       "calculated host listings count    39763\n",
       "availability 365                  39763\n",
       "house_rules                       39763\n",
       "dtype: int64"
      ]
     },
     "execution_count": 205,
     "metadata": {},
     "output_type": "execute_result"
    }
   ],
   "source": [
    "df_airbnb2 = (\n",
    "    df_airbnb\n",
    "    .dropna()\n",
    ")\n",
    "\n",
    "df_airbnb2.count()"
   ]
  },
  {
   "cell_type": "markdown",
   "id": "38d32e060e2848e9",
   "metadata": {
    "collapsed": false
   },
   "source": [
    "# Conteos y proporciones\n",
    "## Analisis descriptivo"
   ]
  },
  {
   "cell_type": "markdown",
   "id": "aacaffeba218be67",
   "metadata": {
    "collapsed": false
   },
   "source": [
    "## Solo las numericas"
   ]
  },
  {
   "cell_type": "code",
   "execution_count": 206,
   "id": "7373128b69339ece",
   "metadata": {
    "ExecuteTime": {
     "end_time": "2023-08-18T01:30:01.408813500Z",
     "start_time": "2023-08-18T01:30:01.348022700Z"
    },
    "collapsed": false
   },
   "outputs": [
    {
     "data": {
      "text/html": [
       "<div>\n",
       "<style scoped>\n",
       "    .dataframe tbody tr th:only-of-type {\n",
       "        vertical-align: middle;\n",
       "    }\n",
       "\n",
       "    .dataframe tbody tr th {\n",
       "        vertical-align: top;\n",
       "    }\n",
       "\n",
       "    .dataframe thead th {\n",
       "        text-align: right;\n",
       "    }\n",
       "</style>\n",
       "<table border=\"1\" class=\"dataframe\">\n",
       "  <thead>\n",
       "    <tr style=\"text-align: right;\">\n",
       "      <th></th>\n",
       "      <th>id</th>\n",
       "      <th>host id</th>\n",
       "      <th>lat</th>\n",
       "      <th>long</th>\n",
       "      <th>Construction year</th>\n",
       "      <th>minimum nights</th>\n",
       "      <th>number of reviews</th>\n",
       "      <th>reviews per month</th>\n",
       "      <th>review rate number</th>\n",
       "      <th>calculated host listings count</th>\n",
       "      <th>availability 365</th>\n",
       "    </tr>\n",
       "  </thead>\n",
       "  <tbody>\n",
       "    <tr>\n",
       "      <th>count</th>\n",
       "      <td>1.025990e+05</td>\n",
       "      <td>1.025990e+05</td>\n",
       "      <td>102591.000000</td>\n",
       "      <td>102591.000000</td>\n",
       "      <td>102385.000000</td>\n",
       "      <td>102190.000000</td>\n",
       "      <td>102416.000000</td>\n",
       "      <td>86720.000000</td>\n",
       "      <td>102273.000000</td>\n",
       "      <td>102280.000000</td>\n",
       "      <td>102151.000000</td>\n",
       "    </tr>\n",
       "    <tr>\n",
       "      <th>mean</th>\n",
       "      <td>2.914623e+07</td>\n",
       "      <td>4.925411e+10</td>\n",
       "      <td>40.728094</td>\n",
       "      <td>-73.949644</td>\n",
       "      <td>2012.487464</td>\n",
       "      <td>8.135845</td>\n",
       "      <td>27.483743</td>\n",
       "      <td>1.374022</td>\n",
       "      <td>3.279106</td>\n",
       "      <td>7.936605</td>\n",
       "      <td>141.133254</td>\n",
       "    </tr>\n",
       "    <tr>\n",
       "      <th>std</th>\n",
       "      <td>1.625751e+07</td>\n",
       "      <td>2.853900e+10</td>\n",
       "      <td>0.055857</td>\n",
       "      <td>0.049521</td>\n",
       "      <td>5.765556</td>\n",
       "      <td>30.553781</td>\n",
       "      <td>49.508954</td>\n",
       "      <td>1.746621</td>\n",
       "      <td>1.284657</td>\n",
       "      <td>32.218780</td>\n",
       "      <td>135.435024</td>\n",
       "    </tr>\n",
       "    <tr>\n",
       "      <th>min</th>\n",
       "      <td>1.001254e+06</td>\n",
       "      <td>1.236005e+08</td>\n",
       "      <td>40.499790</td>\n",
       "      <td>-74.249840</td>\n",
       "      <td>2003.000000</td>\n",
       "      <td>-1223.000000</td>\n",
       "      <td>0.000000</td>\n",
       "      <td>0.010000</td>\n",
       "      <td>1.000000</td>\n",
       "      <td>1.000000</td>\n",
       "      <td>-10.000000</td>\n",
       "    </tr>\n",
       "    <tr>\n",
       "      <th>25%</th>\n",
       "      <td>1.508581e+07</td>\n",
       "      <td>2.458333e+10</td>\n",
       "      <td>40.688740</td>\n",
       "      <td>-73.982580</td>\n",
       "      <td>2007.000000</td>\n",
       "      <td>2.000000</td>\n",
       "      <td>1.000000</td>\n",
       "      <td>0.220000</td>\n",
       "      <td>2.000000</td>\n",
       "      <td>1.000000</td>\n",
       "      <td>3.000000</td>\n",
       "    </tr>\n",
       "    <tr>\n",
       "      <th>50%</th>\n",
       "      <td>2.913660e+07</td>\n",
       "      <td>4.911774e+10</td>\n",
       "      <td>40.722290</td>\n",
       "      <td>-73.954440</td>\n",
       "      <td>2012.000000</td>\n",
       "      <td>3.000000</td>\n",
       "      <td>7.000000</td>\n",
       "      <td>0.740000</td>\n",
       "      <td>3.000000</td>\n",
       "      <td>1.000000</td>\n",
       "      <td>96.000000</td>\n",
       "    </tr>\n",
       "    <tr>\n",
       "      <th>75%</th>\n",
       "      <td>4.320120e+07</td>\n",
       "      <td>7.399650e+10</td>\n",
       "      <td>40.762760</td>\n",
       "      <td>-73.932350</td>\n",
       "      <td>2017.000000</td>\n",
       "      <td>5.000000</td>\n",
       "      <td>30.000000</td>\n",
       "      <td>2.000000</td>\n",
       "      <td>4.000000</td>\n",
       "      <td>2.000000</td>\n",
       "      <td>269.000000</td>\n",
       "    </tr>\n",
       "    <tr>\n",
       "      <th>max</th>\n",
       "      <td>5.736742e+07</td>\n",
       "      <td>9.876313e+10</td>\n",
       "      <td>40.916970</td>\n",
       "      <td>-73.705220</td>\n",
       "      <td>2022.000000</td>\n",
       "      <td>5645.000000</td>\n",
       "      <td>1024.000000</td>\n",
       "      <td>90.000000</td>\n",
       "      <td>5.000000</td>\n",
       "      <td>332.000000</td>\n",
       "      <td>3677.000000</td>\n",
       "    </tr>\n",
       "  </tbody>\n",
       "</table>\n",
       "</div>"
      ],
      "text/plain": [
       "                 id       host id            lat           long  \\\n",
       "count  1.025990e+05  1.025990e+05  102591.000000  102591.000000   \n",
       "mean   2.914623e+07  4.925411e+10      40.728094     -73.949644   \n",
       "std    1.625751e+07  2.853900e+10       0.055857       0.049521   \n",
       "min    1.001254e+06  1.236005e+08      40.499790     -74.249840   \n",
       "25%    1.508581e+07  2.458333e+10      40.688740     -73.982580   \n",
       "50%    2.913660e+07  4.911774e+10      40.722290     -73.954440   \n",
       "75%    4.320120e+07  7.399650e+10      40.762760     -73.932350   \n",
       "max    5.736742e+07  9.876313e+10      40.916970     -73.705220   \n",
       "\n",
       "       Construction year  minimum nights  number of reviews  \\\n",
       "count      102385.000000   102190.000000      102416.000000   \n",
       "mean         2012.487464        8.135845          27.483743   \n",
       "std             5.765556       30.553781          49.508954   \n",
       "min          2003.000000    -1223.000000           0.000000   \n",
       "25%          2007.000000        2.000000           1.000000   \n",
       "50%          2012.000000        3.000000           7.000000   \n",
       "75%          2017.000000        5.000000          30.000000   \n",
       "max          2022.000000     5645.000000        1024.000000   \n",
       "\n",
       "       reviews per month  review rate number  calculated host listings count  \\\n",
       "count       86720.000000       102273.000000                   102280.000000   \n",
       "mean            1.374022            3.279106                        7.936605   \n",
       "std             1.746621            1.284657                       32.218780   \n",
       "min             0.010000            1.000000                        1.000000   \n",
       "25%             0.220000            2.000000                        1.000000   \n",
       "50%             0.740000            3.000000                        1.000000   \n",
       "75%             2.000000            4.000000                        2.000000   \n",
       "max            90.000000            5.000000                      332.000000   \n",
       "\n",
       "       availability 365  \n",
       "count     102151.000000  \n",
       "mean         141.133254  \n",
       "std          135.435024  \n",
       "min          -10.000000  \n",
       "25%            3.000000  \n",
       "50%           96.000000  \n",
       "75%          269.000000  \n",
       "max         3677.000000  "
      ]
     },
     "execution_count": 206,
     "metadata": {},
     "output_type": "execute_result"
    }
   ],
   "source": [
    "df_airbnb.describe(include=[np.number])"
   ]
  },
  {
   "cell_type": "code",
   "execution_count": 207,
   "id": "637aeba931d603b2",
   "metadata": {
    "collapsed": false
   },
   "outputs": [],
   "source": [
    "## Solo categoricas"
   ]
  },
  {
   "cell_type": "code",
   "execution_count": 208,
   "id": "da1d52fda1afecf4",
   "metadata": {
    "ExecuteTime": {
     "end_time": "2023-08-18T01:31:13.061530800Z",
     "start_time": "2023-08-18T01:31:13.001593700Z"
    },
    "collapsed": false
   },
   "outputs": [
    {
     "data": {
      "text/html": [
       "<div>\n",
       "<style scoped>\n",
       "    .dataframe tbody tr th:only-of-type {\n",
       "        vertical-align: middle;\n",
       "    }\n",
       "\n",
       "    .dataframe tbody tr th {\n",
       "        vertical-align: top;\n",
       "    }\n",
       "\n",
       "    .dataframe thead th {\n",
       "        text-align: right;\n",
       "    }\n",
       "</style>\n",
       "<table border=\"1\" class=\"dataframe\">\n",
       "  <thead>\n",
       "    <tr style=\"text-align: right;\">\n",
       "      <th></th>\n",
       "      <th>NAME</th>\n",
       "      <th>host_identity_verified</th>\n",
       "      <th>host name</th>\n",
       "      <th>neighbourhood group</th>\n",
       "      <th>neighbourhood</th>\n",
       "      <th>instant_bookable</th>\n",
       "      <th>cancellation_policy</th>\n",
       "      <th>room type</th>\n",
       "      <th>price</th>\n",
       "      <th>service fee</th>\n",
       "      <th>last review</th>\n",
       "      <th>house_rules</th>\n",
       "    </tr>\n",
       "  </thead>\n",
       "  <tbody>\n",
       "    <tr>\n",
       "      <th>count</th>\n",
       "      <td>102349</td>\n",
       "      <td>102310</td>\n",
       "      <td>102193</td>\n",
       "      <td>102570</td>\n",
       "      <td>102583</td>\n",
       "      <td>102494</td>\n",
       "      <td>102523</td>\n",
       "      <td>102599</td>\n",
       "      <td>102352</td>\n",
       "      <td>102326</td>\n",
       "      <td>86706</td>\n",
       "      <td>50468</td>\n",
       "    </tr>\n",
       "    <tr>\n",
       "      <th>unique</th>\n",
       "      <td>61281</td>\n",
       "      <td>2</td>\n",
       "      <td>13190</td>\n",
       "      <td>7</td>\n",
       "      <td>224</td>\n",
       "      <td>2</td>\n",
       "      <td>3</td>\n",
       "      <td>4</td>\n",
       "      <td>1151</td>\n",
       "      <td>231</td>\n",
       "      <td>2477</td>\n",
       "      <td>1976</td>\n",
       "    </tr>\n",
       "    <tr>\n",
       "      <th>top</th>\n",
       "      <td>Home away from home</td>\n",
       "      <td>unconfirmed</td>\n",
       "      <td>Michael</td>\n",
       "      <td>Manhattan</td>\n",
       "      <td>Bedford-Stuyvesant</td>\n",
       "      <td>False</td>\n",
       "      <td>moderate</td>\n",
       "      <td>Entire home/apt</td>\n",
       "      <td>$206</td>\n",
       "      <td>$41</td>\n",
       "      <td>6/23/2019</td>\n",
       "      <td>#NAME?</td>\n",
       "    </tr>\n",
       "    <tr>\n",
       "      <th>freq</th>\n",
       "      <td>33</td>\n",
       "      <td>51200</td>\n",
       "      <td>881</td>\n",
       "      <td>43792</td>\n",
       "      <td>7937</td>\n",
       "      <td>51474</td>\n",
       "      <td>34343</td>\n",
       "      <td>53701</td>\n",
       "      <td>137</td>\n",
       "      <td>526</td>\n",
       "      <td>2443</td>\n",
       "      <td>2712</td>\n",
       "    </tr>\n",
       "  </tbody>\n",
       "</table>\n",
       "</div>"
      ],
      "text/plain": [
       "                       NAME host_identity_verified host name  \\\n",
       "count                102349                 102310    102193   \n",
       "unique                61281                      2     13190   \n",
       "top     Home away from home            unconfirmed   Michael   \n",
       "freq                     33                  51200       881   \n",
       "\n",
       "       neighbourhood group       neighbourhood instant_bookable  \\\n",
       "count               102570              102583           102494   \n",
       "unique                   7                 224                2   \n",
       "top              Manhattan  Bedford-Stuyvesant            False   \n",
       "freq                 43792                7937            51474   \n",
       "\n",
       "       cancellation_policy        room type   price service fee last review  \\\n",
       "count               102523           102599  102352      102326       86706   \n",
       "unique                   3                4    1151         231        2477   \n",
       "top               moderate  Entire home/apt   $206         $41    6/23/2019   \n",
       "freq                 34343            53701     137         526        2443   \n",
       "\n",
       "       house_rules  \n",
       "count        50468  \n",
       "unique        1976  \n",
       "top         #NAME?  \n",
       "freq          2712  "
      ]
     },
     "execution_count": 208,
     "metadata": {},
     "output_type": "execute_result"
    }
   ],
   "source": [
    "df_airbnb.describe(include=object)"
   ]
  },
  {
   "cell_type": "code",
   "execution_count": 209,
   "id": "02d01933",
   "metadata": {},
   "outputs": [
    {
     "data": {
      "text/html": [
       "<div>\n",
       "<style scoped>\n",
       "    .dataframe tbody tr th:only-of-type {\n",
       "        vertical-align: middle;\n",
       "    }\n",
       "\n",
       "    .dataframe tbody tr th {\n",
       "        vertical-align: top;\n",
       "    }\n",
       "\n",
       "    .dataframe thead th {\n",
       "        text-align: right;\n",
       "    }\n",
       "</style>\n",
       "<table border=\"1\" class=\"dataframe\">\n",
       "  <thead>\n",
       "    <tr style=\"text-align: right;\">\n",
       "      <th></th>\n",
       "      <th>host id</th>\n",
       "      <th>host name</th>\n",
       "      <th>host_identity_verified</th>\n",
       "    </tr>\n",
       "  </thead>\n",
       "  <tbody>\n",
       "    <tr>\n",
       "      <th>0</th>\n",
       "      <td>80014485718</td>\n",
       "      <td>Madaline</td>\n",
       "      <td>unconfirmed</td>\n",
       "    </tr>\n",
       "    <tr>\n",
       "      <th>1</th>\n",
       "      <td>52335172823</td>\n",
       "      <td>Jenna</td>\n",
       "      <td>verified</td>\n",
       "    </tr>\n",
       "  </tbody>\n",
       "</table>\n",
       "</div>"
      ],
      "text/plain": [
       "       host id host name host_identity_verified\n",
       "0  80014485718  Madaline            unconfirmed\n",
       "1  52335172823     Jenna               verified"
      ]
     },
     "execution_count": 209,
     "metadata": {},
     "output_type": "execute_result"
    }
   ],
   "source": [
    "#Empezamos a segmentar la info para crear el datawarehouse\n",
    "host_table = df_airbnb[[\"host id\", \"host name\", \"host_identity_verified\"]]\n",
    "host_table.head(2)"
   ]
  },
  {
   "cell_type": "code",
   "execution_count": 210,
   "id": "6894f72f",
   "metadata": {},
   "outputs": [
    {
     "data": {
      "text/html": [
       "<div>\n",
       "<style scoped>\n",
       "    .dataframe tbody tr th:only-of-type {\n",
       "        vertical-align: middle;\n",
       "    }\n",
       "\n",
       "    .dataframe tbody tr th {\n",
       "        vertical-align: top;\n",
       "    }\n",
       "\n",
       "    .dataframe thead th {\n",
       "        text-align: right;\n",
       "    }\n",
       "</style>\n",
       "<table border=\"1\" class=\"dataframe\">\n",
       "  <thead>\n",
       "    <tr style=\"text-align: right;\">\n",
       "      <th></th>\n",
       "      <th>neighbourhood_id</th>\n",
       "      <th>neighbourhood group</th>\n",
       "      <th>neighbourhood</th>\n",
       "      <th>lat</th>\n",
       "      <th>long</th>\n",
       "    </tr>\n",
       "  </thead>\n",
       "  <tbody>\n",
       "    <tr>\n",
       "      <th>0</th>\n",
       "      <td>1</td>\n",
       "      <td>Brooklyn</td>\n",
       "      <td>Kensington</td>\n",
       "      <td>40.64749</td>\n",
       "      <td>-73.97237</td>\n",
       "    </tr>\n",
       "    <tr>\n",
       "      <th>1</th>\n",
       "      <td>2</td>\n",
       "      <td>Manhattan</td>\n",
       "      <td>Midtown</td>\n",
       "      <td>40.75362</td>\n",
       "      <td>-73.98377</td>\n",
       "    </tr>\n",
       "  </tbody>\n",
       "</table>\n",
       "</div>"
      ],
      "text/plain": [
       "   neighbourhood_id neighbourhood group neighbourhood       lat      long\n",
       "0                 1            Brooklyn    Kensington  40.64749 -73.97237\n",
       "1                 2           Manhattan       Midtown  40.75362 -73.98377"
      ]
     },
     "execution_count": 210,
     "metadata": {},
     "output_type": "execute_result"
    }
   ],
   "source": [
    "neighbourhood_table = df_airbnb[[\"neighbourhood group\", \"neighbourhood\", \"lat\", \"long\"]]\n",
    "neighbourhood_table.insert(0, \"neighbourhood_id\", range(1, 1 + len(neighbourhood_table)))\n",
    "df_airbnb[\"neighbour_id\"] = neighbourhood_table[\"neighbourhood_id\"]\n",
    "neighbourhood_table.head(2)"
   ]
  },
  {
   "cell_type": "code",
   "execution_count": 211,
   "id": "ecd0bcae",
   "metadata": {},
   "outputs": [
    {
     "data": {
      "text/html": [
       "<div>\n",
       "<style scoped>\n",
       "    .dataframe tbody tr th:only-of-type {\n",
       "        vertical-align: middle;\n",
       "    }\n",
       "\n",
       "    .dataframe tbody tr th {\n",
       "        vertical-align: top;\n",
       "    }\n",
       "\n",
       "    .dataframe thead th {\n",
       "        text-align: right;\n",
       "    }\n",
       "</style>\n",
       "<table border=\"1\" class=\"dataframe\">\n",
       "  <thead>\n",
       "    <tr style=\"text-align: right;\">\n",
       "      <th></th>\n",
       "      <th>id</th>\n",
       "      <th>NAME</th>\n",
       "      <th>instant_bookable</th>\n",
       "      <th>cancellation_policy</th>\n",
       "      <th>room type</th>\n",
       "      <th>Construction year</th>\n",
       "      <th>price</th>\n",
       "      <th>service fee</th>\n",
       "      <th>minimum nights</th>\n",
       "      <th>number of reviews</th>\n",
       "      <th>last review</th>\n",
       "      <th>reviews per month</th>\n",
       "      <th>review rate number</th>\n",
       "      <th>calculated host listings count</th>\n",
       "      <th>availability 365</th>\n",
       "      <th>house_rules</th>\n",
       "    </tr>\n",
       "  </thead>\n",
       "  <tbody>\n",
       "    <tr>\n",
       "      <th>0</th>\n",
       "      <td>1001254</td>\n",
       "      <td>Clean &amp; quiet apt home by the park</td>\n",
       "      <td>False</td>\n",
       "      <td>strict</td>\n",
       "      <td>Private room</td>\n",
       "      <td>2020.0</td>\n",
       "      <td>$966</td>\n",
       "      <td>$193</td>\n",
       "      <td>10.0</td>\n",
       "      <td>9.0</td>\n",
       "      <td>10/19/2021</td>\n",
       "      <td>0.21</td>\n",
       "      <td>4.0</td>\n",
       "      <td>6.0</td>\n",
       "      <td>286.0</td>\n",
       "      <td>Clean up and treat the home the way you'd like...</td>\n",
       "    </tr>\n",
       "    <tr>\n",
       "      <th>1</th>\n",
       "      <td>1002102</td>\n",
       "      <td>Skylit Midtown Castle</td>\n",
       "      <td>False</td>\n",
       "      <td>moderate</td>\n",
       "      <td>Entire home/apt</td>\n",
       "      <td>2007.0</td>\n",
       "      <td>$142</td>\n",
       "      <td>$28</td>\n",
       "      <td>30.0</td>\n",
       "      <td>45.0</td>\n",
       "      <td>5/21/2022</td>\n",
       "      <td>0.38</td>\n",
       "      <td>4.0</td>\n",
       "      <td>2.0</td>\n",
       "      <td>228.0</td>\n",
       "      <td>Pet friendly but please confirm with me if the...</td>\n",
       "    </tr>\n",
       "  </tbody>\n",
       "</table>\n",
       "</div>"
      ],
      "text/plain": [
       "        id                                NAME instant_bookable  \\\n",
       "0  1001254  Clean & quiet apt home by the park            False   \n",
       "1  1002102               Skylit Midtown Castle            False   \n",
       "\n",
       "  cancellation_policy        room type  Construction year  price service fee  \\\n",
       "0              strict     Private room             2020.0  $966        $193    \n",
       "1            moderate  Entire home/apt             2007.0  $142         $28    \n",
       "\n",
       "   minimum nights  number of reviews last review  reviews per month  \\\n",
       "0            10.0                9.0  10/19/2021               0.21   \n",
       "1            30.0               45.0   5/21/2022               0.38   \n",
       "\n",
       "   review rate number  calculated host listings count  availability 365  \\\n",
       "0                 4.0                             6.0             286.0   \n",
       "1                 4.0                             2.0             228.0   \n",
       "\n",
       "                                         house_rules  \n",
       "0  Clean up and treat the home the way you'd like...  \n",
       "1  Pet friendly but please confirm with me if the...  "
      ]
     },
     "execution_count": 211,
     "metadata": {},
     "output_type": "execute_result"
    }
   ],
   "source": [
    "airbnb_detail = df_airbnb[\n",
    "    [\"id\", \"NAME\", \"instant_bookable\", \n",
    "     \"cancellation_policy\", \"room type\", \"Construction year\", \n",
    "     \"price\", \"service fee\", \"minimum nights\", \"number of reviews\", \n",
    "     \"last review\", \"reviews per month\", \"review rate number\", \"calculated host listings count\", \n",
    "     \"availability 365\", \"house_rules\"]]\n",
    "\n",
    "airbnb_detail.head(2)"
   ]
  },
  {
   "cell_type": "code",
   "execution_count": 212,
   "id": "b3156de1",
   "metadata": {},
   "outputs": [],
   "source": [
    "#Delete the following columns ince we already set up diferent tables to save all the information related with neighbourhoods and hots\n",
    "df_airbnb.drop([\"neighbourhood group\", \"neighbourhood\", \"lat\", \"long\"], axis=1, inplace=True)\n",
    "df_airbnb.drop([\"host name\", \"host_identity_verified\"], axis=1, inplace=True)\n",
    "df_airbnb.drop([\"NAME\", \"instant_bookable\", \n",
    "     \"cancellation_policy\", \"room type\", \"Construction year\", \n",
    "     \"price\", \"service fee\", \"minimum nights\", \"number of reviews\", \n",
    "     \"last review\", \"reviews per month\", \"review rate number\", \"calculated host listings count\", \n",
    "     \"availability 365\", \"house_rules\"], axis=1, inplace=True)"
   ]
  },
  {
   "cell_type": "code",
   "execution_count": 213,
   "id": "89af3ef7",
   "metadata": {},
   "outputs": [
    {
     "data": {
      "text/html": [
       "<div>\n",
       "<style scoped>\n",
       "    .dataframe tbody tr th:only-of-type {\n",
       "        vertical-align: middle;\n",
       "    }\n",
       "\n",
       "    .dataframe tbody tr th {\n",
       "        vertical-align: top;\n",
       "    }\n",
       "\n",
       "    .dataframe thead th {\n",
       "        text-align: right;\n",
       "    }\n",
       "</style>\n",
       "<table border=\"1\" class=\"dataframe\">\n",
       "  <thead>\n",
       "    <tr style=\"text-align: right;\">\n",
       "      <th></th>\n",
       "      <th>airbnb_id</th>\n",
       "      <th>host id</th>\n",
       "      <th>neighbour_id</th>\n",
       "    </tr>\n",
       "  </thead>\n",
       "  <tbody>\n",
       "    <tr>\n",
       "      <th>0</th>\n",
       "      <td>1001254</td>\n",
       "      <td>80014485718</td>\n",
       "      <td>1</td>\n",
       "    </tr>\n",
       "    <tr>\n",
       "      <th>1</th>\n",
       "      <td>1002102</td>\n",
       "      <td>52335172823</td>\n",
       "      <td>2</td>\n",
       "    </tr>\n",
       "  </tbody>\n",
       "</table>\n",
       "</div>"
      ],
      "text/plain": [
       "   airbnb_id      host id  neighbour_id\n",
       "0    1001254  80014485718             1\n",
       "1    1002102  52335172823             2"
      ]
     },
     "execution_count": 213,
     "metadata": {},
     "output_type": "execute_result"
    }
   ],
   "source": [
    "renaming_columns = {\n",
    "    \"id\" : \"airbnb_id\",\n",
    "}\n",
    "df_airbnb.rename(columns=renaming_columns, inplace=True)\n",
    "df_airbnb.head(2)"
   ]
  },
  {
   "cell_type": "code",
   "execution_count": 216,
   "id": "a819ce96",
   "metadata": {},
   "outputs": [
    {
     "data": {
      "text/plain": [
       "Index(['id', 'NAME', 'instant_bookable', 'cancellation_policy', 'room type',\n",
       "       'Construction year', 'price', 'service fee', 'minimum nights',\n",
       "       'number of reviews', 'last review', 'reviews per month',\n",
       "       'review rate number', 'calculated host listings count',\n",
       "       'availability 365', 'house_rules'],\n",
       "      dtype='object')"
      ]
     },
     "execution_count": 216,
     "metadata": {},
     "output_type": "execute_result"
    }
   ],
   "source": [
    "airbnb_detail.columns"
   ]
  },
  {
   "cell_type": "code",
   "execution_count": 218,
   "id": "497eca1f",
   "metadata": {},
   "outputs": [
    {
     "data": {
      "text/plain": [
       "Index(['neighbourhood_id', 'neighbourhood group', 'neighbourhood', 'lat',\n",
       "       'long'],\n",
       "      dtype='object')"
      ]
     },
     "execution_count": 218,
     "metadata": {},
     "output_type": "execute_result"
    }
   ],
   "source": [
    "neighbourhood_table.columns"
   ]
  },
  {
   "cell_type": "code",
   "execution_count": 217,
   "id": "4fd77794",
   "metadata": {},
   "outputs": [
    {
     "data": {
      "text/plain": [
       "Index(['host id', 'host name', 'host_identity_verified'], dtype='object')"
      ]
     },
     "execution_count": 217,
     "metadata": {},
     "output_type": "execute_result"
    }
   ],
   "source": [
    "host_table.columns"
   ]
  },
  {
   "cell_type": "code",
   "execution_count": 219,
   "id": "d9a5bce8",
   "metadata": {},
   "outputs": [
    {
     "data": {
      "text/plain": [
       "Index(['airbnb_id', 'host id', 'neighbour_id'], dtype='object')"
      ]
     },
     "execution_count": 219,
     "metadata": {},
     "output_type": "execute_result"
    }
   ],
   "source": [
    "df_airbnb.columns"
   ]
  }
 ],
 "metadata": {
  "kernelspec": {
   "display_name": "Python 3",
   "language": "python",
   "name": "python3"
  },
  "language_info": {
   "codemirror_mode": {
    "name": "ipython",
    "version": 3
   },
   "file_extension": ".py",
   "mimetype": "text/x-python",
   "name": "python",
   "nbconvert_exporter": "python",
   "pygments_lexer": "ipython3",
   "version": "3.11.4"
  }
 },
 "nbformat": 4,
 "nbformat_minor": 5
}
