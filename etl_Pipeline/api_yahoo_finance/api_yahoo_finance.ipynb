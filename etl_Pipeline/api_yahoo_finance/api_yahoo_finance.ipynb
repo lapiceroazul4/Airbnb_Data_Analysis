{
 "cells": [
  {
   "cell_type": "code",
   "execution_count": 1,
   "id": "fab3dfe75726e95c",
   "metadata": {
    "ExecuteTime": {
     "end_time": "2023-10-16T17:06:24.523138400Z",
     "start_time": "2023-10-16T17:06:23.722960900Z"
    }
   },
   "outputs": [],
   "source": [
    "import pandas as pd\n",
    "import numpy as np\n",
    "import matplotlib.pyplot as plt\n",
    "import seaborn as sns\n",
    "import yfinance as yf\n",
    "import plotly.express as px\n",
    "#import datapane as dp\n",
    "\n"
   ]
  },
  {
   "cell_type": "code",
   "execution_count": 6,
   "id": "f4b3cef2",
   "metadata": {},
   "outputs": [
    {
     "name": "stdout",
     "output_type": "stream",
     "text": [
      "Defaulting to user installation because normal site-packages is not writeable\n",
      "Requirement already satisfied: yfinance in c:\\users\\juanchope\\appdata\\roaming\\python\\python311\\site-packages (0.2.31)\n",
      "Requirement already satisfied: pandas>=1.3.0 in c:\\programdata\\anaconda3\\lib\\site-packages (from yfinance) (2.0.3)\n",
      "Requirement already satisfied: numpy>=1.16.5 in c:\\programdata\\anaconda3\\lib\\site-packages (from yfinance) (1.24.3)\n",
      "Requirement already satisfied: requests>=2.31 in c:\\programdata\\anaconda3\\lib\\site-packages (from yfinance) (2.31.0)\n",
      "Requirement already satisfied: multitasking>=0.0.7 in c:\\users\\juanchope\\appdata\\roaming\\python\\python311\\site-packages (from yfinance) (0.0.11)\n",
      "Requirement already satisfied: lxml>=4.9.1 in c:\\programdata\\anaconda3\\lib\\site-packages (from yfinance) (4.9.3)\n",
      "Requirement already satisfied: appdirs>=1.4.4 in c:\\programdata\\anaconda3\\lib\\site-packages (from yfinance) (1.4.4)\n",
      "Requirement already satisfied: pytz>=2022.5 in c:\\programdata\\anaconda3\\lib\\site-packages (from yfinance) (2023.3.post1)\n",
      "Requirement already satisfied: frozendict>=2.3.4 in c:\\users\\juanchope\\appdata\\roaming\\python\\python311\\site-packages (from yfinance) (2.3.8)\n",
      "Requirement already satisfied: peewee>=3.16.2 in c:\\users\\juanchope\\appdata\\roaming\\python\\python311\\site-packages (from yfinance) (3.17.0)\n",
      "Requirement already satisfied: beautifulsoup4>=4.11.1 in c:\\programdata\\anaconda3\\lib\\site-packages (from yfinance) (4.12.2)\n",
      "Requirement already satisfied: html5lib>=1.1 in c:\\users\\juanchope\\appdata\\roaming\\python\\python311\\site-packages (from yfinance) (1.1)\n",
      "Requirement already satisfied: soupsieve>1.2 in c:\\programdata\\anaconda3\\lib\\site-packages (from beautifulsoup4>=4.11.1->yfinance) (2.4)\n",
      "Requirement already satisfied: six>=1.9 in c:\\programdata\\anaconda3\\lib\\site-packages (from html5lib>=1.1->yfinance) (1.16.0)\n",
      "Requirement already satisfied: webencodings in c:\\programdata\\anaconda3\\lib\\site-packages (from html5lib>=1.1->yfinance) (0.5.1)\n",
      "Requirement already satisfied: python-dateutil>=2.8.2 in c:\\programdata\\anaconda3\\lib\\site-packages (from pandas>=1.3.0->yfinance) (2.8.2)\n",
      "Requirement already satisfied: tzdata>=2022.1 in c:\\programdata\\anaconda3\\lib\\site-packages (from pandas>=1.3.0->yfinance) (2023.3)\n",
      "Requirement already satisfied: charset-normalizer<4,>=2 in c:\\programdata\\anaconda3\\lib\\site-packages (from requests>=2.31->yfinance) (2.0.4)\n",
      "Requirement already satisfied: idna<4,>=2.5 in c:\\programdata\\anaconda3\\lib\\site-packages (from requests>=2.31->yfinance) (3.4)\n",
      "Requirement already satisfied: urllib3<3,>=1.21.1 in c:\\programdata\\anaconda3\\lib\\site-packages (from requests>=2.31->yfinance) (1.26.16)\n",
      "Requirement already satisfied: certifi>=2017.4.17 in c:\\programdata\\anaconda3\\lib\\site-packages (from requests>=2.31->yfinance) (2023.7.22)\n"
     ]
    }
   ],
   "source": [
    "!pip install yfinance"
   ]
  },
  {
   "cell_type": "code",
   "execution_count": 2,
   "id": "cefa48f83738df38",
   "metadata": {
    "ExecuteTime": {
     "end_time": "2023-10-16T17:09:42.395335300Z",
     "start_time": "2023-10-16T17:09:41.527966700Z"
    }
   },
   "outputs": [
    {
     "data": {
      "text/html": [
       "<div>\n",
       "<style scoped>\n",
       "    .dataframe tbody tr th:only-of-type {\n",
       "        vertical-align: middle;\n",
       "    }\n",
       "\n",
       "    .dataframe tbody tr th {\n",
       "        vertical-align: top;\n",
       "    }\n",
       "\n",
       "    .dataframe thead th {\n",
       "        text-align: right;\n",
       "    }\n",
       "</style>\n",
       "<table border=\"1\" class=\"dataframe\">\n",
       "  <thead>\n",
       "    <tr style=\"text-align: right;\">\n",
       "      <th></th>\n",
       "      <th>Open</th>\n",
       "      <th>High</th>\n",
       "      <th>Low</th>\n",
       "      <th>Close</th>\n",
       "      <th>Volume</th>\n",
       "      <th>Dividends</th>\n",
       "      <th>Stock Splits</th>\n",
       "    </tr>\n",
       "    <tr>\n",
       "      <th>Date</th>\n",
       "      <th></th>\n",
       "      <th></th>\n",
       "      <th></th>\n",
       "      <th></th>\n",
       "      <th></th>\n",
       "      <th></th>\n",
       "      <th></th>\n",
       "    </tr>\n",
       "  </thead>\n",
       "  <tbody>\n",
       "    <tr>\n",
       "      <th>2020-12-10 00:00:00-05:00</th>\n",
       "      <td>146.000000</td>\n",
       "      <td>165.000000</td>\n",
       "      <td>141.250000</td>\n",
       "      <td>144.710007</td>\n",
       "      <td>70447500</td>\n",
       "      <td>0.0</td>\n",
       "      <td>0.0</td>\n",
       "    </tr>\n",
       "    <tr>\n",
       "      <th>2020-12-11 00:00:00-05:00</th>\n",
       "      <td>146.550003</td>\n",
       "      <td>151.500000</td>\n",
       "      <td>135.100006</td>\n",
       "      <td>139.250000</td>\n",
       "      <td>26980800</td>\n",
       "      <td>0.0</td>\n",
       "      <td>0.0</td>\n",
       "    </tr>\n",
       "    <tr>\n",
       "      <th>2020-12-14 00:00:00-05:00</th>\n",
       "      <td>135.000000</td>\n",
       "      <td>135.300003</td>\n",
       "      <td>125.160004</td>\n",
       "      <td>130.000000</td>\n",
       "      <td>16966100</td>\n",
       "      <td>0.0</td>\n",
       "      <td>0.0</td>\n",
       "    </tr>\n",
       "    <tr>\n",
       "      <th>2020-12-15 00:00:00-05:00</th>\n",
       "      <td>126.690002</td>\n",
       "      <td>127.599998</td>\n",
       "      <td>121.500000</td>\n",
       "      <td>124.800003</td>\n",
       "      <td>10914400</td>\n",
       "      <td>0.0</td>\n",
       "      <td>0.0</td>\n",
       "    </tr>\n",
       "    <tr>\n",
       "      <th>2020-12-16 00:00:00-05:00</th>\n",
       "      <td>125.830002</td>\n",
       "      <td>142.000000</td>\n",
       "      <td>124.910004</td>\n",
       "      <td>137.990005</td>\n",
       "      <td>20409600</td>\n",
       "      <td>0.0</td>\n",
       "      <td>0.0</td>\n",
       "    </tr>\n",
       "    <tr>\n",
       "      <th>...</th>\n",
       "      <td>...</td>\n",
       "      <td>...</td>\n",
       "      <td>...</td>\n",
       "      <td>...</td>\n",
       "      <td>...</td>\n",
       "      <td>...</td>\n",
       "      <td>...</td>\n",
       "    </tr>\n",
       "    <tr>\n",
       "      <th>2023-11-10 00:00:00-05:00</th>\n",
       "      <td>114.525002</td>\n",
       "      <td>118.540001</td>\n",
       "      <td>114.169998</td>\n",
       "      <td>118.150002</td>\n",
       "      <td>4773500</td>\n",
       "      <td>0.0</td>\n",
       "      <td>0.0</td>\n",
       "    </tr>\n",
       "    <tr>\n",
       "      <th>2023-11-13 00:00:00-05:00</th>\n",
       "      <td>117.510002</td>\n",
       "      <td>119.860001</td>\n",
       "      <td>117.401001</td>\n",
       "      <td>119.150002</td>\n",
       "      <td>3408800</td>\n",
       "      <td>0.0</td>\n",
       "      <td>0.0</td>\n",
       "    </tr>\n",
       "    <tr>\n",
       "      <th>2023-11-14 00:00:00-05:00</th>\n",
       "      <td>122.355003</td>\n",
       "      <td>127.120003</td>\n",
       "      <td>121.510002</td>\n",
       "      <td>126.680000</td>\n",
       "      <td>8405200</td>\n",
       "      <td>0.0</td>\n",
       "      <td>0.0</td>\n",
       "    </tr>\n",
       "    <tr>\n",
       "      <th>2023-11-15 00:00:00-05:00</th>\n",
       "      <td>128.000000</td>\n",
       "      <td>131.619995</td>\n",
       "      <td>127.060997</td>\n",
       "      <td>128.350006</td>\n",
       "      <td>6851400</td>\n",
       "      <td>0.0</td>\n",
       "      <td>0.0</td>\n",
       "    </tr>\n",
       "    <tr>\n",
       "      <th>2023-11-16 00:00:00-05:00</th>\n",
       "      <td>127.120003</td>\n",
       "      <td>128.399994</td>\n",
       "      <td>125.309998</td>\n",
       "      <td>126.279999</td>\n",
       "      <td>4103728</td>\n",
       "      <td>0.0</td>\n",
       "      <td>0.0</td>\n",
       "    </tr>\n",
       "  </tbody>\n",
       "</table>\n",
       "<p>739 rows × 7 columns</p>\n",
       "</div>"
      ],
      "text/plain": [
       "                                 Open        High         Low       Close  \\\n",
       "Date                                                                        \n",
       "2020-12-10 00:00:00-05:00  146.000000  165.000000  141.250000  144.710007   \n",
       "2020-12-11 00:00:00-05:00  146.550003  151.500000  135.100006  139.250000   \n",
       "2020-12-14 00:00:00-05:00  135.000000  135.300003  125.160004  130.000000   \n",
       "2020-12-15 00:00:00-05:00  126.690002  127.599998  121.500000  124.800003   \n",
       "2020-12-16 00:00:00-05:00  125.830002  142.000000  124.910004  137.990005   \n",
       "...                               ...         ...         ...         ...   \n",
       "2023-11-10 00:00:00-05:00  114.525002  118.540001  114.169998  118.150002   \n",
       "2023-11-13 00:00:00-05:00  117.510002  119.860001  117.401001  119.150002   \n",
       "2023-11-14 00:00:00-05:00  122.355003  127.120003  121.510002  126.680000   \n",
       "2023-11-15 00:00:00-05:00  128.000000  131.619995  127.060997  128.350006   \n",
       "2023-11-16 00:00:00-05:00  127.120003  128.399994  125.309998  126.279999   \n",
       "\n",
       "                             Volume  Dividends  Stock Splits  \n",
       "Date                                                          \n",
       "2020-12-10 00:00:00-05:00  70447500        0.0           0.0  \n",
       "2020-12-11 00:00:00-05:00  26980800        0.0           0.0  \n",
       "2020-12-14 00:00:00-05:00  16966100        0.0           0.0  \n",
       "2020-12-15 00:00:00-05:00  10914400        0.0           0.0  \n",
       "2020-12-16 00:00:00-05:00  20409600        0.0           0.0  \n",
       "...                             ...        ...           ...  \n",
       "2023-11-10 00:00:00-05:00   4773500        0.0           0.0  \n",
       "2023-11-13 00:00:00-05:00   3408800        0.0           0.0  \n",
       "2023-11-14 00:00:00-05:00   8405200        0.0           0.0  \n",
       "2023-11-15 00:00:00-05:00   6851400        0.0           0.0  \n",
       "2023-11-16 00:00:00-05:00   4103728        0.0           0.0  \n",
       "\n",
       "[739 rows x 7 columns]"
      ]
     },
     "execution_count": 2,
     "metadata": {},
     "output_type": "execute_result"
    }
   ],
   "source": [
    "msft = yf.Ticker(\"ABNB\")\n",
    "df =  msft.history(period=\"MAX\", interval=\"1d\")\n",
    "df"
   ]
  },
  {
   "cell_type": "markdown",
   "id": "93825eb9",
   "metadata": {},
   "source": [
    "Alparecer solo trae los datos desde 10 de dicembre del 2020"
   ]
  },
  {
   "cell_type": "markdown",
   "id": "b088f9b7",
   "metadata": {},
   "source": [
    "### La Columna \"Date\" lo lee como índice porque en Pandas, es común utilizar una columna de fecha y hora como índice cuando se trabaja con datos de series de tiempo. Esto es especialmente útil cuando se hace realizar análisis y operaciones relacionadas con fechas, ya que tener la fecha y hora como índice permite un acceso más eficiente a los datos en función de la fecha.\n",
    "### por esta rezon no lo colocamos como colomna, para el EDA, pero si cuando lo subamos a la base de datos."
   ]
  },
  {
   "cell_type": "markdown",
   "id": "cb851d5d",
   "metadata": {},
   "source": [
    "# Analisis Exploratorio De Los Datos\n",
    "## ¿Qué tipo de dato son las variables del conjunto de datos?"
   ]
  },
  {
   "cell_type": "code",
   "execution_count": 3,
   "id": "fbeb3018",
   "metadata": {},
   "outputs": [
    {
     "data": {
      "text/plain": [
       "Open            float64\n",
       "High            float64\n",
       "Low             float64\n",
       "Close           float64\n",
       "Volume            int64\n",
       "Dividends       float64\n",
       "Stock Splits    float64\n",
       "dtype: object"
      ]
     },
     "execution_count": 3,
     "metadata": {},
     "output_type": "execute_result"
    }
   ],
   "source": [
    "df.dtypes\n"
   ]
  },
  {
   "cell_type": "markdown",
   "id": "62c81ac8",
   "metadata": {},
   "source": [
    "## ¿Cuántas variables de cada tipo de dato tenemos en el conjunto de datos?"
   ]
  },
  {
   "cell_type": "code",
   "execution_count": 4,
   "id": "3b419705",
   "metadata": {},
   "outputs": [
    {
     "data": {
      "text/plain": [
       "float64    6\n",
       "int64      1\n",
       "dtype: int64"
      ]
     },
     "execution_count": 4,
     "metadata": {},
     "output_type": "execute_result"
    }
   ],
   "source": [
    "(\n",
    "    df\n",
    "    .dtypes\n",
    "    .value_counts()\n",
    ")"
   ]
  },
  {
   "cell_type": "code",
   "execution_count": 11,
   "id": "8dec9b4f",
   "metadata": {},
   "outputs": [
    {
     "data": {
      "text/plain": [
       "Index(['Open', 'High', 'Low', 'Close', 'Volume', 'Dividends', 'Stock Splits'], dtype='object')"
      ]
     },
     "execution_count": 11,
     "metadata": {},
     "output_type": "execute_result"
    }
   ],
   "source": [
    "df.columns"
   ]
  },
  {
   "cell_type": "markdown",
   "id": "fe476bca",
   "metadata": {},
   "source": [
    "## ¿Cuántas variables y observaciones tenemos en el conjunto de datos?"
   ]
  },
  {
   "cell_type": "code",
   "execution_count": 5,
   "id": "4aa10f22",
   "metadata": {},
   "outputs": [
    {
     "data": {
      "text/plain": [
       "(718, 7)"
      ]
     },
     "execution_count": 5,
     "metadata": {},
     "output_type": "execute_result"
    }
   ],
   "source": [
    "df.shape"
   ]
  },
  {
   "cell_type": "markdown",
   "id": "aa611951",
   "metadata": {},
   "source": [
    "## ¿Existen valores nulos explicitos en el conjunto de datos?"
   ]
  },
  {
   "cell_type": "code",
   "execution_count": 6,
   "id": "05fd5ee7",
   "metadata": {},
   "outputs": [
    {
     "data": {
      "text/plain": [
       "Open            False\n",
       "High            False\n",
       "Low             False\n",
       "Close           False\n",
       "Volume          False\n",
       "Dividends       False\n",
       "Stock Splits    False\n",
       "dtype: bool"
      ]
     },
     "execution_count": 6,
     "metadata": {},
     "output_type": "execute_result"
    }
   ],
   "source": [
    "(   df\n",
    "    .isnull()\n",
    "    .any()\n",
    "    )"
   ]
  },
  {
   "cell_type": "markdown",
   "id": "533bafed",
   "metadata": {},
   "source": [
    "## Preludio: ¿Qué estadísticos describen el conjunto de datos?\n",
    "### Todas las variables"
   ]
  },
  {
   "cell_type": "code",
   "execution_count": 7,
   "id": "39c034c3c6b0b8d0",
   "metadata": {
    "ExecuteTime": {
     "end_time": "2023-10-16T04:19:29.864569300Z",
     "start_time": "2023-10-16T04:19:29.817728900Z"
    }
   },
   "outputs": [
    {
     "data": {
      "text/html": [
       "<div>\n",
       "<style scoped>\n",
       "    .dataframe tbody tr th:only-of-type {\n",
       "        vertical-align: middle;\n",
       "    }\n",
       "\n",
       "    .dataframe tbody tr th {\n",
       "        vertical-align: top;\n",
       "    }\n",
       "\n",
       "    .dataframe thead th {\n",
       "        text-align: right;\n",
       "    }\n",
       "</style>\n",
       "<table border=\"1\" class=\"dataframe\">\n",
       "  <thead>\n",
       "    <tr style=\"text-align: right;\">\n",
       "      <th></th>\n",
       "      <th>Open</th>\n",
       "      <th>High</th>\n",
       "      <th>Low</th>\n",
       "      <th>Close</th>\n",
       "      <th>Volume</th>\n",
       "      <th>Dividends</th>\n",
       "      <th>Stock Splits</th>\n",
       "    </tr>\n",
       "  </thead>\n",
       "  <tbody>\n",
       "    <tr>\n",
       "      <th>count</th>\n",
       "      <td>718.000000</td>\n",
       "      <td>718.000000</td>\n",
       "      <td>718.000000</td>\n",
       "      <td>718.000000</td>\n",
       "      <td>7.180000e+02</td>\n",
       "      <td>718.0</td>\n",
       "      <td>718.0</td>\n",
       "    </tr>\n",
       "    <tr>\n",
       "      <th>mean</th>\n",
       "      <td>139.939046</td>\n",
       "      <td>143.114316</td>\n",
       "      <td>136.831638</td>\n",
       "      <td>140.015773</td>\n",
       "      <td>6.632710e+06</td>\n",
       "      <td>0.0</td>\n",
       "      <td>0.0</td>\n",
       "    </tr>\n",
       "    <tr>\n",
       "      <th>std</th>\n",
       "      <td>29.769010</td>\n",
       "      <td>30.697037</td>\n",
       "      <td>28.780419</td>\n",
       "      <td>29.650640</td>\n",
       "      <td>5.476551e+06</td>\n",
       "      <td>0.0</td>\n",
       "      <td>0.0</td>\n",
       "    </tr>\n",
       "    <tr>\n",
       "      <th>min</th>\n",
       "      <td>82.970001</td>\n",
       "      <td>84.250000</td>\n",
       "      <td>81.910004</td>\n",
       "      <td>82.489998</td>\n",
       "      <td>1.995400e+06</td>\n",
       "      <td>0.0</td>\n",
       "      <td>0.0</td>\n",
       "    </tr>\n",
       "    <tr>\n",
       "      <th>25%</th>\n",
       "      <td>115.764000</td>\n",
       "      <td>118.907501</td>\n",
       "      <td>113.515001</td>\n",
       "      <td>116.134998</td>\n",
       "      <td>4.121400e+06</td>\n",
       "      <td>0.0</td>\n",
       "      <td>0.0</td>\n",
       "    </tr>\n",
       "    <tr>\n",
       "      <th>50%</th>\n",
       "      <td>140.070000</td>\n",
       "      <td>143.110001</td>\n",
       "      <td>136.769997</td>\n",
       "      <td>139.445000</td>\n",
       "      <td>5.290650e+06</td>\n",
       "      <td>0.0</td>\n",
       "      <td>0.0</td>\n",
       "    </tr>\n",
       "    <tr>\n",
       "      <th>75%</th>\n",
       "      <td>163.924999</td>\n",
       "      <td>168.246498</td>\n",
       "      <td>160.595005</td>\n",
       "      <td>164.720005</td>\n",
       "      <td>7.242825e+06</td>\n",
       "      <td>0.0</td>\n",
       "      <td>0.0</td>\n",
       "    </tr>\n",
       "    <tr>\n",
       "      <th>max</th>\n",
       "      <td>216.240005</td>\n",
       "      <td>219.940002</td>\n",
       "      <td>209.089996</td>\n",
       "      <td>216.839996</td>\n",
       "      <td>7.478640e+07</td>\n",
       "      <td>0.0</td>\n",
       "      <td>0.0</td>\n",
       "    </tr>\n",
       "  </tbody>\n",
       "</table>\n",
       "</div>"
      ],
      "text/plain": [
       "             Open        High         Low       Close        Volume  \\\n",
       "count  718.000000  718.000000  718.000000  718.000000  7.180000e+02   \n",
       "mean   139.939046  143.114316  136.831638  140.015773  6.632710e+06   \n",
       "std     29.769010   30.697037   28.780419   29.650640  5.476551e+06   \n",
       "min     82.970001   84.250000   81.910004   82.489998  1.995400e+06   \n",
       "25%    115.764000  118.907501  113.515001  116.134998  4.121400e+06   \n",
       "50%    140.070000  143.110001  136.769997  139.445000  5.290650e+06   \n",
       "75%    163.924999  168.246498  160.595005  164.720005  7.242825e+06   \n",
       "max    216.240005  219.940002  209.089996  216.839996  7.478640e+07   \n",
       "\n",
       "       Dividends  Stock Splits  \n",
       "count      718.0         718.0  \n",
       "mean         0.0           0.0  \n",
       "std          0.0           0.0  \n",
       "min          0.0           0.0  \n",
       "25%          0.0           0.0  \n",
       "50%          0.0           0.0  \n",
       "75%          0.0           0.0  \n",
       "max          0.0           0.0  "
      ]
     },
     "execution_count": 7,
     "metadata": {},
     "output_type": "execute_result"
    }
   ],
   "source": [
    "df.describe(include='all')"
   ]
  },
  {
   "cell_type": "markdown",
   "id": "06f9efba",
   "metadata": {},
   "source": [
    "Alparecer la columnas Dividend  y Stock Splits es 0, esto puede deberse a que desde hace 716 dias no ha habido reparticion de dividendos ni han hecho Splits a las acciones, para que la gente compre mas."
   ]
  },
  {
   "cell_type": "markdown",
   "id": "77d7c06e",
   "metadata": {},
   "source": [
    "## Confirmamos que toda la  columna tiene valor 0.0"
   ]
  },
  {
   "cell_type": "code",
   "execution_count": 8,
   "id": "38a29046",
   "metadata": {},
   "outputs": [
    {
     "name": "stdout",
     "output_type": "stream",
     "text": [
      "718\n"
     ]
    }
   ],
   "source": [
    "contador_ceros = df['Stock Splits'].value_counts().get(0, 0)\n",
    "print(contador_ceros)\n"
   ]
  },
  {
   "cell_type": "markdown",
   "id": "2411e2f6",
   "metadata": {},
   "source": [
    "## Confirmamos que no hayan numeros diferente de 0"
   ]
  },
  {
   "cell_type": "code",
   "execution_count": 9,
   "id": "48de8268",
   "metadata": {},
   "outputs": [
    {
     "data": {
      "text/html": [
       "<div>\n",
       "<style scoped>\n",
       "    .dataframe tbody tr th:only-of-type {\n",
       "        vertical-align: middle;\n",
       "    }\n",
       "\n",
       "    .dataframe tbody tr th {\n",
       "        vertical-align: top;\n",
       "    }\n",
       "\n",
       "    .dataframe thead th {\n",
       "        text-align: right;\n",
       "    }\n",
       "</style>\n",
       "<table border=\"1\" class=\"dataframe\">\n",
       "  <thead>\n",
       "    <tr style=\"text-align: right;\">\n",
       "      <th></th>\n",
       "      <th>Open</th>\n",
       "      <th>High</th>\n",
       "      <th>Low</th>\n",
       "      <th>Close</th>\n",
       "      <th>Volume</th>\n",
       "      <th>Dividends</th>\n",
       "      <th>Stock Splits</th>\n",
       "    </tr>\n",
       "    <tr>\n",
       "      <th>Date</th>\n",
       "      <th></th>\n",
       "      <th></th>\n",
       "      <th></th>\n",
       "      <th></th>\n",
       "      <th></th>\n",
       "      <th></th>\n",
       "      <th></th>\n",
       "    </tr>\n",
       "  </thead>\n",
       "  <tbody>\n",
       "  </tbody>\n",
       "</table>\n",
       "</div>"
      ],
      "text/plain": [
       "Empty DataFrame\n",
       "Columns: [Open, High, Low, Close, Volume, Dividends, Stock Splits]\n",
       "Index: []"
      ]
     },
     "execution_count": 9,
     "metadata": {},
     "output_type": "execute_result"
    }
   ],
   "source": [
    "# Seleccionar registros que no contengan 0.0 en 'mi_columna'\n",
    "registros_sin_cero = df.loc[df['Stock Splits'] != 0.0]\n",
    "\n",
    "registros_sin_cero"
   ]
  },
  {
   "cell_type": "code",
   "execution_count": 10,
   "id": "57f4be4d",
   "metadata": {},
   "outputs": [
    {
     "data": {
      "text/html": [
       "<div>\n",
       "<style scoped>\n",
       "    .dataframe tbody tr th:only-of-type {\n",
       "        vertical-align: middle;\n",
       "    }\n",
       "\n",
       "    .dataframe tbody tr th {\n",
       "        vertical-align: top;\n",
       "    }\n",
       "\n",
       "    .dataframe thead th {\n",
       "        text-align: right;\n",
       "    }\n",
       "</style>\n",
       "<table border=\"1\" class=\"dataframe\">\n",
       "  <thead>\n",
       "    <tr style=\"text-align: right;\">\n",
       "      <th></th>\n",
       "      <th>Open</th>\n",
       "      <th>High</th>\n",
       "      <th>Low</th>\n",
       "      <th>Close</th>\n",
       "      <th>Volume</th>\n",
       "      <th>Dividends</th>\n",
       "      <th>Stock Splits</th>\n",
       "    </tr>\n",
       "    <tr>\n",
       "      <th>Date</th>\n",
       "      <th></th>\n",
       "      <th></th>\n",
       "      <th></th>\n",
       "      <th></th>\n",
       "      <th></th>\n",
       "      <th></th>\n",
       "      <th></th>\n",
       "    </tr>\n",
       "  </thead>\n",
       "  <tbody>\n",
       "  </tbody>\n",
       "</table>\n",
       "</div>"
      ],
      "text/plain": [
       "Empty DataFrame\n",
       "Columns: [Open, High, Low, Close, Volume, Dividends, Stock Splits]\n",
       "Index: []"
      ]
     },
     "execution_count": 10,
     "metadata": {},
     "output_type": "execute_result"
    }
   ],
   "source": [
    "\n",
    "# Seleccionar registros que no contengan 0.0 en 'mi_columna'\n",
    "registros_sin_cero = df.loc[df['Dividends'] != 0.0]\n",
    "\n",
    "registros_sin_cero"
   ]
  },
  {
   "cell_type": "markdown",
   "id": "ee99b611",
   "metadata": {},
   "source": [
    "Como ninguna de estas 2 columnas nos sirven para anailisis seran borradas posteriormente"
   ]
  },
  {
   "cell_type": "markdown",
   "id": "eb40bc6a",
   "metadata": {},
   "source": [
    "\n",
    "## Corplot Para Analizar las Correlaciones entre Las variables\n"
   ]
  },
  {
   "cell_type": "code",
   "execution_count": 11,
   "id": "9384b995",
   "metadata": {},
   "outputs": [
    {
     "data": {
      "image/png": "[encoded data removed]",
      "text/plain": [
       "<Figure size 1200x800 with 2 Axes>"
      ]
     },
     "metadata": {},
     "output_type": "display_data"
    }
   ],
   "source": [
    "correlation_matrix = df.corr()\n",
    "\n",
    "# Crea el gráfico de matriz de correlación (corrplot)\n",
    "plt.figure(figsize=( 12,8))  # Ajusta el tamaño de la figura según tus preferencias\n",
    "sns.heatmap(correlation_matrix, annot=True, cmap='coolwarm', linewidths=0.5)\n",
    "plt.title('Matriz de Correlación')\n",
    "plt.show()"
   ]
  },
  {
   "cell_type": "markdown",
   "id": "56975e9c",
   "metadata": {},
   "source": [
    "Podemos observar que la unica todos las variables tienen correlacion entre si, exceptuando Volume"
   ]
  },
  {
   "cell_type": "markdown",
   "id": "e0a59239",
   "metadata": {},
   "source": [
    "## Graficando el precio de cierre de Airbnb en Los Ultimos 720 dias "
   ]
  },
  {
   "cell_type": "code",
   "execution_count": 12,
   "id": "b7e7db7e",
   "metadata": {},
   "outputs": [
    {
     "data": {
      "application/vnd.plotly.v1+json": {
       "config": {
        "plotlyServerURL": "https://plot.ly"
       },
       "data": [
        {
         "hovertemplate": "variable=Close<br>Date=%{x}<br>value=%{y}<extra></extra>",
         "legendgroup": "Close",
         "line": {
          "color": "green",
          "dash": "solid"
         },
         "marker": {
          "symbol": "circle"
         },
         "mode": "lines",
         "name": "Close",
         "orientation": "v",
         "showlegend": true,
         "type": "scatter",
         "x": [
          "2020-12-10T00:00:00-05:00",
          "2020-12-11T00:00:00-05:00",
          "2020-12-14T00:00:00-05:00",
          "2020-12-15T00:00:00-05:00",
          "2020-12-16T00:00:00-05:00",
          "2020-12-17T00:00:00-05:00",
          "2020-12-18T00:00:00-05:00",
          "2020-12-21T00:00:00-05:00",
          "2020-12-22T00:00:00-05:00",
          "2020-12-23T00:00:00-05:00",
          "2020-12-24T00:00:00-05:00",
          "2020-12-28T00:00:00-05:00",
          "2020-12-29T00:00:00-05:00",
          "2020-12-30T00:00:00-05:00",
          "2020-12-31T00:00:00-05:00",
          "2021-01-04T00:00:00-05:00",
          "2021-01-05T00:00:00-05:00",
          "2021-01-06T00:00:00-05:00",
          "2021-01-07T00:00:00-05:00",
          "2021-01-08T00:00:00-05:00",
          "2021-01-11T00:00:00-05:00",
          "2021-01-12T00:00:00-05:00",
          "2021-01-13T00:00:00-05:00",
          "2021-01-14T00:00:00-05:00",
          "2021-01-15T00:00:00-05:00",
          "2021-01-19T00:00:00-05:00",
          "2021-01-20T00:00:00-05:00",
          "2021-01-21T00:00:00-05:00",
          "2021-01-22T00:00:00-05:00",
          "2021-01-25T00:00:00-05:00",
          "2021-01-26T00:00:00-05:00",
          "2021-01-27T00:00:00-05:00",
          "2021-01-28T00:00:00-05:00",
          "2021-01-29T00:00:00-05:00",
          "2021-02-01T00:00:00-05:00",
          "2021-02-02T00:00:00-05:00",
          "2021-02-03T00:00:00-05:00",
          "2021-02-04T00:00:00-05:00",
          "2021-02-05T00:00:00-05:00",
          "2021-02-08T00:00:00-05:00",
          "2021-02-09T00:00:00-05:00",
          "2021-02-10T00:00:00-05:00",
          "2021-02-11T00:00:00-05:00",
          "2021-02-12T00:00:00-05:00",
          "2021-02-16T00:00:00-05:00",
          "2021-02-17T00:00:00-05:00",
          "2021-02-18T00:00:00-05:00",
          "2021-02-19T00:00:00-05:00",
          "2021-02-22T00:00:00-05:00",
          "2021-02-23T00:00:00-05:00",
          "2021-02-24T00:00:00-05:00",
          "2021-02-25T00:00:00-05:00",
          "2021-02-26T00:00:00-05:00",
          "2021-03-01T00:00:00-05:00",
          "2021-03-02T00:00:00-05:00",
          "2021-03-03T00:00:00-05:00",
          "2021-03-04T00:00:00-05:00",
          "2021-03-05T00:00:00-05:00",
          "2021-03-08T00:00:00-05:00",
          "2021-03-09T00:00:00-05:00",
          "2021-03-10T00:00:00-05:00",
          "2021-03-11T00:00:00-05:00",
          "2021-03-12T00:00:00-05:00",
          "2021-03-15T00:00:00-04:00",
          "2021-03-16T00:00:00-04:00",
          "2021-03-17T00:00:00-04:00",
          "2021-03-18T00:00:00-04:00",
          "2021-03-19T00:00:00-04:00",
          "2021-03-22T00:00:00-04:00",
          "2021-03-23T00:00:00-04:00",
          "2021-03-24T00:00:00-04:00",
          "2021-03-25T00:00:00-04:00",
          "2021-03-26T00:00:00-04:00",
          "2021-03-29T00:00:00-04:00",
          "2021-03-30T00:00:00-04:00",
          "2021-03-31T00:00:00-04:00",
          "2021-04-01T00:00:00-04:00",
          "2021-04-05T00:00:00-04:00",
          "2021-04-06T00:00:00-04:00",
          "2021-04-07T00:00:00-04:00",
          "2021-04-08T00:00:00-04:00",
          "2021-04-09T00:00:00-04:00",
          "2021-04-12T00:00:00-04:00",
          "2021-04-13T00:00:00-04:00",
          "2021-04-14T00:00:00-04:00",
          "2021-04-15T00:00:00-04:00",
          "2021-04-16T00:00:00-04:00",
          "2021-04-19T00:00:00-04:00",
          "2021-04-20T00:00:00-04:00",
          "2021-04-21T00:00:00-04:00",
          "2021-04-22T00:00:00-04:00",
          "2021-04-23T00:00:00-04:00",
          "2021-04-26T00:00:00-04:00",
          "2021-04-27T00:00:00-04:00",
          "2021-04-28T00:00:00-04:00",
          "2021-04-29T00:00:00-04:00",
          "2021-04-30T00:00:00-04:00",
          "2021-05-03T00:00:00-04:00",
          "2021-05-04T00:00:00-04:00",
          "2021-05-05T00:00:00-04:00",
          "2021-05-06T00:00:00-04:00",
          "2021-05-07T00:00:00-04:00",
          "2021-05-10T00:00:00-04:00",
          "2021-05-11T00:00:00-04:00",
          "2021-05-12T00:00:00-04:00",
          "2021-05-13T00:00:00-04:00",
          "2021-05-14T00:00:00-04:00",
          "2021-05-17T00:00:00-04:00",
          "2021-05-18T00:00:00-04:00",
          "2021-05-19T00:00:00-04:00",
          "2021-05-20T00:00:00-04:00",
          "2021-05-21T00:00:00-04:00",
          "2021-05-24T00:00:00-04:00",
          "2021-05-25T00:00:00-04:00",
          "2021-05-26T00:00:00-04:00",
          "2021-05-27T00:00:00-04:00",
          "2021-05-28T00:00:00-04:00",
          "2021-06-01T00:00:00-04:00",
          "2021-06-02T00:00:00-04:00",
          "2021-06-03T00:00:00-04:00",
          "2021-06-04T00:00:00-04:00",
          "2021-06-07T00:00:00-04:00",
          "2021-06-08T00:00:00-04:00",
          "2021-06-09T00:00:00-04:00",
          "2021-06-10T00:00:00-04:00",
          "2021-06-11T00:00:00-04:00",
          "2021-06-14T00:00:00-04:00",
          "2021-06-15T00:00:00-04:00",
          "2021-06-16T00:00:00-04:00",
          "2021-06-17T00:00:00-04:00",
          "2021-06-18T00:00:00-04:00",
          "2021-06-21T00:00:00-04:00",
          "2021-06-22T00:00:00-04:00",
          "2021-06-23T00:00:00-04:00",
          "2021-06-24T00:00:00-04:00",
          "2021-06-25T00:00:00-04:00",
          "2021-06-28T00:00:00-04:00",
          "2021-06-29T00:00:00-04:00",
          "2021-06-30T00:00:00-04:00",
          "2021-07-01T00:00:00-04:00",
          "2021-07-02T00:00:00-04:00",
          "2021-07-06T00:00:00-04:00",
          "2021-07-07T00:00:00-04:00",
          "2021-07-08T00:00:00-04:00",
          "2021-07-09T00:00:00-04:00",
          "2021-07-12T00:00:00-04:00",
          "2021-07-13T00:00:00-04:00",
          "2021-07-14T00:00:00-04:00",
          "2021-07-15T00:00:00-04:00",
          "2021-07-16T00:00:00-04:00",
          "2021-07-19T00:00:00-04:00",
          "2021-07-20T00:00:00-04:00",
          "2021-07-21T00:00:00-04:00",
          "2021-07-22T00:00:00-04:00",
          "2021-07-23T00:00:00-04:00",
          "2021-07-26T00:00:00-04:00",
          "2021-07-27T00:00:00-04:00",
          "2021-07-28T00:00:00-04:00",
          "2021-07-29T00:00:00-04:00",
          "2021-07-30T00:00:00-04:00",
          "2021-08-02T00:00:00-04:00",
          "2021-08-03T00:00:00-04:00",
          "2021-08-04T00:00:00-04:00",
          "2021-08-05T00:00:00-04:00",
          "2021-08-06T00:00:00-04:00",
          "2021-08-09T00:00:00-04:00",
          "2021-08-10T00:00:00-04:00",
          "2021-08-11T00:00:00-04:00",
          "2021-08-12T00:00:00-04:00",
          "2021-08-13T00:00:00-04:00",
          "2021-08-16T00:00:00-04:00",
          "2021-08-17T00:00:00-04:00",
          "2021-08-18T00:00:00-04:00",
          "2021-08-19T00:00:00-04:00",
          "2021-08-20T00:00:00-04:00",
          "2021-08-23T00:00:00-04:00",
          "2021-08-24T00:00:00-04:00",
          "2021-08-25T00:00:00-04:00",
          "2021-08-26T00:00:00-04:00",
          "2021-08-27T00:00:00-04:00",
          "2021-08-30T00:00:00-04:00",
          "2021-08-31T00:00:00-04:00",
          "2021-09-01T00:00:00-04:00",
          "2021-09-02T00:00:00-04:00",
          "2021-09-03T00:00:00-04:00",
          "2021-09-07T00:00:00-04:00",
          "2021-09-08T00:00:00-04:00",
          "2021-09-09T00:00:00-04:00",
          "2021-09-10T00:00:00-04:00",
          "2021-09-13T00:00:00-04:00",
          "2021-09-14T00:00:00-04:00",
          "2021-09-15T00:00:00-04:00",
          "2021-09-16T00:00:00-04:00",
          "2021-09-17T00:00:00-04:00",
          "2021-09-20T00:00:00-04:00",
          "2021-09-21T00:00:00-04:00",
          "2021-09-22T00:00:00-04:00",
          "2021-09-23T00:00:00-04:00",
          "2021-09-24T00:00:00-04:00",
          "2021-09-27T00:00:00-04:00",
          "2021-09-28T00:00:00-04:00",
          "2021-09-29T00:00:00-04:00",
          "2021-09-30T00:00:00-04:00",
          "2021-10-01T00:00:00-04:00",
          "2021-10-04T00:00:00-04:00",
          "2021-10-05T00:00:00-04:00",
          "2021-10-06T00:00:00-04:00",
          "2021-10-07T00:00:00-04:00",
          "2021-10-08T00:00:00-04:00",
          "2021-10-11T00:00:00-04:00",
          "2021-10-12T00:00:00-04:00",
          "2021-10-13T00:00:00-04:00",
          "2021-10-14T00:00:00-04:00",
          "2021-10-15T00:00:00-04:00",
          "2021-10-18T00:00:00-04:00",
          "2021-10-19T00:00:00-04:00",
          "2021-10-20T00:00:00-04:00",
          "2021-10-21T00:00:00-04:00",
          "2021-10-22T00:00:00-04:00",
          "2021-10-25T00:00:00-04:00",
          "2021-10-26T00:00:00-04:00",
          "2021-10-27T00:00:00-04:00",
          "2021-10-28T00:00:00-04:00",
          "2021-10-29T00:00:00-04:00",
          "2021-11-01T00:00:00-04:00",
          "2021-11-02T00:00:00-04:00",
          "2021-11-03T00:00:00-04:00",
          "2021-11-04T00:00:00-04:00",
          "2021-11-05T00:00:00-04:00",
          "2021-11-08T00:00:00-05:00",
          "2021-11-09T00:00:00-05:00",
          "2021-11-10T00:00:00-05:00",
          "2021-11-11T00:00:00-05:00",
          "2021-11-12T00:00:00-05:00",
          "2021-11-15T00:00:00-05:00",
          "2021-11-16T00:00:00-05:00",
          "2021-11-17T00:00:00-05:00",
          "2021-11-18T00:00:00-05:00",
          "2021-11-19T00:00:00-05:00",
          "2021-11-22T00:00:00-05:00",
          "2021-11-23T00:00:00-05:00",
          "2021-11-24T00:00:00-05:00",
          "2021-11-26T00:00:00-05:00",
          "2021-11-29T00:00:00-05:00",
          "2021-11-30T00:00:00-05:00",
          "2021-12-01T00:00:00-05:00",
          "2021-12-02T00:00:00-05:00",
          "2021-12-03T00:00:00-05:00",
          "2021-12-06T00:00:00-05:00",
          "2021-12-07T00:00:00-05:00",
          "2021-12-08T00:00:00-05:00",
          "2021-12-09T00:00:00-05:00",
          "2021-12-10T00:00:00-05:00",
          "2021-12-13T00:00:00-05:00",
          "2021-12-14T00:00:00-05:00",
          "2021-12-15T00:00:00-05:00",
          "2021-12-16T00:00:00-05:00",
          "2021-12-17T00:00:00-05:00",
          "2021-12-20T00:00:00-05:00",
          "2021-12-21T00:00:00-05:00",
          "2021-12-22T00:00:00-05:00",
          "2021-12-23T00:00:00-05:00",
          "2021-12-27T00:00:00-05:00",
          "2021-12-28T00:00:00-05:00",
          "2021-12-29T00:00:00-05:00",
          "2021-12-30T00:00:00-05:00",
          "2021-12-31T00:00:00-05:00",
          "2022-01-03T00:00:00-05:00",
          "2022-01-04T00:00:00-05:00",
          "2022-01-05T00:00:00-05:00",
          "2022-01-06T00:00:00-05:00",
          "2022-01-07T00:00:00-05:00",
          "2022-01-10T00:00:00-05:00",
          "2022-01-11T00:00:00-05:00",
          "2022-01-12T00:00:00-05:00",
          "2022-01-13T00:00:00-05:00",
          "2022-01-14T00:00:00-05:00",
          "2022-01-18T00:00:00-05:00",
          "2022-01-19T00:00:00-05:00",
          "2022-01-20T00:00:00-05:00",
          "2022-01-21T00:00:00-05:00",
          "2022-01-24T00:00:00-05:00",
          "2022-01-25T00:00:00-05:00",
          "2022-01-26T00:00:00-05:00",
          "2022-01-27T00:00:00-05:00",
          "2022-01-28T00:00:00-05:00",
          "2022-01-31T00:00:00-05:00",
          "2022-02-01T00:00:00-05:00",
          "2022-02-02T00:00:00-05:00",
          "2022-02-03T00:00:00-05:00",
          "2022-02-04T00:00:00-05:00",
          "2022-02-07T00:00:00-05:00",
          "2022-02-08T00:00:00-05:00",
          "2022-02-09T00:00:00-05:00",
          "2022-02-10T00:00:00-05:00",
          "2022-02-11T00:00:00-05:00",
          "2022-02-14T00:00:00-05:00",
          "2022-02-15T00:00:00-05:00",
          "2022-02-16T00:00:00-05:00",
          "2022-02-17T00:00:00-05:00",
          "2022-02-18T00:00:00-05:00",
          "2022-02-22T00:00:00-05:00",
          "2022-02-23T00:00:00-05:00",
          "2022-02-24T00:00:00-05:00",
          "2022-02-25T00:00:00-05:00",
          "2022-02-28T00:00:00-05:00",
          "2022-03-01T00:00:00-05:00",
          "2022-03-02T00:00:00-05:00",
          "2022-03-03T00:00:00-05:00",
          "2022-03-04T00:00:00-05:00",
          "2022-03-07T00:00:00-05:00",
          "2022-03-08T00:00:00-05:00",
          "2022-03-09T00:00:00-05:00",
          "2022-03-10T00:00:00-05:00",
          "2022-03-11T00:00:00-05:00",
          "2022-03-14T00:00:00-04:00",
          "2022-03-15T00:00:00-04:00",
          "2022-03-16T00:00:00-04:00",
          "2022-03-17T00:00:00-04:00",
          "2022-03-18T00:00:00-04:00",
          "2022-03-21T00:00:00-04:00",
          "2022-03-22T00:00:00-04:00",
          "2022-03-23T00:00:00-04:00",
          "2022-03-24T00:00:00-04:00",
          "2022-03-25T00:00:00-04:00",
          "2022-03-28T00:00:00-04:00",
          "2022-03-29T00:00:00-04:00",
          "2022-03-30T00:00:00-04:00",
          "2022-03-31T00:00:00-04:00",
          "2022-04-01T00:00:00-04:00",
          "2022-04-04T00:00:00-04:00",
          "2022-04-05T00:00:00-04:00",
          "2022-04-06T00:00:00-04:00",
          "2022-04-07T00:00:00-04:00",
          "2022-04-08T00:00:00-04:00",
          "2022-04-11T00:00:00-04:00",
          "2022-04-12T00:00:00-04:00",
          "2022-04-13T00:00:00-04:00",
          "2022-04-14T00:00:00-04:00",
          "2022-04-18T00:00:00-04:00",
          "2022-04-19T00:00:00-04:00",
          "2022-04-20T00:00:00-04:00",
          "2022-04-21T00:00:00-04:00",
          "2022-04-22T00:00:00-04:00",
          "2022-04-25T00:00:00-04:00",
          "2022-04-26T00:00:00-04:00",
          "2022-04-27T00:00:00-04:00",
          "2022-04-28T00:00:00-04:00",
          "2022-04-29T00:00:00-04:00",
          "2022-05-02T00:00:00-04:00",
          "2022-05-03T00:00:00-04:00",
          "2022-05-04T00:00:00-04:00",
          "2022-05-05T00:00:00-04:00",
          "2022-05-06T00:00:00-04:00",
          "2022-05-09T00:00:00-04:00",
          "2022-05-10T00:00:00-04:00",
          "2022-05-11T00:00:00-04:00",
          "2022-05-12T00:00:00-04:00",
          "2022-05-13T00:00:00-04:00",
          "2022-05-16T00:00:00-04:00",
          "2022-05-17T00:00:00-04:00",
          "2022-05-18T00:00:00-04:00",
          "2022-05-19T00:00:00-04:00",
          "2022-05-20T00:00:00-04:00",
          "2022-05-23T00:00:00-04:00",
          "2022-05-24T00:00:00-04:00",
          "2022-05-25T00:00:00-04:00",
          "2022-05-26T00:00:00-04:00",
          "2022-05-27T00:00:00-04:00",
          "2022-05-31T00:00:00-04:00",
          "2022-06-01T00:00:00-04:00",
          "2022-06-02T00:00:00-04:00",
          "2022-06-03T00:00:00-04:00",
          "2022-06-06T00:00:00-04:00",
          "2022-06-07T00:00:00-04:00",
          "2022-06-08T00:00:00-04:00",
          "2022-06-09T00:00:00-04:00",
          "2022-06-10T00:00:00-04:00",
          "2022-06-13T00:00:00-04:00",
          "2022-06-14T00:00:00-04:00",
          "2022-06-15T00:00:00-04:00",
          "2022-06-16T00:00:00-04:00",
          "2022-06-17T00:00:00-04:00",
          "2022-06-21T00:00:00-04:00",
          "2022-06-22T00:00:00-04:00",
          "2022-06-23T00:00:00-04:00",
          "2022-06-24T00:00:00-04:00",
          "2022-06-27T00:00:00-04:00",
          "2022-06-28T00:00:00-04:00",
          "2022-06-29T00:00:00-04:00",
          "2022-06-30T00:00:00-04:00",
          "2022-07-01T00:00:00-04:00",
          "2022-07-05T00:00:00-04:00",
          "2022-07-06T00:00:00-04:00",
          "2022-07-07T00:00:00-04:00",
          "2022-07-08T00:00:00-04:00",
          "2022-07-11T00:00:00-04:00",
          "2022-07-12T00:00:00-04:00",
          "2022-07-13T00:00:00-04:00",
          "2022-07-14T00:00:00-04:00",
          "2022-07-15T00:00:00-04:00",
          "2022-07-18T00:00:00-04:00",
          "2022-07-19T00:00:00-04:00",
          "2022-07-20T00:00:00-04:00",
          "2022-07-21T00:00:00-04:00",
          "2022-07-22T00:00:00-04:00",
          "2022-07-25T00:00:00-04:00",
          "2022-07-26T00:00:00-04:00",
          "2022-07-27T00:00:00-04:00",
          "2022-07-28T00:00:00-04:00",
          "2022-07-29T00:00:00-04:00",
          "2022-08-01T00:00:00-04:00",
          "2022-08-02T00:00:00-04:00",
          "2022-08-03T00:00:00-04:00",
          "2022-08-04T00:00:00-04:00",
          "2022-08-05T00:00:00-04:00",
          "2022-08-08T00:00:00-04:00",
          "2022-08-09T00:00:00-04:00",
          "2022-08-10T00:00:00-04:00",
          "2022-08-11T00:00:00-04:00",
          "2022-08-12T00:00:00-04:00",
          "2022-08-15T00:00:00-04:00",
          "2022-08-16T00:00:00-04:00",
          "2022-08-17T00:00:00-04:00",
          "2022-08-18T00:00:00-04:00",
          "2022-08-19T00:00:00-04:00",
          "2022-08-22T00:00:00-04:00",
          "2022-08-23T00:00:00-04:00",
          "2022-08-24T00:00:00-04:00",
          "2022-08-25T00:00:00-04:00",
          "2022-08-26T00:00:00-04:00",
          "2022-08-29T00:00:00-04:00",
          "2022-08-30T00:00:00-04:00",
          "2022-08-31T00:00:00-04:00",
          "2022-09-01T00:00:00-04:00",
          "2022-09-02T00:00:00-04:00",
          "2022-09-06T00:00:00-04:00",
          "2022-09-07T00:00:00-04:00",
          "2022-09-08T00:00:00-04:00",
          "2022-09-09T00:00:00-04:00",
          "2022-09-12T00:00:00-04:00",
          "2022-09-13T00:00:00-04:00",
          "2022-09-14T00:00:00-04:00",
          "2022-09-15T00:00:00-04:00",
          "2022-09-16T00:00:00-04:00",
          "2022-09-19T00:00:00-04:00",
          "2022-09-20T00:00:00-04:00",
          "2022-09-21T00:00:00-04:00",
          "2022-09-22T00:00:00-04:00",
          "2022-09-23T00:00:00-04:00",
          "2022-09-26T00:00:00-04:00",
          "2022-09-27T00:00:00-04:00",
          "2022-09-28T00:00:00-04:00",
          "2022-09-29T00:00:00-04:00",
          "2022-09-30T00:00:00-04:00",
          "2022-10-03T00:00:00-04:00",
          "2022-10-04T00:00:00-04:00",
          "2022-10-05T00:00:00-04:00",
          "2022-10-06T00:00:00-04:00",
          "2022-10-07T00:00:00-04:00",
          "2022-10-10T00:00:00-04:00",
          "2022-10-11T00:00:00-04:00",
          "2022-10-12T00:00:00-04:00",
          "2022-10-13T00:00:00-04:00",
          "2022-10-14T00:00:00-04:00",
          "2022-10-17T00:00:00-04:00",
          "2022-10-18T00:00:00-04:00",
          "2022-10-19T00:00:00-04:00",
          "2022-10-20T00:00:00-04:00",
          "2022-10-21T00:00:00-04:00",
          "2022-10-24T00:00:00-04:00",
          "2022-10-25T00:00:00-04:00",
          "2022-10-26T00:00:00-04:00",
          "2022-10-27T00:00:00-04:00",
          "2022-10-28T00:00:00-04:00",
          "2022-10-31T00:00:00-04:00",
          "2022-11-01T00:00:00-04:00",
          "2022-11-02T00:00:00-04:00",
          "2022-11-03T00:00:00-04:00",
          "2022-11-04T00:00:00-04:00",
          "2022-11-07T00:00:00-05:00",
          "2022-11-08T00:00:00-05:00",
          "2022-11-09T00:00:00-05:00",
          "2022-11-10T00:00:00-05:00",
          "2022-11-11T00:00:00-05:00",
          "2022-11-14T00:00:00-05:00",
          "2022-11-15T00:00:00-05:00",
          "2022-11-16T00:00:00-05:00",
          "2022-11-17T00:00:00-05:00",
          "2022-11-18T00:00:00-05:00",
          "2022-11-21T00:00:00-05:00",
          "2022-11-22T00:00:00-05:00",
          "2022-11-23T00:00:00-05:00",
          "2022-11-25T00:00:00-05:00",
          "2022-11-28T00:00:00-05:00",
          "2022-11-29T00:00:00-05:00",
          "2022-11-30T00:00:00-05:00",
          "2022-12-01T00:00:00-05:00",
          "2022-12-02T00:00:00-05:00",
          "2022-12-05T00:00:00-05:00",
          "2022-12-06T00:00:00-05:00",
          "2022-12-07T00:00:00-05:00",
          "2022-12-08T00:00:00-05:00",
          "2022-12-09T00:00:00-05:00",
          "2022-12-12T00:00:00-05:00",
          "2022-12-13T00:00:00-05:00",
          "2022-12-14T00:00:00-05:00",
          "2022-12-15T00:00:00-05:00",
          "2022-12-16T00:00:00-05:00",
          "2022-12-19T00:00:00-05:00",
          "2022-12-20T00:00:00-05:00",
          "2022-12-21T00:00:00-05:00",
          "2022-12-22T00:00:00-05:00",
          "2022-12-23T00:00:00-05:00",
          "2022-12-27T00:00:00-05:00",
          "2022-12-28T00:00:00-05:00",
          "2022-12-29T00:00:00-05:00",
          "2022-12-30T00:00:00-05:00",
          "2023-01-03T00:00:00-05:00",
          "2023-01-04T00:00:00-05:00",
          "2023-01-05T00:00:00-05:00",
          "2023-01-06T00:00:00-05:00",
          "2023-01-09T00:00:00-05:00",
          "2023-01-10T00:00:00-05:00",
          "2023-01-11T00:00:00-05:00",
          "2023-01-12T00:00:00-05:00",
          "2023-01-13T00:00:00-05:00",
          "2023-01-17T00:00:00-05:00",
          "2023-01-18T00:00:00-05:00",
          "2023-01-19T00:00:00-05:00",
          "2023-01-20T00:00:00-05:00",
          "2023-01-23T00:00:00-05:00",
          "2023-01-24T00:00:00-05:00",
          "2023-01-25T00:00:00-05:00",
          "2023-01-26T00:00:00-05:00",
          "2023-01-27T00:00:00-05:00",
          "2023-01-30T00:00:00-05:00",
          "2023-01-31T00:00:00-05:00",
          "2023-02-01T00:00:00-05:00",
          "2023-02-02T00:00:00-05:00",
          "2023-02-03T00:00:00-05:00",
          "2023-02-06T00:00:00-05:00",
          "2023-02-07T00:00:00-05:00",
          "2023-02-08T00:00:00-05:00",
          "2023-02-09T00:00:00-05:00",
          "2023-02-10T00:00:00-05:00",
          "2023-02-13T00:00:00-05:00",
          "2023-02-14T00:00:00-05:00",
          "2023-02-15T00:00:00-05:00",
          "2023-02-16T00:00:00-05:00",
          "2023-02-17T00:00:00-05:00",
          "2023-02-21T00:00:00-05:00",
          "2023-02-22T00:00:00-05:00",
          "2023-02-23T00:00:00-05:00",
          "2023-02-24T00:00:00-05:00",
          "2023-02-27T00:00:00-05:00",
          "2023-02-28T00:00:00-05:00",
          "2023-03-01T00:00:00-05:00",
          "2023-03-02T00:00:00-05:00",
          "2023-03-03T00:00:00-05:00",
          "2023-03-06T00:00:00-05:00",
          "2023-03-07T00:00:00-05:00",
          "2023-03-08T00:00:00-05:00",
          "2023-03-09T00:00:00-05:00",
          "2023-03-10T00:00:00-05:00",
          "2023-03-13T00:00:00-04:00",
          "2023-03-14T00:00:00-04:00",
          "2023-03-15T00:00:00-04:00",
          "2023-03-16T00:00:00-04:00",
          "2023-03-17T00:00:00-04:00",
          "2023-03-20T00:00:00-04:00",
          "2023-03-21T00:00:00-04:00",
          "2023-03-22T00:00:00-04:00",
          "2023-03-23T00:00:00-04:00",
          "2023-03-24T00:00:00-04:00",
          "2023-03-27T00:00:00-04:00",
          "2023-03-28T00:00:00-04:00",
          "2023-03-29T00:00:00-04:00",
          "2023-03-30T00:00:00-04:00",
          "2023-03-31T00:00:00-04:00",
          "2023-04-03T00:00:00-04:00",
          "2023-04-04T00:00:00-04:00",
          "2023-04-05T00:00:00-04:00",
          "2023-04-06T00:00:00-04:00",
          "2023-04-10T00:00:00-04:00",
          "2023-04-11T00:00:00-04:00",
          "2023-04-12T00:00:00-04:00",
          "2023-04-13T00:00:00-04:00",
          "2023-04-14T00:00:00-04:00",
          "2023-04-17T00:00:00-04:00",
          "2023-04-18T00:00:00-04:00",
          "2023-04-19T00:00:00-04:00",
          "2023-04-20T00:00:00-04:00",
          "2023-04-21T00:00:00-04:00",
          "2023-04-24T00:00:00-04:00",
          "2023-04-25T00:00:00-04:00",
          "2023-04-26T00:00:00-04:00",
          "2023-04-27T00:00:00-04:00",
          "2023-04-28T00:00:00-04:00",
          "2023-05-01T00:00:00-04:00",
          "2023-05-02T00:00:00-04:00",
          "2023-05-03T00:00:00-04:00",
          "2023-05-04T00:00:00-04:00",
          "2023-05-05T00:00:00-04:00",
          "2023-05-08T00:00:00-04:00",
          "2023-05-09T00:00:00-04:00",
          "2023-05-10T00:00:00-04:00",
          "2023-05-11T00:00:00-04:00",
          "2023-05-12T00:00:00-04:00",
          "2023-05-15T00:00:00-04:00",
          "2023-05-16T00:00:00-04:00",
          "2023-05-17T00:00:00-04:00",
          "2023-05-18T00:00:00-04:00",
          "2023-05-19T00:00:00-04:00",
          "2023-05-22T00:00:00-04:00",
          "2023-05-23T00:00:00-04:00",
          "2023-05-24T00:00:00-04:00",
          "2023-05-25T00:00:00-04:00",
          "2023-05-26T00:00:00-04:00",
          "2023-05-30T00:00:00-04:00",
          "2023-05-31T00:00:00-04:00",
          "2023-06-01T00:00:00-04:00",
          "2023-06-02T00:00:00-04:00",
          "2023-06-05T00:00:00-04:00",
          "2023-06-06T00:00:00-04:00",
          "2023-06-07T00:00:00-04:00",
          "2023-06-08T00:00:00-04:00",
          "2023-06-09T00:00:00-04:00",
          "2023-06-12T00:00:00-04:00",
          "2023-06-13T00:00:00-04:00",
          "2023-06-14T00:00:00-04:00",
          "2023-06-15T00:00:00-04:00",
          "2023-06-16T00:00:00-04:00",
          "2023-06-20T00:00:00-04:00",
          "2023-06-21T00:00:00-04:00",
          "2023-06-22T00:00:00-04:00",
          "2023-06-23T00:00:00-04:00",
          "2023-06-26T00:00:00-04:00",
          "2023-06-27T00:00:00-04:00",
          "2023-06-28T00:00:00-04:00",
          "2023-06-29T00:00:00-04:00",
          "2023-06-30T00:00:00-04:00",
          "2023-07-03T00:00:00-04:00",
          "2023-07-05T00:00:00-04:00",
          "2023-07-06T00:00:00-04:00",
          "2023-07-07T00:00:00-04:00",
          "2023-07-10T00:00:00-04:00",
          "2023-07-11T00:00:00-04:00",
          "2023-07-12T00:00:00-04:00",
          "2023-07-13T00:00:00-04:00",
          "2023-07-14T00:00:00-04:00",
          "2023-07-17T00:00:00-04:00",
          "2023-07-18T00:00:00-04:00",
          "2023-07-19T00:00:00-04:00",
          "2023-07-20T00:00:00-04:00",
          "2023-07-21T00:00:00-04:00",
          "2023-07-24T00:00:00-04:00",
          "2023-07-25T00:00:00-04:00",
          "2023-07-26T00:00:00-04:00",
          "2023-07-27T00:00:00-04:00",
          "2023-07-28T00:00:00-04:00",
          "2023-07-31T00:00:00-04:00",
          "2023-08-01T00:00:00-04:00",
          "2023-08-02T00:00:00-04:00",
          "2023-08-03T00:00:00-04:00",
          "2023-08-04T00:00:00-04:00",
          "2023-08-07T00:00:00-04:00",
          "2023-08-08T00:00:00-04:00",
          "2023-08-09T00:00:00-04:00",
          "2023-08-10T00:00:00-04:00",
          "2023-08-11T00:00:00-04:00",
          "2023-08-14T00:00:00-04:00",
          "2023-08-15T00:00:00-04:00",
          "2023-08-16T00:00:00-04:00",
          "2023-08-17T00:00:00-04:00",
          "2023-08-18T00:00:00-04:00",
          "2023-08-21T00:00:00-04:00",
          "2023-08-22T00:00:00-04:00",
          "2023-08-23T00:00:00-04:00",
          "2023-08-24T00:00:00-04:00",
          "2023-08-25T00:00:00-04:00",
          "2023-08-28T00:00:00-04:00",
          "2023-08-29T00:00:00-04:00",
          "2023-08-30T00:00:00-04:00",
          "2023-08-31T00:00:00-04:00",
          "2023-09-01T00:00:00-04:00",
          "2023-09-05T00:00:00-04:00",
          "2023-09-06T00:00:00-04:00",
          "2023-09-07T00:00:00-04:00",
          "2023-09-08T00:00:00-04:00",
          "2023-09-11T00:00:00-04:00",
          "2023-09-12T00:00:00-04:00",
          "2023-09-13T00:00:00-04:00",
          "2023-09-14T00:00:00-04:00",
          "2023-09-15T00:00:00-04:00",
          "2023-09-18T00:00:00-04:00",
          "2023-09-19T00:00:00-04:00",
          "2023-09-20T00:00:00-04:00",
          "2023-09-21T00:00:00-04:00",
          "2023-09-22T00:00:00-04:00",
          "2023-09-25T00:00:00-04:00",
          "2023-09-26T00:00:00-04:00",
          "2023-09-27T00:00:00-04:00",
          "2023-09-28T00:00:00-04:00",
          "2023-09-29T00:00:00-04:00",
          "2023-10-02T00:00:00-04:00",
          "2023-10-03T00:00:00-04:00",
          "2023-10-04T00:00:00-04:00",
          "2023-10-05T00:00:00-04:00",
          "2023-10-06T00:00:00-04:00",
          "2023-10-09T00:00:00-04:00",
          "2023-10-10T00:00:00-04:00",
          "2023-10-11T00:00:00-04:00",
          "2023-10-12T00:00:00-04:00",
          "2023-10-13T00:00:00-04:00",
          "2023-10-16T00:00:00-04:00",
          "2023-10-17T00:00:00-04:00",
          "2023-10-18T00:00:00-04:00"
         ],
         "xaxis": "x",
         "y": [
          144.7100067138672,
          139.25,
          130,
          124.80000305175781,
          137.99000549316406,
          147.0500030517578,
          157.3000030517578,
          163.02000427246094,
          163.19000244140625,
          158.00999450683594,
          154.83999633789062,
          149,
          150,
          148.42999267578125,
          146.8000030517578,
          139.14999389648438,
          148.3000030517578,
          142.77000427246094,
          151.27000427246094,
          149.77000427246094,
          148.1300048828125,
          160.8000030517578,
          169.99000549316406,
          180.5,
          169.27000427246094,
          173.69000244140625,
          161.8300018310547,
          180.39999389648438,
          181.8699951171875,
          177.52999877929688,
          192.74000549316406,
          201.25,
          187.3699951171875,
          183.6300048828125,
          180.44000244140625,
          179.1699981689453,
          185.72000122070312,
          195.8000030517578,
          195.30999755859375,
          200.42999267578125,
          199.8800048828125,
          211.66000366210938,
          216.83999633789062,
          212.67999267578125,
          209.86000061035156,
          201.9600067138672,
          198.0399932861328,
          201.07000732421875,
          195.33999633789062,
          187.58999633789062,
          200.1999969482422,
          182.05999755859375,
          206.35000610351562,
          196.4199981689453,
          189.89999389648438,
          180.39999389648438,
          180.22999572753906,
          179.80999755859375,
          180.80999755859375,
          183.11000061035156,
          183.7899932861328,
          197.8699951171875,
          206.74000549316406,
          209.99000549316406,
          200.00999450683594,
          201.36000061035156,
          191.4499969482422,
          194.38999938964844,
          195,
          187.13999938964844,
          178.85000610351562,
          176.16000366210938,
          174.39999389648438,
          182.5,
          183.10000610351562,
          187.94000244140625,
          188.24000549316406,
          186.69000244140625,
          190.02999877929688,
          179.94000244140625,
          180.17999267578125,
          179.5,
          176.49000549316406,
          177.9499969482422,
          176.42999267578125,
          175.35000610351562,
          178.69000244140625,
          174.5800018310547,
          169.57000732421875,
          167.07000732421875,
          170.7100067138672,
          174.25,
          174.8800048828125,
          177.94000244140625,
          180,
          177.67999267578125,
          172.7100067138672,
          168.11000061035156,
          168.89999389648438,
          162.3300018310547,
          153.63999938964844,
          151.2100067138672,
          146.72999572753906,
          142.72999572753906,
          140.25,
          135.75,
          141.1999969482422,
          132.5,
          135.02000427246094,
          138.19000244140625,
          136.1999969482422,
          134.7100067138672,
          135.91000366210938,
          133.99000549316406,
          134.75,
          143.1699981689453,
          140.39999389648438,
          144.30999755859375,
          151,
          144.19000244140625,
          150.72999572753906,
          148.97000122070312,
          147.00999450683594,
          144.85000610351562,
          146.1199951171875,
          148.44000244140625,
          149.2100067138672,
          151.77999877929688,
          149.14999389648438,
          150.6999969482422,
          152.52000427246094,
          149.6999969482422,
          149.67999267578125,
          151.5800018310547,
          150.72999572753906,
          149.6699981689453,
          149.94000244140625,
          146.0800018310547,
          153.13999938964844,
          153.0800018310547,
          150.22999572753906,
          148.3699951171875,
          143.72000122070312,
          142.52999877929688,
          149.63999938964844,
          146.69000244140625,
          143.41000366210938,
          139.08999633789062,
          137.5,
          134.30999755859375,
          131.8800048828125,
          136.08999633789062,
          139.25,
          139.47000122070312,
          138.72999572753906,
          142,
          141.5800018310547,
          143.3000030517578,
          143.47000122070312,
          144.00999450683594,
          145.49000549316406,
          145.64999389648438,
          147.39999389648438,
          150.32000732421875,
          149.99000549316406,
          149.44000244140625,
          147.9499969482422,
          148.16000366210938,
          151.14999389648438,
          152.75999450683594,
          148.57000732421875,
          143.89999389648438,
          146.74000549316406,
          142.64999389648438,
          143.6999969482422,
          146.7899932861328,
          161.4199981689453,
          160.35000610351562,
          152.72999572753906,
          154.17999267578125,
          156.02000427246094,
          154.99000549316406,
          156.58999633789062,
          157.1999969482422,
          158,
          165,
          163.92999267578125,
          166,
          165.1999969482422,
          160.32000732421875,
          163.3000030517578,
          166.3699951171875,
          168.14999389648438,
          166.58999633789062,
          161.63999938964844,
          169.2899932861328,
          169.9600067138672,
          175.1300048828125,
          175.8800048828125,
          174.25999450683594,
          168.5800018310547,
          168.07000732421875,
          167.75,
          173.00999450683594,
          164.5,
          164.74000549316406,
          167.25,
          169.60000610351562,
          169.97000122070312,
          166.6699981689453,
          172.75,
          173.5800018310547,
          170.5,
          169.17999267578125,
          172.32000732421875,
          170.74000549316406,
          169.75999450683594,
          170.5,
          166.63999938964844,
          169.24000549316406,
          171.13999938964844,
          169.10000610351562,
          171.6999969482422,
          170.66000366210938,
          174.60000610351562,
          172.8699951171875,
          172.8699951171875,
          178.4499969482422,
          201.6199951171875,
          200.32000732421875,
          194.67999267578125,
          192.22000122070312,
          191.61000061035156,
          206.5399932861328,
          207.2100067138672,
          207.0399932861328,
          199.11000061035156,
          204.3300018310547,
          196.4199981689453,
          181.72999572753906,
          178.27000427246094,
          179.88999938964844,
          173.86000061035156,
          180.0800018310547,
          172.5399932861328,
          163.0800018310547,
          169.60000610351562,
          166.75,
          180.85000610351562,
          183.13999938964844,
          186.49000549316406,
          181.4600067138672,
          180.4199981689453,
          171.0399932861328,
          167.9600067138672,
          168.13999938964844,
          156.3800048828125,
          157.91000366210938,
          157.22999572753906,
          165.66000366210938,
          169.2899932861328,
          171.30999755859375,
          171.67999267578125,
          169.7100067138672,
          167.44000244140625,
          168.77999877929688,
          166.49000549316406,
          172.67999267578125,
          170.8000030517578,
          162.25,
          159.75,
          166.0500030517578,
          160.7100067138672,
          168.61000061035156,
          169.5399932861328,
          166,
          163.99000549316406,
          154.69000244140625,
          154.5800018310547,
          158,
          156.72999572753906,
          147.89999389648438,
          144.55999755859375,
          142.13999938964844,
          138.41000366210938,
          142.77000427246094,
          153.97000122070312,
          156.94000244140625,
          151.75999450683594,
          149.57000732421875,
          155.55999755859375,
          157.91000366210938,
          162.25999450683594,
          169.52999877929688,
          171.9499969482422,
          166.52999877929688,
          169.66000366210938,
          180.07000732421875,
          186.63999938964844,
          183.60000610351562,
          174.89999389648438,
          165.24000549316406,
          150.0399932861328,
          158.25999450683594,
          155.08999633789062,
          151.49000549316406,
          151.00999450683594,
          157.52999877929688,
          151.69000244140625,
          142.6999969482422,
          131.58999633789062,
          142.1300048828125,
          148.30999755859375,
          151.8000030517578,
          145.13999938964844,
          138.5,
          143.9499969482422,
          155.75,
          157.5500030517578,
          167,
          161.8000030517578,
          166.44000244140625,
          164.16000366210938,
          170.8300018310547,
          167.22000122070312,
          167.64999389648438,
          175.52000427246094,
          173.6300048828125,
          171.75999450683594,
          173.07000732421875,
          177.02000427246094,
          171.2100067138672,
          164.66000366210938,
          165.91000366210938,
          162.55999755859375,
          160.25,
          160.11000061035156,
          171.85000610351562,
          170.6999969482422,
          165.74000549316406,
          170.1199951171875,
          164.5500030517578,
          157.91000366210938,
          156.08999633789062,
          158.38999938964844,
          153.0399932861328,
          152.22999572753906,
          159.74000549316406,
          153.2100067138672,
          152.77999877929688,
          145,
          156.17999267578125,
          143.08999633789062,
          135.83999633789062,
          119.37000274658203,
          116.12999725341797,
          116.1500015258789,
          115.94000244140625,
          121.44999694824219,
          114.44000244140625,
          117.5,
          108.02999877929688,
          114.16999816894531,
          112.55000305175781,
          113.27999877929688,
          106.23999786376953,
          110.4000015258789,
          114.30000305175781,
          120.5,
          120.87000274658203,
          116.72000122070312,
          121.26000213623047,
          119.83000183105469,
          122.0199966430664,
          122.9000015258789,
          123.7699966430664,
          115.72000122070312,
          108.91000366210938,
          98.93000030517578,
          98.87000274658203,
          101.47000122070312,
          93.26000213623047,
          99.48999786376953,
          102.2699966430664,
          99.52999877929688,
          95.72000122070312,
          103.51000213623047,
          101.5,
          97.52999877929688,
          93.93000030517578,
          89.08000183105469,
          91.41000366210938,
          95.94000244140625,
          92.87999725341797,
          97.5,
          97.3499984741211,
          95.0999984741211,
          96.55000305175781,
          95.63999938964844,
          91.05000305175781,
          94.66000366210938,
          97.66999816894531,
          102.19999694824219,
          107.7300033569336,
          108.13999938964844,
          103.97000122070312,
          104.94999694824219,
          101.91000366210938,
          107.36000061035156,
          108.83999633789062,
          110.9800033569336,
          111.19999694824219,
          116.33999633789062,
          115.0199966430664,
          119.22000122070312,
          117.11000061035156,
          115.81999969482422,
          114.44000244140625,
          118.7300033569336,
          121.5,
          124.51000213623047,
          126.04000091552734,
          124.18000030517578,
          121.87000274658203,
          121.2699966430664,
          114.76000213623047,
          111.38999938964844,
          111.5999984741211,
          114.51000213623047,
          117.02999877929688,
          112.81999969482422,
          113.54000091552734,
          112.55999755859375,
          113.12000274658203,
          113.4000015258789,
          113.63999938964844,
          113.69999694824219,
          116.06999969482422,
          118.58000183105469,
          123.4800033569336,
          124.79000091552734,
          121.54000091552734,
          126.80000305175781,
          125.04000091552734,
          118.75,
          118.77999877929688,
          116.70999908447266,
          114.01000213623047,
          103.72000122070312,
          101.75,
          103.2300033569336,
          106.37000274658203,
          110.69000244140625,
          106.66000366210938,
          105.04000091552734,
          105,
          110.80999755859375,
          111.76000213623047,
          111.58000183105469,
          108.54000091552734,
          110.98999786376953,
          106.81999969482422,
          112.3499984741211,
          112.6500015258789,
          109.16000366210938,
          116.5,
          117.94000244140625,
          116.87000274658203,
          117,
          119.94999694824219,
          116.38999938964844,
          118.44999694824219,
          115.30999755859375,
          112.05999755859375,
          115.20999908447266,
          106.91000366210938,
          109.05000305175781,
          94.41000366210938,
          92.0199966430664,
          96.08999633789062,
          95.45999908447266,
          98.9000015258789,
          95.79000091552734,
          102.4000015258789,
          109.56999969482422,
          105.16000366210938,
          107.01000213623047,
          104.43000030517578,
          99.30000305175781,
          97.7699966430664,
          95.70999908447266,
          95.27999877929688,
          96.62999725341797,
          97.66999816894531,
          95.30000305175781,
          95.37999725341797,
          102.13999938964844,
          101.2699966430664,
          101,
          98.51000213623047,
          93.12000274658203,
          91.5,
          94.83000183105469,
          94.69999694824219,
          95.58000183105469,
          93.33999633789062,
          93.93000030517578,
          90.61000061035156,
          89.56999969482422,
          85.93000030517578,
          87.62000274658203,
          87.06999969482422,
          84.87000274658203,
          85.25,
          83.48999786376953,
          82.48999786376953,
          85.2300033569336,
          85.5,
          84.9000015258789,
          88.72000122070312,
          87.70999908447266,
          88.5199966430664,
          89.23999786376953,
          88.54000091552734,
          94.44000244140625,
          98.48999786376953,
          100.37000274658203,
          101.2699966430664,
          101.11000061035156,
          99.0999984741211,
          101.27999877929688,
          105.22000122070312,
          104.12999725341797,
          104.44000244140625,
          109.41999816894531,
          115.94000244140625,
          109.4800033569336,
          111.11000061035156,
          113.98999786376953,
          118.5199966430664,
          118.69999694824219,
          118.3499984741211,
          119.69000244140625,
          116.36000061035156,
          114.94000244140625,
          108.87000274658203,
          116.41999816894531,
          120.87000274658203,
          137.00999450683594,
          139.4199981689453,
          131.60000610351562,
          128.77999877929688,
          127.20999908447266,
          125.5199966430664,
          122.77999877929688,
          123.52999877929688,
          123.27999877929688,
          120.83000183105469,
          122.37999725341797,
          125.7300033569336,
          126.33000183105469,
          126.94000244140625,
          125,
          119.83999633789062,
          118.30000305175781,
          115.95999908447266,
          116.36000061035156,
          113.58000183105469,
          119.98999786376953,
          118.1500015258789,
          118.4000015258789,
          123.69000244140625,
          121.16999816894531,
          120.30000305175781,
          116.91999816894531,
          117.91000366210938,
          116.61000061035156,
          118.80000305175781,
          122.27999877929688,
          124.4000015258789,
          121.45999908447266,
          118.45999908447266,
          115.33999633789062,
          109.69000244140625,
          112.5999984741211,
          114.25,
          112.41999816894531,
          113.94999694824219,
          114.6500015258789,
          116.16999816894531,
          119.19000244140625,
          120.0999984741211,
          118.4000015258789,
          115.5,
          116.12000274658203,
          112.50499725341797,
          113.68000030517578,
          115.25,
          119.66999816894531,
          121.41999816894531,
          120.58000183105469,
          118.86000061035156,
          117.62999725341797,
          119.9000015258789,
          125.6500015258789,
          127.06999969482422,
          113.19000244140625,
          111.19999694824219,
          105.2750015258789,
          105.77999877929688,
          105.41000366210938,
          108.33000183105469,
          111.87000274658203,
          107.37999725341797,
          109.93000030517578,
          106.25,
          105.70999908447266,
          104.41999816894531,
          106.80999755859375,
          107.19000244140625,
          109.7699966430664,
          112.16000366210938,
          118.05999755859375,
          115.69000244140625,
          117.30000305175781,
          116.55000305175781,
          115.5,
          117.86000061035156,
          124.58999633789062,
          124.9000015258789,
          125.13999938964844,
          127.8499984741211,
          128.67999267578125,
          126.44999694824219,
          127.45999908447266,
          127.95999908447266,
          124.7300033569336,
          123.12999725341797,
          127.88999938964844,
          127.62999725341797,
          125.0999984741211,
          128.16000366210938,
          132.35000610351562,
          131.69000244140625,
          128.16000366210938,
          130.32000732421875,
          131.7100067138672,
          137.5399932861328,
          137.02000427246094,
          140.08999633789062,
          143.33999633789062,
          145.36000061035156,
          146.52999877929688,
          145.53500366210938,
          145.27999877929688,
          148.77000427246094,
          147.6199951171875,
          148.64999389648438,
          150.1699981689453,
          148.5,
          153.3300018310547,
          152.19000244140625,
          148.91000366210938,
          144.55999755859375,
          140.8800048828125,
          140.1699981689453,
          143.1999969482422,
          139.5500030517578,
          137.8699951171875,
          135.97000122070312,
          133.67999267578125,
          133.24000549316406,
          129.85000610351562,
          128.8300018310547,
          127.98999786376953,
          125.05999755859375,
          124,
          127.08000183105469,
          128.1300048828125,
          124.72000122070312,
          125.79000091552734,
          126.15499877929688,
          132.25,
          130.61000061035156,
          131.5500030517578,
          132.69000244140625,
          142.2899932861328,
          141.77000427246094,
          143.27000427246094,
          145.82000732421875,
          147.3300018310547,
          147.5,
          144.71499633789062,
          144.1199951171875,
          142.75,
          142.5500030517578,
          141.85000610351562,
          138.00999450683594,
          132.75,
          132.1999969482422,
          134.13999938964844,
          132.27999877929688,
          134.02999877929688,
          136.47000122070312,
          137.2100067138672,
          136.55999755859375,
          127.7300033569336,
          127.41000366210938,
          124.98999786376953,
          126.36000061035156,
          127.7699966430664,
          131.58999633789062,
          130,
          125.97000122070312,
          124.08000183105469,
          125.19000244140625,
          125.70999908447266,
          122.16999816894531
         ],
         "yaxis": "y"
        }
       ],
       "layout": {
        "height": 800,
        "legend": {
         "title": {
          "text": "variable"
         },
         "tracegroupgap": 0
        },
        "template": {
         "data": {
          "bar": [
           {
            "error_x": {
             "color": "#2a3f5f"
            },
            "error_y": {
             "color": "#2a3f5f"
            },
            "marker": {
             "line": {
              "color": "#E5ECF6",
              "width": 0.5
             },
             "pattern": {
              "fillmode": "overlay",
              "size": 10,
              "solidity": 0.2
             }
            },
            "type": "bar"
           }
          ],
          "barpolar": [
           {
            "marker": {
             "line": {
              "color": "#E5ECF6",
              "width": 0.5
             },
             "pattern": {
              "fillmode": "overlay",
              "size": 10,
              "solidity": 0.2
             }
            },
            "type": "barpolar"
           }
          ],
          "carpet": [
           {
            "aaxis": {
             "endlinecolor": "#2a3f5f",
             "gridcolor": "white",
             "linecolor": "white",
             "minorgridcolor": "white",
             "startlinecolor": "#2a3f5f"
            },
            "baxis": {
             "endlinecolor": "#2a3f5f",
             "gridcolor": "white",
             "linecolor": "white",
             "minorgridcolor": "white",
             "startlinecolor": "#2a3f5f"
            },
            "type": "carpet"
           }
          ],
          "choropleth": [
           {
            "colorbar": {
             "outlinewidth": 0,
             "ticks": ""
            },
            "type": "choropleth"
           }
          ],
          "contour": [
           {
            "colorbar": {
             "outlinewidth": 0,
             "ticks": ""
            },
            "colorscale": [
             [
              0,
              "#0d0887"
             ],
             [
              0.1111111111111111,
              "#46039f"
             ],
             [
              0.2222222222222222,
              "#7201a8"
             ],
             [
              0.3333333333333333,
              "#9c179e"
             ],
             [
              0.4444444444444444,
              "#bd3786"
             ],
             [
              0.5555555555555556,
              "#d8576b"
             ],
             [
              0.6666666666666666,
              "#ed7953"
             ],
             [
              0.7777777777777778,
              "#fb9f3a"
             ],
             [
              0.8888888888888888,
              "#fdca26"
             ],
             [
              1,
              "#f0f921"
             ]
            ],
            "type": "contour"
           }
          ],
          "contourcarpet": [
           {
            "colorbar": {
             "outlinewidth": 0,
             "ticks": ""
            },
            "type": "contourcarpet"
           }
          ],
          "heatmap": [
           {
            "colorbar": {
             "outlinewidth": 0,
             "ticks": ""
            },
            "colorscale": [
             [
              0,
              "#0d0887"
             ],
             [
              0.1111111111111111,
              "#46039f"
             ],
             [
              0.2222222222222222,
              "#7201a8"
             ],
             [
              0.3333333333333333,
              "#9c179e"
             ],
             [
              0.4444444444444444,
              "#bd3786"
             ],
             [
              0.5555555555555556,
              "#d8576b"
             ],
             [
              0.6666666666666666,
              "#ed7953"
             ],
             [
              0.7777777777777778,
              "#fb9f3a"
             ],
             [
              0.8888888888888888,
              "#fdca26"
             ],
             [
              1,
              "#f0f921"
             ]
            ],
            "type": "heatmap"
           }
          ],
          "heatmapgl": [
           {
            "colorbar": {
             "outlinewidth": 0,
             "ticks": ""
            },
            "colorscale": [
             [
              0,
              "#0d0887"
             ],
             [
              0.1111111111111111,
              "#46039f"
             ],
             [
              0.2222222222222222,
              "#7201a8"
             ],
             [
              0.3333333333333333,
              "#9c179e"
             ],
             [
              0.4444444444444444,
              "#bd3786"
             ],
             [
              0.5555555555555556,
              "#d8576b"
             ],
             [
              0.6666666666666666,
              "#ed7953"
             ],
             [
              0.7777777777777778,
              "#fb9f3a"
             ],
             [
              0.8888888888888888,
              "#fdca26"
             ],
             [
              1,
              "#f0f921"
             ]
            ],
            "type": "heatmapgl"
           }
          ],
          "histogram": [
           {
            "marker": {
             "pattern": {
              "fillmode": "overlay",
              "size": 10,
              "solidity": 0.2
             }
            },
            "type": "histogram"
           }
          ],
          "histogram2d": [
           {
            "colorbar": {
             "outlinewidth": 0,
             "ticks": ""
            },
            "colorscale": [
             [
              0,
              "#0d0887"
             ],
             [
              0.1111111111111111,
              "#46039f"
             ],
             [
              0.2222222222222222,
              "#7201a8"
             ],
             [
              0.3333333333333333,
              "#9c179e"
             ],
             [
              0.4444444444444444,
              "#bd3786"
             ],
             [
              0.5555555555555556,
              "#d8576b"
             ],
             [
              0.6666666666666666,
              "#ed7953"
             ],
             [
              0.7777777777777778,
              "#fb9f3a"
             ],
             [
              0.8888888888888888,
              "#fdca26"
             ],
             [
              1,
              "#f0f921"
             ]
            ],
            "type": "histogram2d"
           }
          ],
          "histogram2dcontour": [
           {
            "colorbar": {
             "outlinewidth": 0,
             "ticks": ""
            },
            "colorscale": [
             [
              0,
              "#0d0887"
             ],
             [
              0.1111111111111111,
              "#46039f"
             ],
             [
              0.2222222222222222,
              "#7201a8"
             ],
             [
              0.3333333333333333,
              "#9c179e"
             ],
             [
              0.4444444444444444,
              "#bd3786"
             ],
             [
              0.5555555555555556,
              "#d8576b"
             ],
             [
              0.6666666666666666,
              "#ed7953"
             ],
             [
              0.7777777777777778,
              "#fb9f3a"
             ],
             [
              0.8888888888888888,
              "#fdca26"
             ],
             [
              1,
              "#f0f921"
             ]
            ],
            "type": "histogram2dcontour"
           }
          ],
          "mesh3d": [
           {
            "colorbar": {
             "outlinewidth": 0,
             "ticks": ""
            },
            "type": "mesh3d"
           }
          ],
          "parcoords": [
           {
            "line": {
             "colorbar": {
              "outlinewidth": 0,
              "ticks": ""
             }
            },
            "type": "parcoords"
           }
          ],
          "pie": [
           {
            "automargin": true,
            "type": "pie"
           }
          ],
          "scatter": [
           {
            "fillpattern": {
             "fillmode": "overlay",
             "size": 10,
             "solidity": 0.2
            },
            "type": "scatter"
           }
          ],
          "scatter3d": [
           {
            "line": {
             "colorbar": {
              "outlinewidth": 0,
              "ticks": ""
             }
            },
            "marker": {
             "colorbar": {
              "outlinewidth": 0,
              "ticks": ""
             }
            },
            "type": "scatter3d"
           }
          ],
          "scattercarpet": [
           {
            "marker": {
             "colorbar": {
              "outlinewidth": 0,
              "ticks": ""
             }
            },
            "type": "scattercarpet"
           }
          ],
          "scattergeo": [
           {
            "marker": {
             "colorbar": {
              "outlinewidth": 0,
              "ticks": ""
             }
            },
            "type": "scattergeo"
           }
          ],
          "scattergl": [
           {
            "marker": {
             "colorbar": {
              "outlinewidth": 0,
              "ticks": ""
             }
            },
            "type": "scattergl"
           }
          ],
          "scattermapbox": [
           {
            "marker": {
             "colorbar": {
              "outlinewidth": 0,
              "ticks": ""
             }
            },
            "type": "scattermapbox"
           }
          ],
          "scatterpolar": [
           {
            "marker": {
             "colorbar": {
              "outlinewidth": 0,
              "ticks": ""
             }
            },
            "type": "scatterpolar"
           }
          ],
          "scatterpolargl": [
           {
            "marker": {
             "colorbar": {
              "outlinewidth": 0,
              "ticks": ""
             }
            },
            "type": "scatterpolargl"
           }
          ],
          "scatterternary": [
           {
            "marker": {
             "colorbar": {
              "outlinewidth": 0,
              "ticks": ""
             }
            },
            "type": "scatterternary"
           }
          ],
          "surface": [
           {
            "colorbar": {
             "outlinewidth": 0,
             "ticks": ""
            },
            "colorscale": [
             [
              0,
              "#0d0887"
             ],
             [
              0.1111111111111111,
              "#46039f"
             ],
             [
              0.2222222222222222,
              "#7201a8"
             ],
             [
              0.3333333333333333,
              "#9c179e"
             ],
             [
              0.4444444444444444,
              "#bd3786"
             ],
             [
              0.5555555555555556,
              "#d8576b"
             ],
             [
              0.6666666666666666,
              "#ed7953"
             ],
             [
              0.7777777777777778,
              "#fb9f3a"
             ],
             [
              0.8888888888888888,
              "#fdca26"
             ],
             [
              1,
              "#f0f921"
             ]
            ],
            "type": "surface"
           }
          ],
          "table": [
           {
            "cells": {
             "fill": {
              "color": "#EBF0F8"
             },
             "line": {
              "color": "white"
             }
            },
            "header": {
             "fill": {
              "color": "#C8D4E3"
             },
             "line": {
              "color": "white"
             }
            },
            "type": "table"
           }
          ]
         },
         "layout": {
          "annotationdefaults": {
           "arrowcolor": "#2a3f5f",
           "arrowhead": 0,
           "arrowwidth": 1
          },
          "autotypenumbers": "strict",
          "coloraxis": {
           "colorbar": {
            "outlinewidth": 0,
            "ticks": ""
           }
          },
          "colorscale": {
           "diverging": [
            [
             0,
             "#8e0152"
            ],
            [
             0.1,
             "#c51b7d"
            ],
            [
             0.2,
             "#de77ae"
            ],
            [
             0.3,
             "#f1b6da"
            ],
            [
             0.4,
             "#fde0ef"
            ],
            [
             0.5,
             "#f7f7f7"
            ],
            [
             0.6,
             "#e6f5d0"
            ],
            [
             0.7,
             "#b8e186"
            ],
            [
             0.8,
             "#7fbc41"
            ],
            [
             0.9,
             "#4d9221"
            ],
            [
             1,
             "#276419"
            ]
           ],
           "sequential": [
            [
             0,
             "#0d0887"
            ],
            [
             0.1111111111111111,
             "#46039f"
            ],
            [
             0.2222222222222222,
             "#7201a8"
            ],
            [
             0.3333333333333333,
             "#9c179e"
            ],
            [
             0.4444444444444444,
             "#bd3786"
            ],
            [
             0.5555555555555556,
             "#d8576b"
            ],
            [
             0.6666666666666666,
             "#ed7953"
            ],
            [
             0.7777777777777778,
             "#fb9f3a"
            ],
            [
             0.8888888888888888,
             "#fdca26"
            ],
            [
             1,
             "#f0f921"
            ]
           ],
           "sequentialminus": [
            [
             0,
             "#0d0887"
            ],
            [
             0.1111111111111111,
             "#46039f"
            ],
            [
             0.2222222222222222,
             "#7201a8"
            ],
            [
             0.3333333333333333,
             "#9c179e"
            ],
            [
             0.4444444444444444,
             "#bd3786"
            ],
            [
             0.5555555555555556,
             "#d8576b"
            ],
            [
             0.6666666666666666,
             "#ed7953"
            ],
            [
             0.7777777777777778,
             "#fb9f3a"
            ],
            [
             0.8888888888888888,
             "#fdca26"
            ],
            [
             1,
             "#f0f921"
            ]
           ]
          },
          "colorway": [
           "#636efa",
           "#EF553B",
           "#00cc96",
           "#ab63fa",
           "#FFA15A",
           "#19d3f3",
           "#FF6692",
           "#B6E880",
           "#FF97FF",
           "#FECB52"
          ],
          "font": {
           "color": "#2a3f5f"
          },
          "geo": {
           "bgcolor": "white",
           "lakecolor": "white",
           "landcolor": "#E5ECF6",
           "showlakes": true,
           "showland": true,
           "subunitcolor": "white"
          },
          "hoverlabel": {
           "align": "left"
          },
          "hovermode": "closest",
          "mapbox": {
           "style": "light"
          },
          "paper_bgcolor": "white",
          "plot_bgcolor": "#E5ECF6",
          "polar": {
           "angularaxis": {
            "gridcolor": "white",
            "linecolor": "white",
            "ticks": ""
           },
           "bgcolor": "#E5ECF6",
           "radialaxis": {
            "gridcolor": "white",
            "linecolor": "white",
            "ticks": ""
           }
          },
          "scene": {
           "xaxis": {
            "backgroundcolor": "#E5ECF6",
            "gridcolor": "white",
            "gridwidth": 2,
            "linecolor": "white",
            "showbackground": true,
            "ticks": "",
            "zerolinecolor": "white"
           },
           "yaxis": {
            "backgroundcolor": "#E5ECF6",
            "gridcolor": "white",
            "gridwidth": 2,
            "linecolor": "white",
            "showbackground": true,
            "ticks": "",
            "zerolinecolor": "white"
           },
           "zaxis": {
            "backgroundcolor": "#E5ECF6",
            "gridcolor": "white",
            "gridwidth": 2,
            "linecolor": "white",
            "showbackground": true,
            "ticks": "",
            "zerolinecolor": "white"
           }
          },
          "shapedefaults": {
           "line": {
            "color": "#2a3f5f"
           }
          },
          "ternary": {
           "aaxis": {
            "gridcolor": "white",
            "linecolor": "white",
            "ticks": ""
           },
           "baxis": {
            "gridcolor": "white",
            "linecolor": "white",
            "ticks": ""
           },
           "bgcolor": "#E5ECF6",
           "caxis": {
            "gridcolor": "white",
            "linecolor": "white",
            "ticks": ""
           }
          },
          "title": {
           "x": 0.05
          },
          "xaxis": {
           "automargin": true,
           "gridcolor": "white",
           "linecolor": "white",
           "ticks": "",
           "title": {
            "standoff": 15
           },
           "zerolinecolor": "white",
           "zerolinewidth": 2
          },
          "yaxis": {
           "automargin": true,
           "gridcolor": "white",
           "linecolor": "white",
           "ticks": "",
           "title": {
            "standoff": 15
           },
           "zerolinecolor": "white",
           "zerolinewidth": 2
          }
         }
        },
        "title": {
         "text": "Airbnb Daily Close Price"
        },
        "width": 800,
        "xaxis": {
         "anchor": "y",
         "domain": [
          0,
          1
         ],
         "title": {
          "text": "Date"
         }
        },
        "yaxis": {
         "anchor": "x",
         "domain": [
          0,
          1
         ],
         "title": {
          "text": "value"
         }
        }
       }
      }
     },
     "metadata": {},
     "output_type": "display_data"
    }
   ],
   "source": [
    "airbnb_price_chart = px.line(df['Close'],\n",
    "                             title='Airbnb Daily Close Price',\n",
    "                             color_discrete_map={'Close':'green'},\n",
    "                             width=800, height=800)\n",
    "airbnb_price_chart.show()"
   ]
  },
  {
   "cell_type": "markdown",
   "id": "fff3d73b",
   "metadata": {},
   "source": [
    "Podemos observar una caida pronunciada en las acciones de airbnb, desde el 4 de abril , hasta  el 14 de julio.\n",
    "al dia de hoy en los ultimos meses , podemos ver de que el mercado se ha recuperado, rompiendo la linea de soporte de los 120 puntos y ahora se encuentra  consolidado \n",
    "\n",
    "podemos confirmar que solo trae los datos desde 10 de dicembre del 2020"
   ]
  },
  {
   "cell_type": "markdown",
   "id": "f7a67e45",
   "metadata": {},
   "source": [
    "##  gráfico de área que muestra el volumen diario negociado de las acciones de Airbnb definiendo el área y la línea de Volumen en morado."
   ]
  },
  {
   "cell_type": "code",
   "execution_count": 13,
   "id": "05627744",
   "metadata": {},
   "outputs": [
    {
     "data": {
      "application/vnd.plotly.v1+json": {
       "config": {
        "plotlyServerURL": "https://plot.ly"
       },
       "data": [
        {
         "fillpattern": {
          "shape": ""
         },
         "hovertemplate": "variable=Volume<br>Date=%{x}<br>value=%{y}<extra></extra>",
         "legendgroup": "Volume",
         "line": {
          "color": "purple"
         },
         "marker": {
          "symbol": "circle"
         },
         "mode": "lines",
         "name": "Volume",
         "orientation": "v",
         "showlegend": true,
         "stackgroup": "1",
         "type": "scatter",
         "x": [
          "2020-12-10T00:00:00-05:00",
          "2020-12-11T00:00:00-05:00",
          "2020-12-14T00:00:00-05:00",
          "2020-12-15T00:00:00-05:00",
          "2020-12-16T00:00:00-05:00",
          "2020-12-17T00:00:00-05:00",
          "2020-12-18T00:00:00-05:00",
          "2020-12-21T00:00:00-05:00",
          "2020-12-22T00:00:00-05:00",
          "2020-12-23T00:00:00-05:00",
          "2020-12-24T00:00:00-05:00",
          "2020-12-28T00:00:00-05:00",
          "2020-12-29T00:00:00-05:00",
          "2020-12-30T00:00:00-05:00",
          "2020-12-31T00:00:00-05:00",
          "2021-01-04T00:00:00-05:00",
          "2021-01-05T00:00:00-05:00",
          "2021-01-06T00:00:00-05:00",
          "2021-01-07T00:00:00-05:00",
          "2021-01-08T00:00:00-05:00",
          "2021-01-11T00:00:00-05:00",
          "2021-01-12T00:00:00-05:00",
          "2021-01-13T00:00:00-05:00",
          "2021-01-14T00:00:00-05:00",
          "2021-01-15T00:00:00-05:00",
          "2021-01-19T00:00:00-05:00",
          "2021-01-20T00:00:00-05:00",
          "2021-01-21T00:00:00-05:00",
          "2021-01-22T00:00:00-05:00",
          "2021-01-25T00:00:00-05:00",
          "2021-01-26T00:00:00-05:00",
          "2021-01-27T00:00:00-05:00",
          "2021-01-28T00:00:00-05:00",
          "2021-01-29T00:00:00-05:00",
          "2021-02-01T00:00:00-05:00",
          "2021-02-02T00:00:00-05:00",
          "2021-02-03T00:00:00-05:00",
          "2021-02-04T00:00:00-05:00",
          "2021-02-05T00:00:00-05:00",
          "2021-02-08T00:00:00-05:00",
          "2021-02-09T00:00:00-05:00",
          "2021-02-10T00:00:00-05:00",
          "2021-02-11T00:00:00-05:00",
          "2021-02-12T00:00:00-05:00",
          "2021-02-16T00:00:00-05:00",
          "2021-02-17T00:00:00-05:00",
          "2021-02-18T00:00:00-05:00",
          "2021-02-19T00:00:00-05:00",
          "2021-02-22T00:00:00-05:00",
          "2021-02-23T00:00:00-05:00",
          "2021-02-24T00:00:00-05:00",
          "2021-02-25T00:00:00-05:00",
          "2021-02-26T00:00:00-05:00",
          "2021-03-01T00:00:00-05:00",
          "2021-03-02T00:00:00-05:00",
          "2021-03-03T00:00:00-05:00",
          "2021-03-04T00:00:00-05:00",
          "2021-03-05T00:00:00-05:00",
          "2021-03-08T00:00:00-05:00",
          "2021-03-09T00:00:00-05:00",
          "2021-03-10T00:00:00-05:00",
          "2021-03-11T00:00:00-05:00",
          "2021-03-12T00:00:00-05:00",
          "2021-03-15T00:00:00-04:00",
          "2021-03-16T00:00:00-04:00",
          "2021-03-17T00:00:00-04:00",
          "2021-03-18T00:00:00-04:00",
          "2021-03-19T00:00:00-04:00",
          "2021-03-22T00:00:00-04:00",
          "2021-03-23T00:00:00-04:00",
          "2021-03-24T00:00:00-04:00",
          "2021-03-25T00:00:00-04:00",
          "2021-03-26T00:00:00-04:00",
          "2021-03-29T00:00:00-04:00",
          "2021-03-30T00:00:00-04:00",
          "2021-03-31T00:00:00-04:00",
          "2021-04-01T00:00:00-04:00",
          "2021-04-05T00:00:00-04:00",
          "2021-04-06T00:00:00-04:00",
          "2021-04-07T00:00:00-04:00",
          "2021-04-08T00:00:00-04:00",
          "2021-04-09T00:00:00-04:00",
          "2021-04-12T00:00:00-04:00",
          "2021-04-13T00:00:00-04:00",
          "2021-04-14T00:00:00-04:00",
          "2021-04-15T00:00:00-04:00",
          "2021-04-16T00:00:00-04:00",
          "2021-04-19T00:00:00-04:00",
          "2021-04-20T00:00:00-04:00",
          "2021-04-21T00:00:00-04:00",
          "2021-04-22T00:00:00-04:00",
          "2021-04-23T00:00:00-04:00",
          "2021-04-26T00:00:00-04:00",
          "2021-04-27T00:00:00-04:00",
          "2021-04-28T00:00:00-04:00",
          "2021-04-29T00:00:00-04:00",
          "2021-04-30T00:00:00-04:00",
          "2021-05-03T00:00:00-04:00",
          "2021-05-04T00:00:00-04:00",
          "2021-05-05T00:00:00-04:00",
          "2021-05-06T00:00:00-04:00",
          "2021-05-07T00:00:00-04:00",
          "2021-05-10T00:00:00-04:00",
          "2021-05-11T00:00:00-04:00",
          "2021-05-12T00:00:00-04:00",
          "2021-05-13T00:00:00-04:00",
          "2021-05-14T00:00:00-04:00",
          "2021-05-17T00:00:00-04:00",
          "2021-05-18T00:00:00-04:00",
          "2021-05-19T00:00:00-04:00",
          "2021-05-20T00:00:00-04:00",
          "2021-05-21T00:00:00-04:00",
          "2021-05-24T00:00:00-04:00",
          "2021-05-25T00:00:00-04:00",
          "2021-05-26T00:00:00-04:00",
          "2021-05-27T00:00:00-04:00",
          "2021-05-28T00:00:00-04:00",
          "2021-06-01T00:00:00-04:00",
          "2021-06-02T00:00:00-04:00",
          "2021-06-03T00:00:00-04:00",
          "2021-06-04T00:00:00-04:00",
          "2021-06-07T00:00:00-04:00",
          "2021-06-08T00:00:00-04:00",
          "2021-06-09T00:00:00-04:00",
          "2021-06-10T00:00:00-04:00",
          "2021-06-11T00:00:00-04:00",
          "2021-06-14T00:00:00-04:00",
          "2021-06-15T00:00:00-04:00",
          "2021-06-16T00:00:00-04:00",
          "2021-06-17T00:00:00-04:00",
          "2021-06-18T00:00:00-04:00",
          "2021-06-21T00:00:00-04:00",
          "2021-06-22T00:00:00-04:00",
          "2021-06-23T00:00:00-04:00",
          "2021-06-24T00:00:00-04:00",
          "2021-06-25T00:00:00-04:00",
          "2021-06-28T00:00:00-04:00",
          "2021-06-29T00:00:00-04:00",
          "2021-06-30T00:00:00-04:00",
          "2021-07-01T00:00:00-04:00",
          "2021-07-02T00:00:00-04:00",
          "2021-07-06T00:00:00-04:00",
          "2021-07-07T00:00:00-04:00",
          "2021-07-08T00:00:00-04:00",
          "2021-07-09T00:00:00-04:00",
          "2021-07-12T00:00:00-04:00",
          "2021-07-13T00:00:00-04:00",
          "2021-07-14T00:00:00-04:00",
          "2021-07-15T00:00:00-04:00",
          "2021-07-16T00:00:00-04:00",
          "2021-07-19T00:00:00-04:00",
          "2021-07-20T00:00:00-04:00",
          "2021-07-21T00:00:00-04:00",
          "2021-07-22T00:00:00-04:00",
          "2021-07-23T00:00:00-04:00",
          "2021-07-26T00:00:00-04:00",
          "2021-07-27T00:00:00-04:00",
          "2021-07-28T00:00:00-04:00",
          "2021-07-29T00:00:00-04:00",
          "2021-07-30T00:00:00-04:00",
          "2021-08-02T00:00:00-04:00",
          "2021-08-03T00:00:00-04:00",
          "2021-08-04T00:00:00-04:00",
          "2021-08-05T00:00:00-04:00",
          "2021-08-06T00:00:00-04:00",
          "2021-08-09T00:00:00-04:00",
          "2021-08-10T00:00:00-04:00",
          "2021-08-11T00:00:00-04:00",
          "2021-08-12T00:00:00-04:00",
          "2021-08-13T00:00:00-04:00",
          "2021-08-16T00:00:00-04:00",
          "2021-08-17T00:00:00-04:00",
          "2021-08-18T00:00:00-04:00",
          "2021-08-19T00:00:00-04:00",
          "2021-08-20T00:00:00-04:00",
          "2021-08-23T00:00:00-04:00",
          "2021-08-24T00:00:00-04:00",
          "2021-08-25T00:00:00-04:00",
          "2021-08-26T00:00:00-04:00",
          "2021-08-27T00:00:00-04:00",
          "2021-08-30T00:00:00-04:00",
          "2021-08-31T00:00:00-04:00",
          "2021-09-01T00:00:00-04:00",
          "2021-09-02T00:00:00-04:00",
          "2021-09-03T00:00:00-04:00",
          "2021-09-07T00:00:00-04:00",
          "2021-09-08T00:00:00-04:00",
          "2021-09-09T00:00:00-04:00",
          "2021-09-10T00:00:00-04:00",
          "2021-09-13T00:00:00-04:00",
          "2021-09-14T00:00:00-04:00",
          "2021-09-15T00:00:00-04:00",
          "2021-09-16T00:00:00-04:00",
          "2021-09-17T00:00:00-04:00",
          "2021-09-20T00:00:00-04:00",
          "2021-09-21T00:00:00-04:00",
          "2021-09-22T00:00:00-04:00",
          "2021-09-23T00:00:00-04:00",
          "2021-09-24T00:00:00-04:00",
          "2021-09-27T00:00:00-04:00",
          "2021-09-28T00:00:00-04:00",
          "2021-09-29T00:00:00-04:00",
          "2021-09-30T00:00:00-04:00",
          "2021-10-01T00:00:00-04:00",
          "2021-10-04T00:00:00-04:00",
          "2021-10-05T00:00:00-04:00",
          "2021-10-06T00:00:00-04:00",
          "2021-10-07T00:00:00-04:00",
          "2021-10-08T00:00:00-04:00",
          "2021-10-11T00:00:00-04:00",
          "2021-10-12T00:00:00-04:00",
          "2021-10-13T00:00:00-04:00",
          "2021-10-14T00:00:00-04:00",
          "2021-10-15T00:00:00-04:00",
          "2021-10-18T00:00:00-04:00",
          "2021-10-19T00:00:00-04:00",
          "2021-10-20T00:00:00-04:00",
          "2021-10-21T00:00:00-04:00",
          "2021-10-22T00:00:00-04:00",
          "2021-10-25T00:00:00-04:00",
          "2021-10-26T00:00:00-04:00",
          "2021-10-27T00:00:00-04:00",
          "2021-10-28T00:00:00-04:00",
          "2021-10-29T00:00:00-04:00",
          "2021-11-01T00:00:00-04:00",
          "2021-11-02T00:00:00-04:00",
          "2021-11-03T00:00:00-04:00",
          "2021-11-04T00:00:00-04:00",
          "2021-11-05T00:00:00-04:00",
          "2021-11-08T00:00:00-05:00",
          "2021-11-09T00:00:00-05:00",
          "2021-11-10T00:00:00-05:00",
          "2021-11-11T00:00:00-05:00",
          "2021-11-12T00:00:00-05:00",
          "2021-11-15T00:00:00-05:00",
          "2021-11-16T00:00:00-05:00",
          "2021-11-17T00:00:00-05:00",
          "2021-11-18T00:00:00-05:00",
          "2021-11-19T00:00:00-05:00",
          "2021-11-22T00:00:00-05:00",
          "2021-11-23T00:00:00-05:00",
          "2021-11-24T00:00:00-05:00",
          "2021-11-26T00:00:00-05:00",
          "2021-11-29T00:00:00-05:00",
          "2021-11-30T00:00:00-05:00",
          "2021-12-01T00:00:00-05:00",
          "2021-12-02T00:00:00-05:00",
          "2021-12-03T00:00:00-05:00",
          "2021-12-06T00:00:00-05:00",
          "2021-12-07T00:00:00-05:00",
          "2021-12-08T00:00:00-05:00",
          "2021-12-09T00:00:00-05:00",
          "2021-12-10T00:00:00-05:00",
          "2021-12-13T00:00:00-05:00",
          "2021-12-14T00:00:00-05:00",
          "2021-12-15T00:00:00-05:00",
          "2021-12-16T00:00:00-05:00",
          "2021-12-17T00:00:00-05:00",
          "2021-12-20T00:00:00-05:00",
          "2021-12-21T00:00:00-05:00",
          "2021-12-22T00:00:00-05:00",
          "2021-12-23T00:00:00-05:00",
          "2021-12-27T00:00:00-05:00",
          "2021-12-28T00:00:00-05:00",
          "2021-12-29T00:00:00-05:00",
          "2021-12-30T00:00:00-05:00",
          "2021-12-31T00:00:00-05:00",
          "2022-01-03T00:00:00-05:00",
          "2022-01-04T00:00:00-05:00",
          "2022-01-05T00:00:00-05:00",
          "2022-01-06T00:00:00-05:00",
          "2022-01-07T00:00:00-05:00",
          "2022-01-10T00:00:00-05:00",
          "2022-01-11T00:00:00-05:00",
          "2022-01-12T00:00:00-05:00",
          "2022-01-13T00:00:00-05:00",
          "2022-01-14T00:00:00-05:00",
          "2022-01-18T00:00:00-05:00",
          "2022-01-19T00:00:00-05:00",
          "2022-01-20T00:00:00-05:00",
          "2022-01-21T00:00:00-05:00",
          "2022-01-24T00:00:00-05:00",
          "2022-01-25T00:00:00-05:00",
          "2022-01-26T00:00:00-05:00",
          "2022-01-27T00:00:00-05:00",
          "2022-01-28T00:00:00-05:00",
          "2022-01-31T00:00:00-05:00",
          "2022-02-01T00:00:00-05:00",
          "2022-02-02T00:00:00-05:00",
          "2022-02-03T00:00:00-05:00",
          "2022-02-04T00:00:00-05:00",
          "2022-02-07T00:00:00-05:00",
          "2022-02-08T00:00:00-05:00",
          "2022-02-09T00:00:00-05:00",
          "2022-02-10T00:00:00-05:00",
          "2022-02-11T00:00:00-05:00",
          "2022-02-14T00:00:00-05:00",
          "2022-02-15T00:00:00-05:00",
          "2022-02-16T00:00:00-05:00",
          "2022-02-17T00:00:00-05:00",
          "2022-02-18T00:00:00-05:00",
          "2022-02-22T00:00:00-05:00",
          "2022-02-23T00:00:00-05:00",
          "2022-02-24T00:00:00-05:00",
          "2022-02-25T00:00:00-05:00",
          "2022-02-28T00:00:00-05:00",
          "2022-03-01T00:00:00-05:00",
          "2022-03-02T00:00:00-05:00",
          "2022-03-03T00:00:00-05:00",
          "2022-03-04T00:00:00-05:00",
          "2022-03-07T00:00:00-05:00",
          "2022-03-08T00:00:00-05:00",
          "2022-03-09T00:00:00-05:00",
          "2022-03-10T00:00:00-05:00",
          "2022-03-11T00:00:00-05:00",
          "2022-03-14T00:00:00-04:00",
          "2022-03-15T00:00:00-04:00",
          "2022-03-16T00:00:00-04:00",
          "2022-03-17T00:00:00-04:00",
          "2022-03-18T00:00:00-04:00",
          "2022-03-21T00:00:00-04:00",
          "2022-03-22T00:00:00-04:00",
          "2022-03-23T00:00:00-04:00",
          "2022-03-24T00:00:00-04:00",
          "2022-03-25T00:00:00-04:00",
          "2022-03-28T00:00:00-04:00",
          "2022-03-29T00:00:00-04:00",
          "2022-03-30T00:00:00-04:00",
          "2022-03-31T00:00:00-04:00",
          "2022-04-01T00:00:00-04:00",
          "2022-04-04T00:00:00-04:00",
          "2022-04-05T00:00:00-04:00",
          "2022-04-06T00:00:00-04:00",
          "2022-04-07T00:00:00-04:00",
          "2022-04-08T00:00:00-04:00",
          "2022-04-11T00:00:00-04:00",
          "2022-04-12T00:00:00-04:00",
          "2022-04-13T00:00:00-04:00",
          "2022-04-14T00:00:00-04:00",
          "2022-04-18T00:00:00-04:00",
          "2022-04-19T00:00:00-04:00",
          "2022-04-20T00:00:00-04:00",
          "2022-04-21T00:00:00-04:00",
          "2022-04-22T00:00:00-04:00",
          "2022-04-25T00:00:00-04:00",
          "2022-04-26T00:00:00-04:00",
          "2022-04-27T00:00:00-04:00",
          "2022-04-28T00:00:00-04:00",
          "2022-04-29T00:00:00-04:00",
          "2022-05-02T00:00:00-04:00",
          "2022-05-03T00:00:00-04:00",
          "2022-05-04T00:00:00-04:00",
          "2022-05-05T00:00:00-04:00",
          "2022-05-06T00:00:00-04:00",
          "2022-05-09T00:00:00-04:00",
          "2022-05-10T00:00:00-04:00",
          "2022-05-11T00:00:00-04:00",
          "2022-05-12T00:00:00-04:00",
          "2022-05-13T00:00:00-04:00",
          "2022-05-16T00:00:00-04:00",
          "2022-05-17T00:00:00-04:00",
          "2022-05-18T00:00:00-04:00",
          "2022-05-19T00:00:00-04:00",
          "2022-05-20T00:00:00-04:00",
          "2022-05-23T00:00:00-04:00",
          "2022-05-24T00:00:00-04:00",
          "2022-05-25T00:00:00-04:00",
          "2022-05-26T00:00:00-04:00",
          "2022-05-27T00:00:00-04:00",
          "2022-05-31T00:00:00-04:00",
          "2022-06-01T00:00:00-04:00",
          "2022-06-02T00:00:00-04:00",
          "2022-06-03T00:00:00-04:00",
          "2022-06-06T00:00:00-04:00",
          "2022-06-07T00:00:00-04:00",
          "2022-06-08T00:00:00-04:00",
          "2022-06-09T00:00:00-04:00",
          "2022-06-10T00:00:00-04:00",
          "2022-06-13T00:00:00-04:00",
          "2022-06-14T00:00:00-04:00",
          "2022-06-15T00:00:00-04:00",
          "2022-06-16T00:00:00-04:00",
          "2022-06-17T00:00:00-04:00",
          "2022-06-21T00:00:00-04:00",
          "2022-06-22T00:00:00-04:00",
          "2022-06-23T00:00:00-04:00",
          "2022-06-24T00:00:00-04:00",
          "2022-06-27T00:00:00-04:00",
          "2022-06-28T00:00:00-04:00",
          "2022-06-29T00:00:00-04:00",
          "2022-06-30T00:00:00-04:00",
          "2022-07-01T00:00:00-04:00",
          "2022-07-05T00:00:00-04:00",
          "2022-07-06T00:00:00-04:00",
          "2022-07-07T00:00:00-04:00",
          "2022-07-08T00:00:00-04:00",
          "2022-07-11T00:00:00-04:00",
          "2022-07-12T00:00:00-04:00",
          "2022-07-13T00:00:00-04:00",
          "2022-07-14T00:00:00-04:00",
          "2022-07-15T00:00:00-04:00",
          "2022-07-18T00:00:00-04:00",
          "2022-07-19T00:00:00-04:00",
          "2022-07-20T00:00:00-04:00",
          "2022-07-21T00:00:00-04:00",
          "2022-07-22T00:00:00-04:00",
          "2022-07-25T00:00:00-04:00",
          "2022-07-26T00:00:00-04:00",
          "2022-07-27T00:00:00-04:00",
          "2022-07-28T00:00:00-04:00",
          "2022-07-29T00:00:00-04:00",
          "2022-08-01T00:00:00-04:00",
          "2022-08-02T00:00:00-04:00",
          "2022-08-03T00:00:00-04:00",
          "2022-08-04T00:00:00-04:00",
          "2022-08-05T00:00:00-04:00",
          "2022-08-08T00:00:00-04:00",
          "2022-08-09T00:00:00-04:00",
          "2022-08-10T00:00:00-04:00",
          "2022-08-11T00:00:00-04:00",
          "2022-08-12T00:00:00-04:00",
          "2022-08-15T00:00:00-04:00",
          "2022-08-16T00:00:00-04:00",
          "2022-08-17T00:00:00-04:00",
          "2022-08-18T00:00:00-04:00",
          "2022-08-19T00:00:00-04:00",
          "2022-08-22T00:00:00-04:00",
          "2022-08-23T00:00:00-04:00",
          "2022-08-24T00:00:00-04:00",
          "2022-08-25T00:00:00-04:00",
          "2022-08-26T00:00:00-04:00",
          "2022-08-29T00:00:00-04:00",
          "2022-08-30T00:00:00-04:00",
          "2022-08-31T00:00:00-04:00",
          "2022-09-01T00:00:00-04:00",
          "2022-09-02T00:00:00-04:00",
          "2022-09-06T00:00:00-04:00",
          "2022-09-07T00:00:00-04:00",
          "2022-09-08T00:00:00-04:00",
          "2022-09-09T00:00:00-04:00",
          "2022-09-12T00:00:00-04:00",
          "2022-09-13T00:00:00-04:00",
          "2022-09-14T00:00:00-04:00",
          "2022-09-15T00:00:00-04:00",
          "2022-09-16T00:00:00-04:00",
          "2022-09-19T00:00:00-04:00",
          "2022-09-20T00:00:00-04:00",
          "2022-09-21T00:00:00-04:00",
          "2022-09-22T00:00:00-04:00",
          "2022-09-23T00:00:00-04:00",
          "2022-09-26T00:00:00-04:00",
          "2022-09-27T00:00:00-04:00",
          "2022-09-28T00:00:00-04:00",
          "2022-09-29T00:00:00-04:00",
          "2022-09-30T00:00:00-04:00",
          "2022-10-03T00:00:00-04:00",
          "2022-10-04T00:00:00-04:00",
          "2022-10-05T00:00:00-04:00",
          "2022-10-06T00:00:00-04:00",
          "2022-10-07T00:00:00-04:00",
          "2022-10-10T00:00:00-04:00",
          "2022-10-11T00:00:00-04:00",
          "2022-10-12T00:00:00-04:00",
          "2022-10-13T00:00:00-04:00",
          "2022-10-14T00:00:00-04:00",
          "2022-10-17T00:00:00-04:00",
          "2022-10-18T00:00:00-04:00",
          "2022-10-19T00:00:00-04:00",
          "2022-10-20T00:00:00-04:00",
          "2022-10-21T00:00:00-04:00",
          "2022-10-24T00:00:00-04:00",
          "2022-10-25T00:00:00-04:00",
          "2022-10-26T00:00:00-04:00",
          "2022-10-27T00:00:00-04:00",
          "2022-10-28T00:00:00-04:00",
          "2022-10-31T00:00:00-04:00",
          "2022-11-01T00:00:00-04:00",
          "2022-11-02T00:00:00-04:00",
          "2022-11-03T00:00:00-04:00",
          "2022-11-04T00:00:00-04:00",
          "2022-11-07T00:00:00-05:00",
          "2022-11-08T00:00:00-05:00",
          "2022-11-09T00:00:00-05:00",
          "2022-11-10T00:00:00-05:00",
          "2022-11-11T00:00:00-05:00",
          "2022-11-14T00:00:00-05:00",
          "2022-11-15T00:00:00-05:00",
          "2022-11-16T00:00:00-05:00",
          "2022-11-17T00:00:00-05:00",
          "2022-11-18T00:00:00-05:00",
          "2022-11-21T00:00:00-05:00",
          "2022-11-22T00:00:00-05:00",
          "2022-11-23T00:00:00-05:00",
          "2022-11-25T00:00:00-05:00",
          "2022-11-28T00:00:00-05:00",
          "2022-11-29T00:00:00-05:00",
          "2022-11-30T00:00:00-05:00",
          "2022-12-01T00:00:00-05:00",
          "2022-12-02T00:00:00-05:00",
          "2022-12-05T00:00:00-05:00",
          "2022-12-06T00:00:00-05:00",
          "2022-12-07T00:00:00-05:00",
          "2022-12-08T00:00:00-05:00",
          "2022-12-09T00:00:00-05:00",
          "2022-12-12T00:00:00-05:00",
          "2022-12-13T00:00:00-05:00",
          "2022-12-14T00:00:00-05:00",
          "2022-12-15T00:00:00-05:00",
          "2022-12-16T00:00:00-05:00",
          "2022-12-19T00:00:00-05:00",
          "2022-12-20T00:00:00-05:00",
          "2022-12-21T00:00:00-05:00",
          "2022-12-22T00:00:00-05:00",
          "2022-12-23T00:00:00-05:00",
          "2022-12-27T00:00:00-05:00",
          "2022-12-28T00:00:00-05:00",
          "2022-12-29T00:00:00-05:00",
          "2022-12-30T00:00:00-05:00",
          "2023-01-03T00:00:00-05:00",
          "2023-01-04T00:00:00-05:00",
          "2023-01-05T00:00:00-05:00",
          "2023-01-06T00:00:00-05:00",
          "2023-01-09T00:00:00-05:00",
          "2023-01-10T00:00:00-05:00",
          "2023-01-11T00:00:00-05:00",
          "2023-01-12T00:00:00-05:00",
          "2023-01-13T00:00:00-05:00",
          "2023-01-17T00:00:00-05:00",
          "2023-01-18T00:00:00-05:00",
          "2023-01-19T00:00:00-05:00",
          "2023-01-20T00:00:00-05:00",
          "2023-01-23T00:00:00-05:00",
          "2023-01-24T00:00:00-05:00",
          "2023-01-25T00:00:00-05:00",
          "2023-01-26T00:00:00-05:00",
          "2023-01-27T00:00:00-05:00",
          "2023-01-30T00:00:00-05:00",
          "2023-01-31T00:00:00-05:00",
          "2023-02-01T00:00:00-05:00",
          "2023-02-02T00:00:00-05:00",
          "2023-02-03T00:00:00-05:00",
          "2023-02-06T00:00:00-05:00",
          "2023-02-07T00:00:00-05:00",
          "2023-02-08T00:00:00-05:00",
          "2023-02-09T00:00:00-05:00",
          "2023-02-10T00:00:00-05:00",
          "2023-02-13T00:00:00-05:00",
          "2023-02-14T00:00:00-05:00",
          "2023-02-15T00:00:00-05:00",
          "2023-02-16T00:00:00-05:00",
          "2023-02-17T00:00:00-05:00",
          "2023-02-21T00:00:00-05:00",
          "2023-02-22T00:00:00-05:00",
          "2023-02-23T00:00:00-05:00",
          "2023-02-24T00:00:00-05:00",
          "2023-02-27T00:00:00-05:00",
          "2023-02-28T00:00:00-05:00",
          "2023-03-01T00:00:00-05:00",
          "2023-03-02T00:00:00-05:00",
          "2023-03-03T00:00:00-05:00",
          "2023-03-06T00:00:00-05:00",
          "2023-03-07T00:00:00-05:00",
          "2023-03-08T00:00:00-05:00",
          "2023-03-09T00:00:00-05:00",
          "2023-03-10T00:00:00-05:00",
          "2023-03-13T00:00:00-04:00",
          "2023-03-14T00:00:00-04:00",
          "2023-03-15T00:00:00-04:00",
          "2023-03-16T00:00:00-04:00",
          "2023-03-17T00:00:00-04:00",
          "2023-03-20T00:00:00-04:00",
          "2023-03-21T00:00:00-04:00",
          "2023-03-22T00:00:00-04:00",
          "2023-03-23T00:00:00-04:00",
          "2023-03-24T00:00:00-04:00",
          "2023-03-27T00:00:00-04:00",
          "2023-03-28T00:00:00-04:00",
          "2023-03-29T00:00:00-04:00",
          "2023-03-30T00:00:00-04:00",
          "2023-03-31T00:00:00-04:00",
          "2023-04-03T00:00:00-04:00",
          "2023-04-04T00:00:00-04:00",
          "2023-04-05T00:00:00-04:00",
          "2023-04-06T00:00:00-04:00",
          "2023-04-10T00:00:00-04:00",
          "2023-04-11T00:00:00-04:00",
          "2023-04-12T00:00:00-04:00",
          "2023-04-13T00:00:00-04:00",
          "2023-04-14T00:00:00-04:00",
          "2023-04-17T00:00:00-04:00",
          "2023-04-18T00:00:00-04:00",
          "2023-04-19T00:00:00-04:00",
          "2023-04-20T00:00:00-04:00",
          "2023-04-21T00:00:00-04:00",
          "2023-04-24T00:00:00-04:00",
          "2023-04-25T00:00:00-04:00",
          "2023-04-26T00:00:00-04:00",
          "2023-04-27T00:00:00-04:00",
          "2023-04-28T00:00:00-04:00",
          "2023-05-01T00:00:00-04:00",
          "2023-05-02T00:00:00-04:00",
          "2023-05-03T00:00:00-04:00",
          "2023-05-04T00:00:00-04:00",
          "2023-05-05T00:00:00-04:00",
          "2023-05-08T00:00:00-04:00",
          "2023-05-09T00:00:00-04:00",
          "2023-05-10T00:00:00-04:00",
          "2023-05-11T00:00:00-04:00",
          "2023-05-12T00:00:00-04:00",
          "2023-05-15T00:00:00-04:00",
          "2023-05-16T00:00:00-04:00",
          "2023-05-17T00:00:00-04:00",
          "2023-05-18T00:00:00-04:00",
          "2023-05-19T00:00:00-04:00",
          "2023-05-22T00:00:00-04:00",
          "2023-05-23T00:00:00-04:00",
          "2023-05-24T00:00:00-04:00",
          "2023-05-25T00:00:00-04:00",
          "2023-05-26T00:00:00-04:00",
          "2023-05-30T00:00:00-04:00",
          "2023-05-31T00:00:00-04:00",
          "2023-06-01T00:00:00-04:00",
          "2023-06-02T00:00:00-04:00",
          "2023-06-05T00:00:00-04:00",
          "2023-06-06T00:00:00-04:00",
          "2023-06-07T00:00:00-04:00",
          "2023-06-08T00:00:00-04:00",
          "2023-06-09T00:00:00-04:00",
          "2023-06-12T00:00:00-04:00",
          "2023-06-13T00:00:00-04:00",
          "2023-06-14T00:00:00-04:00",
          "2023-06-15T00:00:00-04:00",
          "2023-06-16T00:00:00-04:00",
          "2023-06-20T00:00:00-04:00",
          "2023-06-21T00:00:00-04:00",
          "2023-06-22T00:00:00-04:00",
          "2023-06-23T00:00:00-04:00",
          "2023-06-26T00:00:00-04:00",
          "2023-06-27T00:00:00-04:00",
          "2023-06-28T00:00:00-04:00",
          "2023-06-29T00:00:00-04:00",
          "2023-06-30T00:00:00-04:00",
          "2023-07-03T00:00:00-04:00",
          "2023-07-05T00:00:00-04:00",
          "2023-07-06T00:00:00-04:00",
          "2023-07-07T00:00:00-04:00",
          "2023-07-10T00:00:00-04:00",
          "2023-07-11T00:00:00-04:00",
          "2023-07-12T00:00:00-04:00",
          "2023-07-13T00:00:00-04:00",
          "2023-07-14T00:00:00-04:00",
          "2023-07-17T00:00:00-04:00",
          "2023-07-18T00:00:00-04:00",
          "2023-07-19T00:00:00-04:00",
          "2023-07-20T00:00:00-04:00",
          "2023-07-21T00:00:00-04:00",
          "2023-07-24T00:00:00-04:00",
          "2023-07-25T00:00:00-04:00",
          "2023-07-26T00:00:00-04:00",
          "2023-07-27T00:00:00-04:00",
          "2023-07-28T00:00:00-04:00",
          "2023-07-31T00:00:00-04:00",
          "2023-08-01T00:00:00-04:00",
          "2023-08-02T00:00:00-04:00",
          "2023-08-03T00:00:00-04:00",
          "2023-08-04T00:00:00-04:00",
          "2023-08-07T00:00:00-04:00",
          "2023-08-08T00:00:00-04:00",
          "2023-08-09T00:00:00-04:00",
          "2023-08-10T00:00:00-04:00",
          "2023-08-11T00:00:00-04:00",
          "2023-08-14T00:00:00-04:00",
          "2023-08-15T00:00:00-04:00",
          "2023-08-16T00:00:00-04:00",
          "2023-08-17T00:00:00-04:00",
          "2023-08-18T00:00:00-04:00",
          "2023-08-21T00:00:00-04:00",
          "2023-08-22T00:00:00-04:00",
          "2023-08-23T00:00:00-04:00",
          "2023-08-24T00:00:00-04:00",
          "2023-08-25T00:00:00-04:00",
          "2023-08-28T00:00:00-04:00",
          "2023-08-29T00:00:00-04:00",
          "2023-08-30T00:00:00-04:00",
          "2023-08-31T00:00:00-04:00",
          "2023-09-01T00:00:00-04:00",
          "2023-09-05T00:00:00-04:00",
          "2023-09-06T00:00:00-04:00",
          "2023-09-07T00:00:00-04:00",
          "2023-09-08T00:00:00-04:00",
          "2023-09-11T00:00:00-04:00",
          "2023-09-12T00:00:00-04:00",
          "2023-09-13T00:00:00-04:00",
          "2023-09-14T00:00:00-04:00",
          "2023-09-15T00:00:00-04:00",
          "2023-09-18T00:00:00-04:00",
          "2023-09-19T00:00:00-04:00",
          "2023-09-20T00:00:00-04:00",
          "2023-09-21T00:00:00-04:00",
          "2023-09-22T00:00:00-04:00",
          "2023-09-25T00:00:00-04:00",
          "2023-09-26T00:00:00-04:00",
          "2023-09-27T00:00:00-04:00",
          "2023-09-28T00:00:00-04:00",
          "2023-09-29T00:00:00-04:00",
          "2023-10-02T00:00:00-04:00",
          "2023-10-03T00:00:00-04:00",
          "2023-10-04T00:00:00-04:00",
          "2023-10-05T00:00:00-04:00",
          "2023-10-06T00:00:00-04:00",
          "2023-10-09T00:00:00-04:00",
          "2023-10-10T00:00:00-04:00",
          "2023-10-11T00:00:00-04:00",
          "2023-10-12T00:00:00-04:00",
          "2023-10-13T00:00:00-04:00",
          "2023-10-16T00:00:00-04:00",
          "2023-10-17T00:00:00-04:00",
          "2023-10-18T00:00:00-04:00"
         ],
         "xaxis": "x",
         "y": [
          70447500,
          26980800,
          16966100,
          10914400,
          20409600,
          15054700,
          15954200,
          17788100,
          9872600,
          5852500,
          3621400,
          6229200,
          5402300,
          3462400,
          2795800,
          6409900,
          5974200,
          4213900,
          4482800,
          4615600,
          2801900,
          8123600,
          12529700,
          9926500,
          8575700,
          4685400,
          8517400,
          17618400,
          7136800,
          7472900,
          6460900,
          11019800,
          7077700,
          4529800,
          3877400,
          4413600,
          4169000,
          3631500,
          2869700,
          3488100,
          4725800,
          5257200,
          3595200,
          3041700,
          3487900,
          4090600,
          2791400,
          2605800,
          3674200,
          5902400,
          5983500,
          11568500,
          19368600,
          15798500,
          9144900,
          10592900,
          9993700,
          8788500,
          4988500,
          6079900,
          6145600,
          6031200,
          5556500,
          4329400,
          4605600,
          3781900,
          3711500,
          4444600,
          3740400,
          3460600,
          3756100,
          5264100,
          3562900,
          4508800,
          2903300,
          3079500,
          2921400,
          2591400,
          3565600,
          6663500,
          2625300,
          2910200,
          2619800,
          3573600,
          2938600,
          2894900,
          3058300,
          3125700,
          4575000,
          3878600,
          3856500,
          3329900,
          2549400,
          2883000,
          2409700,
          3116000,
          3580000,
          3149700,
          4658000,
          3590100,
          8529000,
          7134000,
          5827200,
          8257400,
          5307500,
          13005400,
          20325400,
          39755000,
          18555600,
          15565500,
          8903600,
          10056500,
          8543600,
          10435800,
          8179200,
          21270200,
          12000600,
          16552100,
          16245100,
          11083300,
          8534900,
          7780200,
          7125800,
          5606500,
          9482500,
          4819900,
          6107500,
          12007700,
          9632800,
          8171300,
          11628900,
          8040200,
          5790400,
          9335700,
          8173400,
          6452400,
          6451000,
          7479000,
          9798600,
          9787100,
          4826500,
          5069400,
          5650900,
          4827200,
          7065100,
          3276300,
          5871500,
          8545500,
          6576100,
          6094600,
          7215700,
          6274600,
          5269600,
          4628400,
          2811100,
          6489500,
          5113100,
          4466800,
          5005500,
          4167100,
          4522400,
          5491000,
          4631400,
          4737500,
          4043500,
          5541900,
          5149800,
          6717700,
          8794100,
          16789100,
          7715200,
          7855100,
          5190100,
          4732400,
          2996200,
          4727400,
          22096800,
          7267700,
          7243000,
          4818800,
          3968700,
          7404000,
          4324700,
          3301000,
          4456400,
          11008800,
          5866500,
          5935800,
          3985300,
          7520900,
          4655500,
          5656000,
          6094800,
          20024700,
          6846800,
          8592500,
          4353600,
          5370800,
          4084900,
          3551400,
          4362800,
          2788700,
          2662500,
          4963000,
          4459400,
          4340100,
          2461500,
          2119600,
          2265100,
          2046300,
          6028100,
          3521900,
          4139400,
          3592700,
          2793700,
          2776600,
          2687000,
          2889400,
          2986000,
          2620800,
          2937900,
          3009800,
          2143700,
          2294400,
          4401100,
          3292100,
          2827100,
          9664600,
          27330500,
          12855300,
          9056100,
          6704100,
          5899000,
          12057800,
          7479300,
          4431300,
          6383400,
          4597700,
          8181900,
          12619800,
          6451900,
          4763300,
          6044100,
          5317400,
          10682700,
          7645700,
          5687600,
          6460900,
          9813800,
          6264600,
          4218700,
          3518000,
          3980400,
          7263700,
          5660400,
          6678500,
          9415100,
          24062400,
          4639300,
          6293500,
          4802500,
          4017400,
          2725200,
          2292600,
          1995400,
          2181100,
          2596000,
          4224900,
          4080000,
          4804600,
          5049600,
          5624600,
          6973600,
          5331600,
          3534300,
          4893800,
          4144000,
          5775400,
          5127400,
          4941900,
          7242300,
          14606600,
          5704900,
          6990300,
          4493800,
          5604400,
          5463000,
          3799300,
          3678300,
          4577100,
          4687700,
          4690700,
          4309100,
          4868300,
          8261400,
          6464400,
          4847600,
          11733900,
          22252900,
          7779200,
          8848800,
          8392600,
          9778500,
          10354600,
          6173200,
          11078500,
          5165800,
          5028300,
          4045800,
          8390800,
          9177300,
          9587000,
          7023900,
          5302500,
          4577300,
          6330200,
          5488700,
          7105400,
          5031700,
          8467500,
          4584400,
          4099900,
          2814300,
          4223500,
          2952300,
          3829800,
          5452800,
          3707400,
          3232200,
          3644900,
          3495700,
          4065000,
          4287700,
          4146600,
          3448400,
          3877200,
          4113000,
          7211900,
          5125100,
          3339900,
          2857100,
          3997900,
          4714600,
          3863400,
          3868100,
          4075000,
          4826000,
          4854500,
          4033100,
          5945300,
          16774700,
          20598100,
          11367200,
          9573100,
          14430900,
          13638500,
          13661400,
          9264300,
          8595400,
          7588400,
          6962900,
          9718700,
          8926600,
          6961900,
          6000800,
          6415800,
          6203300,
          6883200,
          7391500,
          9117600,
          6879600,
          5166200,
          4584600,
          4160200,
          3331200,
          3775600,
          5315900,
          6936900,
          9587300,
          5915300,
          6260400,
          9435700,
          11293100,
          6532700,
          8986000,
          12340800,
          28797400,
          7352100,
          7744100,
          6522600,
          9007800,
          5995400,
          7648500,
          5703000,
          7480500,
          5669500,
          6041400,
          4170200,
          6967800,
          8334600,
          7497200,
          7171500,
          5603800,
          6834100,
          4284900,
          4243900,
          3142900,
          4191000,
          5362700,
          4471900,
          4637800,
          6019500,
          15208200,
          23354900,
          9180300,
          6495000,
          5382900,
          4201200,
          5529000,
          8110100,
          5012500,
          4884700,
          4370700,
          4336200,
          3373900,
          5288800,
          6057400,
          5447200,
          3634000,
          4021600,
          3778700,
          4620600,
          4507200,
          6191600,
          5661500,
          4121700,
          4067100,
          4619300,
          4064000,
          5413300,
          6993300,
          7126500,
          5690100,
          6606100,
          13704400,
          4715400,
          5610900,
          6898700,
          8399400,
          6245600,
          5278800,
          5081000,
          4518200,
          4259500,
          4750600,
          6208900,
          4835000,
          4008700,
          3446500,
          3352700,
          3945200,
          5696700,
          5547500,
          6172500,
          5001700,
          5423900,
          5580000,
          3408900,
          3962200,
          4146100,
          4452800,
          6278900,
          4263100,
          4594000,
          4757300,
          10733800,
          15979800,
          29191400,
          10099300,
          9717400,
          7972700,
          7829400,
          4650900,
          7343000,
          6864400,
          4951400,
          5357400,
          3681800,
          5181200,
          5913100,
          5145700,
          5951600,
          4337600,
          2245100,
          5133900,
          3694000,
          8387500,
          5040300,
          4128600,
          3601500,
          8380900,
          12640500,
          6115700,
          4405800,
          4664100,
          7378900,
          6737800,
          5332000,
          6830200,
          4717100,
          7325800,
          5594800,
          5643100,
          3057700,
          3982400,
          4931700,
          4031300,
          3372500,
          3901200,
          4817100,
          3419000,
          4348400,
          4319400,
          4165600,
          7718900,
          7695200,
          6529000,
          5496200,
          6062200,
          4996700,
          5104000,
          4442700,
          3514700,
          5169300,
          5196600,
          9548500,
          5469900,
          3867200,
          4053600,
          7166900,
          6130700,
          3204100,
          4397700,
          3605400,
          4508700,
          6463500,
          7657200,
          17145000,
          32481900,
          18705800,
          11386700,
          6618700,
          5759000,
          7013500,
          5119800,
          5011400,
          7317100,
          4645000,
          4087300,
          5499400,
          5292500,
          5590800,
          3290800,
          6147700,
          5254800,
          5282000,
          5416400,
          6305100,
          7691900,
          5513600,
          3997700,
          5374400,
          3971100,
          4028500,
          4290900,
          2819600,
          2941000,
          2711500,
          5437900,
          5533800,
          4230600,
          3349300,
          6737000,
          14400100,
          5406400,
          4845400,
          6068700,
          3878100,
          3415200,
          3287100,
          7162200,
          3309700,
          4369700,
          7357800,
          3239500,
          3659700,
          3615500,
          3870500,
          4974300,
          4830600,
          4861800,
          3687700,
          4939900,
          6618800,
          10142900,
          15410300,
          34191000,
          9579400,
          14740400,
          5422500,
          5585300,
          6887400,
          6945900,
          9124200,
          7350600,
          6498200,
          5371700,
          4834500,
          4677600,
          5460100,
          10263100,
          6644100,
          10122000,
          8324400,
          5025700,
          4637600,
          4432700,
          7427200,
          7876600,
          5276800,
          5696700,
          5599400,
          6892400,
          5383600,
          4711900,
          3935600,
          5794100,
          3645800,
          4507700,
          6130400,
          4242000,
          4600100,
          5001800,
          3429900,
          3733600,
          3148100,
          4052000,
          10045600,
          5583600,
          5532300,
          6496600,
          5755800,
          4124900,
          4968600,
          4246300,
          11794500,
          4370800,
          4121300,
          4055500,
          5426000,
          4162300,
          4457300,
          4519600,
          7026100,
          11441200,
          8621800,
          4079100,
          4685800,
          3389700,
          3437600,
          4372200,
          3373800,
          3970500,
          3336900,
          3908500,
          5907800,
          4876000,
          4946000,
          4605400,
          2980800,
          2415200,
          2348500,
          5622900,
          4709900,
          3860300,
          4418300,
          21052800,
          7114400,
          7928200,
          9326600,
          7179000,
          7342700,
          7893300,
          8365500,
          74786400,
          7351400,
          6674100,
          5189000,
          8514300,
          4278500,
          4154500,
          4194000,
          3771300,
          4058900,
          4781100,
          3489100,
          9019700,
          5822000,
          7630200,
          5152300,
          5092000,
          5114700,
          3456500,
          4023300,
          4926500,
          2706100,
          3073600,
          4075745
         ],
         "yaxis": "y"
        }
       ],
       "layout": {
        "height": 400,
        "legend": {
         "title": {
          "text": "variable"
         },
         "tracegroupgap": 0
        },
        "template": {
         "data": {
          "bar": [
           {
            "error_x": {
             "color": "#2a3f5f"
            },
            "error_y": {
             "color": "#2a3f5f"
            },
            "marker": {
             "line": {
              "color": "#E5ECF6",
              "width": 0.5
             },
             "pattern": {
              "fillmode": "overlay",
              "size": 10,
              "solidity": 0.2
             }
            },
            "type": "bar"
           }
          ],
          "barpolar": [
           {
            "marker": {
             "line": {
              "color": "#E5ECF6",
              "width": 0.5
             },
             "pattern": {
              "fillmode": "overlay",
              "size": 10,
              "solidity": 0.2
             }
            },
            "type": "barpolar"
           }
          ],
          "carpet": [
           {
            "aaxis": {
             "endlinecolor": "#2a3f5f",
             "gridcolor": "white",
             "linecolor": "white",
             "minorgridcolor": "white",
             "startlinecolor": "#2a3f5f"
            },
            "baxis": {
             "endlinecolor": "#2a3f5f",
             "gridcolor": "white",
             "linecolor": "white",
             "minorgridcolor": "white",
             "startlinecolor": "#2a3f5f"
            },
            "type": "carpet"
           }
          ],
          "choropleth": [
           {
            "colorbar": {
             "outlinewidth": 0,
             "ticks": ""
            },
            "type": "choropleth"
           }
          ],
          "contour": [
           {
            "colorbar": {
             "outlinewidth": 0,
             "ticks": ""
            },
            "colorscale": [
             [
              0,
              "#0d0887"
             ],
             [
              0.1111111111111111,
              "#46039f"
             ],
             [
              0.2222222222222222,
              "#7201a8"
             ],
             [
              0.3333333333333333,
              "#9c179e"
             ],
             [
              0.4444444444444444,
              "#bd3786"
             ],
             [
              0.5555555555555556,
              "#d8576b"
             ],
             [
              0.6666666666666666,
              "#ed7953"
             ],
             [
              0.7777777777777778,
              "#fb9f3a"
             ],
             [
              0.8888888888888888,
              "#fdca26"
             ],
             [
              1,
              "#f0f921"
             ]
            ],
            "type": "contour"
           }
          ],
          "contourcarpet": [
           {
            "colorbar": {
             "outlinewidth": 0,
             "ticks": ""
            },
            "type": "contourcarpet"
           }
          ],
          "heatmap": [
           {
            "colorbar": {
             "outlinewidth": 0,
             "ticks": ""
            },
            "colorscale": [
             [
              0,
              "#0d0887"
             ],
             [
              0.1111111111111111,
              "#46039f"
             ],
             [
              0.2222222222222222,
              "#7201a8"
             ],
             [
              0.3333333333333333,
              "#9c179e"
             ],
             [
              0.4444444444444444,
              "#bd3786"
             ],
             [
              0.5555555555555556,
              "#d8576b"
             ],
             [
              0.6666666666666666,
              "#ed7953"
             ],
             [
              0.7777777777777778,
              "#fb9f3a"
             ],
             [
              0.8888888888888888,
              "#fdca26"
             ],
             [
              1,
              "#f0f921"
             ]
            ],
            "type": "heatmap"
           }
          ],
          "heatmapgl": [
           {
            "colorbar": {
             "outlinewidth": 0,
             "ticks": ""
            },
            "colorscale": [
             [
              0,
              "#0d0887"
             ],
             [
              0.1111111111111111,
              "#46039f"
             ],
             [
              0.2222222222222222,
              "#7201a8"
             ],
             [
              0.3333333333333333,
              "#9c179e"
             ],
             [
              0.4444444444444444,
              "#bd3786"
             ],
             [
              0.5555555555555556,
              "#d8576b"
             ],
             [
              0.6666666666666666,
              "#ed7953"
             ],
             [
              0.7777777777777778,
              "#fb9f3a"
             ],
             [
              0.8888888888888888,
              "#fdca26"
             ],
             [
              1,
              "#f0f921"
             ]
            ],
            "type": "heatmapgl"
           }
          ],
          "histogram": [
           {
            "marker": {
             "pattern": {
              "fillmode": "overlay",
              "size": 10,
              "solidity": 0.2
             }
            },
            "type": "histogram"
           }
          ],
          "histogram2d": [
           {
            "colorbar": {
             "outlinewidth": 0,
             "ticks": ""
            },
            "colorscale": [
             [
              0,
              "#0d0887"
             ],
             [
              0.1111111111111111,
              "#46039f"
             ],
             [
              0.2222222222222222,
              "#7201a8"
             ],
             [
              0.3333333333333333,
              "#9c179e"
             ],
             [
              0.4444444444444444,
              "#bd3786"
             ],
             [
              0.5555555555555556,
              "#d8576b"
             ],
             [
              0.6666666666666666,
              "#ed7953"
             ],
             [
              0.7777777777777778,
              "#fb9f3a"
             ],
             [
              0.8888888888888888,
              "#fdca26"
             ],
             [
              1,
              "#f0f921"
             ]
            ],
            "type": "histogram2d"
           }
          ],
          "histogram2dcontour": [
           {
            "colorbar": {
             "outlinewidth": 0,
             "ticks": ""
            },
            "colorscale": [
             [
              0,
              "#0d0887"
             ],
             [
              0.1111111111111111,
              "#46039f"
             ],
             [
              0.2222222222222222,
              "#7201a8"
             ],
             [
              0.3333333333333333,
              "#9c179e"
             ],
             [
              0.4444444444444444,
              "#bd3786"
             ],
             [
              0.5555555555555556,
              "#d8576b"
             ],
             [
              0.6666666666666666,
              "#ed7953"
             ],
             [
              0.7777777777777778,
              "#fb9f3a"
             ],
             [
              0.8888888888888888,
              "#fdca26"
             ],
             [
              1,
              "#f0f921"
             ]
            ],
            "type": "histogram2dcontour"
           }
          ],
          "mesh3d": [
           {
            "colorbar": {
             "outlinewidth": 0,
             "ticks": ""
            },
            "type": "mesh3d"
           }
          ],
          "parcoords": [
           {
            "line": {
             "colorbar": {
              "outlinewidth": 0,
              "ticks": ""
             }
            },
            "type": "parcoords"
           }
          ],
          "pie": [
           {
            "automargin": true,
            "type": "pie"
           }
          ],
          "scatter": [
           {
            "fillpattern": {
             "fillmode": "overlay",
             "size": 10,
             "solidity": 0.2
            },
            "type": "scatter"
           }
          ],
          "scatter3d": [
           {
            "line": {
             "colorbar": {
              "outlinewidth": 0,
              "ticks": ""
             }
            },
            "marker": {
             "colorbar": {
              "outlinewidth": 0,
              "ticks": ""
             }
            },
            "type": "scatter3d"
           }
          ],
          "scattercarpet": [
           {
            "marker": {
             "colorbar": {
              "outlinewidth": 0,
              "ticks": ""
             }
            },
            "type": "scattercarpet"
           }
          ],
          "scattergeo": [
           {
            "marker": {
             "colorbar": {
              "outlinewidth": 0,
              "ticks": ""
             }
            },
            "type": "scattergeo"
           }
          ],
          "scattergl": [
           {
            "marker": {
             "colorbar": {
              "outlinewidth": 0,
              "ticks": ""
             }
            },
            "type": "scattergl"
           }
          ],
          "scattermapbox": [
           {
            "marker": {
             "colorbar": {
              "outlinewidth": 0,
              "ticks": ""
             }
            },
            "type": "scattermapbox"
           }
          ],
          "scatterpolar": [
           {
            "marker": {
             "colorbar": {
              "outlinewidth": 0,
              "ticks": ""
             }
            },
            "type": "scatterpolar"
           }
          ],
          "scatterpolargl": [
           {
            "marker": {
             "colorbar": {
              "outlinewidth": 0,
              "ticks": ""
             }
            },
            "type": "scatterpolargl"
           }
          ],
          "scatterternary": [
           {
            "marker": {
             "colorbar": {
              "outlinewidth": 0,
              "ticks": ""
             }
            },
            "type": "scatterternary"
           }
          ],
          "surface": [
           {
            "colorbar": {
             "outlinewidth": 0,
             "ticks": ""
            },
            "colorscale": [
             [
              0,
              "#0d0887"
             ],
             [
              0.1111111111111111,
              "#46039f"
             ],
             [
              0.2222222222222222,
              "#7201a8"
             ],
             [
              0.3333333333333333,
              "#9c179e"
             ],
             [
              0.4444444444444444,
              "#bd3786"
             ],
             [
              0.5555555555555556,
              "#d8576b"
             ],
             [
              0.6666666666666666,
              "#ed7953"
             ],
             [
              0.7777777777777778,
              "#fb9f3a"
             ],
             [
              0.8888888888888888,
              "#fdca26"
             ],
             [
              1,
              "#f0f921"
             ]
            ],
            "type": "surface"
           }
          ],
          "table": [
           {
            "cells": {
             "fill": {
              "color": "#EBF0F8"
             },
             "line": {
              "color": "white"
             }
            },
            "header": {
             "fill": {
              "color": "#C8D4E3"
             },
             "line": {
              "color": "white"
             }
            },
            "type": "table"
           }
          ]
         },
         "layout": {
          "annotationdefaults": {
           "arrowcolor": "#2a3f5f",
           "arrowhead": 0,
           "arrowwidth": 1
          },
          "autotypenumbers": "strict",
          "coloraxis": {
           "colorbar": {
            "outlinewidth": 0,
            "ticks": ""
           }
          },
          "colorscale": {
           "diverging": [
            [
             0,
             "#8e0152"
            ],
            [
             0.1,
             "#c51b7d"
            ],
            [
             0.2,
             "#de77ae"
            ],
            [
             0.3,
             "#f1b6da"
            ],
            [
             0.4,
             "#fde0ef"
            ],
            [
             0.5,
             "#f7f7f7"
            ],
            [
             0.6,
             "#e6f5d0"
            ],
            [
             0.7,
             "#b8e186"
            ],
            [
             0.8,
             "#7fbc41"
            ],
            [
             0.9,
             "#4d9221"
            ],
            [
             1,
             "#276419"
            ]
           ],
           "sequential": [
            [
             0,
             "#0d0887"
            ],
            [
             0.1111111111111111,
             "#46039f"
            ],
            [
             0.2222222222222222,
             "#7201a8"
            ],
            [
             0.3333333333333333,
             "#9c179e"
            ],
            [
             0.4444444444444444,
             "#bd3786"
            ],
            [
             0.5555555555555556,
             "#d8576b"
            ],
            [
             0.6666666666666666,
             "#ed7953"
            ],
            [
             0.7777777777777778,
             "#fb9f3a"
            ],
            [
             0.8888888888888888,
             "#fdca26"
            ],
            [
             1,
             "#f0f921"
            ]
           ],
           "sequentialminus": [
            [
             0,
             "#0d0887"
            ],
            [
             0.1111111111111111,
             "#46039f"
            ],
            [
             0.2222222222222222,
             "#7201a8"
            ],
            [
             0.3333333333333333,
             "#9c179e"
            ],
            [
             0.4444444444444444,
             "#bd3786"
            ],
            [
             0.5555555555555556,
             "#d8576b"
            ],
            [
             0.6666666666666666,
             "#ed7953"
            ],
            [
             0.7777777777777778,
             "#fb9f3a"
            ],
            [
             0.8888888888888888,
             "#fdca26"
            ],
            [
             1,
             "#f0f921"
            ]
           ]
          },
          "colorway": [
           "#636efa",
           "#EF553B",
           "#00cc96",
           "#ab63fa",
           "#FFA15A",
           "#19d3f3",
           "#FF6692",
           "#B6E880",
           "#FF97FF",
           "#FECB52"
          ],
          "font": {
           "color": "#2a3f5f"
          },
          "geo": {
           "bgcolor": "white",
           "lakecolor": "white",
           "landcolor": "#E5ECF6",
           "showlakes": true,
           "showland": true,
           "subunitcolor": "white"
          },
          "hoverlabel": {
           "align": "left"
          },
          "hovermode": "closest",
          "mapbox": {
           "style": "light"
          },
          "paper_bgcolor": "white",
          "plot_bgcolor": "#E5ECF6",
          "polar": {
           "angularaxis": {
            "gridcolor": "white",
            "linecolor": "white",
            "ticks": ""
           },
           "bgcolor": "#E5ECF6",
           "radialaxis": {
            "gridcolor": "white",
            "linecolor": "white",
            "ticks": ""
           }
          },
          "scene": {
           "xaxis": {
            "backgroundcolor": "#E5ECF6",
            "gridcolor": "white",
            "gridwidth": 2,
            "linecolor": "white",
            "showbackground": true,
            "ticks": "",
            "zerolinecolor": "white"
           },
           "yaxis": {
            "backgroundcolor": "#E5ECF6",
            "gridcolor": "white",
            "gridwidth": 2,
            "linecolor": "white",
            "showbackground": true,
            "ticks": "",
            "zerolinecolor": "white"
           },
           "zaxis": {
            "backgroundcolor": "#E5ECF6",
            "gridcolor": "white",
            "gridwidth": 2,
            "linecolor": "white",
            "showbackground": true,
            "ticks": "",
            "zerolinecolor": "white"
           }
          },
          "shapedefaults": {
           "line": {
            "color": "#2a3f5f"
           }
          },
          "ternary": {
           "aaxis": {
            "gridcolor": "white",
            "linecolor": "white",
            "ticks": ""
           },
           "baxis": {
            "gridcolor": "white",
            "linecolor": "white",
            "ticks": ""
           },
           "bgcolor": "#E5ECF6",
           "caxis": {
            "gridcolor": "white",
            "linecolor": "white",
            "ticks": ""
           }
          },
          "title": {
           "x": 0.05
          },
          "xaxis": {
           "automargin": true,
           "gridcolor": "white",
           "linecolor": "white",
           "ticks": "",
           "title": {
            "standoff": 15
           },
           "zerolinecolor": "white",
           "zerolinewidth": 2
          },
          "yaxis": {
           "automargin": true,
           "gridcolor": "white",
           "linecolor": "white",
           "ticks": "",
           "title": {
            "standoff": 15
           },
           "zerolinecolor": "white",
           "zerolinewidth": 2
          }
         }
        },
        "title": {
         "text": "Tesla Daily Volume"
        },
        "width": 800,
        "xaxis": {
         "anchor": "y",
         "domain": [
          0,
          1
         ],
         "title": {
          "text": "Date"
         }
        },
        "yaxis": {
         "anchor": "x",
         "domain": [
          0,
          1
         ],
         "title": {
          "text": "value"
         }
        }
       }
      }
     },
     "metadata": {},
     "output_type": "display_data"
    }
   ],
   "source": [
    "df_volume_chart = px.area(df['Volume'],\n",
    "                          title='Tesla Daily Volume',\n",
    "                          color_discrete_map={'Volume':'purple'} ,\n",
    "                          width=800, height=400)\n",
    "df_volume_chart.show()"
   ]
  },
  {
   "cell_type": "code",
   "execution_count": 3,
   "id": "060e0c42",
   "metadata": {},
   "outputs": [
    {
     "data": {
      "text/html": [
       "<div>\n",
       "<style scoped>\n",
       "    .dataframe tbody tr th:only-of-type {\n",
       "        vertical-align: middle;\n",
       "    }\n",
       "\n",
       "    .dataframe tbody tr th {\n",
       "        vertical-align: top;\n",
       "    }\n",
       "\n",
       "    .dataframe thead th {\n",
       "        text-align: right;\n",
       "    }\n",
       "</style>\n",
       "<table border=\"1\" class=\"dataframe\">\n",
       "  <thead>\n",
       "    <tr style=\"text-align: right;\">\n",
       "      <th></th>\n",
       "      <th>Date</th>\n",
       "      <th>Open</th>\n",
       "      <th>High</th>\n",
       "      <th>Low</th>\n",
       "      <th>Close</th>\n",
       "      <th>Volume</th>\n",
       "      <th>Dividends</th>\n",
       "      <th>Stock Splits</th>\n",
       "    </tr>\n",
       "  </thead>\n",
       "  <tbody>\n",
       "    <tr>\n",
       "      <th>0</th>\n",
       "      <td>2020-12-10 00:00:00-05:00</td>\n",
       "      <td>146.000000</td>\n",
       "      <td>165.000000</td>\n",
       "      <td>141.250000</td>\n",
       "      <td>144.710007</td>\n",
       "      <td>70447500</td>\n",
       "      <td>0.0</td>\n",
       "      <td>0.0</td>\n",
       "    </tr>\n",
       "    <tr>\n",
       "      <th>1</th>\n",
       "      <td>2020-12-11 00:00:00-05:00</td>\n",
       "      <td>146.550003</td>\n",
       "      <td>151.500000</td>\n",
       "      <td>135.100006</td>\n",
       "      <td>139.250000</td>\n",
       "      <td>26980800</td>\n",
       "      <td>0.0</td>\n",
       "      <td>0.0</td>\n",
       "    </tr>\n",
       "    <tr>\n",
       "      <th>2</th>\n",
       "      <td>2020-12-14 00:00:00-05:00</td>\n",
       "      <td>135.000000</td>\n",
       "      <td>135.300003</td>\n",
       "      <td>125.160004</td>\n",
       "      <td>130.000000</td>\n",
       "      <td>16966100</td>\n",
       "      <td>0.0</td>\n",
       "      <td>0.0</td>\n",
       "    </tr>\n",
       "    <tr>\n",
       "      <th>3</th>\n",
       "      <td>2020-12-15 00:00:00-05:00</td>\n",
       "      <td>126.690002</td>\n",
       "      <td>127.599998</td>\n",
       "      <td>121.500000</td>\n",
       "      <td>124.800003</td>\n",
       "      <td>10914400</td>\n",
       "      <td>0.0</td>\n",
       "      <td>0.0</td>\n",
       "    </tr>\n",
       "    <tr>\n",
       "      <th>4</th>\n",
       "      <td>2020-12-16 00:00:00-05:00</td>\n",
       "      <td>125.830002</td>\n",
       "      <td>142.000000</td>\n",
       "      <td>124.910004</td>\n",
       "      <td>137.990005</td>\n",
       "      <td>20409600</td>\n",
       "      <td>0.0</td>\n",
       "      <td>0.0</td>\n",
       "    </tr>\n",
       "    <tr>\n",
       "      <th>...</th>\n",
       "      <td>...</td>\n",
       "      <td>...</td>\n",
       "      <td>...</td>\n",
       "      <td>...</td>\n",
       "      <td>...</td>\n",
       "      <td>...</td>\n",
       "      <td>...</td>\n",
       "      <td>...</td>\n",
       "    </tr>\n",
       "    <tr>\n",
       "      <th>734</th>\n",
       "      <td>2023-11-10 00:00:00-05:00</td>\n",
       "      <td>114.525002</td>\n",
       "      <td>118.540001</td>\n",
       "      <td>114.169998</td>\n",
       "      <td>118.150002</td>\n",
       "      <td>4773500</td>\n",
       "      <td>0.0</td>\n",
       "      <td>0.0</td>\n",
       "    </tr>\n",
       "    <tr>\n",
       "      <th>735</th>\n",
       "      <td>2023-11-13 00:00:00-05:00</td>\n",
       "      <td>117.510002</td>\n",
       "      <td>119.860001</td>\n",
       "      <td>117.401001</td>\n",
       "      <td>119.150002</td>\n",
       "      <td>3408800</td>\n",
       "      <td>0.0</td>\n",
       "      <td>0.0</td>\n",
       "    </tr>\n",
       "    <tr>\n",
       "      <th>736</th>\n",
       "      <td>2023-11-14 00:00:00-05:00</td>\n",
       "      <td>122.355003</td>\n",
       "      <td>127.120003</td>\n",
       "      <td>121.510002</td>\n",
       "      <td>126.680000</td>\n",
       "      <td>8405200</td>\n",
       "      <td>0.0</td>\n",
       "      <td>0.0</td>\n",
       "    </tr>\n",
       "    <tr>\n",
       "      <th>737</th>\n",
       "      <td>2023-11-15 00:00:00-05:00</td>\n",
       "      <td>128.000000</td>\n",
       "      <td>131.619995</td>\n",
       "      <td>127.060997</td>\n",
       "      <td>128.350006</td>\n",
       "      <td>6851400</td>\n",
       "      <td>0.0</td>\n",
       "      <td>0.0</td>\n",
       "    </tr>\n",
       "    <tr>\n",
       "      <th>738</th>\n",
       "      <td>2023-11-16 00:00:00-05:00</td>\n",
       "      <td>127.120003</td>\n",
       "      <td>128.399994</td>\n",
       "      <td>125.309998</td>\n",
       "      <td>126.279999</td>\n",
       "      <td>4103728</td>\n",
       "      <td>0.0</td>\n",
       "      <td>0.0</td>\n",
       "    </tr>\n",
       "  </tbody>\n",
       "</table>\n",
       "<p>739 rows × 8 columns</p>\n",
       "</div>"
      ],
      "text/plain": [
       "                         Date        Open        High         Low       Close  \\\n",
       "0   2020-12-10 00:00:00-05:00  146.000000  165.000000  141.250000  144.710007   \n",
       "1   2020-12-11 00:00:00-05:00  146.550003  151.500000  135.100006  139.250000   \n",
       "2   2020-12-14 00:00:00-05:00  135.000000  135.300003  125.160004  130.000000   \n",
       "3   2020-12-15 00:00:00-05:00  126.690002  127.599998  121.500000  124.800003   \n",
       "4   2020-12-16 00:00:00-05:00  125.830002  142.000000  124.910004  137.990005   \n",
       "..                        ...         ...         ...         ...         ...   \n",
       "734 2023-11-10 00:00:00-05:00  114.525002  118.540001  114.169998  118.150002   \n",
       "735 2023-11-13 00:00:00-05:00  117.510002  119.860001  117.401001  119.150002   \n",
       "736 2023-11-14 00:00:00-05:00  122.355003  127.120003  121.510002  126.680000   \n",
       "737 2023-11-15 00:00:00-05:00  128.000000  131.619995  127.060997  128.350006   \n",
       "738 2023-11-16 00:00:00-05:00  127.120003  128.399994  125.309998  126.279999   \n",
       "\n",
       "       Volume  Dividends  Stock Splits  \n",
       "0    70447500        0.0           0.0  \n",
       "1    26980800        0.0           0.0  \n",
       "2    16966100        0.0           0.0  \n",
       "3    10914400        0.0           0.0  \n",
       "4    20409600        0.0           0.0  \n",
       "..        ...        ...           ...  \n",
       "734   4773500        0.0           0.0  \n",
       "735   3408800        0.0           0.0  \n",
       "736   8405200        0.0           0.0  \n",
       "737   6851400        0.0           0.0  \n",
       "738   4103728        0.0           0.0  \n",
       "\n",
       "[739 rows x 8 columns]"
      ]
     },
     "execution_count": 3,
     "metadata": {},
     "output_type": "execute_result"
    }
   ],
   "source": [
    "df.reset_index(inplace=True)\n",
    "df"
   ]
  },
  {
   "cell_type": "code",
   "execution_count": 4,
   "id": "a93cb607",
   "metadata": {},
   "outputs": [
    {
     "data": {
      "text/html": [
       "<div>\n",
       "<style scoped>\n",
       "    .dataframe tbody tr th:only-of-type {\n",
       "        vertical-align: middle;\n",
       "    }\n",
       "\n",
       "    .dataframe tbody tr th {\n",
       "        vertical-align: top;\n",
       "    }\n",
       "\n",
       "    .dataframe thead th {\n",
       "        text-align: right;\n",
       "    }\n",
       "</style>\n",
       "<table border=\"1\" class=\"dataframe\">\n",
       "  <thead>\n",
       "    <tr style=\"text-align: right;\">\n",
       "      <th></th>\n",
       "      <th>date</th>\n",
       "      <th>open</th>\n",
       "      <th>high</th>\n",
       "      <th>low</th>\n",
       "      <th>close</th>\n",
       "      <th>volume</th>\n",
       "      <th>dividends</th>\n",
       "      <th>stock splits</th>\n",
       "    </tr>\n",
       "  </thead>\n",
       "  <tbody>\n",
       "    <tr>\n",
       "      <th>0</th>\n",
       "      <td>2020-12-10 00:00:00-05:00</td>\n",
       "      <td>146.000000</td>\n",
       "      <td>165.000000</td>\n",
       "      <td>141.250000</td>\n",
       "      <td>144.710007</td>\n",
       "      <td>70447500</td>\n",
       "      <td>0.0</td>\n",
       "      <td>0.0</td>\n",
       "    </tr>\n",
       "    <tr>\n",
       "      <th>1</th>\n",
       "      <td>2020-12-11 00:00:00-05:00</td>\n",
       "      <td>146.550003</td>\n",
       "      <td>151.500000</td>\n",
       "      <td>135.100006</td>\n",
       "      <td>139.250000</td>\n",
       "      <td>26980800</td>\n",
       "      <td>0.0</td>\n",
       "      <td>0.0</td>\n",
       "    </tr>\n",
       "    <tr>\n",
       "      <th>2</th>\n",
       "      <td>2020-12-14 00:00:00-05:00</td>\n",
       "      <td>135.000000</td>\n",
       "      <td>135.300003</td>\n",
       "      <td>125.160004</td>\n",
       "      <td>130.000000</td>\n",
       "      <td>16966100</td>\n",
       "      <td>0.0</td>\n",
       "      <td>0.0</td>\n",
       "    </tr>\n",
       "    <tr>\n",
       "      <th>3</th>\n",
       "      <td>2020-12-15 00:00:00-05:00</td>\n",
       "      <td>126.690002</td>\n",
       "      <td>127.599998</td>\n",
       "      <td>121.500000</td>\n",
       "      <td>124.800003</td>\n",
       "      <td>10914400</td>\n",
       "      <td>0.0</td>\n",
       "      <td>0.0</td>\n",
       "    </tr>\n",
       "    <tr>\n",
       "      <th>4</th>\n",
       "      <td>2020-12-16 00:00:00-05:00</td>\n",
       "      <td>125.830002</td>\n",
       "      <td>142.000000</td>\n",
       "      <td>124.910004</td>\n",
       "      <td>137.990005</td>\n",
       "      <td>20409600</td>\n",
       "      <td>0.0</td>\n",
       "      <td>0.0</td>\n",
       "    </tr>\n",
       "    <tr>\n",
       "      <th>...</th>\n",
       "      <td>...</td>\n",
       "      <td>...</td>\n",
       "      <td>...</td>\n",
       "      <td>...</td>\n",
       "      <td>...</td>\n",
       "      <td>...</td>\n",
       "      <td>...</td>\n",
       "      <td>...</td>\n",
       "    </tr>\n",
       "    <tr>\n",
       "      <th>734</th>\n",
       "      <td>2023-11-10 00:00:00-05:00</td>\n",
       "      <td>114.525002</td>\n",
       "      <td>118.540001</td>\n",
       "      <td>114.169998</td>\n",
       "      <td>118.150002</td>\n",
       "      <td>4773500</td>\n",
       "      <td>0.0</td>\n",
       "      <td>0.0</td>\n",
       "    </tr>\n",
       "    <tr>\n",
       "      <th>735</th>\n",
       "      <td>2023-11-13 00:00:00-05:00</td>\n",
       "      <td>117.510002</td>\n",
       "      <td>119.860001</td>\n",
       "      <td>117.401001</td>\n",
       "      <td>119.150002</td>\n",
       "      <td>3408800</td>\n",
       "      <td>0.0</td>\n",
       "      <td>0.0</td>\n",
       "    </tr>\n",
       "    <tr>\n",
       "      <th>736</th>\n",
       "      <td>2023-11-14 00:00:00-05:00</td>\n",
       "      <td>122.355003</td>\n",
       "      <td>127.120003</td>\n",
       "      <td>121.510002</td>\n",
       "      <td>126.680000</td>\n",
       "      <td>8405200</td>\n",
       "      <td>0.0</td>\n",
       "      <td>0.0</td>\n",
       "    </tr>\n",
       "    <tr>\n",
       "      <th>737</th>\n",
       "      <td>2023-11-15 00:00:00-05:00</td>\n",
       "      <td>128.000000</td>\n",
       "      <td>131.619995</td>\n",
       "      <td>127.060997</td>\n",
       "      <td>128.350006</td>\n",
       "      <td>6851400</td>\n",
       "      <td>0.0</td>\n",
       "      <td>0.0</td>\n",
       "    </tr>\n",
       "    <tr>\n",
       "      <th>738</th>\n",
       "      <td>2023-11-16 00:00:00-05:00</td>\n",
       "      <td>127.120003</td>\n",
       "      <td>128.399994</td>\n",
       "      <td>125.309998</td>\n",
       "      <td>126.279999</td>\n",
       "      <td>4103728</td>\n",
       "      <td>0.0</td>\n",
       "      <td>0.0</td>\n",
       "    </tr>\n",
       "  </tbody>\n",
       "</table>\n",
       "<p>739 rows × 8 columns</p>\n",
       "</div>"
      ],
      "text/plain": [
       "                         date        open        high         low       close  \\\n",
       "0   2020-12-10 00:00:00-05:00  146.000000  165.000000  141.250000  144.710007   \n",
       "1   2020-12-11 00:00:00-05:00  146.550003  151.500000  135.100006  139.250000   \n",
       "2   2020-12-14 00:00:00-05:00  135.000000  135.300003  125.160004  130.000000   \n",
       "3   2020-12-15 00:00:00-05:00  126.690002  127.599998  121.500000  124.800003   \n",
       "4   2020-12-16 00:00:00-05:00  125.830002  142.000000  124.910004  137.990005   \n",
       "..                        ...         ...         ...         ...         ...   \n",
       "734 2023-11-10 00:00:00-05:00  114.525002  118.540001  114.169998  118.150002   \n",
       "735 2023-11-13 00:00:00-05:00  117.510002  119.860001  117.401001  119.150002   \n",
       "736 2023-11-14 00:00:00-05:00  122.355003  127.120003  121.510002  126.680000   \n",
       "737 2023-11-15 00:00:00-05:00  128.000000  131.619995  127.060997  128.350006   \n",
       "738 2023-11-16 00:00:00-05:00  127.120003  128.399994  125.309998  126.279999   \n",
       "\n",
       "       volume  dividends  stock splits  \n",
       "0    70447500        0.0           0.0  \n",
       "1    26980800        0.0           0.0  \n",
       "2    16966100        0.0           0.0  \n",
       "3    10914400        0.0           0.0  \n",
       "4    20409600        0.0           0.0  \n",
       "..        ...        ...           ...  \n",
       "734   4773500        0.0           0.0  \n",
       "735   3408800        0.0           0.0  \n",
       "736   8405200        0.0           0.0  \n",
       "737   6851400        0.0           0.0  \n",
       "738   4103728        0.0           0.0  \n",
       "\n",
       "[739 rows x 8 columns]"
      ]
     },
     "execution_count": 4,
     "metadata": {},
     "output_type": "execute_result"
    }
   ],
   "source": [
    " # Cambiar los nombres de las columnas a minúsculas\n",
    "df = df.rename(columns=lambda x: x.lower())\n",
    "df\n"
   ]
  },
  {
   "cell_type": "code",
   "execution_count": 13,
   "id": "39a1acfd",
   "metadata": {},
   "outputs": [
    {
     "data": {
      "text/html": [
       "<div>\n",
       "<style scoped>\n",
       "    .dataframe tbody tr th:only-of-type {\n",
       "        vertical-align: middle;\n",
       "    }\n",
       "\n",
       "    .dataframe tbody tr th {\n",
       "        vertical-align: top;\n",
       "    }\n",
       "\n",
       "    .dataframe thead th {\n",
       "        text-align: right;\n",
       "    }\n",
       "</style>\n",
       "<table border=\"1\" class=\"dataframe\">\n",
       "  <thead>\n",
       "    <tr style=\"text-align: right;\">\n",
       "      <th></th>\n",
       "      <th>date</th>\n",
       "      <th>open</th>\n",
       "      <th>high</th>\n",
       "      <th>low</th>\n",
       "      <th>close</th>\n",
       "      <th>volume</th>\n",
       "      <th>dividends</th>\n",
       "      <th>stock splits</th>\n",
       "    </tr>\n",
       "  </thead>\n",
       "  <tbody>\n",
       "    <tr>\n",
       "      <th>0</th>\n",
       "      <td>2020-12-10</td>\n",
       "      <td>146.000000</td>\n",
       "      <td>165.000000</td>\n",
       "      <td>141.250000</td>\n",
       "      <td>144.710007</td>\n",
       "      <td>70447500</td>\n",
       "      <td>0.0</td>\n",
       "      <td>0.0</td>\n",
       "    </tr>\n",
       "    <tr>\n",
       "      <th>1</th>\n",
       "      <td>2020-12-11</td>\n",
       "      <td>146.550003</td>\n",
       "      <td>151.500000</td>\n",
       "      <td>135.100006</td>\n",
       "      <td>139.250000</td>\n",
       "      <td>26980800</td>\n",
       "      <td>0.0</td>\n",
       "      <td>0.0</td>\n",
       "    </tr>\n",
       "    <tr>\n",
       "      <th>2</th>\n",
       "      <td>2020-12-14</td>\n",
       "      <td>135.000000</td>\n",
       "      <td>135.300003</td>\n",
       "      <td>125.160004</td>\n",
       "      <td>130.000000</td>\n",
       "      <td>16966100</td>\n",
       "      <td>0.0</td>\n",
       "      <td>0.0</td>\n",
       "    </tr>\n",
       "    <tr>\n",
       "      <th>3</th>\n",
       "      <td>2020-12-15</td>\n",
       "      <td>126.690002</td>\n",
       "      <td>127.599998</td>\n",
       "      <td>121.500000</td>\n",
       "      <td>124.800003</td>\n",
       "      <td>10914400</td>\n",
       "      <td>0.0</td>\n",
       "      <td>0.0</td>\n",
       "    </tr>\n",
       "    <tr>\n",
       "      <th>4</th>\n",
       "      <td>2020-12-16</td>\n",
       "      <td>125.830002</td>\n",
       "      <td>142.000000</td>\n",
       "      <td>124.910004</td>\n",
       "      <td>137.990005</td>\n",
       "      <td>20409600</td>\n",
       "      <td>0.0</td>\n",
       "      <td>0.0</td>\n",
       "    </tr>\n",
       "    <tr>\n",
       "      <th>...</th>\n",
       "      <td>...</td>\n",
       "      <td>...</td>\n",
       "      <td>...</td>\n",
       "      <td>...</td>\n",
       "      <td>...</td>\n",
       "      <td>...</td>\n",
       "      <td>...</td>\n",
       "      <td>...</td>\n",
       "    </tr>\n",
       "    <tr>\n",
       "      <th>734</th>\n",
       "      <td>2023-11-10</td>\n",
       "      <td>114.525002</td>\n",
       "      <td>118.540001</td>\n",
       "      <td>114.169998</td>\n",
       "      <td>118.150002</td>\n",
       "      <td>4773500</td>\n",
       "      <td>0.0</td>\n",
       "      <td>0.0</td>\n",
       "    </tr>\n",
       "    <tr>\n",
       "      <th>735</th>\n",
       "      <td>2023-11-13</td>\n",
       "      <td>117.510002</td>\n",
       "      <td>119.860001</td>\n",
       "      <td>117.401001</td>\n",
       "      <td>119.150002</td>\n",
       "      <td>3408800</td>\n",
       "      <td>0.0</td>\n",
       "      <td>0.0</td>\n",
       "    </tr>\n",
       "    <tr>\n",
       "      <th>736</th>\n",
       "      <td>2023-11-14</td>\n",
       "      <td>122.355003</td>\n",
       "      <td>127.120003</td>\n",
       "      <td>121.510002</td>\n",
       "      <td>126.680000</td>\n",
       "      <td>8405200</td>\n",
       "      <td>0.0</td>\n",
       "      <td>0.0</td>\n",
       "    </tr>\n",
       "    <tr>\n",
       "      <th>737</th>\n",
       "      <td>2023-11-15</td>\n",
       "      <td>128.000000</td>\n",
       "      <td>131.619995</td>\n",
       "      <td>127.060997</td>\n",
       "      <td>128.350006</td>\n",
       "      <td>6851400</td>\n",
       "      <td>0.0</td>\n",
       "      <td>0.0</td>\n",
       "    </tr>\n",
       "    <tr>\n",
       "      <th>738</th>\n",
       "      <td>2023-11-16</td>\n",
       "      <td>127.120003</td>\n",
       "      <td>128.399994</td>\n",
       "      <td>125.309998</td>\n",
       "      <td>126.279999</td>\n",
       "      <td>4103728</td>\n",
       "      <td>0.0</td>\n",
       "      <td>0.0</td>\n",
       "    </tr>\n",
       "  </tbody>\n",
       "</table>\n",
       "<p>739 rows × 8 columns</p>\n",
       "</div>"
      ],
      "text/plain": [
       "           date        open        high         low       close    volume  \\\n",
       "0    2020-12-10  146.000000  165.000000  141.250000  144.710007  70447500   \n",
       "1    2020-12-11  146.550003  151.500000  135.100006  139.250000  26980800   \n",
       "2    2020-12-14  135.000000  135.300003  125.160004  130.000000  16966100   \n",
       "3    2020-12-15  126.690002  127.599998  121.500000  124.800003  10914400   \n",
       "4    2020-12-16  125.830002  142.000000  124.910004  137.990005  20409600   \n",
       "..          ...         ...         ...         ...         ...       ...   \n",
       "734  2023-11-10  114.525002  118.540001  114.169998  118.150002   4773500   \n",
       "735  2023-11-13  117.510002  119.860001  117.401001  119.150002   3408800   \n",
       "736  2023-11-14  122.355003  127.120003  121.510002  126.680000   8405200   \n",
       "737  2023-11-15  128.000000  131.619995  127.060997  128.350006   6851400   \n",
       "738  2023-11-16  127.120003  128.399994  125.309998  126.279999   4103728   \n",
       "\n",
       "     dividends  stock splits  \n",
       "0          0.0           0.0  \n",
       "1          0.0           0.0  \n",
       "2          0.0           0.0  \n",
       "3          0.0           0.0  \n",
       "4          0.0           0.0  \n",
       "..         ...           ...  \n",
       "734        0.0           0.0  \n",
       "735        0.0           0.0  \n",
       "736        0.0           0.0  \n",
       "737        0.0           0.0  \n",
       "738        0.0           0.0  \n",
       "\n",
       "[739 rows x 8 columns]"
      ]
     },
     "execution_count": 13,
     "metadata": {},
     "output_type": "execute_result"
    }
   ],
   "source": [
    "    # Suponiendo que 'Date' es la columna en df que tiene las fechas en formato '2020-12-10 00:00:00-05:00'\n",
    "df['date'] = pd.to_datetime(df['date'])\n",
    "df['date'] = df['date'].dt.strftime(\"%Y-%m-%d\")\n",
    "df"
   ]
  },
  {
   "cell_type": "code",
   "execution_count": 15,
   "id": "3f79aadf",
   "metadata": {},
   "outputs": [
    {
     "data": {
      "text/plain": [
       "date             object\n",
       "open            float64\n",
       "high            float64\n",
       "low             float64\n",
       "close           float64\n",
       "volume            int64\n",
       "dividends       float64\n",
       "stock splits    float64\n",
       "dtype: object"
      ]
     },
     "execution_count": 15,
     "metadata": {},
     "output_type": "execute_result"
    }
   ],
   "source": [
    "df.dtypes\n"
   ]
  },
  {
   "cell_type": "code",
   "execution_count": 14,
   "id": "b4e427fd",
   "metadata": {},
   "outputs": [],
   "source": []
  },
  {
   "cell_type": "markdown",
   "id": "bb29f79b",
   "metadata": {},
   "source": [
    "podemos observar que el volumen de dinero que se mueve en esta accion es muy similar, a excepcion de ciertos picos."
   ]
  }
 ],
 "metadata": {
  "kernelspec": {
   "display_name": "Python 3 (ipykernel)",
   "language": "python",
   "name": "python3"
  },
  "language_info": {
   "codemirror_mode": {
    "name": "ipython",
    "version": 3
   },
   "file_extension": ".py",
   "mimetype": "text/x-python",
   "name": "python",
   "nbconvert_exporter": "python",
   "pygments_lexer": "ipython3",
   "version": "3.11.5"
  }
 },
 "nbformat": 4,
 "nbformat_minor": 5
}
