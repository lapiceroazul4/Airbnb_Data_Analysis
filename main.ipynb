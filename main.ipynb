{
 "cells": [
  {
   "cell_type": "code",
   "execution_count": 6,
   "id": "initial_id",
   "metadata": {
    "ExecuteTime": {
     "end_time": "2023-08-18T01:24:09.021592400Z",
     "start_time": "2023-08-18T01:24:03.883470500Z"
    },
    "collapsed": true
   },
   "outputs": [],
   "source": [
    "#importando librerias\n",
    "import pandas as pd\n",
    "import numpy as np\n",
    "import seaborn as sns\n",
    "from Database import Airbnbs, Hosts, Airbnb_Details, Neighbourhoods, creating_engine, creating_session, closing_session"
   ]
  },
  {
   "cell_type": "code",
   "execution_count": 7,
   "id": "db87eb5c",
   "metadata": {},
   "outputs": [],
   "source": [
    "#Creating engine\n",
    "engine1 = creating_engine()\n",
    "\n",
    "#Creating session\n",
    "session1 = creating_session(engine1)"
   ]
  },
  {
   "cell_type": "markdown",
   "id": "897969b6",
   "metadata": {},
   "source": [
    "## Proceso de Exploración"
   ]
  },
  {
   "cell_type": "markdown",
   "id": "31ae3036de14af47",
   "metadata": {
    "collapsed": false
   },
   "source": [
    "### Leemos el archivo como un dataframe usando pandas"
   ]
  },
  {
   "cell_type": "code",
   "execution_count": 8,
   "id": "ca1c3c2ea572b0c2",
   "metadata": {
    "ExecuteTime": {
     "end_time": "2023-08-18T01:37:02.641482300Z",
     "start_time": "2023-08-18T01:37:01.861111300Z"
    },
    "collapsed": false
   },
   "outputs": [
    {
     "name": "stderr",
     "output_type": "stream",
     "text": [
      "C:\\Users\\SANTIAGO\\AppData\\Local\\Temp\\ipykernel_95572\\688987121.py:1: DtypeWarning: Columns (25) have mixed types. Specify dtype option on import or set low_memory=False.\n",
      "  df_airbnb=pd.read_csv(\"Airbnb_Open_Data.csv\",  na_values=[''])\n"
     ]
    },
    {
     "data": {
      "text/html": [
       "<div>\n",
       "<style scoped>\n",
       "    .dataframe tbody tr th:only-of-type {\n",
       "        vertical-align: middle;\n",
       "    }\n",
       "\n",
       "    .dataframe tbody tr th {\n",
       "        vertical-align: top;\n",
       "    }\n",
       "\n",
       "    .dataframe thead th {\n",
       "        text-align: right;\n",
       "    }\n",
       "</style>\n",
       "<table border=\"1\" class=\"dataframe\">\n",
       "  <thead>\n",
       "    <tr style=\"text-align: right;\">\n",
       "      <th></th>\n",
       "      <th>id</th>\n",
       "      <th>NAME</th>\n",
       "      <th>host id</th>\n",
       "      <th>host_identity_verified</th>\n",
       "      <th>host name</th>\n",
       "      <th>neighbourhood group</th>\n",
       "      <th>neighbourhood</th>\n",
       "      <th>lat</th>\n",
       "      <th>long</th>\n",
       "      <th>country</th>\n",
       "      <th>...</th>\n",
       "      <th>service fee</th>\n",
       "      <th>minimum nights</th>\n",
       "      <th>number of reviews</th>\n",
       "      <th>last review</th>\n",
       "      <th>reviews per month</th>\n",
       "      <th>review rate number</th>\n",
       "      <th>calculated host listings count</th>\n",
       "      <th>availability 365</th>\n",
       "      <th>house_rules</th>\n",
       "      <th>license</th>\n",
       "    </tr>\n",
       "  </thead>\n",
       "  <tbody>\n",
       "    <tr>\n",
       "      <th>0</th>\n",
       "      <td>1001254</td>\n",
       "      <td>Clean &amp; quiet apt home by the park</td>\n",
       "      <td>80014485718</td>\n",
       "      <td>unconfirmed</td>\n",
       "      <td>Madaline</td>\n",
       "      <td>Brooklyn</td>\n",
       "      <td>Kensington</td>\n",
       "      <td>40.64749</td>\n",
       "      <td>-73.97237</td>\n",
       "      <td>United States</td>\n",
       "      <td>...</td>\n",
       "      <td>$193</td>\n",
       "      <td>10.0</td>\n",
       "      <td>9.0</td>\n",
       "      <td>10/19/2021</td>\n",
       "      <td>0.21</td>\n",
       "      <td>4.0</td>\n",
       "      <td>6.0</td>\n",
       "      <td>286.0</td>\n",
       "      <td>Clean up and treat the home the way you'd like...</td>\n",
       "      <td>NaN</td>\n",
       "    </tr>\n",
       "    <tr>\n",
       "      <th>1</th>\n",
       "      <td>1002102</td>\n",
       "      <td>Skylit Midtown Castle</td>\n",
       "      <td>52335172823</td>\n",
       "      <td>verified</td>\n",
       "      <td>Jenna</td>\n",
       "      <td>Manhattan</td>\n",
       "      <td>Midtown</td>\n",
       "      <td>40.75362</td>\n",
       "      <td>-73.98377</td>\n",
       "      <td>United States</td>\n",
       "      <td>...</td>\n",
       "      <td>$28</td>\n",
       "      <td>30.0</td>\n",
       "      <td>45.0</td>\n",
       "      <td>5/21/2022</td>\n",
       "      <td>0.38</td>\n",
       "      <td>4.0</td>\n",
       "      <td>2.0</td>\n",
       "      <td>228.0</td>\n",
       "      <td>Pet friendly but please confirm with me if the...</td>\n",
       "      <td>NaN</td>\n",
       "    </tr>\n",
       "  </tbody>\n",
       "</table>\n",
       "<p>2 rows × 26 columns</p>\n",
       "</div>"
      ],
      "text/plain": [
       "        id                                NAME      host id  \\\n",
       "0  1001254  Clean & quiet apt home by the park  80014485718   \n",
       "1  1002102               Skylit Midtown Castle  52335172823   \n",
       "\n",
       "  host_identity_verified host name neighbourhood group neighbourhood  \\\n",
       "0            unconfirmed  Madaline            Brooklyn    Kensington   \n",
       "1               verified     Jenna           Manhattan       Midtown   \n",
       "\n",
       "        lat      long        country  ... service fee minimum nights  \\\n",
       "0  40.64749 -73.97237  United States  ...       $193            10.0   \n",
       "1  40.75362 -73.98377  United States  ...        $28            30.0   \n",
       "\n",
       "  number of reviews last review  reviews per month review rate number  \\\n",
       "0               9.0  10/19/2021               0.21                4.0   \n",
       "1              45.0   5/21/2022               0.38                4.0   \n",
       "\n",
       "  calculated host listings count  availability 365  \\\n",
       "0                            6.0             286.0   \n",
       "1                            2.0             228.0   \n",
       "\n",
       "                                         house_rules license  \n",
       "0  Clean up and treat the home the way you'd like...     NaN  \n",
       "1  Pet friendly but please confirm with me if the...     NaN  \n",
       "\n",
       "[2 rows x 26 columns]"
      ]
     },
     "execution_count": 8,
     "metadata": {},
     "output_type": "execute_result"
    }
   ],
   "source": [
    "df_airbnb=pd.read_csv(\"Airbnb_Open_Data.csv\",  na_values=[''])\n",
    "df_airbnb.head(2)"
   ]
  },
  {
   "cell_type": "markdown",
   "id": "a9e73a38",
   "metadata": {},
   "source": [
    "### Se hacen ajustes a ciertas columnas con el fin de poder subir el csv a la base de datos "
   ]
  },
  {
   "cell_type": "code",
   "execution_count": 9,
   "id": "82630eb1",
   "metadata": {},
   "outputs": [],
   "source": [
    "#Usamos regrex para evitar los caracteres especiales y númericos\n",
    "df_airbnb[\"NAME\"] = df_airbnb[\"NAME\"].str.replace(r'[^a-zA-Z\\s]', '', regex=True)\n",
    "df_airbnb[\"house_rules\"] = df_airbnb[\"house_rules\"].str.replace(r'[^a-zA-Z0-9\\s]', '', regex=True)\n",
    "df_airbnb[\"host name\"] = df_airbnb[\"host name\"].str.replace(r'[^a-zA-Z\\s]', '', regex=True)\n",
    "\n",
    "#Dropeamos aquellas columnas que no aportan un valor signficante al código \n",
    "df_airbnb.drop([\"license\", \"country\", \"country code\"], axis=1, inplace=True)\n",
    "\n",
    "#Quitamos los valores nulos del host name\n",
    "df_airbnb[\"host name\"].fillna(\"no provided\") \n",
    "\n",
    "#Admitimos solo valores positivos para la columna minimum nights\n",
    "df_airbnb[\"minimum nights\"] = df_airbnb[\"minimum nights\"].abs()\n",
    "\n",
    "df_airbnb.to_csv(\"import.csv\", encoding=\"utf-8\", index=False)"
   ]
  },
  {
   "cell_type": "code",
   "execution_count": 11,
   "id": "734ea3bc",
   "metadata": {},
   "outputs": [
    {
     "ename": "DataError",
     "evalue": "(pymysql.err.DataError) (1366, \"Incorrect string value: '\\\\xE2\\\\x80\\\\x86Ai' for column 'host name' at row 473\")\n[SQL: INSERT INTO airbnbs (id, `NAME`, `host id`, host_identity_verified, `host name`, `neighbourhood group`, neighbourhood, lat, `long`, instant_bookable, cancellation_policy, `room type`, `Construction year`, price, `service fee`, `minimum nights`, `number of reviews`, `last review`, `reviews per month`, `review rate number`, `calculated host listings count`, `availability 365`, house_rules) VALUES (%(id)s, %(NAME)s, %(host_id)s, %(host_identity_verified)s, %(host_name)s, %(neighbourhood_group)s, %(neighbourhood)s, %(lat)s, %(long)s, %(instant_bookable)s, %(cancellation_policy)s, %(room_type)s, %(Construction_year)s, %(price)s, %(service_fee)s, %(minimum_nights)s, %(number_of_reviews)s, %(last_review)s, %(reviews_per_month)s, %(review_rate_number)s, %(calculated_host_listings_count)s, %(availability_365)s, %(house_rules)s)]\n[parameters: [{'id': 1001254, 'NAME': 'Clean  quiet apt home by the park', 'host_id': 80014485718, 'host_identity_verified': 'unconfirmed', 'host_name': 'Madaline', 'neighbourhood_group': 'Brooklyn', 'neighbourhood': 'Kensington', 'lat': 40.64749, 'long': -73.97237, 'instant_bookable': 0, 'cancellation_policy': 'strict', 'room_type': 'Private room', 'Construction_year': 2020.0, 'price': '$966 ', 'service_fee': '$193 ', 'minimum_nights': 10.0, 'number_of_reviews': 9.0, 'last_review': '10/19/2021', 'reviews_per_month': 0.21, 'review_rate_number': 4.0, 'calculated_host_listings_count': 6.0, 'availability_365': 286.0, 'house_rules': 'Clean up and treat the home the way youd like your home to be treated  No smoking'}, {'id': 1002102, 'NAME': 'Skylit Midtown Castle', 'host_id': 52335172823, 'host_identity_verified': 'verified', 'host_name': 'Jenna', 'neighbourhood_group': 'Manhattan', 'neighbourhood': 'Midtown', 'lat': 40.75362, 'long': -73.98377, 'instant_bookable': 0, 'cancellation_policy': 'moderate', 'room_type': 'Entire home/apt', 'Construction_year': 2007.0, 'price': '$142 ', 'service_fee': '$28 ', 'minimum_nights': 30.0, 'number_of_reviews': 45.0, 'last_review': '5/21/2022', 'reviews_per_month': 0.38, 'review_rate_number': 4.0, 'calculated_host_listings_count': 2.0, 'availability_365': 228.0, 'house_rules': 'Pet friendly but please confirm with me if the pet you are planning on bringing with you is OK I have a cute and quiet mixed chihuahua I could accept ... (96 characters truncated) ... ing together could sleep in separate beds for an extra fee the second bed is either a sofa bed or inflatable bed Smoking is only allowed on the porch'}, {'id': 1002403, 'NAME': 'THE VILLAGE OF HARLEMNEW YORK ', 'host_id': 78829239556, 'host_identity_verified': None, 'host_name': 'Elise', 'neighbourhood_group': 'Manhattan', 'neighbourhood': 'Harlem', 'lat': 40.80902, 'long': -73.9419, 'instant_bookable': 1, 'cancellation_policy': 'flexible', 'room_type': 'Private room', 'Construction_year': 2005.0, 'price': '$620 ', 'service_fee': '$124 ', 'minimum_nights': 3.0, 'number_of_reviews': 0.0, 'last_review': None, 'reviews_per_month': None, 'review_rate_number': 5.0, 'calculated_host_listings_count': 1.0, 'availability_365': 352.0, 'house_rules': 'I encourage you to use my kitchen cooking and laundry facilities There is no additional charge to use the washerdryer in the basement  No smoking ins ... (58 characters truncated) ... home stumbling drunk its OK the first time If you do it again and you wake up me or the neighbors downstairs we will be annoyed  Just so you know    '}, {'id': 1002755, 'NAME': None, 'host_id': 85098326012, 'host_identity_verified': 'unconfirmed', 'host_name': 'Garry', 'neighbourhood_group': 'Brooklyn', 'neighbourhood': 'Clinton Hill', 'lat': 40.68514, 'long': -73.95976, 'instant_bookable': 1, 'cancellation_policy': 'moderate', 'room_type': 'Entire home/apt', 'Construction_year': 2005.0, 'price': '$368 ', 'service_fee': '$74 ', 'minimum_nights': 30.0, 'number_of_reviews': 270.0, 'last_review': '7/5/2019', 'reviews_per_month': 4.64, 'review_rate_number': 4.0, 'calculated_host_listings_count': 1.0, 'availability_365': 322.0, 'house_rules': None}, {'id': 1003689, 'NAME': 'Entire Apt Spacious StudioLoft by central park', 'host_id': 92037596077, 'host_identity_verified': 'verified', 'host_name': 'Lyndon', 'neighbourhood_group': 'Manhattan', 'neighbourhood': 'East Harlem', 'lat': 40.79851, 'long': -73.94399, 'instant_bookable': 0, 'cancellation_policy': 'moderate', 'room_type': 'Entire home/apt', 'Construction_year': 2009.0, 'price': '$204 ', 'service_fee': '$41 ', 'minimum_nights': 10.0, 'number_of_reviews': 9.0, 'last_review': '11/19/2018', 'reviews_per_month': 0.1, 'review_rate_number': 3.0, 'calculated_host_listings_count': 1.0, 'availability_365': 289.0, 'house_rules': 'Please no smoking in the house porch or on the property you can go to the nearby corner  Reasonable quiet after 1030 pm  Please remove shoes in the house'}, {'id': 1004098, 'NAME': 'Large Cozy  BR Apartment In Midtown East', 'host_id': 45498551794, 'host_identity_verified': 'verified', 'host_name': 'Michelle', 'neighbourhood_group': 'Manhattan', 'neighbourhood': 'Murray Hill', 'lat': 40.74767, 'long': -73.975, 'instant_bookable': 1, 'cancellation_policy': 'flexible', 'room_type': 'Entire home/apt', 'Construction_year': 2013.0, 'price': '$577 ', 'service_fee': '$115 ', 'minimum_nights': 3.0, 'number_of_reviews': 74.0, 'last_review': '6/22/2019', 'reviews_per_month': 0.59, 'review_rate_number': 3.0, 'calculated_host_listings_count': 1.0, 'availability_365': 374.0, 'house_rules': 'No smoking please and no drugs'}, {'id': 1004650, 'NAME': 'BlissArtsSpace', 'host_id': 61300605564, 'host_identity_verified': None, 'host_name': 'Alberta', 'neighbourhood_group': 'Brooklyn', 'neighbourhood': 'Bedford-Stuyvesant', 'lat': 40.68688, 'long': -73.95596, 'instant_bookable': 0, 'cancellation_policy': 'moderate', 'room_type': 'Private room', 'Construction_year': 2015.0, 'price': '$71 ', 'service_fee': '$14 ', 'minimum_nights': 45.0, 'number_of_reviews': 49.0, 'last_review': '10/5/2017', 'reviews_per_month': 0.4, 'review_rate_number': 5.0, 'calculated_host_listings_count': 1.0, 'availability_365': 224.0, 'house_rules': 'Please no shoes in the house so bring slippers or extra socks to keep your feet warm especially in winter No smoking either inside or outside Please  ... (17 characters truncated) ...  neighbors from 10pm7am in terms of noise Please take out any trash and leave in the large blue garbage bin at the end of the driveway when you leave'}, {'id': 1005202, 'NAME': 'BlissArtsSpace', 'host_id': 90821839709, 'host_identity_verified': 'unconfirmed', 'host_name': 'Emma', 'neighbourhood_group': 'Brooklyn', 'neighbourhood': 'Bedford-Stuyvesant', 'lat': 40.68688, 'long': -73.95596, 'instant_bookable': 0, 'cancellation_policy': 'moderate', 'room_type': 'Private room', 'Construction_year': 2009.0, 'price': '$1,060 ', 'service_fee': '$212 ', 'minimum_nights': 45.0, 'number_of_reviews': 49.0, 'last_review': '10/5/2017', 'reviews_per_month': 0.4, 'review_rate_number': 5.0, 'calculated_host_listings_count': 1.0, 'availability_365': 219.0, 'house_rules': 'House Guidelines for our BnB We are delighted to welcome you  Check in Sun  Thurs by 8PM and Fri Sat by 9pm Please bear in mind that this is not a ho ... (666 characters truncated) ... lable on street at all times   5SHOES  When the weather is inclement please remove shoes   6TOILETRIES  If you need them we can provide basic toiletr'}  ... displaying 10 of 102599 total bound parameter sets ...  {'id': 6094094, 'NAME': 'Big StudioOne Stop from Midtown', 'host_id': 11160591270, 'host_identity_verified': 'unconfirmed', 'host_name': 'Christopher', 'neighbourhood_group': 'Queens', 'neighbourhood': 'Long Island City', 'lat': 40.74989, 'long': -73.93777, 'instant_bookable': 1, 'cancellation_policy': 'strict', 'room_type': 'Entire home/apt', 'Construction_year': 2015.0, 'price': '$546 ', 'service_fee': '$109 ', 'minimum_nights': 2.0, 'number_of_reviews': 5.0, 'last_review': '10/11/2015', 'reviews_per_month': 0.1, 'review_rate_number': 3.0, 'calculated_host_listings_count': 1.0, 'availability_365': 386.0, 'house_rules': None}, {'id': 6094647, 'NAME': ' sf Luxury Studio', 'host_id': 68170633372, 'host_identity_verified': 'unconfirmed', 'host_name': 'Rebecca', 'neighbourhood_group': 'Manhattan', 'neighbourhood': 'Upper West Side', 'lat': 40.76807, 'long': -73.98342, 'instant_bookable': 0, 'cancellation_policy': 'flexible', 'room_type': 'Entire home/apt', 'Construction_year': 2010.0, 'price': '$1,032 ', 'service_fee': '$206 ', 'minimum_nights': 1.0, 'number_of_reviews': 0.0, 'last_review': None, 'reviews_per_month': None, 'review_rate_number': 3.0, 'calculated_host_listings_count': 1.0, 'availability_365': 69.0, 'house_rules': None}]]\n(Background on this error at: https://sqlalche.me/e/20/9h9h)",
     "output_type": "error",
     "traceback": [
      "\u001b[1;31m---------------------------------------------------------------------------\u001b[0m",
      "\u001b[1;31mDataError\u001b[0m                                 Traceback (most recent call last)",
      "File \u001b[1;32mc:\\Users\\SANTIAGO\\Python\\Lib\\site-packages\\sqlalchemy\\engine\\base.py:1934\u001b[0m, in \u001b[0;36mConnection._exec_single_context\u001b[1;34m(self, dialect, context, statement, parameters)\u001b[0m\n\u001b[0;32m   1933\u001b[0m     \u001b[39mif\u001b[39;00m \u001b[39mnot\u001b[39;00m evt_handled:\n\u001b[1;32m-> 1934\u001b[0m         \u001b[39mself\u001b[39;49m\u001b[39m.\u001b[39;49mdialect\u001b[39m.\u001b[39;49mdo_executemany(\n\u001b[0;32m   1935\u001b[0m             cursor,\n\u001b[0;32m   1936\u001b[0m             str_statement,\n\u001b[0;32m   1937\u001b[0m             effective_parameters,\n\u001b[0;32m   1938\u001b[0m             context,\n\u001b[0;32m   1939\u001b[0m         )\n\u001b[0;32m   1940\u001b[0m \u001b[39melif\u001b[39;00m \u001b[39mnot\u001b[39;00m effective_parameters \u001b[39mand\u001b[39;00m context\u001b[39m.\u001b[39mno_parameters:\n",
      "File \u001b[1;32mc:\\Users\\SANTIAGO\\Python\\Lib\\site-packages\\sqlalchemy\\dialects\\mysql\\mysqldb.py:175\u001b[0m, in \u001b[0;36mMySQLDialect_mysqldb.do_executemany\u001b[1;34m(self, cursor, statement, parameters, context)\u001b[0m\n\u001b[0;32m    174\u001b[0m \u001b[39mdef\u001b[39;00m \u001b[39mdo_executemany\u001b[39m(\u001b[39mself\u001b[39m, cursor, statement, parameters, context\u001b[39m=\u001b[39m\u001b[39mNone\u001b[39;00m):\n\u001b[1;32m--> 175\u001b[0m     rowcount \u001b[39m=\u001b[39m cursor\u001b[39m.\u001b[39;49mexecutemany(statement, parameters)\n\u001b[0;32m    176\u001b[0m     \u001b[39mif\u001b[39;00m context \u001b[39mis\u001b[39;00m \u001b[39mnot\u001b[39;00m \u001b[39mNone\u001b[39;00m:\n",
      "File \u001b[1;32mc:\\Users\\SANTIAGO\\Python\\Lib\\site-packages\\pymysql\\cursors.py:182\u001b[0m, in \u001b[0;36mCursor.executemany\u001b[1;34m(self, query, args)\u001b[0m\n\u001b[0;32m    181\u001b[0m     \u001b[39massert\u001b[39;00m q_values[\u001b[39m0\u001b[39m] \u001b[39m==\u001b[39m \u001b[39m\"\u001b[39m\u001b[39m(\u001b[39m\u001b[39m\"\u001b[39m \u001b[39mand\u001b[39;00m q_values[\u001b[39m-\u001b[39m\u001b[39m1\u001b[39m] \u001b[39m==\u001b[39m \u001b[39m\"\u001b[39m\u001b[39m)\u001b[39m\u001b[39m\"\u001b[39m\n\u001b[1;32m--> 182\u001b[0m     \u001b[39mreturn\u001b[39;00m \u001b[39mself\u001b[39;49m\u001b[39m.\u001b[39;49m_do_execute_many(\n\u001b[0;32m    183\u001b[0m         q_prefix,\n\u001b[0;32m    184\u001b[0m         q_values,\n\u001b[0;32m    185\u001b[0m         q_postfix,\n\u001b[0;32m    186\u001b[0m         args,\n\u001b[0;32m    187\u001b[0m         \u001b[39mself\u001b[39;49m\u001b[39m.\u001b[39;49mmax_stmt_length,\n\u001b[0;32m    188\u001b[0m         \u001b[39mself\u001b[39;49m\u001b[39m.\u001b[39;49m_get_db()\u001b[39m.\u001b[39;49mencoding,\n\u001b[0;32m    189\u001b[0m     )\n\u001b[0;32m    191\u001b[0m \u001b[39mself\u001b[39m\u001b[39m.\u001b[39mrowcount \u001b[39m=\u001b[39m \u001b[39msum\u001b[39m(\u001b[39mself\u001b[39m\u001b[39m.\u001b[39mexecute(query, arg) \u001b[39mfor\u001b[39;00m arg \u001b[39min\u001b[39;00m args)\n",
      "File \u001b[1;32mc:\\Users\\SANTIAGO\\Python\\Lib\\site-packages\\pymysql\\cursors.py:215\u001b[0m, in \u001b[0;36mCursor._do_execute_many\u001b[1;34m(self, prefix, values, postfix, args, max_stmt_length, encoding)\u001b[0m\n\u001b[0;32m    214\u001b[0m \u001b[39mif\u001b[39;00m \u001b[39mlen\u001b[39m(sql) \u001b[39m+\u001b[39m \u001b[39mlen\u001b[39m(v) \u001b[39m+\u001b[39m \u001b[39mlen\u001b[39m(postfix) \u001b[39m+\u001b[39m \u001b[39m1\u001b[39m \u001b[39m>\u001b[39m max_stmt_length:\n\u001b[1;32m--> 215\u001b[0m     rows \u001b[39m+\u001b[39m\u001b[39m=\u001b[39m \u001b[39mself\u001b[39;49m\u001b[39m.\u001b[39;49mexecute(sql \u001b[39m+\u001b[39;49m postfix)\n\u001b[0;32m    216\u001b[0m     sql \u001b[39m=\u001b[39m \u001b[39mbytearray\u001b[39m(prefix)\n",
      "File \u001b[1;32mc:\\Users\\SANTIAGO\\Python\\Lib\\site-packages\\pymysql\\cursors.py:153\u001b[0m, in \u001b[0;36mCursor.execute\u001b[1;34m(self, query, args)\u001b[0m\n\u001b[0;32m    151\u001b[0m query \u001b[39m=\u001b[39m \u001b[39mself\u001b[39m\u001b[39m.\u001b[39mmogrify(query, args)\n\u001b[1;32m--> 153\u001b[0m result \u001b[39m=\u001b[39m \u001b[39mself\u001b[39;49m\u001b[39m.\u001b[39;49m_query(query)\n\u001b[0;32m    154\u001b[0m \u001b[39mself\u001b[39m\u001b[39m.\u001b[39m_executed \u001b[39m=\u001b[39m query\n",
      "File \u001b[1;32mc:\\Users\\SANTIAGO\\Python\\Lib\\site-packages\\pymysql\\cursors.py:322\u001b[0m, in \u001b[0;36mCursor._query\u001b[1;34m(self, q)\u001b[0m\n\u001b[0;32m    321\u001b[0m \u001b[39mself\u001b[39m\u001b[39m.\u001b[39m_clear_result()\n\u001b[1;32m--> 322\u001b[0m conn\u001b[39m.\u001b[39;49mquery(q)\n\u001b[0;32m    323\u001b[0m \u001b[39mself\u001b[39m\u001b[39m.\u001b[39m_do_get_result()\n",
      "File \u001b[1;32mc:\\Users\\SANTIAGO\\Python\\Lib\\site-packages\\pymysql\\connections.py:558\u001b[0m, in \u001b[0;36mConnection.query\u001b[1;34m(self, sql, unbuffered)\u001b[0m\n\u001b[0;32m    557\u001b[0m \u001b[39mself\u001b[39m\u001b[39m.\u001b[39m_execute_command(COMMAND\u001b[39m.\u001b[39mCOM_QUERY, sql)\n\u001b[1;32m--> 558\u001b[0m \u001b[39mself\u001b[39m\u001b[39m.\u001b[39m_affected_rows \u001b[39m=\u001b[39m \u001b[39mself\u001b[39;49m\u001b[39m.\u001b[39;49m_read_query_result(unbuffered\u001b[39m=\u001b[39;49munbuffered)\n\u001b[0;32m    559\u001b[0m \u001b[39mreturn\u001b[39;00m \u001b[39mself\u001b[39m\u001b[39m.\u001b[39m_affected_rows\n",
      "File \u001b[1;32mc:\\Users\\SANTIAGO\\Python\\Lib\\site-packages\\pymysql\\connections.py:822\u001b[0m, in \u001b[0;36mConnection._read_query_result\u001b[1;34m(self, unbuffered)\u001b[0m\n\u001b[0;32m    821\u001b[0m     result \u001b[39m=\u001b[39m MySQLResult(\u001b[39mself\u001b[39m)\n\u001b[1;32m--> 822\u001b[0m     result\u001b[39m.\u001b[39;49mread()\n\u001b[0;32m    823\u001b[0m \u001b[39mself\u001b[39m\u001b[39m.\u001b[39m_result \u001b[39m=\u001b[39m result\n",
      "File \u001b[1;32mc:\\Users\\SANTIAGO\\Python\\Lib\\site-packages\\pymysql\\connections.py:1200\u001b[0m, in \u001b[0;36mMySQLResult.read\u001b[1;34m(self)\u001b[0m\n\u001b[0;32m   1199\u001b[0m \u001b[39mtry\u001b[39;00m:\n\u001b[1;32m-> 1200\u001b[0m     first_packet \u001b[39m=\u001b[39m \u001b[39mself\u001b[39;49m\u001b[39m.\u001b[39;49mconnection\u001b[39m.\u001b[39;49m_read_packet()\n\u001b[0;32m   1202\u001b[0m     \u001b[39mif\u001b[39;00m first_packet\u001b[39m.\u001b[39mis_ok_packet():\n",
      "File \u001b[1;32mc:\\Users\\SANTIAGO\\Python\\Lib\\site-packages\\pymysql\\connections.py:772\u001b[0m, in \u001b[0;36mConnection._read_packet\u001b[1;34m(self, packet_type)\u001b[0m\n\u001b[0;32m    771\u001b[0m         \u001b[39mself\u001b[39m\u001b[39m.\u001b[39m_result\u001b[39m.\u001b[39munbuffered_active \u001b[39m=\u001b[39m \u001b[39mFalse\u001b[39;00m\n\u001b[1;32m--> 772\u001b[0m     packet\u001b[39m.\u001b[39;49mraise_for_error()\n\u001b[0;32m    773\u001b[0m \u001b[39mreturn\u001b[39;00m packet\n",
      "File \u001b[1;32mc:\\Users\\SANTIAGO\\Python\\Lib\\site-packages\\pymysql\\protocol.py:221\u001b[0m, in \u001b[0;36mMysqlPacket.raise_for_error\u001b[1;34m(self)\u001b[0m\n\u001b[0;32m    220\u001b[0m     \u001b[39mprint\u001b[39m(\u001b[39m\"\u001b[39m\u001b[39merrno =\u001b[39m\u001b[39m\"\u001b[39m, errno)\n\u001b[1;32m--> 221\u001b[0m err\u001b[39m.\u001b[39;49mraise_mysql_exception(\u001b[39mself\u001b[39;49m\u001b[39m.\u001b[39;49m_data)\n",
      "File \u001b[1;32mc:\\Users\\SANTIAGO\\Python\\Lib\\site-packages\\pymysql\\err.py:143\u001b[0m, in \u001b[0;36mraise_mysql_exception\u001b[1;34m(data)\u001b[0m\n\u001b[0;32m    142\u001b[0m     errorclass \u001b[39m=\u001b[39m InternalError \u001b[39mif\u001b[39;00m errno \u001b[39m<\u001b[39m \u001b[39m1000\u001b[39m \u001b[39melse\u001b[39;00m OperationalError\n\u001b[1;32m--> 143\u001b[0m \u001b[39mraise\u001b[39;00m errorclass(errno, errval)\n",
      "\u001b[1;31mDataError\u001b[0m: (1366, \"Incorrect string value: '\\\\xE2\\\\x80\\\\x86Ai' for column 'host name' at row 473\")",
      "\nThe above exception was the direct cause of the following exception:\n",
      "\u001b[1;31mDataError\u001b[0m                                 Traceback (most recent call last)",
      "Cell \u001b[1;32mIn[11], line 1\u001b[0m\n\u001b[1;32m----> 1\u001b[0m df_airbnb\u001b[39m.\u001b[39;49mto_sql(\u001b[39m\"\u001b[39;49m\u001b[39mairbnbs\u001b[39;49m\u001b[39m\"\u001b[39;49m, con\u001b[39m=\u001b[39;49mengine1, if_exists\u001b[39m=\u001b[39;49m\u001b[39m\"\u001b[39;49m\u001b[39mreplace\u001b[39;49m\u001b[39m\"\u001b[39;49m, index\u001b[39m=\u001b[39;49m\u001b[39mFalse\u001b[39;49;00m)\n",
      "File \u001b[1;32mc:\\Users\\SANTIAGO\\Python\\Lib\\site-packages\\pandas\\core\\generic.py:2878\u001b[0m, in \u001b[0;36mNDFrame.to_sql\u001b[1;34m(self, name, con, schema, if_exists, index, index_label, chunksize, dtype, method)\u001b[0m\n\u001b[0;32m   2713\u001b[0m \u001b[39m\u001b[39m\u001b[39m\"\"\"\u001b[39;00m\n\u001b[0;32m   2714\u001b[0m \u001b[39mWrite records stored in a DataFrame to a SQL database.\u001b[39;00m\n\u001b[0;32m   2715\u001b[0m \n\u001b[1;32m   (...)\u001b[0m\n\u001b[0;32m   2874\u001b[0m \u001b[39m[(1,), (None,), (2,)]\u001b[39;00m\n\u001b[0;32m   2875\u001b[0m \u001b[39m\"\"\"\u001b[39;00m  \u001b[39m# noqa:E501\u001b[39;00m\n\u001b[0;32m   2876\u001b[0m \u001b[39mfrom\u001b[39;00m \u001b[39mpandas\u001b[39;00m\u001b[39m.\u001b[39;00m\u001b[39mio\u001b[39;00m \u001b[39mimport\u001b[39;00m sql\n\u001b[1;32m-> 2878\u001b[0m \u001b[39mreturn\u001b[39;00m sql\u001b[39m.\u001b[39;49mto_sql(\n\u001b[0;32m   2879\u001b[0m     \u001b[39mself\u001b[39;49m,\n\u001b[0;32m   2880\u001b[0m     name,\n\u001b[0;32m   2881\u001b[0m     con,\n\u001b[0;32m   2882\u001b[0m     schema\u001b[39m=\u001b[39;49mschema,\n\u001b[0;32m   2883\u001b[0m     if_exists\u001b[39m=\u001b[39;49mif_exists,\n\u001b[0;32m   2884\u001b[0m     index\u001b[39m=\u001b[39;49mindex,\n\u001b[0;32m   2885\u001b[0m     index_label\u001b[39m=\u001b[39;49mindex_label,\n\u001b[0;32m   2886\u001b[0m     chunksize\u001b[39m=\u001b[39;49mchunksize,\n\u001b[0;32m   2887\u001b[0m     dtype\u001b[39m=\u001b[39;49mdtype,\n\u001b[0;32m   2888\u001b[0m     method\u001b[39m=\u001b[39;49mmethod,\n\u001b[0;32m   2889\u001b[0m )\n",
      "File \u001b[1;32mc:\\Users\\SANTIAGO\\Python\\Lib\\site-packages\\pandas\\io\\sql.py:769\u001b[0m, in \u001b[0;36mto_sql\u001b[1;34m(frame, name, con, schema, if_exists, index, index_label, chunksize, dtype, method, engine, **engine_kwargs)\u001b[0m\n\u001b[0;32m    764\u001b[0m     \u001b[39mraise\u001b[39;00m \u001b[39mNotImplementedError\u001b[39;00m(\n\u001b[0;32m    765\u001b[0m         \u001b[39m\"\u001b[39m\u001b[39m'\u001b[39m\u001b[39mframe\u001b[39m\u001b[39m'\u001b[39m\u001b[39m argument should be either a Series or a DataFrame\u001b[39m\u001b[39m\"\u001b[39m\n\u001b[0;32m    766\u001b[0m     )\n\u001b[0;32m    768\u001b[0m \u001b[39mwith\u001b[39;00m pandasSQL_builder(con, schema\u001b[39m=\u001b[39mschema, need_transaction\u001b[39m=\u001b[39m\u001b[39mTrue\u001b[39;00m) \u001b[39mas\u001b[39;00m pandas_sql:\n\u001b[1;32m--> 769\u001b[0m     \u001b[39mreturn\u001b[39;00m pandas_sql\u001b[39m.\u001b[39;49mto_sql(\n\u001b[0;32m    770\u001b[0m         frame,\n\u001b[0;32m    771\u001b[0m         name,\n\u001b[0;32m    772\u001b[0m         if_exists\u001b[39m=\u001b[39;49mif_exists,\n\u001b[0;32m    773\u001b[0m         index\u001b[39m=\u001b[39;49mindex,\n\u001b[0;32m    774\u001b[0m         index_label\u001b[39m=\u001b[39;49mindex_label,\n\u001b[0;32m    775\u001b[0m         schema\u001b[39m=\u001b[39;49mschema,\n\u001b[0;32m    776\u001b[0m         chunksize\u001b[39m=\u001b[39;49mchunksize,\n\u001b[0;32m    777\u001b[0m         dtype\u001b[39m=\u001b[39;49mdtype,\n\u001b[0;32m    778\u001b[0m         method\u001b[39m=\u001b[39;49mmethod,\n\u001b[0;32m    779\u001b[0m         engine\u001b[39m=\u001b[39;49mengine,\n\u001b[0;32m    780\u001b[0m         \u001b[39m*\u001b[39;49m\u001b[39m*\u001b[39;49mengine_kwargs,\n\u001b[0;32m    781\u001b[0m     )\n",
      "File \u001b[1;32mc:\\Users\\SANTIAGO\\Python\\Lib\\site-packages\\pandas\\io\\sql.py:1920\u001b[0m, in \u001b[0;36mSQLDatabase.to_sql\u001b[1;34m(self, frame, name, if_exists, index, index_label, schema, chunksize, dtype, method, engine, **engine_kwargs)\u001b[0m\n\u001b[0;32m   1908\u001b[0m sql_engine \u001b[39m=\u001b[39m get_engine(engine)\n\u001b[0;32m   1910\u001b[0m table \u001b[39m=\u001b[39m \u001b[39mself\u001b[39m\u001b[39m.\u001b[39mprep_table(\n\u001b[0;32m   1911\u001b[0m     frame\u001b[39m=\u001b[39mframe,\n\u001b[0;32m   1912\u001b[0m     name\u001b[39m=\u001b[39mname,\n\u001b[1;32m   (...)\u001b[0m\n\u001b[0;32m   1917\u001b[0m     dtype\u001b[39m=\u001b[39mdtype,\n\u001b[0;32m   1918\u001b[0m )\n\u001b[1;32m-> 1920\u001b[0m total_inserted \u001b[39m=\u001b[39m sql_engine\u001b[39m.\u001b[39;49minsert_records(\n\u001b[0;32m   1921\u001b[0m     table\u001b[39m=\u001b[39;49mtable,\n\u001b[0;32m   1922\u001b[0m     con\u001b[39m=\u001b[39;49m\u001b[39mself\u001b[39;49m\u001b[39m.\u001b[39;49mcon,\n\u001b[0;32m   1923\u001b[0m     frame\u001b[39m=\u001b[39;49mframe,\n\u001b[0;32m   1924\u001b[0m     name\u001b[39m=\u001b[39;49mname,\n\u001b[0;32m   1925\u001b[0m     index\u001b[39m=\u001b[39;49mindex,\n\u001b[0;32m   1926\u001b[0m     schema\u001b[39m=\u001b[39;49mschema,\n\u001b[0;32m   1927\u001b[0m     chunksize\u001b[39m=\u001b[39;49mchunksize,\n\u001b[0;32m   1928\u001b[0m     method\u001b[39m=\u001b[39;49mmethod,\n\u001b[0;32m   1929\u001b[0m     \u001b[39m*\u001b[39;49m\u001b[39m*\u001b[39;49mengine_kwargs,\n\u001b[0;32m   1930\u001b[0m )\n\u001b[0;32m   1932\u001b[0m \u001b[39mself\u001b[39m\u001b[39m.\u001b[39mcheck_case_sensitive(name\u001b[39m=\u001b[39mname, schema\u001b[39m=\u001b[39mschema)\n\u001b[0;32m   1933\u001b[0m \u001b[39mreturn\u001b[39;00m total_inserted\n",
      "File \u001b[1;32mc:\\Users\\SANTIAGO\\Python\\Lib\\site-packages\\pandas\\io\\sql.py:1470\u001b[0m, in \u001b[0;36mSQLAlchemyEngine.insert_records\u001b[1;34m(self, table, con, frame, name, index, schema, chunksize, method, **engine_kwargs)\u001b[0m\n\u001b[0;32m   1468\u001b[0m \u001b[39mif\u001b[39;00m re\u001b[39m.\u001b[39msearch(msg, err_text):\n\u001b[0;32m   1469\u001b[0m     \u001b[39mraise\u001b[39;00m \u001b[39mValueError\u001b[39;00m(\u001b[39m\"\u001b[39m\u001b[39minf cannot be used with MySQL\u001b[39m\u001b[39m\"\u001b[39m) \u001b[39mfrom\u001b[39;00m \u001b[39merr\u001b[39;00m\n\u001b[1;32m-> 1470\u001b[0m \u001b[39mraise\u001b[39;00m err\n",
      "File \u001b[1;32mc:\\Users\\SANTIAGO\\Python\\Lib\\site-packages\\pandas\\io\\sql.py:1461\u001b[0m, in \u001b[0;36mSQLAlchemyEngine.insert_records\u001b[1;34m(self, table, con, frame, name, index, schema, chunksize, method, **engine_kwargs)\u001b[0m\n\u001b[0;32m   1458\u001b[0m \u001b[39mfrom\u001b[39;00m \u001b[39msqlalchemy\u001b[39;00m \u001b[39mimport\u001b[39;00m exc\n\u001b[0;32m   1460\u001b[0m \u001b[39mtry\u001b[39;00m:\n\u001b[1;32m-> 1461\u001b[0m     \u001b[39mreturn\u001b[39;00m table\u001b[39m.\u001b[39;49minsert(chunksize\u001b[39m=\u001b[39;49mchunksize, method\u001b[39m=\u001b[39;49mmethod)\n\u001b[0;32m   1462\u001b[0m \u001b[39mexcept\u001b[39;00m exc\u001b[39m.\u001b[39mStatementError \u001b[39mas\u001b[39;00m err:\n\u001b[0;32m   1463\u001b[0m     \u001b[39m# GH34431\u001b[39;00m\n\u001b[0;32m   1464\u001b[0m     \u001b[39m# https://stackoverflow.com/a/67358288/6067848\u001b[39;00m\n\u001b[0;32m   1465\u001b[0m     msg \u001b[39m=\u001b[39m \u001b[39mr\u001b[39m\u001b[39m\"\"\"\u001b[39m\u001b[39m(\u001b[39m\u001b[39m\\\u001b[39m\u001b[39m(1054, \u001b[39m\u001b[39m\"\u001b[39m\u001b[39mUnknown column \u001b[39m\u001b[39m'\u001b[39m\u001b[39minf(e0)?\u001b[39m\u001b[39m'\u001b[39m\u001b[39m in \u001b[39m\u001b[39m'\u001b[39m\u001b[39mfield list\u001b[39m\u001b[39m'\u001b[39m\u001b[39m\"\u001b[39m\u001b[39m\\\u001b[39m\u001b[39m))(?#\u001b[39m\n\u001b[0;32m   1466\u001b[0m \u001b[39m    )|inf can not be used with MySQL\u001b[39m\u001b[39m\"\"\"\u001b[39m\n",
      "File \u001b[1;32mc:\\Users\\SANTIAGO\\Python\\Lib\\site-packages\\pandas\\io\\sql.py:1023\u001b[0m, in \u001b[0;36mSQLTable.insert\u001b[1;34m(self, chunksize, method)\u001b[0m\n\u001b[0;32m   1020\u001b[0m     \u001b[39mbreak\u001b[39;00m\n\u001b[0;32m   1022\u001b[0m chunk_iter \u001b[39m=\u001b[39m \u001b[39mzip\u001b[39m(\u001b[39m*\u001b[39m(arr[start_i:end_i] \u001b[39mfor\u001b[39;00m arr \u001b[39min\u001b[39;00m data_list))\n\u001b[1;32m-> 1023\u001b[0m num_inserted \u001b[39m=\u001b[39m exec_insert(conn, keys, chunk_iter)\n\u001b[0;32m   1024\u001b[0m \u001b[39m# GH 46891\u001b[39;00m\n\u001b[0;32m   1025\u001b[0m \u001b[39mif\u001b[39;00m is_integer(num_inserted):\n",
      "File \u001b[1;32mc:\\Users\\SANTIAGO\\Python\\Lib\\site-packages\\pandas\\io\\sql.py:929\u001b[0m, in \u001b[0;36mSQLTable._execute_insert\u001b[1;34m(self, conn, keys, data_iter)\u001b[0m\n\u001b[0;32m    917\u001b[0m \u001b[39m\u001b[39m\u001b[39m\"\"\"\u001b[39;00m\n\u001b[0;32m    918\u001b[0m \u001b[39mExecute SQL statement inserting data\u001b[39;00m\n\u001b[0;32m    919\u001b[0m \n\u001b[1;32m   (...)\u001b[0m\n\u001b[0;32m    926\u001b[0m \u001b[39m   Each item contains a list of values to be inserted\u001b[39;00m\n\u001b[0;32m    927\u001b[0m \u001b[39m\"\"\"\u001b[39;00m\n\u001b[0;32m    928\u001b[0m data \u001b[39m=\u001b[39m [\u001b[39mdict\u001b[39m(\u001b[39mzip\u001b[39m(keys, row)) \u001b[39mfor\u001b[39;00m row \u001b[39min\u001b[39;00m data_iter]\n\u001b[1;32m--> 929\u001b[0m result \u001b[39m=\u001b[39m conn\u001b[39m.\u001b[39;49mexecute(\u001b[39mself\u001b[39;49m\u001b[39m.\u001b[39;49mtable\u001b[39m.\u001b[39;49minsert(), data)\n\u001b[0;32m    930\u001b[0m \u001b[39mreturn\u001b[39;00m result\u001b[39m.\u001b[39mrowcount\n",
      "File \u001b[1;32mc:\\Users\\SANTIAGO\\Python\\Lib\\site-packages\\sqlalchemy\\engine\\base.py:1412\u001b[0m, in \u001b[0;36mConnection.execute\u001b[1;34m(self, statement, parameters, execution_options)\u001b[0m\n\u001b[0;32m   1410\u001b[0m     \u001b[39mraise\u001b[39;00m exc\u001b[39m.\u001b[39mObjectNotExecutableError(statement) \u001b[39mfrom\u001b[39;00m \u001b[39merr\u001b[39;00m\n\u001b[0;32m   1411\u001b[0m \u001b[39melse\u001b[39;00m:\n\u001b[1;32m-> 1412\u001b[0m     \u001b[39mreturn\u001b[39;00m meth(\n\u001b[0;32m   1413\u001b[0m         \u001b[39mself\u001b[39;49m,\n\u001b[0;32m   1414\u001b[0m         distilled_parameters,\n\u001b[0;32m   1415\u001b[0m         execution_options \u001b[39mor\u001b[39;49;00m NO_OPTIONS,\n\u001b[0;32m   1416\u001b[0m     )\n",
      "File \u001b[1;32mc:\\Users\\SANTIAGO\\Python\\Lib\\site-packages\\sqlalchemy\\sql\\elements.py:515\u001b[0m, in \u001b[0;36mClauseElement._execute_on_connection\u001b[1;34m(self, connection, distilled_params, execution_options)\u001b[0m\n\u001b[0;32m    513\u001b[0m     \u001b[39mif\u001b[39;00m TYPE_CHECKING:\n\u001b[0;32m    514\u001b[0m         \u001b[39massert\u001b[39;00m \u001b[39misinstance\u001b[39m(\u001b[39mself\u001b[39m, Executable)\n\u001b[1;32m--> 515\u001b[0m     \u001b[39mreturn\u001b[39;00m connection\u001b[39m.\u001b[39;49m_execute_clauseelement(\n\u001b[0;32m    516\u001b[0m         \u001b[39mself\u001b[39;49m, distilled_params, execution_options\n\u001b[0;32m    517\u001b[0m     )\n\u001b[0;32m    518\u001b[0m \u001b[39melse\u001b[39;00m:\n\u001b[0;32m    519\u001b[0m     \u001b[39mraise\u001b[39;00m exc\u001b[39m.\u001b[39mObjectNotExecutableError(\u001b[39mself\u001b[39m)\n",
      "File \u001b[1;32mc:\\Users\\SANTIAGO\\Python\\Lib\\site-packages\\sqlalchemy\\engine\\base.py:1635\u001b[0m, in \u001b[0;36mConnection._execute_clauseelement\u001b[1;34m(self, elem, distilled_parameters, execution_options)\u001b[0m\n\u001b[0;32m   1623\u001b[0m compiled_cache: Optional[CompiledCacheType] \u001b[39m=\u001b[39m execution_options\u001b[39m.\u001b[39mget(\n\u001b[0;32m   1624\u001b[0m     \u001b[39m\"\u001b[39m\u001b[39mcompiled_cache\u001b[39m\u001b[39m\"\u001b[39m, \u001b[39mself\u001b[39m\u001b[39m.\u001b[39mengine\u001b[39m.\u001b[39m_compiled_cache\n\u001b[0;32m   1625\u001b[0m )\n\u001b[0;32m   1627\u001b[0m compiled_sql, extracted_params, cache_hit \u001b[39m=\u001b[39m elem\u001b[39m.\u001b[39m_compile_w_cache(\n\u001b[0;32m   1628\u001b[0m     dialect\u001b[39m=\u001b[39mdialect,\n\u001b[0;32m   1629\u001b[0m     compiled_cache\u001b[39m=\u001b[39mcompiled_cache,\n\u001b[1;32m   (...)\u001b[0m\n\u001b[0;32m   1633\u001b[0m     linting\u001b[39m=\u001b[39m\u001b[39mself\u001b[39m\u001b[39m.\u001b[39mdialect\u001b[39m.\u001b[39mcompiler_linting \u001b[39m|\u001b[39m compiler\u001b[39m.\u001b[39mWARN_LINTING,\n\u001b[0;32m   1634\u001b[0m )\n\u001b[1;32m-> 1635\u001b[0m ret \u001b[39m=\u001b[39m \u001b[39mself\u001b[39;49m\u001b[39m.\u001b[39;49m_execute_context(\n\u001b[0;32m   1636\u001b[0m     dialect,\n\u001b[0;32m   1637\u001b[0m     dialect\u001b[39m.\u001b[39;49mexecution_ctx_cls\u001b[39m.\u001b[39;49m_init_compiled,\n\u001b[0;32m   1638\u001b[0m     compiled_sql,\n\u001b[0;32m   1639\u001b[0m     distilled_parameters,\n\u001b[0;32m   1640\u001b[0m     execution_options,\n\u001b[0;32m   1641\u001b[0m     compiled_sql,\n\u001b[0;32m   1642\u001b[0m     distilled_parameters,\n\u001b[0;32m   1643\u001b[0m     elem,\n\u001b[0;32m   1644\u001b[0m     extracted_params,\n\u001b[0;32m   1645\u001b[0m     cache_hit\u001b[39m=\u001b[39;49mcache_hit,\n\u001b[0;32m   1646\u001b[0m )\n\u001b[0;32m   1647\u001b[0m \u001b[39mif\u001b[39;00m has_events:\n\u001b[0;32m   1648\u001b[0m     \u001b[39mself\u001b[39m\u001b[39m.\u001b[39mdispatch\u001b[39m.\u001b[39mafter_execute(\n\u001b[0;32m   1649\u001b[0m         \u001b[39mself\u001b[39m,\n\u001b[0;32m   1650\u001b[0m         elem,\n\u001b[1;32m   (...)\u001b[0m\n\u001b[0;32m   1654\u001b[0m         ret,\n\u001b[0;32m   1655\u001b[0m     )\n",
      "File \u001b[1;32mc:\\Users\\SANTIAGO\\Python\\Lib\\site-packages\\sqlalchemy\\engine\\base.py:1844\u001b[0m, in \u001b[0;36mConnection._execute_context\u001b[1;34m(self, dialect, constructor, statement, parameters, execution_options, *args, **kw)\u001b[0m\n\u001b[0;32m   1839\u001b[0m     \u001b[39mreturn\u001b[39;00m \u001b[39mself\u001b[39m\u001b[39m.\u001b[39m_exec_insertmany_context(\n\u001b[0;32m   1840\u001b[0m         dialect,\n\u001b[0;32m   1841\u001b[0m         context,\n\u001b[0;32m   1842\u001b[0m     )\n\u001b[0;32m   1843\u001b[0m \u001b[39melse\u001b[39;00m:\n\u001b[1;32m-> 1844\u001b[0m     \u001b[39mreturn\u001b[39;00m \u001b[39mself\u001b[39;49m\u001b[39m.\u001b[39;49m_exec_single_context(\n\u001b[0;32m   1845\u001b[0m         dialect, context, statement, parameters\n\u001b[0;32m   1846\u001b[0m     )\n",
      "File \u001b[1;32mc:\\Users\\SANTIAGO\\Python\\Lib\\site-packages\\sqlalchemy\\engine\\base.py:1984\u001b[0m, in \u001b[0;36mConnection._exec_single_context\u001b[1;34m(self, dialect, context, statement, parameters)\u001b[0m\n\u001b[0;32m   1981\u001b[0m     result \u001b[39m=\u001b[39m context\u001b[39m.\u001b[39m_setup_result_proxy()\n\u001b[0;32m   1983\u001b[0m \u001b[39mexcept\u001b[39;00m \u001b[39mBaseException\u001b[39;00m \u001b[39mas\u001b[39;00m e:\n\u001b[1;32m-> 1984\u001b[0m     \u001b[39mself\u001b[39;49m\u001b[39m.\u001b[39;49m_handle_dbapi_exception(\n\u001b[0;32m   1985\u001b[0m         e, str_statement, effective_parameters, cursor, context\n\u001b[0;32m   1986\u001b[0m     )\n\u001b[0;32m   1988\u001b[0m \u001b[39mreturn\u001b[39;00m result\n",
      "File \u001b[1;32mc:\\Users\\SANTIAGO\\Python\\Lib\\site-packages\\sqlalchemy\\engine\\base.py:2339\u001b[0m, in \u001b[0;36mConnection._handle_dbapi_exception\u001b[1;34m(self, e, statement, parameters, cursor, context, is_sub_exec)\u001b[0m\n\u001b[0;32m   2337\u001b[0m \u001b[39melif\u001b[39;00m should_wrap:\n\u001b[0;32m   2338\u001b[0m     \u001b[39massert\u001b[39;00m sqlalchemy_exception \u001b[39mis\u001b[39;00m \u001b[39mnot\u001b[39;00m \u001b[39mNone\u001b[39;00m\n\u001b[1;32m-> 2339\u001b[0m     \u001b[39mraise\u001b[39;00m sqlalchemy_exception\u001b[39m.\u001b[39mwith_traceback(exc_info[\u001b[39m2\u001b[39m]) \u001b[39mfrom\u001b[39;00m \u001b[39me\u001b[39;00m\n\u001b[0;32m   2340\u001b[0m \u001b[39melse\u001b[39;00m:\n\u001b[0;32m   2341\u001b[0m     \u001b[39massert\u001b[39;00m exc_info[\u001b[39m1\u001b[39m] \u001b[39mis\u001b[39;00m \u001b[39mnot\u001b[39;00m \u001b[39mNone\u001b[39;00m\n",
      "File \u001b[1;32mc:\\Users\\SANTIAGO\\Python\\Lib\\site-packages\\sqlalchemy\\engine\\base.py:1934\u001b[0m, in \u001b[0;36mConnection._exec_single_context\u001b[1;34m(self, dialect, context, statement, parameters)\u001b[0m\n\u001b[0;32m   1932\u001b[0m                 \u001b[39mbreak\u001b[39;00m\n\u001b[0;32m   1933\u001b[0m     \u001b[39mif\u001b[39;00m \u001b[39mnot\u001b[39;00m evt_handled:\n\u001b[1;32m-> 1934\u001b[0m         \u001b[39mself\u001b[39;49m\u001b[39m.\u001b[39;49mdialect\u001b[39m.\u001b[39;49mdo_executemany(\n\u001b[0;32m   1935\u001b[0m             cursor,\n\u001b[0;32m   1936\u001b[0m             str_statement,\n\u001b[0;32m   1937\u001b[0m             effective_parameters,\n\u001b[0;32m   1938\u001b[0m             context,\n\u001b[0;32m   1939\u001b[0m         )\n\u001b[0;32m   1940\u001b[0m \u001b[39melif\u001b[39;00m \u001b[39mnot\u001b[39;00m effective_parameters \u001b[39mand\u001b[39;00m context\u001b[39m.\u001b[39mno_parameters:\n\u001b[0;32m   1941\u001b[0m     \u001b[39mif\u001b[39;00m \u001b[39mself\u001b[39m\u001b[39m.\u001b[39mdialect\u001b[39m.\u001b[39m_has_events:\n",
      "File \u001b[1;32mc:\\Users\\SANTIAGO\\Python\\Lib\\site-packages\\sqlalchemy\\dialects\\mysql\\mysqldb.py:175\u001b[0m, in \u001b[0;36mMySQLDialect_mysqldb.do_executemany\u001b[1;34m(self, cursor, statement, parameters, context)\u001b[0m\n\u001b[0;32m    174\u001b[0m \u001b[39mdef\u001b[39;00m \u001b[39mdo_executemany\u001b[39m(\u001b[39mself\u001b[39m, cursor, statement, parameters, context\u001b[39m=\u001b[39m\u001b[39mNone\u001b[39;00m):\n\u001b[1;32m--> 175\u001b[0m     rowcount \u001b[39m=\u001b[39m cursor\u001b[39m.\u001b[39;49mexecutemany(statement, parameters)\n\u001b[0;32m    176\u001b[0m     \u001b[39mif\u001b[39;00m context \u001b[39mis\u001b[39;00m \u001b[39mnot\u001b[39;00m \u001b[39mNone\u001b[39;00m:\n\u001b[0;32m    177\u001b[0m         context\u001b[39m.\u001b[39m_rowcount \u001b[39m=\u001b[39m rowcount\n",
      "File \u001b[1;32mc:\\Users\\SANTIAGO\\Python\\Lib\\site-packages\\pymysql\\cursors.py:182\u001b[0m, in \u001b[0;36mCursor.executemany\u001b[1;34m(self, query, args)\u001b[0m\n\u001b[0;32m    180\u001b[0m     q_postfix \u001b[39m=\u001b[39m m\u001b[39m.\u001b[39mgroup(\u001b[39m3\u001b[39m) \u001b[39mor\u001b[39;00m \u001b[39m\"\u001b[39m\u001b[39m\"\u001b[39m\n\u001b[0;32m    181\u001b[0m     \u001b[39massert\u001b[39;00m q_values[\u001b[39m0\u001b[39m] \u001b[39m==\u001b[39m \u001b[39m\"\u001b[39m\u001b[39m(\u001b[39m\u001b[39m\"\u001b[39m \u001b[39mand\u001b[39;00m q_values[\u001b[39m-\u001b[39m\u001b[39m1\u001b[39m] \u001b[39m==\u001b[39m \u001b[39m\"\u001b[39m\u001b[39m)\u001b[39m\u001b[39m\"\u001b[39m\n\u001b[1;32m--> 182\u001b[0m     \u001b[39mreturn\u001b[39;00m \u001b[39mself\u001b[39;49m\u001b[39m.\u001b[39;49m_do_execute_many(\n\u001b[0;32m    183\u001b[0m         q_prefix,\n\u001b[0;32m    184\u001b[0m         q_values,\n\u001b[0;32m    185\u001b[0m         q_postfix,\n\u001b[0;32m    186\u001b[0m         args,\n\u001b[0;32m    187\u001b[0m         \u001b[39mself\u001b[39;49m\u001b[39m.\u001b[39;49mmax_stmt_length,\n\u001b[0;32m    188\u001b[0m         \u001b[39mself\u001b[39;49m\u001b[39m.\u001b[39;49m_get_db()\u001b[39m.\u001b[39;49mencoding,\n\u001b[0;32m    189\u001b[0m     )\n\u001b[0;32m    191\u001b[0m \u001b[39mself\u001b[39m\u001b[39m.\u001b[39mrowcount \u001b[39m=\u001b[39m \u001b[39msum\u001b[39m(\u001b[39mself\u001b[39m\u001b[39m.\u001b[39mexecute(query, arg) \u001b[39mfor\u001b[39;00m arg \u001b[39min\u001b[39;00m args)\n\u001b[0;32m    192\u001b[0m \u001b[39mreturn\u001b[39;00m \u001b[39mself\u001b[39m\u001b[39m.\u001b[39mrowcount\n",
      "File \u001b[1;32mc:\\Users\\SANTIAGO\\Python\\Lib\\site-packages\\pymysql\\cursors.py:215\u001b[0m, in \u001b[0;36mCursor._do_execute_many\u001b[1;34m(self, prefix, values, postfix, args, max_stmt_length, encoding)\u001b[0m\n\u001b[0;32m    213\u001b[0m     v \u001b[39m=\u001b[39m v\u001b[39m.\u001b[39mencode(encoding, \u001b[39m\"\u001b[39m\u001b[39msurrogateescape\u001b[39m\u001b[39m\"\u001b[39m)\n\u001b[0;32m    214\u001b[0m \u001b[39mif\u001b[39;00m \u001b[39mlen\u001b[39m(sql) \u001b[39m+\u001b[39m \u001b[39mlen\u001b[39m(v) \u001b[39m+\u001b[39m \u001b[39mlen\u001b[39m(postfix) \u001b[39m+\u001b[39m \u001b[39m1\u001b[39m \u001b[39m>\u001b[39m max_stmt_length:\n\u001b[1;32m--> 215\u001b[0m     rows \u001b[39m+\u001b[39m\u001b[39m=\u001b[39m \u001b[39mself\u001b[39;49m\u001b[39m.\u001b[39;49mexecute(sql \u001b[39m+\u001b[39;49m postfix)\n\u001b[0;32m    216\u001b[0m     sql \u001b[39m=\u001b[39m \u001b[39mbytearray\u001b[39m(prefix)\n\u001b[0;32m    217\u001b[0m \u001b[39melse\u001b[39;00m:\n",
      "File \u001b[1;32mc:\\Users\\SANTIAGO\\Python\\Lib\\site-packages\\pymysql\\cursors.py:153\u001b[0m, in \u001b[0;36mCursor.execute\u001b[1;34m(self, query, args)\u001b[0m\n\u001b[0;32m    149\u001b[0m     \u001b[39mpass\u001b[39;00m\n\u001b[0;32m    151\u001b[0m query \u001b[39m=\u001b[39m \u001b[39mself\u001b[39m\u001b[39m.\u001b[39mmogrify(query, args)\n\u001b[1;32m--> 153\u001b[0m result \u001b[39m=\u001b[39m \u001b[39mself\u001b[39;49m\u001b[39m.\u001b[39;49m_query(query)\n\u001b[0;32m    154\u001b[0m \u001b[39mself\u001b[39m\u001b[39m.\u001b[39m_executed \u001b[39m=\u001b[39m query\n\u001b[0;32m    155\u001b[0m \u001b[39mreturn\u001b[39;00m result\n",
      "File \u001b[1;32mc:\\Users\\SANTIAGO\\Python\\Lib\\site-packages\\pymysql\\cursors.py:322\u001b[0m, in \u001b[0;36mCursor._query\u001b[1;34m(self, q)\u001b[0m\n\u001b[0;32m    320\u001b[0m conn \u001b[39m=\u001b[39m \u001b[39mself\u001b[39m\u001b[39m.\u001b[39m_get_db()\n\u001b[0;32m    321\u001b[0m \u001b[39mself\u001b[39m\u001b[39m.\u001b[39m_clear_result()\n\u001b[1;32m--> 322\u001b[0m conn\u001b[39m.\u001b[39;49mquery(q)\n\u001b[0;32m    323\u001b[0m \u001b[39mself\u001b[39m\u001b[39m.\u001b[39m_do_get_result()\n\u001b[0;32m    324\u001b[0m \u001b[39mreturn\u001b[39;00m \u001b[39mself\u001b[39m\u001b[39m.\u001b[39mrowcount\n",
      "File \u001b[1;32mc:\\Users\\SANTIAGO\\Python\\Lib\\site-packages\\pymysql\\connections.py:558\u001b[0m, in \u001b[0;36mConnection.query\u001b[1;34m(self, sql, unbuffered)\u001b[0m\n\u001b[0;32m    556\u001b[0m     sql \u001b[39m=\u001b[39m sql\u001b[39m.\u001b[39mencode(\u001b[39mself\u001b[39m\u001b[39m.\u001b[39mencoding, \u001b[39m\"\u001b[39m\u001b[39msurrogateescape\u001b[39m\u001b[39m\"\u001b[39m)\n\u001b[0;32m    557\u001b[0m \u001b[39mself\u001b[39m\u001b[39m.\u001b[39m_execute_command(COMMAND\u001b[39m.\u001b[39mCOM_QUERY, sql)\n\u001b[1;32m--> 558\u001b[0m \u001b[39mself\u001b[39m\u001b[39m.\u001b[39m_affected_rows \u001b[39m=\u001b[39m \u001b[39mself\u001b[39;49m\u001b[39m.\u001b[39;49m_read_query_result(unbuffered\u001b[39m=\u001b[39;49munbuffered)\n\u001b[0;32m    559\u001b[0m \u001b[39mreturn\u001b[39;00m \u001b[39mself\u001b[39m\u001b[39m.\u001b[39m_affected_rows\n",
      "File \u001b[1;32mc:\\Users\\SANTIAGO\\Python\\Lib\\site-packages\\pymysql\\connections.py:822\u001b[0m, in \u001b[0;36mConnection._read_query_result\u001b[1;34m(self, unbuffered)\u001b[0m\n\u001b[0;32m    820\u001b[0m \u001b[39melse\u001b[39;00m:\n\u001b[0;32m    821\u001b[0m     result \u001b[39m=\u001b[39m MySQLResult(\u001b[39mself\u001b[39m)\n\u001b[1;32m--> 822\u001b[0m     result\u001b[39m.\u001b[39;49mread()\n\u001b[0;32m    823\u001b[0m \u001b[39mself\u001b[39m\u001b[39m.\u001b[39m_result \u001b[39m=\u001b[39m result\n\u001b[0;32m    824\u001b[0m \u001b[39mif\u001b[39;00m result\u001b[39m.\u001b[39mserver_status \u001b[39mis\u001b[39;00m \u001b[39mnot\u001b[39;00m \u001b[39mNone\u001b[39;00m:\n",
      "File \u001b[1;32mc:\\Users\\SANTIAGO\\Python\\Lib\\site-packages\\pymysql\\connections.py:1200\u001b[0m, in \u001b[0;36mMySQLResult.read\u001b[1;34m(self)\u001b[0m\n\u001b[0;32m   1198\u001b[0m \u001b[39mdef\u001b[39;00m \u001b[39mread\u001b[39m(\u001b[39mself\u001b[39m):\n\u001b[0;32m   1199\u001b[0m     \u001b[39mtry\u001b[39;00m:\n\u001b[1;32m-> 1200\u001b[0m         first_packet \u001b[39m=\u001b[39m \u001b[39mself\u001b[39;49m\u001b[39m.\u001b[39;49mconnection\u001b[39m.\u001b[39;49m_read_packet()\n\u001b[0;32m   1202\u001b[0m         \u001b[39mif\u001b[39;00m first_packet\u001b[39m.\u001b[39mis_ok_packet():\n\u001b[0;32m   1203\u001b[0m             \u001b[39mself\u001b[39m\u001b[39m.\u001b[39m_read_ok_packet(first_packet)\n",
      "File \u001b[1;32mc:\\Users\\SANTIAGO\\Python\\Lib\\site-packages\\pymysql\\connections.py:772\u001b[0m, in \u001b[0;36mConnection._read_packet\u001b[1;34m(self, packet_type)\u001b[0m\n\u001b[0;32m    770\u001b[0m     \u001b[39mif\u001b[39;00m \u001b[39mself\u001b[39m\u001b[39m.\u001b[39m_result \u001b[39mis\u001b[39;00m \u001b[39mnot\u001b[39;00m \u001b[39mNone\u001b[39;00m \u001b[39mand\u001b[39;00m \u001b[39mself\u001b[39m\u001b[39m.\u001b[39m_result\u001b[39m.\u001b[39munbuffered_active \u001b[39mis\u001b[39;00m \u001b[39mTrue\u001b[39;00m:\n\u001b[0;32m    771\u001b[0m         \u001b[39mself\u001b[39m\u001b[39m.\u001b[39m_result\u001b[39m.\u001b[39munbuffered_active \u001b[39m=\u001b[39m \u001b[39mFalse\u001b[39;00m\n\u001b[1;32m--> 772\u001b[0m     packet\u001b[39m.\u001b[39;49mraise_for_error()\n\u001b[0;32m    773\u001b[0m \u001b[39mreturn\u001b[39;00m packet\n",
      "File \u001b[1;32mc:\\Users\\SANTIAGO\\Python\\Lib\\site-packages\\pymysql\\protocol.py:221\u001b[0m, in \u001b[0;36mMysqlPacket.raise_for_error\u001b[1;34m(self)\u001b[0m\n\u001b[0;32m    219\u001b[0m \u001b[39mif\u001b[39;00m DEBUG:\n\u001b[0;32m    220\u001b[0m     \u001b[39mprint\u001b[39m(\u001b[39m\"\u001b[39m\u001b[39merrno =\u001b[39m\u001b[39m\"\u001b[39m, errno)\n\u001b[1;32m--> 221\u001b[0m err\u001b[39m.\u001b[39;49mraise_mysql_exception(\u001b[39mself\u001b[39;49m\u001b[39m.\u001b[39;49m_data)\n",
      "File \u001b[1;32mc:\\Users\\SANTIAGO\\Python\\Lib\\site-packages\\pymysql\\err.py:143\u001b[0m, in \u001b[0;36mraise_mysql_exception\u001b[1;34m(data)\u001b[0m\n\u001b[0;32m    141\u001b[0m \u001b[39mif\u001b[39;00m errorclass \u001b[39mis\u001b[39;00m \u001b[39mNone\u001b[39;00m:\n\u001b[0;32m    142\u001b[0m     errorclass \u001b[39m=\u001b[39m InternalError \u001b[39mif\u001b[39;00m errno \u001b[39m<\u001b[39m \u001b[39m1000\u001b[39m \u001b[39melse\u001b[39;00m OperationalError\n\u001b[1;32m--> 143\u001b[0m \u001b[39mraise\u001b[39;00m errorclass(errno, errval)\n",
      "\u001b[1;31mDataError\u001b[0m: (pymysql.err.DataError) (1366, \"Incorrect string value: '\\\\xE2\\\\x80\\\\x86Ai' for column 'host name' at row 473\")\n[SQL: INSERT INTO airbnbs (id, `NAME`, `host id`, host_identity_verified, `host name`, `neighbourhood group`, neighbourhood, lat, `long`, instant_bookable, cancellation_policy, `room type`, `Construction year`, price, `service fee`, `minimum nights`, `number of reviews`, `last review`, `reviews per month`, `review rate number`, `calculated host listings count`, `availability 365`, house_rules) VALUES (%(id)s, %(NAME)s, %(host_id)s, %(host_identity_verified)s, %(host_name)s, %(neighbourhood_group)s, %(neighbourhood)s, %(lat)s, %(long)s, %(instant_bookable)s, %(cancellation_policy)s, %(room_type)s, %(Construction_year)s, %(price)s, %(service_fee)s, %(minimum_nights)s, %(number_of_reviews)s, %(last_review)s, %(reviews_per_month)s, %(review_rate_number)s, %(calculated_host_listings_count)s, %(availability_365)s, %(house_rules)s)]\n[parameters: [{'id': 1001254, 'NAME': 'Clean  quiet apt home by the park', 'host_id': 80014485718, 'host_identity_verified': 'unconfirmed', 'host_name': 'Madaline', 'neighbourhood_group': 'Brooklyn', 'neighbourhood': 'Kensington', 'lat': 40.64749, 'long': -73.97237, 'instant_bookable': 0, 'cancellation_policy': 'strict', 'room_type': 'Private room', 'Construction_year': 2020.0, 'price': '$966 ', 'service_fee': '$193 ', 'minimum_nights': 10.0, 'number_of_reviews': 9.0, 'last_review': '10/19/2021', 'reviews_per_month': 0.21, 'review_rate_number': 4.0, 'calculated_host_listings_count': 6.0, 'availability_365': 286.0, 'house_rules': 'Clean up and treat the home the way youd like your home to be treated  No smoking'}, {'id': 1002102, 'NAME': 'Skylit Midtown Castle', 'host_id': 52335172823, 'host_identity_verified': 'verified', 'host_name': 'Jenna', 'neighbourhood_group': 'Manhattan', 'neighbourhood': 'Midtown', 'lat': 40.75362, 'long': -73.98377, 'instant_bookable': 0, 'cancellation_policy': 'moderate', 'room_type': 'Entire home/apt', 'Construction_year': 2007.0, 'price': '$142 ', 'service_fee': '$28 ', 'minimum_nights': 30.0, 'number_of_reviews': 45.0, 'last_review': '5/21/2022', 'reviews_per_month': 0.38, 'review_rate_number': 4.0, 'calculated_host_listings_count': 2.0, 'availability_365': 228.0, 'house_rules': 'Pet friendly but please confirm with me if the pet you are planning on bringing with you is OK I have a cute and quiet mixed chihuahua I could accept ... (96 characters truncated) ... ing together could sleep in separate beds for an extra fee the second bed is either a sofa bed or inflatable bed Smoking is only allowed on the porch'}, {'id': 1002403, 'NAME': 'THE VILLAGE OF HARLEMNEW YORK ', 'host_id': 78829239556, 'host_identity_verified': None, 'host_name': 'Elise', 'neighbourhood_group': 'Manhattan', 'neighbourhood': 'Harlem', 'lat': 40.80902, 'long': -73.9419, 'instant_bookable': 1, 'cancellation_policy': 'flexible', 'room_type': 'Private room', 'Construction_year': 2005.0, 'price': '$620 ', 'service_fee': '$124 ', 'minimum_nights': 3.0, 'number_of_reviews': 0.0, 'last_review': None, 'reviews_per_month': None, 'review_rate_number': 5.0, 'calculated_host_listings_count': 1.0, 'availability_365': 352.0, 'house_rules': 'I encourage you to use my kitchen cooking and laundry facilities There is no additional charge to use the washerdryer in the basement  No smoking ins ... (58 characters truncated) ... home stumbling drunk its OK the first time If you do it again and you wake up me or the neighbors downstairs we will be annoyed  Just so you know    '}, {'id': 1002755, 'NAME': None, 'host_id': 85098326012, 'host_identity_verified': 'unconfirmed', 'host_name': 'Garry', 'neighbourhood_group': 'Brooklyn', 'neighbourhood': 'Clinton Hill', 'lat': 40.68514, 'long': -73.95976, 'instant_bookable': 1, 'cancellation_policy': 'moderate', 'room_type': 'Entire home/apt', 'Construction_year': 2005.0, 'price': '$368 ', 'service_fee': '$74 ', 'minimum_nights': 30.0, 'number_of_reviews': 270.0, 'last_review': '7/5/2019', 'reviews_per_month': 4.64, 'review_rate_number': 4.0, 'calculated_host_listings_count': 1.0, 'availability_365': 322.0, 'house_rules': None}, {'id': 1003689, 'NAME': 'Entire Apt Spacious StudioLoft by central park', 'host_id': 92037596077, 'host_identity_verified': 'verified', 'host_name': 'Lyndon', 'neighbourhood_group': 'Manhattan', 'neighbourhood': 'East Harlem', 'lat': 40.79851, 'long': -73.94399, 'instant_bookable': 0, 'cancellation_policy': 'moderate', 'room_type': 'Entire home/apt', 'Construction_year': 2009.0, 'price': '$204 ', 'service_fee': '$41 ', 'minimum_nights': 10.0, 'number_of_reviews': 9.0, 'last_review': '11/19/2018', 'reviews_per_month': 0.1, 'review_rate_number': 3.0, 'calculated_host_listings_count': 1.0, 'availability_365': 289.0, 'house_rules': 'Please no smoking in the house porch or on the property you can go to the nearby corner  Reasonable quiet after 1030 pm  Please remove shoes in the house'}, {'id': 1004098, 'NAME': 'Large Cozy  BR Apartment In Midtown East', 'host_id': 45498551794, 'host_identity_verified': 'verified', 'host_name': 'Michelle', 'neighbourhood_group': 'Manhattan', 'neighbourhood': 'Murray Hill', 'lat': 40.74767, 'long': -73.975, 'instant_bookable': 1, 'cancellation_policy': 'flexible', 'room_type': 'Entire home/apt', 'Construction_year': 2013.0, 'price': '$577 ', 'service_fee': '$115 ', 'minimum_nights': 3.0, 'number_of_reviews': 74.0, 'last_review': '6/22/2019', 'reviews_per_month': 0.59, 'review_rate_number': 3.0, 'calculated_host_listings_count': 1.0, 'availability_365': 374.0, 'house_rules': 'No smoking please and no drugs'}, {'id': 1004650, 'NAME': 'BlissArtsSpace', 'host_id': 61300605564, 'host_identity_verified': None, 'host_name': 'Alberta', 'neighbourhood_group': 'Brooklyn', 'neighbourhood': 'Bedford-Stuyvesant', 'lat': 40.68688, 'long': -73.95596, 'instant_bookable': 0, 'cancellation_policy': 'moderate', 'room_type': 'Private room', 'Construction_year': 2015.0, 'price': '$71 ', 'service_fee': '$14 ', 'minimum_nights': 45.0, 'number_of_reviews': 49.0, 'last_review': '10/5/2017', 'reviews_per_month': 0.4, 'review_rate_number': 5.0, 'calculated_host_listings_count': 1.0, 'availability_365': 224.0, 'house_rules': 'Please no shoes in the house so bring slippers or extra socks to keep your feet warm especially in winter No smoking either inside or outside Please  ... (17 characters truncated) ...  neighbors from 10pm7am in terms of noise Please take out any trash and leave in the large blue garbage bin at the end of the driveway when you leave'}, {'id': 1005202, 'NAME': 'BlissArtsSpace', 'host_id': 90821839709, 'host_identity_verified': 'unconfirmed', 'host_name': 'Emma', 'neighbourhood_group': 'Brooklyn', 'neighbourhood': 'Bedford-Stuyvesant', 'lat': 40.68688, 'long': -73.95596, 'instant_bookable': 0, 'cancellation_policy': 'moderate', 'room_type': 'Private room', 'Construction_year': 2009.0, 'price': '$1,060 ', 'service_fee': '$212 ', 'minimum_nights': 45.0, 'number_of_reviews': 49.0, 'last_review': '10/5/2017', 'reviews_per_month': 0.4, 'review_rate_number': 5.0, 'calculated_host_listings_count': 1.0, 'availability_365': 219.0, 'house_rules': 'House Guidelines for our BnB We are delighted to welcome you  Check in Sun  Thurs by 8PM and Fri Sat by 9pm Please bear in mind that this is not a ho ... (666 characters truncated) ... lable on street at all times   5SHOES  When the weather is inclement please remove shoes   6TOILETRIES  If you need them we can provide basic toiletr'}  ... displaying 10 of 102599 total bound parameter sets ...  {'id': 6094094, 'NAME': 'Big StudioOne Stop from Midtown', 'host_id': 11160591270, 'host_identity_verified': 'unconfirmed', 'host_name': 'Christopher', 'neighbourhood_group': 'Queens', 'neighbourhood': 'Long Island City', 'lat': 40.74989, 'long': -73.93777, 'instant_bookable': 1, 'cancellation_policy': 'strict', 'room_type': 'Entire home/apt', 'Construction_year': 2015.0, 'price': '$546 ', 'service_fee': '$109 ', 'minimum_nights': 2.0, 'number_of_reviews': 5.0, 'last_review': '10/11/2015', 'reviews_per_month': 0.1, 'review_rate_number': 3.0, 'calculated_host_listings_count': 1.0, 'availability_365': 386.0, 'house_rules': None}, {'id': 6094647, 'NAME': ' sf Luxury Studio', 'host_id': 68170633372, 'host_identity_verified': 'unconfirmed', 'host_name': 'Rebecca', 'neighbourhood_group': 'Manhattan', 'neighbourhood': 'Upper West Side', 'lat': 40.76807, 'long': -73.98342, 'instant_bookable': 0, 'cancellation_policy': 'flexible', 'room_type': 'Entire home/apt', 'Construction_year': 2010.0, 'price': '$1,032 ', 'service_fee': '$206 ', 'minimum_nights': 1.0, 'number_of_reviews': 0.0, 'last_review': None, 'reviews_per_month': None, 'review_rate_number': 3.0, 'calculated_host_listings_count': 1.0, 'availability_365': 69.0, 'house_rules': None}]]\n(Background on this error at: https://sqlalche.me/e/20/9h9h)"
     ]
    }
   ],
   "source": [
    "df_airbnb.to_sql(\"airbnbs\", con=engine1, if_exists=\"replace\", index=False)"
   ]
  },
  {
   "cell_type": "markdown",
   "id": "a1024eb23322122e",
   "metadata": {
    "collapsed": false
   },
   "source": [
    "### ¿Qué tipo de dato son las variables del conjunto de datos?"
   ]
  },
  {
   "cell_type": "code",
   "execution_count": 17,
   "id": "a62739d29da757e8",
   "metadata": {
    "ExecuteTime": {
     "end_time": "2023-08-18T01:17:26.632429700Z",
     "start_time": "2023-08-18T01:17:26.584091700Z"
    },
    "collapsed": false
   },
   "outputs": [
    {
     "data": {
      "text/plain": [
       "id                                  int64\n",
       "name                               object\n",
       "host_id                             int64\n",
       "host_identity_verified             object\n",
       "host_name                          object\n",
       "neighbourhood_group                object\n",
       "neighbourhood                      object\n",
       "lat                               float64\n",
       "long                              float64\n",
       "instant_bookable                   object\n",
       "cancellation_policy                object\n",
       "room_type                          object\n",
       "construction_year                   int32\n",
       "price                             float64\n",
       "service_fee                       float64\n",
       "minimum_nights                    float64\n",
       "number_of_reviews                 float64\n",
       "last_review                        object\n",
       "reviews_per_month                 float64\n",
       "review_rate_number                float64\n",
       "calculated_host_listings_count    float64\n",
       "availability_365                  float64\n",
       "house_rules                        object\n",
       "dtype: object"
      ]
     },
     "execution_count": 17,
     "metadata": {},
     "output_type": "execute_result"
    }
   ],
   "source": [
    "df_airbnb.dtypes"
   ]
  },
  {
   "cell_type": "markdown",
   "id": "b6a7834d2eae2aeb",
   "metadata": {
    "collapsed": false
   },
   "source": [
    "### ¿Cuántas variables de cada tipo de dato tenemos en el conjunto de datos?"
   ]
  },
  {
   "cell_type": "code",
   "execution_count": null,
   "id": "e1cb852aef5ffedf",
   "metadata": {
    "ExecuteTime": {
     "end_time": "2023-08-18T01:18:42.040874Z",
     "start_time": "2023-08-18T01:18:42.025873Z"
    },
    "collapsed": false
   },
   "outputs": [],
   "source": [
    "(\n",
    "    df_airbnb\n",
    "    .dtypes\n",
    "    .value_counts()\n",
    ")"
   ]
  },
  {
   "cell_type": "markdown",
   "id": "4812473468082a87",
   "metadata": {
    "collapsed": false
   },
   "source": [
    "###  ¿Cuales son las dimensiones del Dataset?"
   ]
  },
  {
   "cell_type": "code",
   "execution_count": null,
   "id": "645a18f27a04d2df",
   "metadata": {
    "ExecuteTime": {
     "end_time": "2023-08-18T01:19:25.955028Z",
     "start_time": "2023-08-18T01:19:25.902538800Z"
    },
    "collapsed": false
   },
   "outputs": [],
   "source": [
    "df_airbnb.shape"
   ]
  },
  {
   "cell_type": "markdown",
   "id": "afbd91a7995988e0",
   "metadata": {
    "collapsed": false
   },
   "source": [
    "### ¿Existen valores nulos explicitos en el conjunto de datos?"
   ]
  },
  {
   "cell_type": "code",
   "execution_count": null,
   "id": "12a2779a01e198b8",
   "metadata": {
    "ExecuteTime": {
     "end_time": "2023-08-18T01:19:57.334178100Z",
     "start_time": "2023-08-18T01:19:57.130099900Z"
    },
    "collapsed": false
   },
   "outputs": [],
   "source": [
    "df_airbnb.isnull().any()"
   ]
  },
  {
   "cell_type": "markdown",
   "id": "72f9209433e86d67",
   "metadata": {
    "collapsed": false
   },
   "source": [
    "### De tener observaciones con valores nulos, ¿cuántas tenemos por cada variable?"
   ]
  },
  {
   "cell_type": "code",
   "execution_count": null,
   "id": "fe7401140017609c",
   "metadata": {
    "ExecuteTime": {
     "end_time": "2023-08-18T01:20:49.534864600Z",
     "start_time": "2023-08-18T01:20:49.329762600Z"
    },
    "collapsed": false
   },
   "outputs": [],
   "source": [
    "(\n",
    "    df_airbnb\n",
    "    .isnull()\n",
    "    .sum()\n",
    "    .sort_values(ascending=False)\n",
    ")\n"
   ]
  },
  {
   "cell_type": "markdown",
   "id": "ab302256e8f80661",
   "metadata": {
    "collapsed": false
   },
   "source": [
    "### ¿Cuál es la proporción de valores nulos por cada variable? "
   ]
  },
  {
   "cell_type": "code",
   "execution_count": null,
   "id": "aefe9355",
   "metadata": {},
   "outputs": [],
   "source": [
    "(\n",
    "    df_airbnb\n",
    "    .isnull()\n",
    "    .melt(value_name='missing')\n",
    "    .pipe(\n",
    "        lambda df: (\n",
    "            sns.displot(\n",
    "                data=df,\n",
    "                y='variable',\n",
    "                hue='missing',\n",
    "                multiple='fill',\n",
    "                aspect=2\n",
    "            )\n",
    "        )\n",
    "    )\n",
    ")"
   ]
  },
  {
   "cell_type": "markdown",
   "id": "cc82e0ba225d9e94",
   "metadata": {
    "collapsed": false
   },
   "source": [
    "### ¿Cuántos valores nulos tenemos en total en el conjunto de datos?"
   ]
  },
  {
   "cell_type": "code",
   "execution_count": null,
   "id": "b8b1681424f7b07",
   "metadata": {
    "ExecuteTime": {
     "end_time": "2023-08-18T01:21:38.338588200Z",
     "start_time": "2023-08-18T01:21:38.115116700Z"
    },
    "collapsed": false
   },
   "outputs": [],
   "source": [
    "(\n",
    "    df_airbnb\n",
    "    .isnull()\n",
    "    .sum()\n",
    "    .sum()\n",
    ")"
   ]
  },
  {
   "cell_type": "markdown",
   "id": "b5e06b25",
   "metadata": {},
   "source": [
    "## Proceso de Limpieza "
   ]
  },
  {
   "cell_type": "markdown",
   "id": "35250c6a",
   "metadata": {},
   "source": [
    "#### Estandarizamos los nombres"
   ]
  },
  {
   "cell_type": "code",
   "execution_count": 12,
   "id": "b58a2724",
   "metadata": {},
   "outputs": [],
   "source": [
    "new_column_names = [x.lower().replace(\" \", \"_\") for x in df_airbnb.columns]\n",
    "df_airbnb.columns = new_column_names"
   ]
  },
  {
   "cell_type": "markdown",
   "id": "cea1b64c",
   "metadata": {},
   "source": [
    "#### Dado que el atributo de \"host_identity_verified\" cuenta con valores nulos, vamos a llenar dichos valores con unverified"
   ]
  },
  {
   "cell_type": "code",
   "execution_count": null,
   "id": "98da47ec",
   "metadata": {},
   "outputs": [],
   "source": [
    "df_airbnb[\"host_identity_verified\"].fillna(\"unverified\", inplace=True)\n",
    "df_airbnb"
   ]
  },
  {
   "cell_type": "markdown",
   "id": "3d474c91",
   "metadata": {},
   "source": [
    "#### Es necesario eliminar los símbolos de dólar de las columnas \"price\" y \"service_fee\""
   ]
  },
  {
   "cell_type": "code",
   "execution_count": 16,
   "id": "038167f9",
   "metadata": {},
   "outputs": [
    {
     "data": {
      "text/plain": [
       "0"
      ]
     },
     "execution_count": 16,
     "metadata": {},
     "output_type": "execute_result"
    }
   ],
   "source": [
    "df_airbnb[\"price\"] = df_airbnb[\"price\"].str.replace('$', '').str.replace(',', '').str.strip()\n",
    "df_airbnb[\"service_fee\"] = df_airbnb[\"service_fee\"].str.replace('$', '').str.replace(',', '').str.strip()\n",
    "\n",
    "# Convertir las columnas \"price\" y \"service_fee\" a valores flotantes\n",
    "df_airbnb[\"price\"] = df_airbnb[\"price\"].astype(float)\n",
    "df_airbnb[\"service_fee\"] = df_airbnb[\"service_fee\"].astype(float)\n",
    "\n",
    "#Verificamos que no haya ningún registro en el que el service fee sea mayor al precio\n",
    "counter = df_airbnb[\"price\"] < df_airbnb[\"service_fee\"]\n",
    "count_greater_service_fee = counter.sum()\n",
    "count_greater_service_fee"
   ]
  },
  {
   "cell_type": "markdown",
   "id": "7e57351d",
   "metadata": {},
   "source": [
    "#### Limpia los valores no finitos en la columna \"Construction year\""
   ]
  },
  {
   "cell_type": "code",
   "execution_count": 14,
   "id": "1d216cc0",
   "metadata": {},
   "outputs": [],
   "source": [
    "df_airbnb[\"construction_year\"] = df_airbnb[\"construction_year\"].replace([np.inf, -np.inf], np.nan)\n",
    "df_airbnb[\"construction_year\"] = df_airbnb[\"construction_year\"].fillna(0)  # Rellenar valores nulos con 0 o el valor "
   ]
  },
  {
   "cell_type": "markdown",
   "id": "768fde4b",
   "metadata": {},
   "source": [
    "#### Cambiamos la columna \"Construction year\" de tipo float64 a int32, ya que los años son enteros."
   ]
  },
  {
   "cell_type": "code",
   "execution_count": 15,
   "id": "0dd9aca2",
   "metadata": {},
   "outputs": [],
   "source": [
    "\n",
    "df_airbnb[\"construction_year\"] = df_airbnb[\"construction_year\"].astype(int)"
   ]
  },
  {
   "cell_type": "markdown",
   "id": "5cce1ce5",
   "metadata": {},
   "source": [
    "#### Reemplaza los valores nulos por 0 en las columnas \"last review\" y \"reviews per month\". Cuando la columna number of reviews es 0."
   ]
  },
  {
   "cell_type": "code",
   "execution_count": null,
   "id": "c7257afd",
   "metadata": {},
   "outputs": [],
   "source": [
    "filtered_df = df_airbnb[df_airbnb[\"number_of_reviews\"] == 0]\n",
    "# Muestra los registros filtrados\n",
    "print(filtered_df)\n",
    "\n",
    "# Cuenta los valores nulos en la columna \"last_review\"\n",
    "null_last_review = filtered_df[\"last_review\"].isnull().sum()\n",
    "# Cuenta los valores nulos en la columna \"reviews_per_month\"\n",
    "null_reviews_per_month = filtered_df[\"reviews_per_month\"].isnull().sum()\n",
    "\n",
    "# Muestra los resultados\n",
    "print(\"Registros nulos en last review:\", null_last_review)\n",
    "print(\"Registros nulos en reviews per month:\", null_reviews_per_month)"
   ]
  },
  {
   "cell_type": "code",
   "execution_count": null,
   "id": "d98503a5",
   "metadata": {},
   "outputs": [],
   "source": [
    "df_airbnb.loc[df_airbnb[\"number_of_reviews\"] == 0, \"last_review\"] = 0\n",
    "df_airbnb.loc[df_airbnb[\"number_of_reviews\"] == 0, \"reviews_per_month\"] = 0"
   ]
  },
  {
   "cell_type": "markdown",
   "id": "d445b96e",
   "metadata": {},
   "source": [
    "#### Remplazar los nulos de la columna house_rules "
   ]
  },
  {
   "cell_type": "code",
   "execution_count": null,
   "id": "d0670bbc",
   "metadata": {},
   "outputs": [],
   "source": [
    "df_airbnb[\"house_rules\"] = df_airbnb[\"house_rules\"].fillna(\"No se Especificaron Las Reglas\")"
   ]
  },
  {
   "cell_type": "markdown",
   "id": "51b08110",
   "metadata": {},
   "source": [
    "### Creación de las dimensiones "
   ]
  },
  {
   "cell_type": "code",
   "execution_count": null,
   "id": "6894f72f",
   "metadata": {},
   "outputs": [],
   "source": [
    "neighbourhood_table = df_airbnb[[\"neighbourhood_group\", \"neighbourhood\", \"lat\", \"long\"]]\n",
    "neighbourhood_table.head(2)"
   ]
  },
  {
   "cell_type": "code",
   "execution_count": null,
   "id": "02d01933",
   "metadata": {},
   "outputs": [],
   "source": [
    "host_table = df_airbnb[[\"host_id\", \"host_name\", \"host_identity_verified\"]]\n",
    "host_table.head(2)"
   ]
  },
  {
   "cell_type": "code",
   "execution_count": null,
   "id": "ecd0bcae",
   "metadata": {},
   "outputs": [],
   "source": [
    "airbnb_detail = df_airbnb[\n",
    "    [\"id\", \"name\", \"instant_bookable\", \n",
    "     \"cancellation_policy\", \"room_type\", \"construction_year\", \n",
    "     \"price\", \"service_fee\", \"minimum_nights\", \"number_of_reviews\", \n",
    "     \"last_review\", \"reviews_per_month\", \"review_rate_number\", \"calculated_host_listings_count\", \n",
    "     \"availability_365\", \"house_rules\"]]\n",
    "\n",
    "airbnb_detail.head(2)"
   ]
  },
  {
   "cell_type": "markdown",
   "id": "51da5812",
   "metadata": {},
   "source": [
    "### Transformaciones a la dimensión de Neighbourhoods"
   ]
  },
  {
   "cell_type": "markdown",
   "id": "bb4e0c20",
   "metadata": {},
   "source": [
    "#### Agrupamos con el fin de no tener datos redundantes, calculando además promedio de latitud y longitud"
   ]
  },
  {
   "cell_type": "code",
   "execution_count": null,
   "id": "b3505d7f",
   "metadata": {},
   "outputs": [],
   "source": [
    "neighbourhood_table = neighbourhood_table.groupby([\"neighbourhood_group\", \"neighbourhood\"]).agg({\n",
    "    \"lat\": \"mean\",\n",
    "    \"long\": \"mean\"\n",
    "}).reset_index()\n",
    "\n",
    "#Creamos ID y reorganizamos columnas\n",
    "neighbourhood_table[\"neighbourhood_id\"] = range(1, len(neighbourhood_table) + 1)\n",
    "column_order = [\"neighbourhood_id\", \"neighbourhood_group\", \"neighbourhood\", \"lat\", \"long\"]\n",
    "neighbourhood_table = neighbourhood_table[column_order]\n",
    "\n",
    "neighbourhood_table.head(2)"
   ]
  },
  {
   "cell_type": "markdown",
   "id": "d66cfe2b",
   "metadata": {},
   "source": [
    "### Proceso de limpieza a nuestra tabla de hecho (df_airbnb)"
   ]
  },
  {
   "cell_type": "code",
   "execution_count": null,
   "id": "b3156de1",
   "metadata": {},
   "outputs": [],
   "source": [
    "#Delete the following columns since we already set up diferent tables to save all the information related with neighbourhoods and hosts\n",
    "df_airbnb.drop(\n",
    "         [\"id\", \"name\", \"instant_bookable\", \n",
    "     \"cancellation_policy\", \"room_type\", \"construction_year\", \n",
    "     \"price\", \"service_fee\", \"minimum_nights\", \"number_of_reviews\", \n",
    "     \"last_review\", \"reviews_per_month\", \"review_rate_number\", \n",
    "     \"calculated_host_listings_count\", \n",
    "     \"availability_365\", \"house_rules\", \"host_name\", \n",
    "     \"host_identity_verified\", \"lat\", \"long\"], axis=1, inplace=True)"
   ]
  },
  {
   "cell_type": "markdown",
   "id": "4bd839ed",
   "metadata": {},
   "source": [
    "#### Se cambian las columnas neighbourhood_group y neighbourhood por un identificador númerico"
   ]
  },
  {
   "cell_type": "code",
   "execution_count": null,
   "id": "32e980ca",
   "metadata": {},
   "outputs": [],
   "source": [
    "def get_neighbourhood_id(row):\n",
    "    mask = (neighbourhood_table[\"neighbourhood_group\"] == row[\"neighbourhood_group\"]) & (neighbourhood_table[\"neighbourhood\"] == row[\"neighbourhood\"])\n",
    "    matched_row = neighbourhood_table[mask]\n",
    "    if not matched_row.empty:\n",
    "        return matched_row[\"neighbourhood_id\"].iloc[0]\n",
    "    else:\n",
    "        return None\n",
    "\n",
    "# Aplicar la función para obtener \"neighbourhood_id\"\n",
    "df_airbnb[\"neighbourhood_id\"] = df_airbnb.apply(get_neighbourhood_id, axis=1)"
   ]
  },
  {
   "cell_type": "markdown",
   "id": "b48499d2",
   "metadata": {},
   "source": [
    "#### Una vez asignados los IDs de forma númerica podemos prescindir de las columnas iniciales"
   ]
  },
  {
   "cell_type": "code",
   "execution_count": null,
   "id": "c11d6730",
   "metadata": {},
   "outputs": [],
   "source": [
    "df_airbnb.drop([\"neighbourhood_group\", \"neighbourhood\"], axis=1, inplace=True)\n",
    "df_airbnb"
   ]
  },
  {
   "cell_type": "markdown",
   "id": "c8bf7cbb",
   "metadata": {},
   "source": [
    "## Proceso de Carga"
   ]
  },
  {
   "cell_type": "code",
   "execution_count": null,
   "id": "dfc4f0b3",
   "metadata": {},
   "outputs": [],
   "source": [
    "#Creating engine\n",
    "engine1 = creating_engine()\n",
    "\n",
    "#Creating session\n",
    "session1 = creating_session(engine1)"
   ]
  }
 ],
 "metadata": {
  "kernelspec": {
   "display_name": "Python 3",
   "language": "python",
   "name": "python3"
  },
  "language_info": {
   "codemirror_mode": {
    "name": "ipython",
    "version": 3
   },
   "file_extension": ".py",
   "mimetype": "text/x-python",
   "name": "python",
   "nbconvert_exporter": "python",
   "pygments_lexer": "ipython3",
   "version": "3.11.4"
  }
 },
 "nbformat": 4,
 "nbformat_minor": 5
}
